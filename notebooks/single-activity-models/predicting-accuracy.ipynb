{
 "cells": [
  {
   "cell_type": "code",
   "execution_count": 1,
   "metadata": {
    "collapsed": true
   },
   "outputs": [],
   "source": [
    "%matplotlib inline\n",
    "import matplotlib\n",
    "import matplotlib.pyplot as plt\n",
    "\n",
    "width = 12\n",
    "height = 7\n",
    "plt.rcParams[\"figure.figsize\"] = (width, height)\n",
    "\n",
    "\n",
    "from sqlalchemy import create_engine\n",
    "import pandas as pd\n",
    "import numpy as np\n",
    "import tflscripts\n",
    "import json\n",
    "from sklearn.pipeline import Pipeline\n",
    "from sklearn.preprocessing import Imputer\n",
    "from sklearn.metrics import accuracy_score\n",
    "from sklearn.ensemble import RandomForestClassifier"
   ]
  },
  {
   "cell_type": "code",
   "execution_count": 2,
   "metadata": {
    "collapsed": true
   },
   "outputs": [],
   "source": [
    "test_set = tflscripts.TestSet(name='single_activity_models')\n",
    "results = test_set.get_results()"
   ]
  },
  {
   "cell_type": "code",
   "execution_count": 3,
   "metadata": {},
   "outputs": [
    {
     "data": {
      "text/plain": [
       "20480"
      ]
     },
     "execution_count": 3,
     "metadata": {},
     "output_type": "execute_result"
    }
   ],
   "source": [
    "len(results)"
   ]
  },
  {
   "cell_type": "code",
   "execution_count": 10,
   "metadata": {
    "collapsed": true
   },
   "outputs": [],
   "source": [
    "configuration = tflscripts.read_configuration()\n",
    "\n",
    "class TestResultStatistics:\n",
    "    def __init__(self, result):\n",
    "        self.result = result\n",
    "\n",
    "    def accuracy(self):\n",
    "        return accuracy_score(self.result.actual, self.result.predicted)\n",
    "\n",
    "    def accuracy_negative(self):\n",
    "        negative_actual = self.result.actual[self.result.actual == -1]\n",
    "        negative_predicted = self.result.predicted[self.result.actual == -1]\n",
    "        return accuracy_score(negative_actual, negative_predicted)\n",
    "\n",
    "    def accuracy_positive(self):\n",
    "        positive_actual = self.result.actual[self.result.actual != -1]\n",
    "        positive_predicted = self.result.predicted[self.result.actual != -1]\n",
    "        return accuracy_score(positive_actual, positive_predicted)\n",
    "\n",
    "    def all_activities(self):\n",
    "        labels = np.unique(self.result.actual_with_all_labels)\n",
    "        return [configuration['activities'][l] for l in labels]\n",
    "\n",
    "    def source_device_name(self):\n",
    "        result = self.result\n",
    "        return configuration['device_roles'][result.source_dataset][result.source_device]\n",
    "\n",
    "    def target_device_name(self):\n",
    "        result = self.result\n",
    "        return configuration['device_roles'][result.target_dataset][result.target_device]\n",
    "\n",
    "    def source_room(self):\n",
    "        return self.result.source_dataset.split('-')[0]\n",
    "\n",
    "    def target_room(self):\n",
    "        return self.result.target_dataset.split('-')[0]\n",
    "    \n",
    "    def source_placement(self):\n",
    "        return self.source_device_name().split(' ')[2]\n",
    "\n",
    "    def target_placement(self):\n",
    "        return self.target_device_name().split(' ')[2]\n",
    "\n",
    "    def source_device(self):\n",
    "        return ' '.join(self.source_device_name().split(' ')[0:2])\n",
    "\n",
    "    def target_device(self):\n",
    "        return ' '.join(self.target_device_name().split(' ')[0:2])\n",
    "\n",
    "    def type_of_transfer(self):\n",
    "        result = self.result\n",
    "        if self.source_room() != self.target_room():\n",
    "            return 'Across spaces'\n",
    "\n",
    "        source_device_split = self.source_device_name().split(' ')\n",
    "        target_device_split = self.target_device_name().split(' ')\n",
    "\n",
    "        if self.source_device_name() == self.target_device_name():\n",
    "            return 'Replica within spaces'\n",
    "        if source_device_split[2] == target_device_split[2] and \\\n",
    "            source_device_split[0] == target_device_split[0]:\n",
    "            return 'Same device type in same place'\n",
    "        if source_device_split[2] == target_device_split[2]:\n",
    "            return 'Different device in same place'\n",
    "        if source_device_split[1] == target_device_split[1] and \\\n",
    "            source_device_split[0] == target_device_split[0]:\n",
    "            return 'Same device in different place'\n",
    "        if source_device_split[0] == target_device_split[0]:\n",
    "            return 'Same device type in different place'\n",
    "        return 'Different device in different place'"
   ]
  },
  {
   "cell_type": "code",
   "execution_count": 32,
   "metadata": {},
   "outputs": [
    {
     "data": {
      "text/plain": [
       "0.79778393351800558"
      ]
     },
     "execution_count": 32,
     "metadata": {},
     "output_type": "execute_result"
    }
   ],
   "source": [
    "from sklearn.feature_extraction import DictVectorizer\n",
    "from sklearn.model_selection import train_test_split\n",
    "from sklearn import tree\n",
    "\n",
    "def to_features(result):\n",
    "    stat = TestResultStatistics(result)\n",
    "    return {\n",
    "        'features': result.features,\n",
    "        'label': result.label,\n",
    "        'classifier': result.classifier,\n",
    "        'type_of_transfer': stat.type_of_transfer(),\n",
    "        'source_room': stat.source_room(),\n",
    "        'target_room': stat.target_room(),\n",
    "        'source_device': stat.source_device(),\n",
    "        'target_device': stat.target_device(),\n",
    "        'source_placement': stat.source_placement(),\n",
    "        'target_placement': stat.target_placement(),\n",
    "        'accuracy_negative': round(stat.accuracy_negative(), 2)\n",
    "    }\n",
    "\n",
    "def to_label(result):\n",
    "    stat = TestResultStatistics(result)\n",
    "    bins = [\n",
    "        [0.0, 0.25],\n",
    "        [0.25, 0.5],\n",
    "        [0.5, 0.75],\n",
    "        [0.75, 1.0]\n",
    "    ]\n",
    "    acc = TestResultStatistics(result).accuracy_positive()\n",
    "    return [i for i, b in enumerate(bins) if b[0] <= acc and b[1] >= acc][0]\n",
    "\n",
    "filtered = [r for r in results if TestResultStatistics(r).accuracy_negative() >= 0.95]\n",
    "filtered = [r for r in filtered if TestResultStatistics(r).type_of_transfer() != 'Across spaces']\n",
    "X = [to_features(r) for r in filtered]\n",
    "y = [to_label(r) for r in filtered]\n",
    "\n",
    "X_train, X_test, y_train, y_test = train_test_split(X, y, test_size=0.33, random_state=42)\n",
    "\n",
    "ppl = Pipeline([\n",
    "    ('vect', DictVectorizer()),\n",
    "    ('impute', Imputer()),\n",
    "    ('clf', tree.DecisionTreeClassifier())\n",
    "])\n",
    "\n",
    "ppl.fit(X_train, y_train)\n",
    "predicted = ppl.predict(X_test)\n",
    "accuracy_score(y_test, predicted)"
   ]
  },
  {
   "cell_type": "code",
   "execution_count": 9,
   "metadata": {},
   "outputs": [
    {
     "data": {
      "text/plain": [
       "True"
      ]
     },
     "execution_count": 9,
     "metadata": {},
     "output_type": "execute_result"
    }
   ],
   "source": [
    "from IPython.display import Image\n",
    "import pydotplus\n",
    "\n",
    "clf = ppl.named_steps['clf']\n",
    "\n",
    "dot_data = tree.export_graphviz(clf, out_file=None,\n",
    "#                                 feature_names=iris.feature_names,\n",
    "#                                 class_names=iris.target_names,\n",
    "                                filled=True, rounded=True,\n",
    "                                special_characters=True)\n",
    "graph = pydotplus.graph_from_dot_data(dot_data)\n",
    "graph.write_pdf(\"decision_tree.pdf\")"
   ]
  },
  {
   "cell_type": "code",
   "execution_count": 55,
   "metadata": {},
   "outputs": [
    {
     "data": {
      "text/plain": [
       "(0.04583333333333333, 0.083229101480992398)"
      ]
     },
     "execution_count": 55,
     "metadata": {},
     "output_type": "execute_result"
    }
   ],
   "source": [
    "errors = np.abs((y_test - predicted) / 10)\n",
    "errors.mean(), errors.std()"
   ]
  },
  {
   "cell_type": "code",
   "execution_count": 29,
   "metadata": {},
   "outputs": [
    {
     "data": {
      "text/html": [
       "<div>\n",
       "<style>\n",
       "    .dataframe thead tr:only-child th {\n",
       "        text-align: right;\n",
       "    }\n",
       "\n",
       "    .dataframe thead th {\n",
       "        text-align: left;\n",
       "    }\n",
       "\n",
       "    .dataframe tbody tr th {\n",
       "        vertical-align: top;\n",
       "    }\n",
       "</style>\n",
       "<table border=\"1\" class=\"dataframe\">\n",
       "  <thead>\n",
       "    <tr style=\"text-align: right;\">\n",
       "      <th>actual</th>\n",
       "      <th>0</th>\n",
       "      <th>1</th>\n",
       "      <th>2</th>\n",
       "      <th>3</th>\n",
       "    </tr>\n",
       "    <tr>\n",
       "      <th>predicted</th>\n",
       "      <th></th>\n",
       "      <th></th>\n",
       "      <th></th>\n",
       "      <th></th>\n",
       "    </tr>\n",
       "  </thead>\n",
       "  <tbody>\n",
       "    <tr>\n",
       "      <th>0</th>\n",
       "      <td>920</td>\n",
       "      <td>55</td>\n",
       "      <td>17</td>\n",
       "      <td>7</td>\n",
       "    </tr>\n",
       "    <tr>\n",
       "      <th>1</th>\n",
       "      <td>64</td>\n",
       "      <td>64</td>\n",
       "      <td>20</td>\n",
       "      <td>10</td>\n",
       "    </tr>\n",
       "    <tr>\n",
       "      <th>2</th>\n",
       "      <td>26</td>\n",
       "      <td>13</td>\n",
       "      <td>36</td>\n",
       "      <td>25</td>\n",
       "    </tr>\n",
       "    <tr>\n",
       "      <th>3</th>\n",
       "      <td>14</td>\n",
       "      <td>8</td>\n",
       "      <td>18</td>\n",
       "      <td>147</td>\n",
       "    </tr>\n",
       "  </tbody>\n",
       "</table>\n",
       "</div>"
      ],
      "text/plain": [
       "actual       0   1   2    3\n",
       "predicted                  \n",
       "0          920  55  17    7\n",
       "1           64  64  20   10\n",
       "2           26  13  36   25\n",
       "3           14   8  18  147"
      ]
     },
     "execution_count": 29,
     "metadata": {},
     "output_type": "execute_result"
    },
    {
     "data": {
      "image/png": "[encoded data removed]",
      "text/plain": [
       "<matplotlib.figure.Figure at 0x7f406a692940>"
      ]
     },
     "metadata": {},
     "output_type": "display_data"
    }
   ],
   "source": [
    "df = pd.DataFrame({'predicted': predicted, 'actual': y_test})\n",
    "pivoted = df.pivot_table(index='predicted', columns='actual', aggfunc=len, fill_value=0)\n",
    "plt.pcolor(pivoted)\n",
    "plt.colorbar()\n",
    "pivoted"
   ]
  },
  {
   "cell_type": "code",
   "execution_count": 28,
   "metadata": {},
   "outputs": [
    {
     "data": {
      "text/plain": [
       "<matplotlib.axes._subplots.AxesSubplot at 0x7f5c0fb920b8>"
      ]
     },
     "execution_count": 28,
     "metadata": {},
     "output_type": "execute_result"
    },
    {
     "data": {
      "image/png": "[encoded data removed]",
      "text/plain": [
       "<matplotlib.figure.Figure at 0x7f5c0fb9bcc0>"
      ]
     },
     "metadata": {},
     "output_type": "display_data"
    }
   ],
   "source": [
    "pd.Series([TestResultStatistics(r).accuracy_negative() for r in results]).plot()"
   ]
  }
 ],
 "metadata": {
  "kernelspec": {
   "display_name": "Python 3",
   "language": "python",
   "name": "python3"
  },
  "language_info": {
   "codemirror_mode": {
    "name": "ipython",
    "version": 3
   },
   "file_extension": ".py",
   "mimetype": "text/x-python",
   "name": "python",
   "nbconvert_exporter": "python",
   "pygments_lexer": "ipython3",
   "version": "3.5.2"
  }
 },
 "nbformat": 4,
 "nbformat_minor": 2
}
