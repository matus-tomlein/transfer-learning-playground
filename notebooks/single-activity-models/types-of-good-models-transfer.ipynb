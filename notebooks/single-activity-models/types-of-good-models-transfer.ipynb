{
 "cells": [
  {
   "cell_type": "code",
   "execution_count": 1,
   "metadata": {
    "collapsed": true
   },
   "outputs": [],
   "source": [
    "%matplotlib inline\n",
    "import matplotlib\n",
    "import matplotlib.pyplot as plt\n",
    "\n",
    "width = 12\n",
    "height = 7\n",
    "plt.rcParams[\"figure.figsize\"] = (width, height)\n",
    "\n",
    "import graphviz\n",
    "import pandas as pd\n",
    "import numpy as np\n",
    "import tflscripts\n",
    "import pickle\n",
    "\n",
    "configuration = tflscripts.read_configuration()\n",
    "df = pd.read_pickle('results.p')\n",
    "\n",
    "df = df.loc[df.f1 >= 0.5]\n",
    "\n",
    "df = df.sort_values(by='f1', ascending=False)\n",
    "df = df.drop_duplicates(['source_dataset', 'target_dataset', 'source_device', 'target_device', 'label'], keep='first')\n",
    "\n",
    "df['space_transfer'] = df['source_room'] + ' – ' + df['target_room']\n",
    "df_mites = df.loc[(df['source_device_type'] == 'Mite') & (df['target_device_type'] == 'Mite')]\n",
    "\n",
    "df_without_transfer = df.loc[df.type_of_transfer == 'No transfer']\n",
    "df_transfer = df.loc[df.type_of_transfer != 'No transfer']\n",
    "\n",
    "df_without_transfer_mites = df_mites.loc[df_mites.type_of_transfer == 'No transfer']\n",
    "df_transfer_mites = df_mites.loc[df_mites.type_of_transfer != 'No transfer']"
   ]
  },
  {
   "cell_type": "code",
   "execution_count": 37,
   "metadata": {},
   "outputs": [
    {
     "data": {
      "image/png": "[encoded data removed]",
      "text/plain": [
       "<matplotlib.figure.Figure at 0x7f160c7b66a0>"
      ]
     },
     "metadata": {},
     "output_type": "display_data"
    }
   ],
   "source": [
    "plt.rcParams[\"figure.figsize\"] = (12, 3)\n",
    "\n",
    "from matplotlib import gridspec\n",
    "\n",
    "gs = gridspec.GridSpec(1, 2, width_ratios=[2, 1])\n",
    "ax0 = plt.subplot(gs[0])\n",
    "ax1 = plt.subplot(gs[1])\n",
    "# f, axes = plt.subplots(1, 2, sharex=False, sharey=True)\n",
    "\n",
    "def rename_classifier(classifier):\n",
    "    return {\n",
    "        'SVM': 'SVM',\n",
    "        'LogisticRegression': 'Log. Regression',\n",
    "        'RandomForestClassifier': 'Random Forest'\n",
    "    }[classifier]\n",
    "\n",
    "def rename_features(features):\n",
    "    return {\n",
    "        'All': 'All',\n",
    "        'Microphone': 'Microphone',\n",
    "        'Microphone & accelerometer': 'Mic. & accel.',\n",
    "        'Environmental': 'Environmental',\n",
    "        'EMI & motion': 'EMI & motion',\n",
    "        'Accelerometer & magnetometer': 'Accel. & mag.',\n",
    "    }[features]\n",
    "\n",
    "\n",
    "\n",
    "features = pd.concat([\n",
    "    df_without_transfer.features_name.value_counts() / len(df_without_transfer) * 100,\n",
    "    df_transfer.features_name.value_counts() / len(df_transfer) * 100\n",
    "], axis=1)\n",
    "features.columns = ['Without transfer', 'Transfer']\n",
    "features = features.sort_values(by='Transfer', ascending=False)\n",
    "features.index = [rename_features(c) for c in features.index]\n",
    "features.plot.bar(ax=ax0)\n",
    "\n",
    "matplotlib.pyplot.sca(ax0)\n",
    "plt.title('By features')\n",
    "plt.ylabel('Percentage of cases')\n",
    "plt.xticks(rotation=0)\n",
    "\n",
    "classifiers = pd.concat([\n",
    "    df_without_transfer.classifier.value_counts() / len(df_without_transfer) * 100,\n",
    "    df_transfer.classifier.value_counts() / len(df_transfer) * 100\n",
    "], axis=1)\n",
    "classifiers.columns = ['Without transfer', 'Transfer']\n",
    "classifiers = classifiers.sort_values(by='Transfer', ascending=False)\n",
    "classifiers.index = [rename_classifier(c) for c in classifiers.index]\n",
    "classifiers.plot.bar(ax=ax1)\n",
    "matplotlib.pyplot.sca(ax1)\n",
    "plt.ylabel('Percentage of cases')\n",
    "plt.title('By classifiers')\n",
    "plt.xticks(rotation=0)\n",
    "plt.tight_layout()\n",
    "\n",
    "plt.tight_layout()\n",
    "\n",
    "plt.savefig('../plots/model_representations_performance.pdf')\n",
    "plt.show()"
   ]
  },
  {
   "cell_type": "code",
   "execution_count": 26,
   "metadata": {},
   "outputs": [
    {
     "data": {
      "text/plain": [
       "Index(['Microphone', 'All', 'Microphone & accelerometer', 'Environmental',\n",
       "       'Accelerometer & magnetometer', 'EMI & motion'],\n",
       "      dtype='object')"
      ]
     },
     "execution_count": 26,
     "metadata": {},
     "output_type": "execute_result"
    }
   ],
   "source": [
    "features.index"
   ]
  }
 ],
 "metadata": {
  "kernelspec": {
   "display_name": "Python 3",
   "language": "python",
   "name": "python3"
  },
  "language_info": {
   "codemirror_mode": {
    "name": "ipython",
    "version": 3
   },
   "file_extension": ".py",
   "mimetype": "text/x-python",
   "name": "python",
   "nbconvert_exporter": "python",
   "pygments_lexer": "ipython3",
   "version": "3.5.2"
  }
 },
 "nbformat": 4,
 "nbformat_minor": 2
}
