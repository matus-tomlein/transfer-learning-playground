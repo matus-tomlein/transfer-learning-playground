{
 "cells": [
  {
   "cell_type": "code",
   "execution_count": 1,
   "metadata": {
    "collapsed": true
   },
   "outputs": [],
   "source": [
    "%matplotlib inline\n",
    "import matplotlib\n",
    "import matplotlib.pyplot as plt\n",
    "\n",
    "width = 12\n",
    "height = 7\n",
    "plt.rcParams[\"figure.figsize\"] = (width, height)\n",
    "\n",
    "from sqlalchemy import create_engine\n",
    "import pandas as pd\n",
    "import numpy as np\n",
    "import tflscripts\n",
    "import json\n",
    "from sklearn.pipeline import Pipeline\n",
    "from sklearn.preprocessing import Imputer\n",
    "from sklearn.metrics import accuracy_score\n",
    "from sklearn.ensemble import RandomForestClassifier\n",
    "from sklearn.feature_extraction import DictVectorizer\n",
    "from sklearn.model_selection import train_test_split\n",
    "from sklearn import tree\n",
    "import pickle\n",
    "from sklearn.metrics import confusion_matrix\n",
    "\n",
    "configuration = tflscripts.read_configuration()\n",
    "df = pd.read_pickle('results.p')"
   ]
  },
  {
   "cell_type": "code",
   "execution_count": 2,
   "metadata": {
    "collapsed": true
   },
   "outputs": [],
   "source": [
    "df['f1_without_transfer_r'] = df['f1_wt'].round(1)\n",
    "df['specificity_r'] = df['specificity'].round(1)"
   ]
  },
  {
   "cell_type": "code",
   "execution_count": 3,
   "metadata": {
    "collapsed": true
   },
   "outputs": [],
   "source": [
    "def to_recall_bin(acc):\n",
    "    bins = [\n",
    "        [0.0, 0.75],\n",
    "        [0.75, 1.0]\n",
    "    ]\n",
    "    return [i for i, b in enumerate(bins) if b[0] <= acc and b[1] >= acc][0]\n",
    "\n",
    "df['recall_bin'] = [to_recall_bin(a) for a in df['recall']]"
   ]
  },
  {
   "cell_type": "code",
   "execution_count": null,
   "metadata": {
    "collapsed": true
   },
   "outputs": [],
   "source": [
    "filtered = df.loc[df.type_of_transfer != 'No transfer']\n",
    "\n",
    "test_split = 0.33\n",
    "msk = np.random.rand(len(filtered)) <= test_split\n",
    "train = filtered[msk]\n",
    "test = filtered[~msk]"
   ]
  },
  {
   "cell_type": "code",
   "execution_count": null,
   "metadata": {
    "collapsed": true
   },
   "outputs": [],
   "source": [
    "columns = [\n",
    "    'features',\n",
    "    'classifier',\n",
    "    'label',\n",
    "    'samples',\n",
    "    'type_of_transfer',\n",
    "    'source_device_type',\n",
    "    'target_device_type',\n",
    "    'f1_without_transfer_r',\n",
    "    'specificity_r'\n",
    "]\n",
    "\n",
    "def apply_avg(x):\n",
    "    queried = df.query('features == \"{}\" & classifier == \"{}\" & label == \"{}\" & samples == {} & type_of_transfer == \"{}\" & source_device_type == \"{}\" & target_device_type == \"{}\" & f1_without_transfer_r == \"{}\" & specificity_r == \"{}\"'.format(\n",
    "        x['features'],\n",
    "        x['classifier'],\n",
    "        x['label'],\n",
    "        x['samples'],\n",
    "        x['type_of_transfer'],\n",
    "        x['source_device_type'],\n",
    "        x['target_device_type'],\n",
    "        x['f1_without_transfer_r'],\n",
    "        x['specificity_r']\n",
    "    ))\n",
    "\n",
    "    if len(queried) > 0:\n",
    "        median = queried['recall'].median()\n",
    "        return median\n",
    "\n",
    "    return -1\n",
    "\n",
    "aggregated = train[columns]\n",
    "aggregated = aggregated.drop_duplicates()\n",
    "aggregated['recall'] = aggregated.apply(apply_avg, axis=1)\n",
    "aggregated['recall_bin'] = [to_recall_bin(a) for a in aggregated['recall']]"
   ]
  },
  {
   "cell_type": "code",
   "execution_count": null,
   "metadata": {
    "collapsed": true
   },
   "outputs": [],
   "source": [
    "def to_x_and_y(filtered):\n",
    "    X = filtered[columns]\n",
    "    y = filtered['recall_bin']\n",
    "\n",
    "    X = [dict(r.iteritems()) for _, r in X.iterrows()]\n",
    "    y = y.values\n",
    "\n",
    "    return X, y\n",
    "\n",
    "X_train, y_train = to_x_and_y(aggregated)\n",
    "X_test, y_test = to_x_and_y(test)\n",
    "\n",
    "ppl = Pipeline([\n",
    "    ('vect', DictVectorizer()),\n",
    "    ('impute', Imputer()),\n",
    "    ('clf', RandomForestClassifier())\n",
    "])\n",
    "\n",
    "ppl.fit(X_train, y_train)\n",
    "predicted = ppl.predict(X_test)\n",
    "accuracy = accuracy_score(y_test, predicted)\n",
    "print(accuracy)"
   ]
  },
  {
   "cell_type": "code",
   "execution_count": null,
   "metadata": {
    "collapsed": true
   },
   "outputs": [],
   "source": [
    "confusion_matrix(y_test, predicted)"
   ]
  },
  {
   "cell_type": "code",
   "execution_count": null,
   "metadata": {
    "collapsed": true
   },
   "outputs": [],
   "source": [
    "predictions = pd.Series(predicted)\n",
    "predictions.index = test.index\n",
    "df['predictions'] = predictions\n",
    "\n",
    "df.to_pickle('results_with_accuracy_classified.p')"
   ]
  },
  {
   "cell_type": "code",
   "execution_count": null,
   "metadata": {
    "collapsed": true
   },
   "outputs": [],
   "source": [
    "from sklearn.metrics import classification_report\n",
    "\n",
    "print(classification_report(y_test, predicted))"
   ]
  },
  {
   "cell_type": "code",
   "execution_count": 14,
   "metadata": {},
   "outputs": [
    {
     "name": "stdout",
     "output_type": "stream",
     "text": [
      "Precision 0.77\n",
      "Recall 0.46\n",
      "F1 0.58\n",
      "Specificity 1.0\n",
      "Accuracy 0.98\n"
     ]
    }
   ],
   "source": [
    "from sklearn.metrics import f1_score, precision_score, recall_score\n",
    "\n",
    "print('Precision', np.round(precision_score(y_test, predicted, pos_label=1, average='binary'), 2))\n",
    "print('Recall', np.round(recall_score(y_test, predicted, pos_label=1, average='binary'), 2))\n",
    "print('F1', np.round(f1_score(y_test, predicted, pos_label=1, average='binary'), 2))\n",
    "\n",
    "mask_negative = y_test == 0\n",
    "print('Specificity', np.round(accuracy_score(y_test[mask_negative], predicted[mask_negative]), 2))\n",
    "print('Accuracy', np.round(accuracy_score(y_test, predicted), 2))"
   ]
  },
  {
   "cell_type": "code",
   "execution_count": null,
   "metadata": {
    "collapsed": true
   },
   "outputs": [],
   "source": [
    "plt.rcParams[\"figure.figsize\"] = (10, 5)\n",
    "\n",
    "rf = ppl.named_steps['clf']\n",
    "importances = pd.Series(rf.feature_importances_)\n",
    "importances.index = ppl.named_steps['vect'].feature_names_\n",
    "importances = importances.sort_values(ascending=False)\n",
    "importances.plot.bar()"
   ]
  },
  {
   "cell_type": "code",
   "execution_count": 17,
   "metadata": {
    "collapsed": true
   },
   "outputs": [],
   "source": [
    "categories = {\n",
    "    'f1_without_transfer': [],\n",
    "    'specificity': [],\n",
    "    'samples': [],\n",
    "    'features': [],\n",
    "    'type_of_transfer': [],\n",
    "    'device_type': [],\n",
    "    'label': [],\n",
    "    'classifier': []\n",
    "}\n",
    "\n",
    "for category in categories:\n",
    "    for i in importances.index:\n",
    "        if category in i:\n",
    "            categories[category] += [importances[i]]\n",
    "            \n",
    "df_importances = pd.DataFrame()\n",
    "\n",
    "for category in categories:\n",
    "    df_importances = pd.concat([pd.DataFrame({category: pd.Series(categories[category])}), df_importances], axis=1)\n",
    "\n",
    "df_importances = df_importances.rename(index=str, columns={\n",
    "    'f1_without_transfer': 'F1 score before transfer',\n",
    "    'specificity': 'Specificity of target samples',\n",
    "    'samples': 'Number of training samples',\n",
    "    'features': 'Sensor channels used',\n",
    "    'type_of_transfer': 'Type of transfer',\n",
    "    'device_type': 'Types of sensor boards',\n",
    "    'label': 'Activity',\n",
    "    'classifier': 'Classifier'\n",
    "})"
   ]
  },
  {
   "cell_type": "code",
   "execution_count": 18,
   "metadata": {},
   "outputs": [
    {
     "data": {
      "text/plain": [
       "<matplotlib.axes._subplots.AxesSubplot at 0x7fd252e1b940>"
      ]
     },
     "execution_count": 18,
     "metadata": {},
     "output_type": "execute_result"
    },
    {
     "data": {
      "image/png": "[encoded data removed]",
      "text/plain": [
       "<matplotlib.figure.Figure at 0x7fd252e611d0>"
      ]
     },
     "metadata": {},
     "output_type": "display_data"
    }
   ],
   "source": [
    "plt.rcParams[\"figure.figsize\"] = (5, 4)\n",
    "df_importances.sum().sort_values().plot.barh()"
   ]
  },
  {
   "cell_type": "code",
   "execution_count": 16,
   "metadata": {},
   "outputs": [
    {
     "data": {
      "text/plain": [
       "1"
      ]
     },
     "execution_count": 16,
     "metadata": {},
     "output_type": "execute_result"
    }
   ],
   "source": [
    "1"
   ]
  }
 ],
 "metadata": {
  "kernelspec": {
   "display_name": "Python 3",
   "language": "python",
   "name": "python3"
  },
  "language_info": {
   "codemirror_mode": {
    "name": "ipython",
    "version": 3
   },
   "file_extension": ".py",
   "mimetype": "text/x-python",
   "name": "python",
   "nbconvert_exporter": "python",
   "pygments_lexer": "ipython3",
   "version": "3.5.2"
  }
 },
 "nbformat": 4,
 "nbformat_minor": 2
}
