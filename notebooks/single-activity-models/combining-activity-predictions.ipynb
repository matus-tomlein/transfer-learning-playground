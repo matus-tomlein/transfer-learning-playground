{
 "cells": [
  {
   "cell_type": "code",
   "execution_count": 71,
   "metadata": {},
   "outputs": [],
   "source": [
    "import numpy as np\n",
    "import pandas as pd\n",
    "import pickle\n",
    "import tflscripts\n",
    "from sklearn.metrics import accuracy_score\n",
    "\n",
    "configuration = tflscripts.read_configuration()"
   ]
  },
  {
   "cell_type": "code",
   "execution_count": 41,
   "metadata": {
    "collapsed": true
   },
   "outputs": [],
   "source": [
    "class TransferableModelsForCase:\n",
    "    def __init__(self, target_device_name, target_dataset):\n",
    "        self.target_device_name = target_device_name\n",
    "        self.target_dataset = target_dataset\n",
    "        self.transferable_models = []"
   ]
  },
  {
   "cell_type": "code",
   "execution_count": 45,
   "metadata": {},
   "outputs": [
    {
     "name": "stdout",
     "output_type": "stream",
     "text": [
      "Cases\n"
     ]
    },
    {
     "data": {
      "text/plain": [
       "[(0, 'synergy-final-iter1', 'Mite 3 Sink'),\n",
       " (1, 'synergy-final-iter2', 'Mite 3 Coffee'),\n",
       " (2, 'synergy-final-iter5', 'Mite 4 Sink'),\n",
       " (3, 'synergy-final-iter1', 'Mite 2 Table'),\n",
       " (4, 'synergy-final-iter4', 'Mite 1 Table'),\n",
       " (5, 'synergy-final-iter4', 'Mite 4 Coffee'),\n",
       " (6, 'synergy-final-iter5', 'Mite 2 Coffee'),\n",
       " (7, 'synergy-final-iter2', 'Mite 2 Sink'),\n",
       " (8, 'robotics-final', 'Mite 1 Coffee'),\n",
       " (9, 'robotics-final', 'Mite 4 Sink'),\n",
       " (10, 'scott-final-iter1', 'Mite 4 Right'),\n",
       " (11, 'scott-final-iter1', 'Mite 2 Left')]"
      ]
     },
     "execution_count": 45,
     "metadata": {},
     "output_type": "execute_result"
    }
   ],
   "source": [
    "input = open('transferable_models.p', 'rb')\n",
    "transferable_models = pickle.load(input)\n",
    "\n",
    "print('Cases')\n",
    "[(i, m.target_dataset, m.target_device_name) for i, m in enumerate(transferable_models)]"
   ]
  },
  {
   "cell_type": "code",
   "execution_count": 126,
   "metadata": {},
   "outputs": [],
   "source": [
    "def test_result_for(source_dataset,\n",
    "                    source_device,\n",
    "                    target_dataset,\n",
    "                    target_device,\n",
    "                    label,\n",
    "                    features,\n",
    "                    classifier):\n",
    "    test_set = tflscripts.TestSet(name='_'.join([source_dataset, source_device]))\n",
    "    \n",
    "    results = test_set.get_results()\n",
    "    results = [r for r in results if r.target_dataset == target_dataset and\n",
    "        r.target_device == target_device and\n",
    "        r.features == features and\n",
    "        r.label_name() == label and\n",
    "        r.classifier == classifier]\n",
    "    \n",
    "    assert(len(results) == 1)\n",
    "    return results[0]\n",
    "\n",
    "def features_to_key(features):\n",
    "    feature_types = {\n",
    "        'All': '.*',\n",
    "        'Microphone': 'MICROPHONE_|microphone',\n",
    "        'Accelerometer': 'ACCEL_|accel_',\n",
    "        'Environmental': 'temperature|pressure|humidity',\n",
    "        'EMI & motion': 'EMI|IRMOTION',\n",
    "        'Microphone & accelerometer': 'MICROPHONE|microphone|ACCEL_|accel_'\n",
    "    }\n",
    "    return feature_types[features]\n",
    "\n",
    "def classifier_to_key(classifier):\n",
    "    classifiers = {\n",
    "        'SVM': 'SVM',\n",
    "        'LR': 'LogisticRegression',\n",
    "        'RF': 'RandomForestClassifier'\n",
    "    }\n",
    "    return classifiers[classifier]\n",
    "\n",
    "def device_name_to_device(dataset, device_name):\n",
    "    roles = configuration['device_roles'][dataset]\n",
    "    for device in roles:\n",
    "        if roles[device] == device_name:\n",
    "            return device\n",
    "\n",
    "case = transferable_models[4]\n",
    "results = []\n",
    "for model_info in case.transferable_models:\n",
    "    result = test_result_for(source_dataset=model_info['source_dataset'],\n",
    "                   source_device=device_name_to_device(model_info['source_dataset'], model_info['source_device_name']),\n",
    "                   target_dataset=case.target_dataset,\n",
    "                   target_device=device_name_to_device(case.target_dataset, case.target_device_name),\n",
    "                   label=model_info['label'],\n",
    "                   features=features_to_key(model_info['features']),\n",
    "                   classifier=classifier_to_key(model_info['classifier']))\n",
    "\n",
    "    results.append(result)"
   ]
  },
  {
   "cell_type": "code",
   "execution_count": 128,
   "metadata": {},
   "outputs": [],
   "source": [
    "def accuracy_of_test_result(result):\n",
    "    actual = np.array([result.label if b else -1 for b in result.actual_with_all_labels == result.label])\n",
    "    return accuracy_score(actual, result.predicted)\n",
    "\n",
    "label_models = {}\n",
    "for result in results:\n",
    "    if result.label in label_models:\n",
    "        if accuracy_of_test_result(label_models[result.label]) < accuracy_of_test_result(result):\n",
    "            label_models[result.label] = result\n",
    "    else:\n",
    "        label_models[result.label] = result\n",
    "results_by_accuracy = label_models.values()"
   ]
  },
  {
   "cell_type": "code",
   "execution_count": 123,
   "metadata": {},
   "outputs": [],
   "source": [
    "df = pd.DataFrame([r.predicted for r in results]).T\n",
    "\n",
    "def majority_vote(row):\n",
    "    value_counts = row.value_counts()\n",
    "    value_counts = value_counts[value_counts.index != -1]\n",
    "    if len(value_counts) == 0:\n",
    "        return -1\n",
    "    return value_counts.idxmax()\n",
    "\n",
    "majority_votes = [majority_vote(row) for i, row in df.iterrows()]\n",
    "\n",
    "df['actual'] = actual\n",
    "df['majority_votes'] = majority_votes"
   ]
  },
  {
   "cell_type": "code",
   "execution_count": 124,
   "metadata": {},
   "outputs": [
    {
     "data": {
      "text/plain": [
       "0.8302001212856277"
      ]
     },
     "execution_count": 124,
     "metadata": {},
     "output_type": "execute_result"
    }
   ],
   "source": [
    "accuracy_score(df.loc[df.majority_votes != -1]['actual'], df.loc[df.majority_votes != -1]['majority_votes'])"
   ]
  }
 ],
 "metadata": {
  "kernelspec": {
   "display_name": "Python 3",
   "language": "python",
   "name": "python3"
  },
  "language_info": {
   "codemirror_mode": {
    "name": "ipython",
    "version": 3
   },
   "file_extension": ".py",
   "mimetype": "text/x-python",
   "name": "python",
   "nbconvert_exporter": "python",
   "pygments_lexer": "ipython3",
   "version": "3.5.2"
  }
 },
 "nbformat": 4,
 "nbformat_minor": 2
}
