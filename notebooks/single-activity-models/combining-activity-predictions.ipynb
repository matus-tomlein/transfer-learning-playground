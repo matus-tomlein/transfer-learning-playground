{
 "cells": [
  {
   "cell_type": "code",
   "execution_count": 5,
   "metadata": {
    "collapsed": true
   },
   "outputs": [],
   "source": [
    "import numpy as np\n",
    "import pandas as pd\n",
    "import pickle\n",
    "import tflscripts\n",
    "from sklearn.metrics import accuracy_score\n",
    "from sklearn.metrics import confusion_matrix\n",
    "\n",
    "configuration = tflscripts.read_configuration()"
   ]
  },
  {
   "cell_type": "code",
   "execution_count": 37,
   "metadata": {
    "collapsed": true
   },
   "outputs": [],
   "source": [
    "df_results = pd.read_pickle('results_with_accuracy_classified.p')\n",
    "df_results = df_results.loc[df_results.accuracy_negative >= 0.95]\n",
    "df_results = df_results.loc[(df_results.accuracy_bin == 1) | (df_results.predictions == 1)]"
   ]
  },
  {
   "cell_type": "code",
   "execution_count": 33,
   "metadata": {
    "collapsed": true
   },
   "outputs": [],
   "source": [
    "def key_for_test(source_dataset,\n",
    "                    source_device,\n",
    "                    target_dataset,\n",
    "                    target_device,\n",
    "                    label,\n",
    "                    features,\n",
    "                    classifier):\n",
    "    return source_dataset + source_device + target_dataset + target_device + \\\n",
    "        label + features + classifier\n",
    "\n",
    "def key_for_result_row(row):\n",
    "    return key_for_test(source_dataset=row['source_dataset'],\n",
    "                       source_device=row['source_device'],\n",
    "                       target_dataset=row['target_dataset'],\n",
    "                       target_device=row['target_device'],\n",
    "                       label=row['label'],\n",
    "                       features=row['features'],\n",
    "                       classifier=row['classifier'])\n",
    "\n",
    "def key_for_test_result(result):\n",
    "    return key_for_test(source_dataset=result.source_dataset,\n",
    "                       source_device=result.source_device,\n",
    "                       target_dataset=result.target_dataset,\n",
    "                       target_device=result.target_device,\n",
    "                       label=result.label_name(),\n",
    "                       features=result.features,\n",
    "                       classifier=result.classifier)\n",
    "\n",
    "def test_results_for_df(df_results):\n",
    "    wanted_test_results = {}\n",
    "    for i, row in df_results.iterrows():\n",
    "        key = key_for_result_row(row)\n",
    "        wanted_test_results[key] = i\n",
    "\n",
    "    found_test_results = {}\n",
    "    for dataset in configuration['device_roles']:\n",
    "        for device in configuration['device_roles'][dataset]:\n",
    "            test_set = tflscripts.TestSet(name='_'.join([dataset, device]))\n",
    "            if test_set.exists():\n",
    "                for result in test_set.get_results():\n",
    "                    key = key_for_test_result(result)\n",
    "                    if key in wanted_test_results:\n",
    "                        result_row_id = wanted_test_results[key]\n",
    "                        found_test_results[result_row_id] = result\n",
    "\n",
    "    return found_test_results\n",
    "\n",
    "def filter_results_by_accuracy(case_results, accuracy_column):\n",
    "    label_models = {}\n",
    "    for i, row_result in case_results.iterrows():\n",
    "        label = row_result['label']\n",
    "        if label in label_models:\n",
    "            other_row_result = case_results.loc[case_results.index == label_models[label]].iloc[0]\n",
    "            if other_row_result[accuracy_column] < row_result[accuracy_column]:\n",
    "                label_models[label] = i\n",
    "        else:\n",
    "            label_models[label] = i\n",
    "\n",
    "    result_ids = list(label_models.values())\n",
    "    return result_ids\n",
    "\n",
    "def majority_vote(row):\n",
    "    value_counts = row.value_counts()\n",
    "    value_counts = value_counts[value_counts.index != -1]\n",
    "    if len(value_counts) == 0:\n",
    "        return -1\n",
    "    return value_counts.idxmax()"
   ]
  },
  {
   "cell_type": "code",
   "execution_count": 31,
   "metadata": {
    "collapsed": true
   },
   "outputs": [],
   "source": [
    "cases = df_results[['target_device', 'target_dataset']].drop_duplicates()\n",
    "cases.columns = ['device', 'dataset']\n",
    "all_test_results = test_results_for_df(df_results)"
   ]
  },
  {
   "cell_type": "code",
   "execution_count": 36,
   "metadata": {
    "scrolled": false
   },
   "outputs": [
    {
     "name": "stdout",
     "output_type": "stream",
     "text": [
      "synergy-final-iter5 128.237.250.218 0.892096545196 0.876336587634\n",
      "synergy-final-iter1 128.237.248.186 11 ACCEL_|accel_|mag_ SVM\n",
      "synergy-final-iter4 128.237.250.218 0 MICROPHONE_|microphone LogisticRegression\n",
      "synergy-final-iter5 128.237.227.76 23 MICROPHONE_|microphone SVM\n",
      "synergy-final-iter4 128.237.247.190 25 MICROPHONE_|microphone SVM\n",
      "synergy-final-iter5 128.237.227.76 22 MICROPHONE|microphone|ACCEL_|accel_ LogisticRegression\n",
      "synergy-final-iter4 128.237.247.190 13 .* LogisticRegression\n",
      "synergy-final-iter4 128.237.247.190 7 MICROPHONE_|microphone LogisticRegression\n",
      "synergy-final-iter5 128.237.227.76 21 MICROPHONE_|microphone SVM\n",
      "synergy-final-iter5 128.237.227.76 1 MICROPHONE_|microphone LogisticRegression\n",
      "synergy-final-iter4 128.237.250.218 12 MICROPHONE|microphone|ACCEL_|accel_ LogisticRegression\n",
      "\n",
      "synergy-final-iter1 128.237.254.195 0.959349593496 0.846484935438\n",
      "synergy-final-iter2 128.237.248.186 0 .* LogisticRegression\n",
      "synergy-final-iter2 128.237.248.186 1 MICROPHONE_|microphone SVM\n",
      "synergy-final-iter1 128.237.248.186 14 .* LogisticRegression\n",
      "\n",
      "synergy-final-iter2 128.237.248.186 0.966896551724 0.91038961039\n",
      "synergy-final-iter1 128.237.248.186 11 MICROPHONE_|microphone RandomForestClassifier\n",
      "synergy-final-iter1 128.237.254.195 0 .* LogisticRegression\n",
      "synergy-final-iter5 128.237.227.76 1 MICROPHONE|microphone|ACCEL_|accel_ LogisticRegression\n",
      "synergy-final-iter1 128.237.248.186 18 .* RandomForestClassifier\n",
      "synergy-final-iter1 128.237.248.186 14 .* SVM\n",
      "\n",
      "synergy-final-iter4 128.237.250.218 0.889303904924 0.823843976093\n",
      "synergy-final-iter2 128.237.248.186 11 MICROPHONE|microphone|ACCEL_|accel_ LogisticRegression\n",
      "synergy-final-iter5 128.237.227.76 21 MICROPHONE_|microphone SVM\n",
      "synergy-final-iter5 128.237.227.76 23 MICROPHONE_|microphone LogisticRegression\n",
      "synergy-final-iter4 128.237.247.190 18 MICROPHONE_|microphone SVM\n",
      "synergy-final-iter4 128.237.247.190 25 MICROPHONE_|microphone SVM\n",
      "synergy-final-iter5 128.237.227.76 22 MICROPHONE_|microphone SVM\n",
      "synergy-final-iter4 128.237.247.190 13 .* LogisticRegression\n",
      "synergy-final-iter5 128.237.227.76 7 .* LogisticRegression\n",
      "synergy-final-iter5 128.237.227.76 0 .* LogisticRegression\n",
      "synergy-final-iter5 128.237.227.76 1 .* LogisticRegression\n",
      "\n",
      "synergy-final-iter5 128.237.227.76 0.868788142982 0.868031358885\n",
      "synergy-final-iter2 128.237.248.186 11 .* LogisticRegression\n",
      "synergy-final-iter4 128.237.250.218 0 .* LogisticRegression\n",
      "synergy-final-iter5 128.237.250.218 23 MICROPHONE|microphone|ACCEL_|accel_ LogisticRegression\n",
      "synergy-final-iter4 128.237.250.218 5 MICROPHONE_|microphone SVM\n",
      "synergy-final-iter5 128.237.250.218 22 .* SVM\n",
      "synergy-final-iter4 128.237.247.190 13 .* LogisticRegression\n",
      "synergy-final-iter4 128.237.250.218 7 .* LogisticRegression\n",
      "synergy-final-iter5 128.237.250.218 21 MICROPHONE_|microphone SVM\n",
      "synergy-final-iter1 128.237.248.186 18 ACCEL_|accel_|mag_ LogisticRegression\n",
      "\n",
      "synergy-final-iter2 128.237.254.195 0.864973262032 0.73606370876\n",
      "synergy-final-iter1 128.237.254.195 11 .* LogisticRegression\n",
      "synergy-final-iter4 128.237.250.218 0 .* LogisticRegression\n",
      "synergy-final-iter1 128.237.248.186 18 ACCEL_|accel_|mag_ LogisticRegression\n",
      "synergy-final-iter1 128.237.248.186 7 MICROPHONE_|microphone LogisticRegression\n",
      "synergy-final-iter2 128.237.248.186 1 MICROPHONE|microphone|ACCEL_|accel_ SVM\n",
      "synergy-final-iter1 128.237.248.186 14 MICROPHONE_|microphone SVM\n",
      "\n",
      "synergy-final-iter1 128.237.248.186 0.888888888889 0.533333333333\n",
      "synergy-final-iter1 128.237.254.195 14 MICROPHONE_|microphone LogisticRegression\n",
      "\n",
      "synergy-final-iter4 128.237.247.190 0.837988826816 0.875486381323\n",
      "synergy-final-iter5 128.237.227.76 21 MICROPHONE_|microphone SVM\n",
      "synergy-final-iter5 128.237.250.218 22 MICROPHONE_|microphone SVM\n",
      "synergy-final-iter5 128.237.227.76 25 MICROPHONE_|microphone LogisticRegression\n",
      "synergy-final-iter4 128.237.250.218 13 MICROPHONE_|microphone LogisticRegression\n",
      "synergy-final-iter5 128.237.250.218 7 MICROPHONE_|microphone LogisticRegression\n",
      "synergy-final-iter4 128.237.250.218 23 MICROPHONE_|microphone SVM\n",
      "\n",
      "robotics-final 128.237.247.134 0.87757909216 0.89606741573\n",
      "robotics-final 128.237.246.127 0 MICROPHONE|microphone|ACCEL_|accel_ SVM\n",
      "robotics-final 128.237.246.127 7 MICROPHONE_|microphone SVM\n",
      "\n",
      "robotics-final 128.237.246.127 0.986263736264 0.983561643836\n",
      "robotics-final 128.237.247.134 7 MICROPHONE|microphone|ACCEL_|accel_ LogisticRegression\n",
      "\n",
      "scott-final-iter1 128.237.247.134 0.976683937824 0.891252955083\n",
      "scott-final-iter1 128.237.248.186 0 MICROPHONE_|microphone RandomForestClassifier\n",
      "scott-final-iter1 128.237.248.186 18 MICROPHONE|microphone|ACCEL_|accel_ SVM\n",
      "\n",
      "scott-final-iter1 128.237.248.186 1.0 0.986413043478\n",
      "scott-final-iter1 128.237.247.134 0 MICROPHONE_|microphone LogisticRegression\n",
      "\n",
      "synergy-final-iter1 128.237.246.127 0.900820793434 0.94544149318\n",
      "synergy-final-iter1 128.237.248.186 11 MICROPHONE_|microphone LogisticRegression\n",
      "synergy-final-iter2 128.237.254.195 0 MICROPHONE_|microphone LogisticRegression\n",
      "synergy-final-iter1 128.237.248.186 18 ACCEL_|accel_|mag_ LogisticRegression\n",
      "synergy-final-iter2 128.237.248.186 1 MICROPHONE|microphone|ACCEL_|accel_ SVM\n",
      "synergy-final-iter2 128.237.254.195 7 .* RandomForestClassifier\n",
      "synergy-final-iter1 128.237.254.195 3 .* RandomForestClassifier\n",
      "\n",
      "synergy-final-iter2 128.237.246.127 0.888888888889 0.307692307692\n",
      "synergy-final-iter1 128.237.248.186 11 .* LogisticRegression\n",
      "\n",
      "synergy-final-iter4 128.237.227.76 0.95867768595 0.464\n",
      "synergy-final-iter1 128.237.248.186 11 ACCEL_|accel_|mag_ SVM\n",
      "synergy-final-iter1 128.237.254.195 1 MICROPHONE_|microphone SVM\n",
      "\n"
     ]
    },
    {
     "ename": "IndexError",
     "evalue": "list index out of range",
     "output_type": "error",
     "traceback": [
      "\u001b[0;31m---------------------------------------------------------------------------\u001b[0m",
      "\u001b[0;31mIndexError\u001b[0m                                Traceback (most recent call last)",
      "\u001b[0;32m<ipython-input-36-458db47d9a31>\u001b[0m in \u001b[0;36m<module>\u001b[0;34m()\u001b[0m\n\u001b[1;32m      9\u001b[0m     \u001b[0mdf\u001b[0m\u001b[0;34m.\u001b[0m\u001b[0mcolumns\u001b[0m \u001b[0;34m=\u001b[0m \u001b[0mresults_ids\u001b[0m\u001b[0;34m\u001b[0m\u001b[0m\n\u001b[1;32m     10\u001b[0m \u001b[0;34m\u001b[0m\u001b[0m\n\u001b[0;32m---> 11\u001b[0;31m     \u001b[0mactual\u001b[0m \u001b[0;34m=\u001b[0m \u001b[0mall_test_results\u001b[0m\u001b[0;34m[\u001b[0m\u001b[0mresults_ids\u001b[0m\u001b[0;34m[\u001b[0m\u001b[0;36m0\u001b[0m\u001b[0;34m]\u001b[0m\u001b[0;34m]\u001b[0m\u001b[0;34m.\u001b[0m\u001b[0mactual_with_all_labels\u001b[0m\u001b[0;34m\u001b[0m\u001b[0m\n\u001b[0m\u001b[1;32m     12\u001b[0m     \u001b[0mmajority_votes\u001b[0m \u001b[0;34m=\u001b[0m \u001b[0;34m[\u001b[0m\u001b[0mmajority_vote\u001b[0m\u001b[0;34m(\u001b[0m\u001b[0mrow\u001b[0m\u001b[0;34m)\u001b[0m \u001b[0;32mfor\u001b[0m \u001b[0mi\u001b[0m\u001b[0;34m,\u001b[0m \u001b[0mrow\u001b[0m \u001b[0;32min\u001b[0m \u001b[0mdf\u001b[0m\u001b[0;34m.\u001b[0m\u001b[0miterrows\u001b[0m\u001b[0;34m(\u001b[0m\u001b[0;34m)\u001b[0m\u001b[0;34m]\u001b[0m\u001b[0;34m\u001b[0m\u001b[0m\n\u001b[1;32m     13\u001b[0m \u001b[0;34m\u001b[0m\u001b[0m\n",
      "\u001b[0;31mIndexError\u001b[0m: list index out of range"
     ]
    }
   ],
   "source": [
    "for _, case in cases.iterrows():\n",
    "    # find tests for the case\n",
    "    case_results = df_results.loc[df_results.target_device == case['device']]\n",
    "    case_results = case_results.loc[case_results.target_dataset == case['dataset']]\n",
    "\n",
    "    results_ids = filter_results_by_accuracy(case_results, 'accuracy_positive')\n",
    "    test_results = [all_test_results[i] for i in results_ids]\n",
    "    df = pd.DataFrame([r.predicted for r in test_results]).T\n",
    "    df.columns = results_ids\n",
    "\n",
    "    actual = all_test_results[results_ids[0]].actual_with_all_labels\n",
    "    majority_votes = [majority_vote(row) for i, row in df.iterrows()]\n",
    "\n",
    "    df['actual'] = actual\n",
    "    df['majority_votes'] = majority_votes\n",
    "\n",
    "    can_predict_labels = [r.label for r in test_results]\n",
    "    df_known_labels = df.loc[df.actual.isin(can_predict_labels)]\n",
    "    df_all_predicted = df.loc[df.majority_votes != -1]\n",
    "\n",
    "    accuracy_known_labels = accuracy_score(df_known_labels['actual'], df_known_labels['majority_votes'])\n",
    "    accuracy_all_predicted = accuracy_score(df_all_predicted['actual'], df_all_predicted['majority_votes'])\n",
    "    print(case['dataset'], case['device'], accuracy_known_labels, accuracy_all_predicted)\n",
    "\n",
    "    for result in test_results:\n",
    "        print(result.source_dataset, result.source_device, result.label, result.features, result.classifier)\n",
    "\n",
    "    print()"
   ]
  },
  {
   "cell_type": "code",
   "execution_count": 170,
   "metadata": {},
   "outputs": [
    {
     "data": {
      "text/plain": [
       "array([[  0,   0,   0,   0,   0,   0,   0,   0,   0,   0],\n",
       "       [293,  49,   2,   0,   3,   0,   1,   0,   0,   0],\n",
       "       [222,   4, 283,   3,   2,   0,   1,   0,   0,   0],\n",
       "       [ 17,   0,   0,   5,   2,   0,   1,   0,   0,   0],\n",
       "       [ 27,   0,   0,   0,   1,   0,   0,   0,   0,   0],\n",
       "       [  2,   0,   2,   7,   2,  16,   0,   0,   0,   0],\n",
       "       [ 61,   0,   0,   0,   0,   0,   0,   0,   0,   0],\n",
       "       [  0,   0,   0,  13,   2,   0,   0, 156,  32,   0],\n",
       "       [  2,   0,   7,   1,   1,   0,   0,   0, 287,   0],\n",
       "       [  0,   0,   1,   0,   0,   0,   0,   0,   0, 542]])"
      ]
     },
     "execution_count": 170,
     "metadata": {},
     "output_type": "execute_result"
    }
   ],
   "source": [
    "can_predict_labels = [r.label for r in results_by_accuracy]\n",
    "df_known_labels = df.loc[df.actual.isin(can_predict_labels)]\n",
    "confusion_matrix(df_known_labels.actual, df_known_labels.majority_votes)"
   ]
  },
  {
   "cell_type": "code",
   "execution_count": 22,
   "metadata": {},
   "outputs": [
    {
     "data": {
      "text/plain": [
       "1"
      ]
     },
     "execution_count": 22,
     "metadata": {},
     "output_type": "execute_result"
    }
   ],
   "source": [
    "1"
   ]
  }
 ],
 "metadata": {
  "kernelspec": {
   "display_name": "Python 3",
   "language": "python",
   "name": "python3"
  },
  "language_info": {
   "codemirror_mode": {
    "name": "ipython",
    "version": 3
   },
   "file_extension": ".py",
   "mimetype": "text/x-python",
   "name": "python",
   "nbconvert_exporter": "python",
   "pygments_lexer": "ipython3",
   "version": "3.5.2"
  }
 },
 "nbformat": 4,
 "nbformat_minor": 2
}
