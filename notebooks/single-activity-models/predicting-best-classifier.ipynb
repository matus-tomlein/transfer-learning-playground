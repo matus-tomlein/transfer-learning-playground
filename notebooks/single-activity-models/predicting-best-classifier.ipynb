{
 "cells": [
  {
   "cell_type": "code",
   "execution_count": 71,
   "metadata": {
    "collapsed": true
   },
   "outputs": [],
   "source": [
    "%matplotlib inline\n",
    "import matplotlib\n",
    "import matplotlib.pyplot as plt\n",
    "\n",
    "width = 12\n",
    "height = 7\n",
    "plt.rcParams[\"figure.figsize\"] = (width, height)\n",
    "\n",
    "import pandas as pd\n",
    "import numpy as np\n",
    "import tflscripts\n",
    "import json\n",
    "from sklearn.pipeline import Pipeline\n",
    "from sklearn.preprocessing import Imputer\n",
    "from sklearn.metrics import accuracy_score\n",
    "from sklearn.feature_extraction import DictVectorizer\n",
    "from sklearn.model_selection import train_test_split\n",
    "from sklearn import tree\n",
    "\n",
    "configuration = tflscripts.read_configuration()\n",
    "df = pd.read_pickle('results.p')"
   ]
  },
  {
   "cell_type": "code",
   "execution_count": 72,
   "metadata": {},
   "outputs": [],
   "source": [
    "df['key'] = df['label'] + df['features'] + df['source_dataset'] + df['source_device'] + df['target_dataset'] + df['target_device']\n",
    "\n",
    "df_ = df[['key', 'classifier', 'accuracy_positive']]\n",
    "results = pd.pivot_table(df_, values=['accuracy_positive'], columns=['classifier'], index=['key']).idxmax(axis=1)"
   ]
  },
  {
   "cell_type": "code",
   "execution_count": 73,
   "metadata": {},
   "outputs": [
    {
     "name": "stderr",
     "output_type": "stream",
     "text": [
      "/home/giotto/.local/lib/python3.5/site-packages/ipykernel_launcher.py:3: SettingWithCopyWarning: \n",
      "A value is trying to be set on a copy of a slice from a DataFrame.\n",
      "Try using .loc[row_indexer,col_indexer] = value instead\n",
      "\n",
      "See the caveats in the documentation: http://pandas.pydata.org/pandas-docs/stable/indexing.html#indexing-view-versus-copy\n",
      "  This is separate from the ipykernel package so we can avoid doing imports until\n"
     ]
    }
   ],
   "source": [
    "df['results'] = [results[key] for key in df['key']]\n",
    "df_ = df.drop_duplicates(subset='key', keep='first')\n",
    "df_['results'] = [r[1] for r in df_['results']]\n",
    "df_ = df_[['label', 'features', 'type_of_transfer', 'results']]"
   ]
  },
  {
   "cell_type": "code",
   "execution_count": 74,
   "metadata": {},
   "outputs": [],
   "source": [
    "df_no_transfer = df_.loc[df_.type_of_transfer == 'No transfer']\n",
    "df_transfer_within_spaces = df_.loc[df_.type_of_transfer.isin(['Same device type in same place',\n",
    "       'Same device in different place',\n",
    "       'Same device type in different place'])]"
   ]
  },
  {
   "cell_type": "code",
   "execution_count": 75,
   "metadata": {},
   "outputs": [
    {
     "name": "stdout",
     "output_type": "stream",
     "text": [
      "Predicting best performing classifier\n",
      "Training and testing on data without transfer 0.741935483871\n",
      "Training and testing on transfer within spaces 0.716586151369\n",
      "Training without transfer and testing on transfer within spaces 0.529004789782\n"
     ]
    }
   ],
   "source": [
    "def test_decision_tree(X_train, X_test, y_train, y_test):\n",
    "    ppl = Pipeline([\n",
    "        ('vect', DictVectorizer()),\n",
    "        ('impute', Imputer()),\n",
    "        ('clf', tree.DecisionTreeClassifier())\n",
    "    ])\n",
    "\n",
    "    ppl.fit(X_train, y_train)\n",
    "    predicted = ppl.predict(X_test)\n",
    "    return accuracy_score(y_test, predicted)\n",
    "\n",
    "# training and testing on data without transfer\n",
    "\n",
    "X = df_no_transfer[['label', 'features']]\n",
    "y = df_no_transfer['results']\n",
    "\n",
    "X = [dict(r.iteritems()) for _, r in X.iterrows()]\n",
    "y = y.values\n",
    "\n",
    "X_train, X_test, y_train, y_test = train_test_split(X, y, test_size=0.33, random_state=42)\n",
    "\n",
    "accuracy_no_transfer = test_decision_tree(X_train, X_test, y_train, y_test)\n",
    "\n",
    "# training and testing on data with transfer within spaces\n",
    "\n",
    "X = df_transfer_within_spaces[['label', 'features']]\n",
    "y = df_transfer_within_spaces['results']\n",
    "\n",
    "X = [dict(r.iteritems()) for _, r in X.iterrows()]\n",
    "y = y.values\n",
    "\n",
    "X_train, X_test, y_train, y_test = train_test_split(X, y, test_size=0.33, random_state=42)\n",
    "\n",
    "accuracy_transfer_within_space = test_decision_tree(X_train, X_test, y_train, y_test)\n",
    "\n",
    "# training on no transfer and testing on data with transfer within spaces\n",
    "\n",
    "X_train = df_no_transfer[['label', 'features']]\n",
    "y_train = df_no_transfer['results']\n",
    "\n",
    "X_train = [dict(r.iteritems()) for _, r in X_train.iterrows()]\n",
    "y_train = y_train.values\n",
    "\n",
    "X_test = df_transfer_within_spaces[['label', 'features']]\n",
    "y_test = df_transfer_within_spaces['results']\n",
    "\n",
    "X_test = [dict(r.iteritems()) for _, r in X_test.iterrows()]\n",
    "y_test = y_test.values\n",
    "\n",
    "accuracy_train_no_transfer_test_within_space = test_decision_tree(X_train, X_test, y_train, y_test)\n",
    "\n",
    "print('Predicting best performing classifier')\n",
    "print('Training and testing on data without transfer', accuracy_no_transfer)\n",
    "print('Training and testing on transfer within spaces', accuracy_transfer_within_space)\n",
    "print('Training without transfer and testing on transfer within spaces', accuracy_train_no_transfer_test_within_space)"
   ]
  },
  {
   "cell_type": "code",
   "execution_count": null,
   "metadata": {
    "collapsed": true
   },
   "outputs": [],
   "source": []
  }
 ],
 "metadata": {
  "kernelspec": {
   "display_name": "Python 3",
   "language": "python",
   "name": "python3"
  },
  "language_info": {
   "codemirror_mode": {
    "name": "ipython",
    "version": 3
   },
   "file_extension": ".py",
   "mimetype": "text/x-python",
   "name": "python",
   "nbconvert_exporter": "python",
   "pygments_lexer": "ipython3",
   "version": "3.5.2"
  }
 },
 "nbformat": 4,
 "nbformat_minor": 2
}
