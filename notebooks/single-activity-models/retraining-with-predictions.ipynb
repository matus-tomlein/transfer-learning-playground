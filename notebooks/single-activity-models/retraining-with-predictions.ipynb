{
 "cells": [
  {
   "cell_type": "code",
   "execution_count": 38,
   "metadata": {
    "collapsed": true
   },
   "outputs": [],
   "source": [
    "%matplotlib inline\n",
    "import matplotlib\n",
    "import matplotlib.pyplot as plt\n",
    "\n",
    "width = 12\n",
    "height = 7\n",
    "plt.rcParams[\"figure.figsize\"] = (width, height)\n",
    "\n",
    "\n",
    "import pandas as pd\n",
    "import numpy as np\n",
    "import tflscripts\n",
    "import json\n",
    "from sklearn.metrics import accuracy_score\n",
    "from sklearn import svm\n",
    "from sklearn.pipeline import Pipeline\n",
    "from sklearn.preprocessing import Imputer\n",
    "\n",
    "\n",
    "configuration = tflscripts.read_configuration()\n",
    "results = pd.read_pickle('results.p')\n",
    "tflscripts.set_dataset_folder('../../datasets/')"
   ]
  },
  {
   "cell_type": "code",
   "execution_count": 30,
   "metadata": {},
   "outputs": [],
   "source": [
    "results = results.loc[results.type_of_transfer != 'No transfer']\n",
    "results = results.loc[results.accuracy_negative > 0.95]\n",
    "results = results.loc[results.accuracy_positive > 0.1]"
   ]
  },
  {
   "cell_type": "code",
   "execution_count": 95,
   "metadata": {},
   "outputs": [],
   "source": [
    "def key_for_test(source_dataset,\n",
    "                    source_device,\n",
    "                    target_dataset,\n",
    "                    target_device,\n",
    "                    label,\n",
    "                    features,\n",
    "                    classifier):\n",
    "    return source_dataset + source_device + target_dataset + target_device + \\\n",
    "        label + features + classifier\n",
    "\n",
    "def find_test_result(transfer):\n",
    "    transfer_key = key_for_test(source_dataset=transfer['source_dataset'],\n",
    "                           source_device=transfer['source_device'],\n",
    "                           target_dataset=transfer['target_dataset'],\n",
    "                           target_device=transfer['target_device'],\n",
    "                           label=transfer['label'],\n",
    "                           features=transfer['features'],\n",
    "                           classifier=transfer['classifier'])\n",
    "\n",
    "\n",
    "    test_set = tflscripts.TestSet(name='_'.join([transfer['source_dataset'], transfer['source_device']]))\n",
    "    if test_set.exists():\n",
    "        for result in test_set.get_results():\n",
    "            result_key = key_for_test(source_dataset=result.source_dataset,\n",
    "                               source_device=result.source_device,\n",
    "                               target_dataset=result.target_dataset,\n",
    "                               target_device=result.target_device,\n",
    "                               label=result.label_name(),\n",
    "                               features=result.features,\n",
    "                               classifier=result.classifier)\n",
    "            if result_key == transfer_key:\n",
    "                return result\n",
    "    return None\n",
    "    \n",
    "transfer = results.iloc[3]\n",
    "test_result = find_test_result(transfer)"
   ]
  },
  {
   "cell_type": "code",
   "execution_count": 96,
   "metadata": {},
   "outputs": [],
   "source": [
    "activities = [\n",
    "    \"Dishes\",\n",
    "    \"Null\",\n",
    "    \"Microwave\",\n",
    "    \"Coffee\",\n",
    "    \"Kettle\",\n",
    "    \"Chopping food\",\n",
    "    \"Conversation\",\n",
    "    # \"Microwave door opened\",\n",
    "    \"Microwave door closed\",\n",
    "    \"Cupboard door opened\",\n",
    "    \"Cupboard door closed\",\n",
    "    \"Microwave button press\",\n",
    "    \"Knocking\",\n",
    "    # \"Phone vibrating\",\n",
    "    \"Vacuum cleaning\",\n",
    "    \"Blender running\",\n",
    "    \"Alarm\",\n",
    "    \"Soap dispensed\",\n",
    "    \"Microwave done chime\"\n",
    "]\n",
    "\n",
    "activities_i = [configuration['activities'].index(a) for a in activities]\n",
    "\n",
    "df, df_labels = tflscripts.read_and_filter_dataset(\n",
    "    transfer['target_dataset'] + '-1s',\n",
    "    transfer['target_device'],\n",
    "    use_features='.*',\n",
    "    use_activities=activities_i,\n",
    "    check_all_activities=False,\n",
    "    scale=True,\n",
    "    with_feature_selection=False\n",
    ")\n",
    "\n",
    "df = df.loc[df.index.isin(df_labels.index)]\n",
    "df_labels = df_labels.loc[df_labels.index.isin(df.index)]\n",
    "\n",
    "# df = df[test_result.columns]"
   ]
  },
  {
   "cell_type": "code",
   "execution_count": 97,
   "metadata": {},
   "outputs": [],
   "source": [
    "predicted = pd.Series(test_result.predicted)\n",
    "predicted.index = df.index\n",
    "\n",
    "negative_index = df[df_labels.label != test_result.label].index\n",
    "positive_predictions = predicted[predicted != -1]\n",
    "positive_predictions_index = positive_predictions.index\n",
    "included_index = np.unique(negative_index.tolist() + positive_predictions_index.tolist())\n",
    "\n",
    "x_train = df.loc[df.index.isin(included_index)]\n",
    "\n",
    "y_train = pd.Series(-1, index=x_train.index)\n",
    "y_train[positive_predictions.index] = test_result.label\n",
    "\n",
    "ppl = Pipeline([\n",
    "    ('impute', Imputer()),\n",
    "    ('clf', svm.SVC(kernel='linear', decision_function_shape='ovr'))\n",
    "])\n",
    "\n",
    "ppl.fit(x_train, y_train)\n",
    "repredicted = ppl.predict(df)"
   ]
  },
  {
   "cell_type": "code",
   "execution_count": 98,
   "metadata": {
    "collapsed": true
   },
   "outputs": [],
   "source": [
    "def accuracy_positive(y, predicted):\n",
    "    y_positive = y[y == test_result.label]\n",
    "    predicted_positive = predicted[y == test_result.label]\n",
    "    return accuracy_score(y_positive, predicted_positive)"
   ]
  },
  {
   "cell_type": "code",
   "execution_count": 99,
   "metadata": {},
   "outputs": [
    {
     "data": {
      "text/plain": [
       "0.84239130434782605"
      ]
     },
     "execution_count": 99,
     "metadata": {},
     "output_type": "execute_result"
    }
   ],
   "source": [
    "y = pd.Series(-1, df.index)\n",
    "y[df_labels.loc[df_labels.label == test_result.label].index] = test_result.label\n",
    "accuracy_positive(y.values, repredicted)"
   ]
  },
  {
   "cell_type": "code",
   "execution_count": 100,
   "metadata": {},
   "outputs": [
    {
     "data": {
      "text/plain": [
       "0.73097826086956519"
      ]
     },
     "execution_count": 100,
     "metadata": {},
     "output_type": "execute_result"
    }
   ],
   "source": [
    "accuracy_positive(y.values, test_result.predicted)"
   ]
  },
  {
   "cell_type": "code",
   "execution_count": 101,
   "metadata": {},
   "outputs": [
    {
     "data": {
      "text/plain": [
       "0.94444444444444442"
      ]
     },
     "execution_count": 101,
     "metadata": {},
     "output_type": "execute_result"
    }
   ],
   "source": [
    "accuracy_score(y.values, repredicted)"
   ]
  },
  {
   "cell_type": "code",
   "execution_count": 102,
   "metadata": {},
   "outputs": [
    {
     "data": {
      "text/plain": [
       "0.92894935752078611"
      ]
     },
     "execution_count": 102,
     "metadata": {},
     "output_type": "execute_result"
    }
   ],
   "source": [
    "accuracy_score(y.values, test_result.predicted)"
   ]
  }
 ],
 "metadata": {
  "kernelspec": {
   "display_name": "Python 3",
   "language": "python",
   "name": "python3"
  },
  "language_info": {
   "codemirror_mode": {
    "name": "ipython",
    "version": 3
   },
   "file_extension": ".py",
   "mimetype": "text/x-python",
   "name": "python",
   "nbconvert_exporter": "python",
   "pygments_lexer": "ipython3",
   "version": "3.5.2"
  }
 },
 "nbformat": 4,
 "nbformat_minor": 2
}
