{
 "cells": [
  {
   "cell_type": "code",
   "execution_count": 16,
   "metadata": {
    "collapsed": true
   },
   "outputs": [],
   "source": [
    "%matplotlib inline\n",
    "import matplotlib\n",
    "import matplotlib.pyplot as plt\n",
    "\n",
    "width = 12\n",
    "height = 7\n",
    "plt.rcParams[\"figure.figsize\"] = (width, height)\n",
    "\n",
    "\n",
    "import pandas as pd\n",
    "import numpy as np\n",
    "import tflscripts\n",
    "import json\n",
    "from sklearn.metrics import accuracy_score\n",
    "from sklearn import svm\n",
    "from sklearn.pipeline import Pipeline\n",
    "from sklearn.preprocessing import Imputer\n",
    "from sklearn.linear_model import LogisticRegression\n",
    "\n",
    "\n",
    "configuration = tflscripts.read_configuration()\n",
    "results = pd.read_pickle('results.p')\n",
    "tflscripts.set_dataset_folder('../../datasets/')"
   ]
  },
  {
   "cell_type": "code",
   "execution_count": 98,
   "metadata": {},
   "outputs": [
    {
     "data": {
      "text/plain": [
       "259"
      ]
     },
     "execution_count": 98,
     "metadata": {},
     "output_type": "execute_result"
    }
   ],
   "source": [
    "results = results.loc[results.type_of_transfer != 'No transfer']\n",
    "results = results.loc[results.accuracy_negative > 0.98]\n",
    "results = results.loc[results.accuracy_positive <= 0.7]\n",
    "results = results.loc[results.accuracy_positive >= 0.2]\n",
    "results = results.loc[results.label == 'Dishes']\n",
    "results = results.sort_values(by='samples', ascending=False)\n",
    "len(results)"
   ]
  },
  {
   "cell_type": "code",
   "execution_count": 112,
   "metadata": {
    "collapsed": true
   },
   "outputs": [],
   "source": [
    "def key_for_test(source_dataset,\n",
    "                    source_device,\n",
    "                    target_dataset,\n",
    "                    target_device,\n",
    "                    label,\n",
    "                    features,\n",
    "                    classifier):\n",
    "    return source_dataset + source_device + target_dataset + target_device + \\\n",
    "        label + features + classifier\n",
    "\n",
    "def find_test_result(transfer):\n",
    "    transfer_key = key_for_test(source_dataset=transfer['source_dataset'],\n",
    "                           source_device=transfer['source_device'],\n",
    "                           target_dataset=transfer['target_dataset'],\n",
    "                           target_device=transfer['target_device'],\n",
    "                           label=transfer['label'],\n",
    "                           features=transfer['features'],\n",
    "                           classifier=transfer['classifier'])\n",
    "\n",
    "\n",
    "    test_set = tflscripts.TestSet(name='_'.join([transfer['source_dataset'], transfer['source_device']]))\n",
    "    if test_set.exists():\n",
    "        for result in test_set.get_results():\n",
    "            result_key = key_for_test(source_dataset=result.source_dataset,\n",
    "                               source_device=result.source_device,\n",
    "                               target_dataset=result.target_dataset,\n",
    "                               target_device=result.target_device,\n",
    "                               label=result.label_name(),\n",
    "                               features=result.features,\n",
    "                               classifier=result.classifier)\n",
    "            if result_key == transfer_key:\n",
    "                return result\n",
    "    return None\n",
    "    \n",
    "transfer = results.iloc[2]\n",
    "test_result = find_test_result(transfer)"
   ]
  },
  {
   "cell_type": "code",
   "execution_count": 113,
   "metadata": {
    "collapsed": true
   },
   "outputs": [],
   "source": [
    "activities = configuration['analysed_activities']\n",
    "activities_i = [configuration['activities'].index(a) for a in activities]\n",
    "\n",
    "df, df_labels = tflscripts.read_and_filter_dataset(\n",
    "    transfer['target_dataset'] + '-1s',\n",
    "    transfer['target_device'],\n",
    "    use_features='.*',\n",
    "    use_activities=activities_i,\n",
    "    check_all_activities=False,\n",
    "    scale=True,\n",
    "    with_feature_selection=False\n",
    ")\n",
    "\n",
    "df = df.loc[df.index.isin(df_labels.index)]\n",
    "df_labels = df_labels.loc[df_labels.index.isin(df.index)]\n",
    "\n",
    "# df = df[test_result.columns]"
   ]
  },
  {
   "cell_type": "code",
   "execution_count": 114,
   "metadata": {
    "collapsed": true
   },
   "outputs": [],
   "source": [
    "predicted = pd.Series(test_result.predicted)\n",
    "predicted.index = df.index\n",
    "df['predictions'] = predicted"
   ]
  },
  {
   "cell_type": "code",
   "execution_count": 115,
   "metadata": {},
   "outputs": [],
   "source": [
    "positive_df = df.loc[df_labels.label == test_result.label]\n",
    "positive_df_labels = df_labels.loc[df_labels.label == test_result.label]\n",
    "\n",
    "negative_df = df.loc[df_labels.label != test_result.label]\n",
    "negative_df_labels = df_labels.loc[df_labels.label != test_result.label]\n",
    "\n",
    "dfs = tflscripts.take_multiple_percentages_of_data(df=positive_df,\n",
    "                                                   df_labels=positive_df_labels,\n",
    "                                                   ratios=[0.7, 0.3])\n",
    "pos_df_train, pos_df_labels_train = dfs[0]\n",
    "pos_df_test, pos_df_labels_test = dfs[1]\n",
    "\n",
    "dfs = tflscripts.take_multiple_percentages_of_data(df=negative_df,\n",
    "                                                   df_labels=negative_df_labels,\n",
    "                                                   ratios=[0.7, 0.3])\n",
    "neg_df_train, neg_df_labels_train = dfs[0]\n",
    "neg_df_test, neg_df_labels_test = dfs[1]"
   ]
  },
  {
   "cell_type": "code",
   "execution_count": 149,
   "metadata": {},
   "outputs": [
    {
     "name": "stderr",
     "output_type": "stream",
     "text": [
      "/home/giotto/.local/lib/python3.5/site-packages/ipykernel_launcher.py:14: SettingWithCopyWarning: \n",
      "A value is trying to be set on a copy of a slice from a DataFrame\n",
      "\n",
      "See the caveats in the documentation: http://pandas.pydata.org/pandas-docs/stable/indexing.html#indexing-view-versus-copy\n",
      "  \n"
     ]
    }
   ],
   "source": [
    "df_train = pd.concat([pos_df_train, neg_df_train])\n",
    "df_test = pd.concat([pos_df_test, neg_df_test])\n",
    "\n",
    "df_labels_train = pd.concat([pos_df_labels_train, neg_df_labels_train])\n",
    "df_labels_test = pd.concat([pos_df_labels_test, neg_df_labels_test])\n",
    "\n",
    "y_train = df_train['predictions']\n",
    "predicted_y_test = df_test['predictions']\n",
    "x_train = df_train.filter(regex='^(?!predictions)')\n",
    "x_test = df_test.filter(regex='^(?!predictions)')\n",
    "# x_train = df_train\n",
    "# x_test = df_test \n",
    "y_test = df_labels_test.label\n",
    "y_test[y_test != test_result.label] = -1"
   ]
  },
  {
   "cell_type": "code",
   "execution_count": 150,
   "metadata": {},
   "outputs": [],
   "source": [
    "ppl = Pipeline([\n",
    "    ('impute', Imputer()),\n",
    "    ('clf', LogisticRegression())\n",
    "])\n",
    "\n",
    "ppl.fit(x_train, y_train)\n",
    "repredicted = ppl.predict(x_test)"
   ]
  },
  {
   "cell_type": "code",
   "execution_count": 137,
   "metadata": {
    "collapsed": true
   },
   "outputs": [],
   "source": [
    "def accuracy_positive(y, predicted):\n",
    "    y_positive = y[y == test_result.label]\n",
    "    predicted_positive = predicted[y == test_result.label]\n",
    "    return accuracy_score(y_positive, predicted_positive)\n",
    "\n",
    "def accuracy_negative(y, predicted):\n",
    "    y_negative = y[y != test_result.label]\n",
    "    predicted_negative = predicted[y != test_result.label]\n",
    "    return accuracy_score(y_negative, predicted_negative)"
   ]
  },
  {
   "cell_type": "code",
   "execution_count": 151,
   "metadata": {},
   "outputs": [
    {
     "data": {
      "text/plain": [
       "0.7168141592920354"
      ]
     },
     "execution_count": 151,
     "metadata": {},
     "output_type": "execute_result"
    }
   ],
   "source": [
    "accuracy_positive(y_test, repredicted)"
   ]
  },
  {
   "cell_type": "code",
   "execution_count": 152,
   "metadata": {
    "scrolled": true
   },
   "outputs": [
    {
     "data": {
      "text/plain": [
       "0.60176991150442483"
      ]
     },
     "execution_count": 152,
     "metadata": {},
     "output_type": "execute_result"
    }
   ],
   "source": [
    "accuracy_positive(y_test, predicted_y_test)"
   ]
  },
  {
   "cell_type": "code",
   "execution_count": 153,
   "metadata": {},
   "outputs": [
    {
     "data": {
      "text/plain": [
       "0.96992481203007519"
      ]
     },
     "execution_count": 153,
     "metadata": {},
     "output_type": "execute_result"
    }
   ],
   "source": [
    "accuracy_negative(y_test, repredicted)"
   ]
  },
  {
   "cell_type": "code",
   "execution_count": 154,
   "metadata": {},
   "outputs": [
    {
     "data": {
      "text/plain": [
       "0.99462943071965626"
      ]
     },
     "execution_count": 154,
     "metadata": {},
     "output_type": "execute_result"
    }
   ],
   "source": [
    "accuracy_negative(y_test, predicted_y_test)"
   ]
  },
  {
   "cell_type": "code",
   "execution_count": 142,
   "metadata": {},
   "outputs": [
    {
     "data": {
      "text/plain": [
       "source_dataset                        synergy-final-iter4\n",
       "target_dataset                        synergy-final-iter5\n",
       "source_device                              128.237.227.76\n",
       "target_device                              128.237.227.76\n",
       "source_device_name                            Mite 2 Sink\n",
       "target_device_name                          Mite 2 Coffee\n",
       "source_device_type                                   Mite\n",
       "target_device_type                                   Mite\n",
       "source_room                                       synergy\n",
       "target_room                                       synergy\n",
       "source_placement                                     Sink\n",
       "target_placement                                   Coffee\n",
       "type_of_transfer           Same device in different place\n",
       "classifier                                            SVM\n",
       "label                                              Dishes\n",
       "samples                                               588\n",
       "features              MICROPHONE|microphone|ACCEL_|accel_\n",
       "features_name                  Microphone & accelerometer\n",
       "accuracy                                         0.946567\n",
       "accuracy_positive                                0.579787\n",
       "accuracy_negative                                0.990982\n",
       "Name: 117251, dtype: object"
      ]
     },
     "execution_count": 142,
     "metadata": {},
     "output_type": "execute_result"
    }
   ],
   "source": [
    "transfer"
   ]
  }
 ],
 "metadata": {
  "kernelspec": {
   "display_name": "Python 3",
   "language": "python",
   "name": "python3"
  },
  "language_info": {
   "codemirror_mode": {
    "name": "ipython",
    "version": 3
   },
   "file_extension": ".py",
   "mimetype": "text/x-python",
   "name": "python",
   "nbconvert_exporter": "python",
   "pygments_lexer": "ipython3",
   "version": "3.5.2"
  }
 },
 "nbformat": 4,
 "nbformat_minor": 2
}
