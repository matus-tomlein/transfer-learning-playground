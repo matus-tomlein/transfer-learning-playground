{
 "cells": [
  {
   "cell_type": "code",
   "execution_count": 1,
   "metadata": {
    "collapsed": true
   },
   "outputs": [],
   "source": [
    "%matplotlib inline\n",
    "import matplotlib\n",
    "import matplotlib.pyplot as plt\n",
    "\n",
    "width = 12\n",
    "height = 7\n",
    "plt.rcParams[\"figure.figsize\"] = (width, height)\n",
    "\n",
    "\n",
    "from sqlalchemy import create_engine\n",
    "import pandas as pd\n",
    "import numpy as np\n",
    "import tflscripts\n",
    "import json\n",
    "from sklearn.pipeline import Pipeline\n",
    "from sklearn.preprocessing import Imputer\n",
    "from sklearn.metrics import accuracy_score\n",
    "from sklearn.ensemble import RandomForestClassifier\n",
    "from sklearn.feature_extraction import DictVectorizer\n",
    "from sklearn.model_selection import train_test_split\n",
    "from sklearn.svm import SVC\n",
    "from sklearn import tree\n",
    "from sklearn.model_selection import StratifiedKFold\n",
    "from sklearn.model_selection import cross_val_predict\n",
    "from sklearn.decomposition import TruncatedSVD\n",
    "import pickle\n",
    "\n",
    "configuration = tflscripts.read_configuration()\n",
    "df = pd.read_pickle('results_retrained_specificity.p')"
   ]
  },
  {
   "cell_type": "code",
   "execution_count": 2,
   "metadata": {
    "collapsed": true
   },
   "outputs": [],
   "source": [
    "def to_recall_bin(acc):\n",
    "    bins = [\n",
    "#         [0.0, 0.5],\n",
    "        [0.0, 0.7],\n",
    "        [0.7, 0.9],\n",
    "#         [0.85, 0.95],\n",
    "        [0.9, 1.0]\n",
    "    ]\n",
    "    return [i for i, b in enumerate(bins) if b[0] <= acc and b[1] >= acc][0]\n",
    "\n",
    "def to_transfer_one_key(row):\n",
    "    columns =  ['source_placement', 'target_placement', 'source_room', 'target_room', 'source_device', 'target_device']\n",
    "    return '_'.join(row[columns])\n",
    "\n",
    "df['transfer_one_key'] = [to_transfer_one_key(row) for i, row in df.iterrows()]\n",
    "df['recall_bin'] = [to_recall_bin(a) for a in df['recall']]"
   ]
  },
  {
   "cell_type": "code",
   "execution_count": 3,
   "metadata": {
    "collapsed": true
   },
   "outputs": [],
   "source": [
    "df['specificity_combined'] = df.specificity_for_retrained.combine_first(df.specificity_4)"
   ]
  },
  {
   "cell_type": "code",
   "execution_count": 4,
   "metadata": {},
   "outputs": [
    {
     "data": {
      "text/plain": [
       "18660"
      ]
     },
     "execution_count": 4,
     "metadata": {},
     "output_type": "execute_result"
    }
   ],
   "source": [
    "# df_to_transfer = df.loc[(df.first_predictions == 1) | (df.first_predictions == 0)]\n",
    "df_to_transfer = df.loc[(df.first_predictions == 1)]\n",
    "len(df_to_transfer)"
   ]
  },
  {
   "cell_type": "code",
   "execution_count": 5,
   "metadata": {},
   "outputs": [
    {
     "data": {
      "text/plain": [
       "array(['Same device type in different place',\n",
       "       'Different device in same place', 'Same device across spaces',\n",
       "       'Same device type across spaces', 'Same device in different place',\n",
       "       'Same device type in same place', 'No transfer',\n",
       "       'Same device in same place'], dtype=object)"
      ]
     },
     "execution_count": 5,
     "metadata": {},
     "output_type": "execute_result"
    }
   ],
   "source": [
    "df_to_transfer.type_of_transfer.unique()"
   ]
  },
  {
   "cell_type": "code",
   "execution_count": 6,
   "metadata": {},
   "outputs": [
    {
     "name": "stdout",
     "output_type": "stream",
     "text": [
      "Placement\n",
      "Accuracy 0.877777777778\n",
      "Accuracy 0.936507936508\n",
      "Accuracy 0.904761904762\n",
      "Accuracy 0.861111111111\n",
      "Accuracy 0.833333333333\n",
      "Accuracy 0.855555555556\n",
      "Accuracy 0.770833333333\n",
      "Accuracy 0.746913580247\n",
      "Accuracy 0.883333333333\n",
      "Accuracy 0.722222222222\n",
      "Accuracy 0.884259259259\n",
      "Accuracy 0.766666666667\n",
      "Accuracy 0.880758807588\n",
      "Accuracy 0.822822822823\n",
      "Accuracy 0.828798185941\n",
      "Accuracy 0.844202898551\n",
      "Accuracy 0.78216374269\n",
      "Accuracy 0.924242424242\n",
      "Room\n",
      "Accuracy 0.814814814815\n",
      "Accuracy 0.824133050248\n",
      "Accuracy 0.847222222222\n",
      "Replica\n",
      "Accuracy 0.711111111111\n",
      "Accuracy 0.930555555556\n",
      "Accuracy 0.75\n",
      "Accuracy 0.861111111111\n",
      "Accuracy 0.888888888889\n",
      "Accuracy 0.755555555556\n",
      "Accuracy 0.8125\n",
      "Accuracy 0.746031746032\n",
      "Accuracy 0.882716049383\n",
      "Accuracy 0.857142857143\n",
      "Accuracy 0.825396825397\n",
      "Sensor board\n",
      "Accuracy 1.0\n",
      "Accuracy 0.9\n",
      "Accuracy 0.583333333333\n",
      "Accuracy 1.0\n",
      "Accuracy 1.0\n",
      "Accuracy 1.0\n",
      "Accuracy 0.8\n",
      "Accuracy 1.0\n",
      "Accuracy 0.866666666667\n",
      "Accuracy 0.966666666667\n",
      "Accuracy 0.6\n",
      "Accuracy 0.977777777778\n",
      "Accuracy 0.92\n",
      "Accuracy 0.933333333333\n",
      "Accuracy 0.9\n",
      "Accuracy 1.0\n",
      "Accuracy 0.888888888889\n",
      "Accuracy 1.0\n",
      "Accuracy 0.833333333333\n",
      "Accuracy 0.844444444444\n",
      "Accuracy 1.0\n",
      "Accuracy 0.933333333333\n",
      "Accuracy 1.0\n",
      "Accuracy 1.0\n",
      "Accuracy 0.466666666667\n",
      "Accuracy 1.0\n",
      "Accuracy 0.866666666667\n",
      "Accuracy 0.966666666667\n",
      "Accuracy 0.944444444444\n",
      "Accuracy 0.926666666667\n",
      "Accuracy 1.0\n",
      "Accuracy 0.991666666667\n",
      "Accuracy 0.885714285714\n",
      "Accuracy 1.0\n",
      "Accuracy 0.96\n",
      "Accuracy 0.8\n",
      "Accuracy 0.733333333333\n",
      "Accuracy 0.917647058824\n",
      "Accuracy 0.961904761905\n",
      "Accuracy 0.933333333333\n",
      "Accuracy 0.854700854701\n",
      "Accuracy 0.933333333333\n",
      "Accuracy 0.833333333333\n",
      "Accuracy 1.0\n",
      "Accuracy 1.0\n",
      "Accuracy 0.986666666667\n"
     ]
    }
   ],
   "source": [
    "accuracies = {}\n",
    "\n",
    "# filtered = df.loc[df.accuracy_negative >= 0.95]\n",
    "filtered = df_to_transfer\n",
    "filtered = filtered.loc[filtered.type_of_transfer != 'No transfer']\n",
    "# filtered = filtered.loc[filtered.type_of_transfer != 'Across spaces']\n",
    "\n",
    "x_columns = [\n",
    "    'features',\n",
    "    'classifier',\n",
    "    'label',\n",
    "    'samples',\n",
    "    'type_of_transfer',\n",
    "    'source_device_type',\n",
    "    'target_device_type',\n",
    "    'f1_wt',\n",
    "    'specificity_combined',\n",
    "    'num_activities_for_specificity'\n",
    "]\n",
    "\n",
    "def to_x_and_y(filtered, columns=x_columns):\n",
    "\n",
    "    X = filtered[columns]\n",
    "\n",
    "    y = filtered['recall_bin']\n",
    "\n",
    "    X = [dict(r.iteritems()) for _, r in X.iterrows()]\n",
    "    y = y.values\n",
    "\n",
    "    return X, y\n",
    "\n",
    "def predict_for_sample(sample_train, sample_test):\n",
    "    X_train, y_train = to_x_and_y(sample_train)\n",
    "    X_test, y_test = to_x_and_y(sample_test)\n",
    "\n",
    "    ppl = Pipeline([\n",
    "        ('vect', DictVectorizer()),\n",
    "        ('impute', Imputer()),\n",
    "        ('clf', RandomForestClassifier())\n",
    "    ])\n",
    "\n",
    "    ppl.fit(X_train, y_train)\n",
    "    predicted = ppl.predict(X_test)\n",
    "    accuracy = accuracy_score(y_test, predicted)\n",
    "    print('Accuracy', accuracy)\n",
    "\n",
    "    predictions = pd.Series(predicted)\n",
    "    predictions.index = sample_test.index\n",
    "    return predictions\n",
    "\n",
    "# predicted = cross_val_predict(ppl, X, y,\n",
    "#                               cv=StratifiedKFold(n_splits=5, shuffle=True))\n",
    "\n",
    "# accuracy = accuracy_score(y, predicted)\n",
    "# print(accuracy)\n",
    "\n",
    "predictions = []\n",
    "\n",
    "print('Placement')\n",
    "placements = filtered.loc[(filtered.type_of_transfer == 'Same device in different place') | (filtered.type_of_transfer == 'Same device type in different place')]\n",
    "placements_transfer_keys = placements.transfer_key.unique()\n",
    "for transfer_key in placements_transfer_keys:\n",
    "    sample_test = filtered.loc[filtered.transfer_key == transfer_key]\n",
    "    sample_train = filtered.loc[~filtered.index.isin(sample_test.index)]\n",
    "\n",
    "    predictions.append(predict_for_sample(sample_train, sample_test))\n",
    "\n",
    "# sample_test = filtered.loc[(filtered.source_room == 'scott') & ((filtered.type_of_transfer == 'Same device in different place') | (filtered.type_of_transfer == 'Same device type in different place'))]\n",
    "# sample_train = filtered.loc[~filtered.index.isin(sample_test.index)]\n",
    "\n",
    "# predictions.append(predict_for_sample(sample_train, sample_test))\n",
    "\n",
    "# sample_test = filtered.loc[(filtered.source_room == 'robotics') & ((filtered.type_of_transfer == 'Same device in different place') | (filtered.type_of_transfer == 'Same device type in different place'))]\n",
    "# sample_train = filtered.loc[~filtered.index.isin(sample_test.index)]\n",
    "\n",
    "# predictions.append(predict_for_sample(sample_train, sample_test))\n",
    "\n",
    "print('Room')\n",
    "sample_test = filtered.loc[(filtered.target_room == 'synergy') & ((filtered.type_of_transfer == 'Same device type across spaces') | (filtered.type_of_transfer == 'Same device across spaces'))]\n",
    "sample_train = filtered.loc[~filtered.index.isin(sample_test.index)]\n",
    "\n",
    "predictions.append(predict_for_sample(sample_train, sample_test))\n",
    "\n",
    "sample_test = filtered.loc[(filtered.target_room == 'scott') & ((filtered.type_of_transfer == 'Same device type across spaces') | (filtered.type_of_transfer == 'Same device across spaces'))]\n",
    "sample_train = filtered.loc[~filtered.index.isin(sample_test.index)]\n",
    "\n",
    "predictions.append(predict_for_sample(sample_train, sample_test))\n",
    "\n",
    "sample_test = filtered.loc[(filtered.target_room == 'robotics') & ((filtered.type_of_transfer == 'Same device type across spaces') | (filtered.type_of_transfer == 'Same device across spaces'))]\n",
    "sample_train = filtered.loc[~filtered.index.isin(sample_test.index)]\n",
    "\n",
    "predictions.append(predict_for_sample(sample_train, sample_test))\n",
    "\n",
    "\n",
    "print('Replica')\n",
    "replicas = filtered.loc[(filtered.type_of_transfer == 'Same device in same place') | (filtered.type_of_transfer == 'Same device type in same place')]\n",
    "replicas_keys = replicas.transfer_one_key.unique()\n",
    "for transfer_key in replicas_keys:\n",
    "    sample_test = filtered.loc[filtered.transfer_one_key == transfer_key]\n",
    "    sample_train = filtered.loc[~filtered.index.isin(sample_test.index)]\n",
    "\n",
    "    predictions.append(predict_for_sample(sample_train, sample_test))\n",
    "\n",
    "# print('Replica Sink')\n",
    "# sample_test = filtered.loc[(filtered.source_placement == 'Sink') & ((filtered.type_of_transfer == 'Same device type in same place') | (filtered.type_of_transfer == 'Same device in same place'))]\n",
    "# sample_train = filtered.loc[~filtered.index.isin(sample_test.index)]\n",
    "\n",
    "# predictions.append(predict_for_sample(sample_train, sample_test))\n",
    "\n",
    "# print('Replica Table')\n",
    "# sample_test = filtered.loc[(filtered.source_placement == 'Table') & ((filtered.type_of_transfer == 'Same device type in same place') | (filtered.type_of_transfer == 'Same device in same place'))]\n",
    "# sample_train = filtered.loc[~filtered.index.isin(sample_test.index)]\n",
    "\n",
    "# predictions.append(predict_for_sample(sample_train, sample_test))\n",
    "\n",
    "# print('Replica Coffee')\n",
    "# sample_test = filtered.loc[(filtered.source_placement == 'Coffee') & ((filtered.type_of_transfer == 'Same device type in same place') | (filtered.type_of_transfer == 'Same device in same place'))]\n",
    "# sample_train = filtered.loc[~filtered.index.isin(sample_test.index)]\n",
    "\n",
    "# predictions.append(predict_for_sample(sample_train, sample_test))\n",
    "\n",
    "print('Sensor board')\n",
    "boards = filtered.loc[(filtered.type_of_transfer == 'Different device in same place')]\n",
    "boards_transfer_keys = boards.transfer_key.unique()\n",
    "for transfer_key in boards_transfer_keys:\n",
    "    sample_test = filtered.loc[filtered.transfer_key == transfer_key]\n",
    "    sample_train = filtered.loc[~filtered.index.isin(sample_test.index)]\n",
    "\n",
    "    predictions.append(predict_for_sample(sample_train, sample_test))\n",
    "\n",
    "df['predictions'] = pd.concat(predictions)"
   ]
  },
  {
   "cell_type": "code",
   "execution_count": 84,
   "metadata": {},
   "outputs": [
    {
     "data": {
      "text/plain": [
       "Pipeline(steps=[('vect', DictVectorizer(dtype=<class 'numpy.float64'>, separator='=', sort=True,\n",
       "        sparse=True)), ('impute', Imputer(axis=0, copy=True, missing_values='NaN', strategy='mean', verbose=0)), ('clf', RandomForestClassifier(bootstrap=True, class_weight=None, criterion='gini',\n",
       "            max...imators=10, n_jobs=1, oob_score=False, random_state=None,\n",
       "            verbose=0, warm_start=False))])"
      ]
     },
     "execution_count": 84,
     "metadata": {},
     "output_type": "execute_result"
    }
   ],
   "source": [
    "ppl.fit(X, y)"
   ]
  },
  {
   "cell_type": "code",
   "execution_count": 11,
   "metadata": {},
   "outputs": [
    {
     "data": {
      "text/html": [
       "<div>\n",
       "<style>\n",
       "    .dataframe thead tr:only-child th {\n",
       "        text-align: right;\n",
       "    }\n",
       "\n",
       "    .dataframe thead th {\n",
       "        text-align: left;\n",
       "    }\n",
       "\n",
       "    .dataframe tbody tr th {\n",
       "        vertical-align: top;\n",
       "    }\n",
       "</style>\n",
       "<table border=\"1\" class=\"dataframe\">\n",
       "  <thead>\n",
       "    <tr>\n",
       "      <th></th>\n",
       "      <th colspan=\"4\" halign=\"left\">count</th>\n",
       "    </tr>\n",
       "    <tr>\n",
       "      <th>predictions</th>\n",
       "      <th>0.0</th>\n",
       "      <th>1.0</th>\n",
       "      <th>2.0</th>\n",
       "      <th>3.0</th>\n",
       "    </tr>\n",
       "    <tr>\n",
       "      <th>recall_bin</th>\n",
       "      <th></th>\n",
       "      <th></th>\n",
       "      <th></th>\n",
       "      <th></th>\n",
       "    </tr>\n",
       "  </thead>\n",
       "  <tbody>\n",
       "    <tr>\n",
       "      <th>0</th>\n",
       "      <td>12021</td>\n",
       "      <td>453</td>\n",
       "      <td>73</td>\n",
       "      <td>305</td>\n",
       "    </tr>\n",
       "    <tr>\n",
       "      <th>1</th>\n",
       "      <td>1396</td>\n",
       "      <td>423</td>\n",
       "      <td>92</td>\n",
       "      <td>249</td>\n",
       "    </tr>\n",
       "    <tr>\n",
       "      <th>2</th>\n",
       "      <td>354</td>\n",
       "      <td>141</td>\n",
       "      <td>43</td>\n",
       "      <td>219</td>\n",
       "    </tr>\n",
       "    <tr>\n",
       "      <th>3</th>\n",
       "      <td>699</td>\n",
       "      <td>223</td>\n",
       "      <td>107</td>\n",
       "      <td>1610</td>\n",
       "    </tr>\n",
       "  </tbody>\n",
       "</table>\n",
       "</div>"
      ],
      "text/plain": [
       "             count                \n",
       "predictions    0.0  1.0  2.0   3.0\n",
       "recall_bin                        \n",
       "0            12021  453   73   305\n",
       "1             1396  423   92   249\n",
       "2              354  141   43   219\n",
       "3              699  223  107  1610"
      ]
     },
     "execution_count": 11,
     "metadata": {},
     "output_type": "execute_result"
    }
   ],
   "source": [
    "# predictions = pd.Series(predicted)\n",
    "# predictions.index = filtered.index\n",
    "# df['predictions'] = predictions\n",
    "\n",
    "df_tested = df.loc[df.predictions >= 0]\n",
    "counts = df_tested[['recall_bin', 'predictions']].groupby(['recall_bin', 'predictions']).size()\n",
    "counts = pd.DataFrame(counts)\n",
    "counts.columns = ['count']\n",
    "counts.pivot_table(index=['recall_bin'], columns=['predictions'], values=['count'])"
   ]
  },
  {
   "cell_type": "code",
   "execution_count": 7,
   "metadata": {
    "collapsed": true
   },
   "outputs": [],
   "source": [
    "df.to_pickle('results_with_accuracy_classified_sr_non_random-f1.p')"
   ]
  },
  {
   "cell_type": "code",
   "execution_count": 10,
   "metadata": {},
   "outputs": [
    {
     "ename": "ValueError",
     "evalue": "Cannot take a larger sample than population when 'replace=False'",
     "output_type": "error",
     "traceback": [
      "\u001b[0;31m---------------------------------------------------------------------------\u001b[0m",
      "\u001b[0;31mValueError\u001b[0m                                Traceback (most recent call last)",
      "\u001b[0;32m<ipython-input-10-b989ef9d8259>\u001b[0m in \u001b[0;36m<module>\u001b[0;34m()\u001b[0m\n\u001b[1;32m     15\u001b[0m \u001b[0;34m\u001b[0m\u001b[0m\n\u001b[1;32m     16\u001b[0m \u001b[0mfiltered_y_s\u001b[0m \u001b[0;34m=\u001b[0m \u001b[0mpd\u001b[0m\u001b[0;34m.\u001b[0m\u001b[0mSeries\u001b[0m\u001b[0;34m(\u001b[0m\u001b[0mfiltered_y\u001b[0m\u001b[0;34m,\u001b[0m \u001b[0mindex\u001b[0m\u001b[0;34m=\u001b[0m\u001b[0mfiltered_x\u001b[0m\u001b[0;34m.\u001b[0m\u001b[0mindex\u001b[0m\u001b[0;34m)\u001b[0m\u001b[0;34m\u001b[0m\u001b[0m\n\u001b[0;32m---> 17\u001b[0;31m \u001b[0mfiltered_x_s\u001b[0m \u001b[0;34m=\u001b[0m \u001b[0mfiltered_x\u001b[0m\u001b[0;34m.\u001b[0m\u001b[0msample\u001b[0m\u001b[0;34m(\u001b[0m\u001b[0;36m10000\u001b[0m\u001b[0;34m)\u001b[0m\u001b[0;34m\u001b[0m\u001b[0m\n\u001b[0m\u001b[1;32m     18\u001b[0m \u001b[0mfiltered_y_s\u001b[0m \u001b[0;34m=\u001b[0m \u001b[0mfiltered_y_s\u001b[0m\u001b[0;34m[\u001b[0m\u001b[0mfiltered_x_s\u001b[0m\u001b[0;34m.\u001b[0m\u001b[0mindex\u001b[0m\u001b[0;34m]\u001b[0m\u001b[0;34m\u001b[0m\u001b[0m\n",
      "\u001b[0;32m/home/giotto/.local/lib/python3.5/site-packages/pandas/core/generic.py\u001b[0m in \u001b[0;36msample\u001b[0;34m(self, n, frac, replace, weights, random_state, axis)\u001b[0m\n\u001b[1;32m   2787\u001b[0m                              \"provide positive value.\")\n\u001b[1;32m   2788\u001b[0m \u001b[0;34m\u001b[0m\u001b[0m\n\u001b[0;32m-> 2789\u001b[0;31m         \u001b[0mlocs\u001b[0m \u001b[0;34m=\u001b[0m \u001b[0mrs\u001b[0m\u001b[0;34m.\u001b[0m\u001b[0mchoice\u001b[0m\u001b[0;34m(\u001b[0m\u001b[0maxis_length\u001b[0m\u001b[0;34m,\u001b[0m \u001b[0msize\u001b[0m\u001b[0;34m=\u001b[0m\u001b[0mn\u001b[0m\u001b[0;34m,\u001b[0m \u001b[0mreplace\u001b[0m\u001b[0;34m=\u001b[0m\u001b[0mreplace\u001b[0m\u001b[0;34m,\u001b[0m \u001b[0mp\u001b[0m\u001b[0;34m=\u001b[0m\u001b[0mweights\u001b[0m\u001b[0;34m)\u001b[0m\u001b[0;34m\u001b[0m\u001b[0m\n\u001b[0m\u001b[1;32m   2790\u001b[0m         \u001b[0;32mreturn\u001b[0m \u001b[0mself\u001b[0m\u001b[0;34m.\u001b[0m\u001b[0mtake\u001b[0m\u001b[0;34m(\u001b[0m\u001b[0mlocs\u001b[0m\u001b[0;34m,\u001b[0m \u001b[0maxis\u001b[0m\u001b[0;34m=\u001b[0m\u001b[0maxis\u001b[0m\u001b[0;34m,\u001b[0m \u001b[0mis_copy\u001b[0m\u001b[0;34m=\u001b[0m\u001b[0;32mFalse\u001b[0m\u001b[0;34m)\u001b[0m\u001b[0;34m\u001b[0m\u001b[0m\n\u001b[1;32m   2791\u001b[0m \u001b[0;34m\u001b[0m\u001b[0m\n",
      "\u001b[0;32mmtrand.pyx\u001b[0m in \u001b[0;36mmtrand.RandomState.choice (numpy/random/mtrand/mtrand.c:18113)\u001b[0;34m()\u001b[0m\n",
      "\u001b[0;31mValueError\u001b[0m: Cannot take a larger sample than population when 'replace=False'"
     ]
    }
   ],
   "source": [
    "filtered_x, filtered_y = to_x_and_y(filtered, columns=[\n",
    "    'features',\n",
    "    'classifier',\n",
    "    'label',\n",
    "    'samples',\n",
    "    'type_of_transfer',\n",
    "    'source_device_type',\n",
    "    'target_device_type',\n",
    "    'f1_wt',\n",
    "    'specificity'\n",
    "])\n",
    "\n",
    "filtered_x = DictVectorizer().fit_transform(filtered_x)\n",
    "filtered_x = pd.DataFrame(filtered_x.toarray())\n",
    "\n",
    "filtered_y_s = pd.Series(filtered_y, index=filtered_x.index)\n",
    "filtered_x_s = filtered_x.sample(10000)\n",
    "filtered_y_s = filtered_y_s[filtered_x_s.index]"
   ]
  },
  {
   "cell_type": "code",
   "execution_count": null,
   "metadata": {
    "collapsed": true
   },
   "outputs": [],
   "source": [
    "plt.rcParams[\"figure.figsize\"] = (10, 5)\n",
    "\n",
    "rf = ppl.named_steps['clf']\n",
    "importances = pd.Series(rf.feature_importances_)\n",
    "importances.index = ppl.named_steps['vect'].feature_names_\n",
    "importances = importances.sort_values(ascending=False)\n",
    "importances.plot.bar()"
   ]
  },
  {
   "cell_type": "code",
   "execution_count": 30,
   "metadata": {
    "collapsed": true
   },
   "outputs": [],
   "source": [
    "categories = {\n",
    "    'f1_wt': [],\n",
    "    'specificity': [],\n",
    "    'samples': [],\n",
    "    'features': [],\n",
    "    'type_of_transfer': [],\n",
    "    'device_type': [],\n",
    "    'label': [],\n",
    "    'classifier': []\n",
    "}\n",
    "\n",
    "for category in categories:\n",
    "    for i in importances.index:\n",
    "        if category in i:\n",
    "            categories[category] += [importances[i]]\n",
    "            \n",
    "df_importances = pd.DataFrame()\n",
    "\n",
    "for category in categories:\n",
    "    df_importances = pd.concat([pd.DataFrame({category: pd.Series(categories[category])}), df_importances], axis=1)\n",
    "\n",
    "df_importances = df_importances.rename(index=str, columns={\n",
    "    'f1_wt': 'F1 score before transfer',\n",
    "    'specificity': 'Specificity of target samples',\n",
    "    'samples': 'Number of training samples',\n",
    "    'features': 'Sensor channels used',\n",
    "    'type_of_transfer': 'Type of transfer',\n",
    "    'device_type': 'Types of sensor boards',\n",
    "    'label': 'Activity',\n",
    "    'classifier': 'Classifier'\n",
    "})"
   ]
  },
  {
   "cell_type": "code",
   "execution_count": 34,
   "metadata": {},
   "outputs": [
    {
     "data": {
      "image/png": "[encoded data removed]",
      "text/plain": [
       "<matplotlib.figure.Figure at 0x7fb2af15ee10>"
      ]
     },
     "metadata": {},
     "output_type": "display_data"
    }
   ],
   "source": [
    "plt.rcParams[\"figure.figsize\"] = (6, 3)\n",
    "df_importances.sum().sort_values().plot.barh()\n",
    "plt.tight_layout()\n",
    "\n",
    "plt.savefig('../plots/metaclassifier_importances.pdf')\n",
    "plt.show()"
   ]
  },
  {
   "cell_type": "code",
   "execution_count": null,
   "metadata": {
    "collapsed": true
   },
   "outputs": [],
   "source": []
  },
  {
   "cell_type": "code",
   "execution_count": null,
   "metadata": {
    "collapsed": true
   },
   "outputs": [],
   "source": []
  }
 ],
 "metadata": {
  "kernelspec": {
   "display_name": "Python 3",
   "language": "python",
   "name": "python3"
  },
  "language_info": {
   "codemirror_mode": {
    "name": "ipython",
    "version": 3
   },
   "file_extension": ".py",
   "mimetype": "text/x-python",
   "name": "python",
   "nbconvert_exporter": "python",
   "pygments_lexer": "ipython3",
   "version": "3.5.2"
  }
 },
 "nbformat": 4,
 "nbformat_minor": 2
}
