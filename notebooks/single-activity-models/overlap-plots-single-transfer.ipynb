{
 "cells": [
  {
   "cell_type": "code",
   "execution_count": 12,
   "metadata": {},
   "outputs": [],
   "source": [
    "%matplotlib inline\n",
    "import matplotlib\n",
    "import matplotlib.pyplot as plt\n",
    "\n",
    "width = 12\n",
    "height = 7\n",
    "plt.rcParams[\"figure.figsize\"] = (width, height)\n",
    "\n",
    "\n",
    "from sqlalchemy import create_engine\n",
    "import pandas as pd\n",
    "import numpy as np\n",
    "import tflscripts\n",
    "import json\n",
    "from sklearn.metrics import accuracy_score\n",
    "from sklearn.pipeline import Pipeline\n",
    "from sklearn.preprocessing import Imputer\n",
    "from sklearn.linear_model import LogisticRegression\n",
    "from sklearn.multiclass import OneVsRestClassifier\n",
    "from sklearn.ensemble import RandomForestClassifier\n",
    "from sklearn import svm\n",
    "from statistics import mode\n",
    "from tsfresh import select_features\n",
    "from sklearn.decomposition import PCA\n",
    "from sklearn.feature_selection import VarianceThreshold"
   ]
  },
  {
   "cell_type": "code",
   "execution_count": 3,
   "metadata": {
    "collapsed": true
   },
   "outputs": [],
   "source": [
    "activities = [\n",
    "    \"Dishes\",\n",
    "    \"Microwave\",\n",
    "    \"Coffee\",\n",
    "    \"Null\",\n",
    "    \"Kettle\",\n",
    "    \"Chopping food\",\n",
    "    \"Conversation\",\n",
    "    \"Eating popcorn\",\n",
    "    \"Knocking\",\n",
    "    \"Phone vibrating\"\n",
    "]\n",
    "\n",
    "configuration = tflscripts.read_configuration()\n",
    "activities_i = [configuration['activities'].index(a) for a in activities]\n",
    "\n",
    "tflscripts.set_dataset_folder('/home/giotto/transfer-learning-playground/datasets/')\n",
    "\n",
    "use_features = \"^(?!mag|light)\""
   ]
  },
  {
   "cell_type": "code",
   "execution_count": 8,
   "metadata": {},
   "outputs": [
    {
     "name": "stdout",
     "output_type": "stream",
     "text": [
      "Null 0.987027027027\n",
      "Microwave 0.996756756757\n",
      "Kettle 0.971891891892\n",
      "Chopping food 0.961081081081\n",
      "Coffee 0.907027027027\n",
      "Dishes 1.0\n",
      "Conversation 0.995675675676\n",
      "Eating popcorn 0.967567567568\n",
      "Phone vibrating 0.96972972973\n",
      "Knocking 0.998918918919\n"
     ]
    }
   ],
   "source": [
    "dataset = 'synergy-final-iter1-1s'\n",
    "device = '128.237.254.195'\n",
    "\n",
    "df, df_labels = tflscripts.read_and_filter_dataset(\n",
    "        dataset,\n",
    "        device,\n",
    "        use_features='.*',\n",
    "        use_activities=activities_i,\n",
    "        scale=True,\n",
    "        with_feature_selection=False)\n",
    "\n",
    "for label in df_labels.label.unique():\n",
    "    df_labels_modified = df_labels.copy()\n",
    "    df_labels_modified.loc[df_labels.label != label, 'label'] = -1\n",
    "\n",
    "    dfs = tflscripts.take_multiple_percentages_of_data(\n",
    "            df, df_labels_modified,\n",
    "            [0.7, 0.3])\n",
    "\n",
    "    X_train, y_train = dfs[0]\n",
    "    X_test, y_test = dfs[1]\n",
    "\n",
    "    y_train = y_train['label']\n",
    "    y_test = y_test['label']\n",
    "\n",
    "    ppl = Pipeline([\n",
    "        ('impute', Imputer()),\n",
    "        ('clf', svm.SVC(kernel='linear', decision_function_shape='ovr', probability=True))\n",
    "    ])\n",
    "\n",
    "    ppl.fit(X_train, y_train)\n",
    "\n",
    "    predicted = ppl.predict(X_test)\n",
    "    proba = pd.DataFrame(ppl.predict_proba(X_test))\n",
    "    proba.columns = [-1, label]\n",
    "    [1]\n",
    "    plt.show()\n",
    "\n",
    "    accuracy = accuracy_score(y_test, predicted)\n",
    "    print(configuration['activities'][label], accuracy)"
   ]
  },
  {
   "cell_type": "code",
   "execution_count": 13,
   "metadata": {
    "scrolled": false
   },
   "outputs": [
    {
     "name": "stdout",
     "output_type": "stream",
     "text": [
      "Null 0.853782013103\n",
      "Microwave 0.984216795712\n",
      "Kettle 0.820131030375\n",
      "Chopping food 0.945205479452\n",
      "Coffee 0.750744490768\n",
      "Dishes 0.997022036927\n",
      "Conversation 0.876116736152\n",
      "Eating popcorn 0.82400238237\n",
      "Phone vibrating 0.847528290649\n",
      "Knocking 0.999702203693\n"
     ]
    }
   ],
   "source": [
    "source_dataset = 'synergy-final-iter1'\n",
    "source_device = '128.237.254.195'\n",
    "target_dataset = 'synergy-final-iter2'\n",
    "target_device = '128.237.248.186'\n",
    "\n",
    "df_source, df_source_labels = tflscripts.read_and_filter_dataset(\n",
    "        source_dataset + '-1s',\n",
    "        source_device,\n",
    "        use_features='.*',\n",
    "        use_activities=activities_i,\n",
    "        scale=True,\n",
    "        with_feature_selection=False)\n",
    "\n",
    "df_target, df_target_labels = tflscripts.read_and_filter_dataset(\n",
    "        target_dataset + '-1s',\n",
    "        target_device,\n",
    "        use_features='.*',\n",
    "        use_activities=activities_i,\n",
    "        scale=True,\n",
    "        with_feature_selection=False)\n",
    "\n",
    "df_source = df_source.loc[df_source.index.isin(df_source_labels.index)]\n",
    "df_target = df_target.loc[df_target.index.isin(df_target_labels.index)]\n",
    "\n",
    "df_source_labels = df_source_labels.loc[df_source_labels.index.isin(df_source.index)]\n",
    "df_target_labels = df_target_labels.loc[df_target_labels.index.isin(df_target.index)]\n",
    "\n",
    "for label in df_source_labels.label.unique():\n",
    "    df_source_labels_modified = df_source_labels.copy()\n",
    "    df_source_labels_modified.loc[df_source_labels_modified.label != label, 'label'] = -1\n",
    "\n",
    "    df_target_labels_modified = df_target_labels.copy()\n",
    "    df_target_labels_modified.loc[df_target_labels_modified.label != label, 'label'] = -1\n",
    "\n",
    "    y_train = df_source_labels_modified['label']\n",
    "    y_test = df_target_labels_modified['label']\n",
    "\n",
    "#     print('Starting feature selection')\n",
    "#     X_train = select_features(df_source, y_train)\n",
    "#     X_test = df_target[X_train.columns]\n",
    "#     print('Finished feature selection')\n",
    "\n",
    "    ppl = Pipeline([\n",
    "        ('impute', Imputer()),\n",
    "        ('clf', svm.SVC(kernel='linear', decision_function_shape='ovr'))\n",
    "    ])\n",
    "\n",
    "    ppl.fit(df_source, y_train)\n",
    "\n",
    "    predicted = ppl.predict(df_target)\n",
    "    smoothed = tflscripts.smooth_predictions(predicted, label)\n",
    "#     proba = pd.DataFrame({'predicted': predicted, 'smoothed': smoothed, 'actual': y_test.values})\n",
    "#     proba.plot()\n",
    "#     plt.show()\n",
    "\n",
    "    accuracy = accuracy_score(y_test, smoothed)\n",
    "    print(configuration['activities'][label], accuracy)"
   ]
  },
  {
   "cell_type": "code",
   "execution_count": 30,
   "metadata": {},
   "outputs": [
    {
     "data": {
      "text/plain": [
       "0.99870466321243523"
      ]
     },
     "execution_count": 30,
     "metadata": {},
     "output_type": "execute_result"
    }
   ],
   "source": [
    "from sklearn.model_selection import train_test_split\n",
    "\n",
    "X_train, X_test, y_train_s, y_test_s = train_test_split(df_source, y_train)\n",
    "\n",
    "ppl = Pipeline([\n",
    "    ('impute', Imputer()),\n",
    "    ('clf', svm.SVC(kernel='linear', decision_function_shape='ovr'))\n",
    "])\n",
    "\n",
    "ppl.fit(X_train, y_train_s)\n",
    "\n",
    "predicted = ppl.predict(X_test)\n",
    "accuracy_score(y_test_s, predicted)"
   ]
  },
  {
   "cell_type": "code",
   "execution_count": 31,
   "metadata": {},
   "outputs": [
    {
     "data": {
      "text/plain": [
       "4511    18\n",
       "4516    18\n",
       "4512    18\n",
       "4509    18\n",
       "4514    18\n",
       "4513    18\n",
       "4510    18\n",
       "Name: label, dtype: int64"
      ]
     },
     "execution_count": 31,
     "metadata": {},
     "output_type": "execute_result"
    }
   ],
   "source": [
    "y_train_s[y_train_s != -1]"
   ]
  }
 ],
 "metadata": {
  "kernelspec": {
   "display_name": "Python 3",
   "language": "python",
   "name": "python3"
  },
  "language_info": {
   "codemirror_mode": {
    "name": "ipython",
    "version": 3
   },
   "file_extension": ".py",
   "mimetype": "text/x-python",
   "name": "python",
   "nbconvert_exporter": "python",
   "pygments_lexer": "ipython3",
   "version": "3.5.2"
  }
 },
 "nbformat": 4,
 "nbformat_minor": 2
}
