{
 "cells": [
  {
   "cell_type": "code",
   "execution_count": 94,
   "metadata": {
    "collapsed": true
   },
   "outputs": [],
   "source": [
    "%matplotlib inline\n",
    "import matplotlib\n",
    "import matplotlib.pyplot as plt\n",
    "\n",
    "width = 12\n",
    "height = 7\n",
    "plt.rcParams[\"figure.figsize\"] = (width, height)\n",
    "\n",
    "import pandas as pd\n",
    "import numpy as np\n",
    "import tflscripts\n",
    "import json\n",
    "import pickle\n",
    "from tflscripts import boxplot_by, scatter_plot_by, heatmap_by\n",
    "import matplotlib.patches as mpatches\n",
    "\n",
    "configuration = tflscripts.read_configuration()\n",
    "df = pd.read_pickle('results.p')"
   ]
  },
  {
   "cell_type": "code",
   "execution_count": 95,
   "metadata": {
    "collapsed": true
   },
   "outputs": [],
   "source": [
    "df = df.loc[df.classifier == 'SVM']"
   ]
  },
  {
   "cell_type": "code",
   "execution_count": 96,
   "metadata": {
    "collapsed": true
   },
   "outputs": [],
   "source": [
    "df['type_of_transfer'] = df.type_of_transfer.map({\n",
    "    'Same device type in same place': 'Replaced device',\n",
    "    'Same device type in different place': 'Different placement',\n",
    "    'Same device in different place': 'Different placement',\n",
    "    'Same device type across spaces': 'Different room',\n",
    "    'Same device across spaces': 'Different room',\n",
    "    'Different device in same place': 'Different sensor board',\n",
    "    'Same device in same place': '__remove__',\n",
    "    'Different device in different place': '__remove__',\n",
    "    'Different device across spaces': '__remove__',\n",
    "    'No transfer': 'No transfer'\n",
    "})\n",
    "\n",
    "df = df.loc[df.type_of_transfer != '__remove__']"
   ]
  },
  {
   "cell_type": "code",
   "execution_count": 97,
   "metadata": {},
   "outputs": [],
   "source": [
    "def to_key(row):\n",
    "    return '_'.join(row[[\n",
    "        'source_dataset', 'target_dataset', 'source_device', 'target_device', 'label'\n",
    "    ]])\n",
    "\n",
    "df['key'] = [to_key(row) for i, row in df.iterrows()]"
   ]
  },
  {
   "cell_type": "code",
   "execution_count": 98,
   "metadata": {
    "collapsed": true
   },
   "outputs": [],
   "source": [
    "df_all = df\n",
    "# df = df.loc[df.f1 >= 0.25]"
   ]
  },
  {
   "cell_type": "code",
   "execution_count": 99,
   "metadata": {},
   "outputs": [
    {
     "name": "stderr",
     "output_type": "stream",
     "text": [
      "/home/giotto/.local/lib/python3.5/site-packages/ipykernel_launcher.py:11: SettingWithCopyWarning: \n",
      "A value is trying to be set on a copy of a slice from a DataFrame.\n",
      "Try using .loc[row_indexer,col_indexer] = value instead\n",
      "\n",
      "See the caveats in the documentation: http://pandas.pydata.org/pandas-docs/stable/indexing.html#indexing-view-versus-copy\n",
      "  # This is added back by InteractiveShellApp.init_path()\n"
     ]
    }
   ],
   "source": [
    "df_all_features = df.loc[df.features_name == 'All']\n",
    "df_not_all_features = df.loc[df.features_name != 'All']\n",
    "\n",
    "def f1_all(key):\n",
    "    rows = df_all_features.loc[df_all_features['key'] == key]\n",
    "    if len(rows):\n",
    "        return rows['f1'].iloc[0]\n",
    "    return 0\n",
    "\n",
    "# df_not_all_features = df_not_all_features.loc[df_not_all_features.f1 >= 0.25]\n",
    "df_not_all_features['f1_all'] = [f1_all(row['key']) for i, row in df_not_all_features.iterrows()]"
   ]
  },
  {
   "cell_type": "code",
   "execution_count": 100,
   "metadata": {
    "collapsed": true
   },
   "outputs": [],
   "source": [
    "df_not_all_features = df_not_all_features.loc[df_not_all_features.f1 - df_not_all_features.f1_all > 0.1]"
   ]
  },
  {
   "cell_type": "code",
   "execution_count": 101,
   "metadata": {},
   "outputs": [
    {
     "data": {
      "text/plain": [
       "Microphone                      1101\n",
       "Microphone & accelerometer      1044\n",
       "Accelerometer & magnetometer     638\n",
       "Environmental                    429\n",
       "EMI & motion                     161\n",
       "Name: features_name, dtype: int64"
      ]
     },
     "execution_count": 101,
     "metadata": {},
     "output_type": "execute_result"
    }
   ],
   "source": [
    "df_not_all_features.features_name.value_counts()"
   ]
  },
  {
   "cell_type": "code",
   "execution_count": 111,
   "metadata": {},
   "outputs": [
    {
     "data": {
      "text/plain": [
       "<matplotlib.text.Text at 0x7fb2be7644e0>"
      ]
     },
     "execution_count": 111,
     "metadata": {},
     "output_type": "execute_result"
    },
    {
     "data": {
      "image/png": "[encoded data removed]",
      "text/plain": [
       "<matplotlib.figure.Figure at 0x7fb2be803940>"
      ]
     },
     "metadata": {},
     "output_type": "display_data"
    }
   ],
   "source": [
    "plt.rcParams[\"figure.figsize\"] = (5, 4)\n",
    "\n",
    "import seaborn\n",
    "\n",
    "_df = df_not_all_features.groupby(['features_name', 'type_of_transfer']).size()\n",
    "_df = _df / df.groupby(['features_name', 'type_of_transfer']).size()\n",
    "_df = _df.reset_index()\n",
    "_df = _df.pivot_table(index='features_name', columns='type_of_transfer', values=0)\n",
    "_df = _df.loc[_df.index != 'All']\n",
    "_df = _df.fillna(0)\n",
    "_df *= 100\n",
    "seaborn.heatmap(_df, annot=True, cbar=None)\n",
    "plt.xlabel('Type of transfer')\n",
    "plt.ylabel('Sensor channels used')"
   ]
  },
  {
   "cell_type": "code",
   "execution_count": null,
   "metadata": {
    "collapsed": true
   },
   "outputs": [],
   "source": []
  }
 ],
 "metadata": {
  "kernelspec": {
   "display_name": "Python 3",
   "language": "python",
   "name": "python3"
  },
  "language_info": {
   "codemirror_mode": {
    "name": "ipython",
    "version": 3
   },
   "file_extension": ".py",
   "mimetype": "text/x-python",
   "name": "python",
   "nbconvert_exporter": "python",
   "pygments_lexer": "ipython3",
   "version": "3.5.2"
  }
 },
 "nbformat": 4,
 "nbformat_minor": 2
}
