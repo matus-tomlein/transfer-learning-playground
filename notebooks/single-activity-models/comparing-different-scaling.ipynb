{
 "cells": [
  {
   "cell_type": "code",
   "execution_count": 17,
   "metadata": {
    "collapsed": true
   },
   "outputs": [],
   "source": [
    "import tflscripts\n",
    "from sklearn.pipeline import Pipeline\n",
    "from sklearn.preprocessing import Imputer\n",
    "from sklearn.linear_model import LogisticRegression\n",
    "from sklearn.preprocessing import StandardScaler\n",
    "from sklearn.metrics import accuracy_score\n",
    "\n",
    "tflscripts.set_dataset_folder('../../datasets/')\n",
    "\n",
    "configuration = tflscripts.read_configuration()\n",
    "\n",
    "activities = configuration['analysed_activities']\n",
    "activities_i = [configuration['activities'].index(a) for a in activities]"
   ]
  },
  {
   "cell_type": "code",
   "execution_count": 14,
   "metadata": {
    "collapsed": true
   },
   "outputs": [],
   "source": [
    "def read_dataset(device, dataset, scale=True):\n",
    "    df, df_labels = tflscripts.read_and_filter_dataset(\n",
    "            dataset + '-1s',\n",
    "            device,\n",
    "            use_features='.*',\n",
    "            use_activities=activities_i,\n",
    "            check_all_activities=False,\n",
    "            scale=scale,\n",
    "            with_feature_selection=False)\n",
    "\n",
    "    df = df.loc[df.index.isin(df_labels.index)]\n",
    "    df_labels = df_labels.loc[df_labels.index.isin(df.index)]\n",
    "\n",
    "    return df, df_labels\n",
    "\n",
    "def test(source_dataset, source_device, target_dataset, target_device, label, features, scale_independently):\n",
    "\n",
    "    df_source, df_source_labels = read_dataset(dataset=source_dataset,\n",
    "                                               device=source_device,\n",
    "                                               scale=scale_independently)\n",
    "    df_target, df_target_labels = read_dataset(dataset=target_dataset,\n",
    "                                               device=target_device,\n",
    "                                               scale=scale_independently)\n",
    "\n",
    "    c1 = df_source.filter(regex=features).columns.tolist()\n",
    "    c2 = df_target.filter(regex=features).columns.tolist()\n",
    "    columns = [i for i in c1 if i in c2]\n",
    "\n",
    "    x_train = df_source[columns]\n",
    "    y_train = tflscripts.get_y_for_label(df_source_labels, label)\n",
    "\n",
    "    if scale_independently:\n",
    "        ppl = Pipeline([\n",
    "            ('impute', Imputer()),\n",
    "            ('clf', LogisticRegression())\n",
    "        ])\n",
    "    else:\n",
    "        ppl = Pipeline([\n",
    "            ('impute', Imputer()),\n",
    "            ('scale', StandardScaler()),\n",
    "            ('clf', LogisticRegression())\n",
    "        ])\n",
    "\n",
    "    ppl.fit(x_train, y_train)\n",
    "\n",
    "    x_test = df_target[x_train.columns]\n",
    "    y_test = tflscripts.get_y_for_label(df_target_labels, label)\n",
    "\n",
    "    predicted = ppl.predict(x_test)\n",
    "\n",
    "    mask_negative = y_test == -1\n",
    "    accuracy_negative = accuracy_score(y_test[mask_negative], predicted[mask_negative])\n",
    "    \n",
    "    mask_positive = y_test != -1\n",
    "    accuracy_positive = accuracy_score(y_test[mask_positive], predicted[mask_positive])\n",
    "    \n",
    "    accuracy = accuracy_score(y_test, predicted)\n",
    "    \n",
    "    print('Accuracy', accuracy)\n",
    "    print('Accuracy positive', accuracy_positive)\n",
    "    print('Accuracy negative', accuracy_negative)"
   ]
  },
  {
   "cell_type": "code",
   "execution_count": 18,
   "metadata": {},
   "outputs": [
    {
     "name": "stdout",
     "output_type": "stream",
     "text": [
      "Accuracy 0.937942523948\n",
      "Accuracy positive 0.901298701299\n",
      "Accuracy negative 0.94494047619\n"
     ]
    }
   ],
   "source": [
    "source_dataset = 'synergy-final-iter4'\n",
    "source_device = '128.237.227.76'\n",
    "target_dataset = 'synergy-final-iter1'\n",
    "target_device = '128.237.254.195'\n",
    "\n",
    "label_name = 'Dishes'\n",
    "label = configuration['activities'].index(label_name)\n",
    "\n",
    "test(source_dataset,\n",
    "     source_device,\n",
    "     target_dataset,\n",
    "     target_device,\n",
    "     label=label,\n",
    "     features='.*',\n",
    "     scale_independently=True)"
   ]
  },
  {
   "cell_type": "code",
   "execution_count": 19,
   "metadata": {},
   "outputs": [
    {
     "name": "stdout",
     "output_type": "stream",
     "text": [
      "Accuracy 0.171178675552\n",
      "Accuracy positive 0.968831168831\n",
      "Accuracy negative 0.0188492063492\n"
     ]
    }
   ],
   "source": [
    "test(source_dataset,\n",
    "     source_device,\n",
    "     target_dataset,\n",
    "     target_device,\n",
    "     label=label,\n",
    "     features='.*',\n",
    "     scale_independently=False)"
   ]
  },
  {
   "cell_type": "code",
   "execution_count": 20,
   "metadata": {},
   "outputs": [
    {
     "name": "stdout",
     "output_type": "stream",
     "text": [
      "Independent scaling\n",
      "Accuracy 0.979591836735\n",
      "Accuracy positive 1.0\n",
      "Accuracy negative 0.975694444444\n",
      "\n",
      "Common scaling\n",
      "Accuracy 0.886297376093\n",
      "Accuracy positive 0.311688311688\n",
      "Accuracy negative 0.996031746032\n"
     ]
    }
   ],
   "source": [
    "source_dataset = 'scott-final-iter1'\n",
    "source_device = '128.237.248.186'\n",
    "target_dataset = 'synergy-final-iter1'\n",
    "target_device = '128.237.254.195'\n",
    "\n",
    "label_name = 'Dishes'\n",
    "label = configuration['activities'].index(label_name)\n",
    "\n",
    "print('Independent scaling')\n",
    "\n",
    "test(source_dataset,\n",
    "     source_device,\n",
    "     target_dataset,\n",
    "     target_device,\n",
    "     label=label,\n",
    "     features='.*',\n",
    "     scale_independently=True)\n",
    "\n",
    "print()\n",
    "print('Common scaling')\n",
    "\n",
    "test(source_dataset,\n",
    "     source_device,\n",
    "     target_dataset,\n",
    "     target_device,\n",
    "     label=label,\n",
    "     features='.*',\n",
    "     scale_independently=False)"
   ]
  },
  {
   "cell_type": "code",
   "execution_count": 21,
   "metadata": {},
   "outputs": [
    {
     "name": "stdout",
     "output_type": "stream",
     "text": [
      "Independent scaling\n",
      "Accuracy 0.57171881349\n",
      "Accuracy positive 0.704109589041\n",
      "Accuracy negative 0.548664122137\n",
      "\n",
      "Common scaling\n",
      "Accuracy 0.65623730191\n",
      "Accuracy positive 0.254794520548\n",
      "Accuracy negative 0.726145038168\n"
     ]
    }
   ],
   "source": [
    "source_dataset = 'scott-final-iter1'\n",
    "source_device = '128.237.248.186'\n",
    "target_dataset = 'scott-final-iter1'\n",
    "target_device = 'Matrix b827eb41f96f'\n",
    "\n",
    "label_name = 'Dishes'\n",
    "label = configuration['activities'].index(label_name)\n",
    "\n",
    "print('Independent scaling')\n",
    "\n",
    "test(source_dataset,\n",
    "     source_device,\n",
    "     target_dataset,\n",
    "     target_device,\n",
    "     label=label,\n",
    "     features='.*',\n",
    "     scale_independently=True)\n",
    "\n",
    "print()\n",
    "print('Common scaling')\n",
    "\n",
    "test(source_dataset,\n",
    "     source_device,\n",
    "     target_dataset,\n",
    "     target_device,\n",
    "     label=label,\n",
    "     features='.*',\n",
    "     scale_independently=False)"
   ]
  },
  {
   "cell_type": "code",
   "execution_count": 22,
   "metadata": {},
   "outputs": [
    {
     "name": "stdout",
     "output_type": "stream",
     "text": [
      "Independent scaling\n",
      "Accuracy 0.948624595469\n",
      "Accuracy positive 1.0\n",
      "Accuracy negative 0.939667458432\n",
      "\n",
      "Common scaling\n",
      "Accuracy 0.339805825243\n",
      "Accuracy positive 0.776566757493\n",
      "Accuracy negative 0.263657957245\n"
     ]
    }
   ],
   "source": [
    "source_dataset = 'scott-final-iter1'\n",
    "source_device = '128.237.248.186'\n",
    "target_dataset = 'scott-final-iter1'\n",
    "target_device = 'xdk_2'\n",
    "\n",
    "label_name = 'Dishes'\n",
    "label = configuration['activities'].index(label_name)\n",
    "\n",
    "print('Independent scaling')\n",
    "\n",
    "test(source_dataset,\n",
    "     source_device,\n",
    "     target_dataset,\n",
    "     target_device,\n",
    "     label=label,\n",
    "     features='.*',\n",
    "     scale_independently=True)\n",
    "\n",
    "print()\n",
    "print('Common scaling')\n",
    "\n",
    "test(source_dataset,\n",
    "     source_device,\n",
    "     target_dataset,\n",
    "     target_device,\n",
    "     label=label,\n",
    "     features='.*',\n",
    "     scale_independently=False)"
   ]
  },
  {
   "cell_type": "code",
   "execution_count": 23,
   "metadata": {},
   "outputs": [
    {
     "name": "stdout",
     "output_type": "stream",
     "text": [
      "Independent scaling\n",
      "Accuracy 0.881549815498\n",
      "Accuracy positive 1.0\n",
      "Accuracy negative 0.862349914237\n",
      "\n",
      "Common scaling\n",
      "Accuracy 0.326568265683\n",
      "Accuracy positive 0.746031746032\n",
      "Accuracy negative 0.258576329331\n"
     ]
    }
   ],
   "source": [
    "source_dataset = 'scott-final-iter1'\n",
    "source_device = '128.237.248.186'\n",
    "target_dataset = 'synergy-final-iter2'\n",
    "target_device = 'xdk_1'\n",
    "\n",
    "label_name = 'Dishes'\n",
    "label = configuration['activities'].index(label_name)\n",
    "\n",
    "print('Independent scaling')\n",
    "\n",
    "test(source_dataset,\n",
    "     source_device,\n",
    "     target_dataset,\n",
    "     target_device,\n",
    "     label=label,\n",
    "     features='.*',\n",
    "     scale_independently=True)\n",
    "\n",
    "print()\n",
    "print('Common scaling')\n",
    "\n",
    "test(source_dataset,\n",
    "     source_device,\n",
    "     target_dataset,\n",
    "     target_device,\n",
    "     label=label,\n",
    "     features='.*',\n",
    "     scale_independently=False)"
   ]
  },
  {
   "cell_type": "code",
   "execution_count": 24,
   "metadata": {},
   "outputs": [
    {
     "name": "stdout",
     "output_type": "stream",
     "text": [
      "Independent scaling\n",
      "Accuracy 0.930258302583\n",
      "Accuracy positive 0.997354497354\n",
      "Accuracy negative 0.919382504288\n",
      "\n",
      "Common scaling\n",
      "Accuracy 0.909594095941\n",
      "Accuracy positive 0.465608465608\n",
      "Accuracy negative 0.981560891938\n"
     ]
    }
   ],
   "source": [
    "source_dataset = 'scott-final-iter1'\n",
    "source_device = 'xdk_2'\n",
    "target_dataset = 'synergy-final-iter2'\n",
    "target_device = 'xdk_1'\n",
    "\n",
    "label_name = 'Dishes'\n",
    "label = configuration['activities'].index(label_name)\n",
    "\n",
    "print('Independent scaling')\n",
    "\n",
    "test(source_dataset,\n",
    "     source_device,\n",
    "     target_dataset,\n",
    "     target_device,\n",
    "     label=label,\n",
    "     features='.*',\n",
    "     scale_independently=True)\n",
    "\n",
    "print()\n",
    "print('Common scaling')\n",
    "\n",
    "test(source_dataset,\n",
    "     source_device,\n",
    "     target_dataset,\n",
    "     target_device,\n",
    "     label=label,\n",
    "     features='.*',\n",
    "     scale_independently=False)"
   ]
  },
  {
   "cell_type": "code",
   "execution_count": 25,
   "metadata": {},
   "outputs": [
    {
     "name": "stdout",
     "output_type": "stream",
     "text": [
      "Independent scaling\n",
      "Accuracy 0.870062753784\n",
      "Accuracy positive 0.52380952381\n",
      "Accuracy negative 0.926211926212\n",
      "\n",
      "Common scaling\n",
      "Accuracy 0.860465116279\n",
      "Accuracy positive 0.0\n",
      "Accuracy negative 1.0\n"
     ]
    }
   ],
   "source": [
    "source_dataset = 'scott-final-iter1'\n",
    "source_device = 'Matrix b827eb41f96f'\n",
    "target_dataset = 'synergy-final-iter2'\n",
    "target_device = 'Matrix b827ebe6e0f8'\n",
    "\n",
    "label_name = 'Dishes'\n",
    "label = configuration['activities'].index(label_name)\n",
    "\n",
    "print('Independent scaling')\n",
    "\n",
    "test(source_dataset,\n",
    "     source_device,\n",
    "     target_dataset,\n",
    "     target_device,\n",
    "     label=label,\n",
    "     features='.*',\n",
    "     scale_independently=True)\n",
    "\n",
    "print()\n",
    "print('Common scaling')\n",
    "\n",
    "test(source_dataset,\n",
    "     source_device,\n",
    "     target_dataset,\n",
    "     target_device,\n",
    "     label=label,\n",
    "     features='.*',\n",
    "     scale_independently=False)"
   ]
  }
 ],
 "metadata": {
  "kernelspec": {
   "display_name": "Python 3",
   "language": "python",
   "name": "python3"
  },
  "language_info": {
   "codemirror_mode": {
    "name": "ipython",
    "version": 3
   },
   "file_extension": ".py",
   "mimetype": "text/x-python",
   "name": "python",
   "nbconvert_exporter": "python",
   "pygments_lexer": "ipython3",
   "version": "3.5.2"
  }
 },
 "nbformat": 4,
 "nbformat_minor": 2
}
