{
 "cells": [
  {
   "cell_type": "code",
   "execution_count": 16,
   "metadata": {
    "collapsed": true
   },
   "outputs": [],
   "source": [
    "import tflscripts\n",
    "from sklearn.pipeline import Pipeline\n",
    "from sklearn.preprocessing import Imputer\n",
    "from sklearn.linear_model import LogisticRegression\n",
    "from sklearn.preprocessing import StandardScaler\n",
    "from sklearn.metrics import accuracy_score\n",
    "from sklearn.ensemble import RandomForestClassifier\n",
    "from sklearn import svm\n",
    "import numpy as np\n",
    "import pandas as pd\n",
    "\n",
    "tflscripts.set_dataset_folder('../../datasets/')\n",
    "\n",
    "configuration = tflscripts.read_configuration()\n",
    "\n",
    "activities = configuration['analysed_activities']\n",
    "activities_i = [configuration['activities'].index(a) for a in activities]"
   ]
  },
  {
   "cell_type": "code",
   "execution_count": 23,
   "metadata": {
    "collapsed": true
   },
   "outputs": [],
   "source": [
    "def read_dataset(device, dataset, scale=True):\n",
    "    df, df_labels = tflscripts.read_and_filter_dataset(\n",
    "            dataset + '-1s',\n",
    "            device,\n",
    "            use_features='.*',\n",
    "            use_activities=activities_i,\n",
    "            check_all_activities=False,\n",
    "            scale=scale,\n",
    "            with_feature_selection=False)\n",
    "\n",
    "    df = df.loc[df.index.isin(df_labels.index)]\n",
    "    df_labels = df_labels.loc[df_labels.index.isin(df.index)]\n",
    "\n",
    "    return df, df_labels\n",
    "\n",
    "def test(source_dataset, source_device, target_dataset, target_device, label, features, scale_independently):\n",
    "\n",
    "    df_source, df_source_labels = read_dataset(dataset=source_dataset,\n",
    "                                               device=source_device,\n",
    "                                               scale=scale_independently)\n",
    "    df_target, df_target_labels = read_dataset(dataset=target_dataset,\n",
    "                                               device=target_device,\n",
    "                                               scale=scale_independently)\n",
    "\n",
    "    c1 = df_source.filter(regex=features).columns.tolist()\n",
    "    c2 = df_target.filter(regex=features).columns.tolist()\n",
    "    columns = [i for i in c1 if i in c2]\n",
    "\n",
    "    x_train = df_source[columns]\n",
    "    y_train = tflscripts.get_y_for_label(df_source_labels, label)\n",
    "\n",
    "    x_test = df_target[x_train.columns]\n",
    "    y_test = tflscripts.get_y_for_label(df_target_labels, label)\n",
    "    \n",
    "    clf = svm.SVC(kernel='linear', decision_function_shape='ovr')\n",
    "\n",
    "    if not scale_independently:\n",
    "        scaler = StandardScaler()\n",
    "        concated = pd.concat([x_train, x_test])\n",
    "        scaler.fit(concated)\n",
    "        x_train[x_train.columns] = scaler.transform(x_train[x_train.columns])\n",
    "        x_test[x_test.columns] = scaler.transform(x_test[x_test.columns])\n",
    "\n",
    "    ppl = Pipeline([\n",
    "        ('impute', Imputer()),\n",
    "        ('clf', clf)\n",
    "    ])\n",
    "    ppl.fit(x_train, y_train)\n",
    "\n",
    "    predicted = ppl.predict(x_test)\n",
    "\n",
    "    mask_negative = y_test == -1\n",
    "    accuracy_negative = accuracy_score(y_test[mask_negative], predicted[mask_negative])\n",
    "    \n",
    "    mask_positive = y_test != -1\n",
    "    accuracy_positive = accuracy_score(y_test[mask_positive], predicted[mask_positive])\n",
    "    \n",
    "    accuracy = accuracy_score(y_test, predicted)\n",
    "    \n",
    "    print('Accuracy', accuracy)\n",
    "    print('Accuracy positive', accuracy_positive)\n",
    "    print('Accuracy negative', accuracy_negative)"
   ]
  },
  {
   "cell_type": "code",
   "execution_count": 20,
   "metadata": {},
   "outputs": [
    {
     "name": "stdout",
     "output_type": "stream",
     "text": [
      "Independent scaling\n",
      "Accuracy 0.932528113286\n",
      "Accuracy positive 0.58961038961\n",
      "Accuracy negative 0.998015873016\n",
      "\n",
      "Common scaling\n",
      "Accuracy 0.875468554769\n",
      "Accuracy positive 0.223376623377\n",
      "Accuracy negative 1.0\n"
     ]
    }
   ],
   "source": [
    "source_dataset = 'synergy-final-iter4'\n",
    "source_device = '128.237.227.76'\n",
    "target_dataset = 'synergy-final-iter1'\n",
    "target_device = '128.237.254.195'\n",
    "\n",
    "label_name = 'Dishes'\n",
    "label = configuration['activities'].index(label_name)\n",
    "\n",
    "print('Independent scaling')\n",
    "\n",
    "test(source_dataset,\n",
    "     source_device,\n",
    "     target_dataset,\n",
    "     target_device,\n",
    "     label=label,\n",
    "     features='.*',\n",
    "     scale_independently=True)\n",
    "\n",
    "print()\n",
    "print('Common scaling')\n",
    "\n",
    "test(source_dataset,\n",
    "     source_device,\n",
    "     target_dataset,\n",
    "     target_device,\n",
    "     label=label,\n",
    "     features='.*',\n",
    "     scale_independently=False)"
   ]
  },
  {
   "cell_type": "code",
   "execution_count": 24,
   "metadata": {},
   "outputs": [
    {
     "name": "stdout",
     "output_type": "stream",
     "text": [
      "Independent scaling\n",
      "Accuracy 0.900874635569\n",
      "Accuracy positive 0.539325842697\n",
      "Accuracy negative 0.963814180929\n",
      "\n",
      "Common scaling\n",
      "Accuracy 0.619325281133\n",
      "Accuracy positive 0.86797752809\n",
      "Accuracy negative 0.576039119804\n"
     ]
    }
   ],
   "source": [
    "source_dataset = 'synergy-final-iter2'\n",
    "source_device = '128.237.248.186'\n",
    "target_dataset = 'synergy-final-iter1'\n",
    "target_device = '128.237.254.195'\n",
    "\n",
    "label_name = 'Chopping food'\n",
    "label = configuration['activities'].index(label_name)\n",
    "\n",
    "print('Independent scaling')\n",
    "\n",
    "test(source_dataset,\n",
    "     source_device,\n",
    "     target_dataset,\n",
    "     target_device,\n",
    "     label=label,\n",
    "     features='.*',\n",
    "     scale_independently=True)\n",
    "\n",
    "print()\n",
    "print('Common scaling')\n",
    "\n",
    "test(source_dataset,\n",
    "     source_device,\n",
    "     target_dataset,\n",
    "     target_device,\n",
    "     label=label,\n",
    "     features='.*',\n",
    "     scale_independently=False)"
   ]
  },
  {
   "cell_type": "code",
   "execution_count": 18,
   "metadata": {},
   "outputs": [
    {
     "name": "stdout",
     "output_type": "stream",
     "text": [
      "Independent scaling\n",
      "Accuracy 0.989171178676\n",
      "Accuracy positive 0.932467532468\n",
      "Accuracy negative 1.0\n",
      "\n",
      "Common scaling\n",
      "Accuracy 0.995835068721\n",
      "Accuracy positive 0.979220779221\n",
      "Accuracy negative 0.999007936508\n"
     ]
    }
   ],
   "source": [
    "source_dataset = 'scott-final-iter1'\n",
    "source_device = '128.237.248.186'\n",
    "target_dataset = 'synergy-final-iter1'\n",
    "target_device = '128.237.254.195'\n",
    "\n",
    "label_name = 'Dishes'\n",
    "label = configuration['activities'].index(label_name)\n",
    "\n",
    "print('Independent scaling')\n",
    "\n",
    "test(source_dataset,\n",
    "     source_device,\n",
    "     target_dataset,\n",
    "     target_device,\n",
    "     label=label,\n",
    "     features='.*',\n",
    "     scale_independently=True)\n",
    "\n",
    "print()\n",
    "print('Common scaling')\n",
    "\n",
    "test(source_dataset,\n",
    "     source_device,\n",
    "     target_dataset,\n",
    "     target_device,\n",
    "     label=label,\n",
    "     features='.*',\n",
    "     scale_independently=False)"
   ]
  },
  {
   "cell_type": "code",
   "execution_count": 19,
   "metadata": {},
   "outputs": [
    {
     "name": "stdout",
     "output_type": "stream",
     "text": [
      "Independent scaling\n",
      "Accuracy 0.875253961804\n",
      "Accuracy positive 0.298630136986\n",
      "Accuracy negative 0.975667938931\n",
      "\n",
      "Common scaling\n"
     ]
    },
    {
     "name": "stderr",
     "output_type": "stream",
     "text": [
      "/home/giotto/.local/lib/python3.5/site-packages/ipykernel_launcher.py:41: SettingWithCopyWarning: \n",
      "A value is trying to be set on a copy of a slice from a DataFrame.\n",
      "Try using .loc[row_indexer,col_indexer] = value instead\n",
      "\n",
      "See the caveats in the documentation: http://pandas.pydata.org/pandas-docs/stable/indexing.html#indexing-view-versus-copy\n",
      "/home/giotto/.local/lib/python3.5/site-packages/pandas/core/frame.py:2454: SettingWithCopyWarning: \n",
      "A value is trying to be set on a copy of a slice from a DataFrame\n",
      "\n",
      "See the caveats in the documentation: http://pandas.pydata.org/pandas-docs/stable/indexing.html#indexing-view-versus-copy\n",
      "  self.loc._setitem_with_indexer((slice(None), indexer), value)\n",
      "/home/giotto/.local/lib/python3.5/site-packages/pandas/core/frame.py:2424: SettingWithCopyWarning: \n",
      "A value is trying to be set on a copy of a slice from a DataFrame\n",
      "\n",
      "See the caveats in the documentation: http://pandas.pydata.org/pandas-docs/stable/indexing.html#indexing-view-versus-copy\n",
      "  self._setitem_array(key, value)\n",
      "/home/giotto/.local/lib/python3.5/site-packages/ipykernel_launcher.py:42: SettingWithCopyWarning: \n",
      "A value is trying to be set on a copy of a slice from a DataFrame.\n",
      "Try using .loc[row_indexer,col_indexer] = value instead\n",
      "\n",
      "See the caveats in the documentation: http://pandas.pydata.org/pandas-docs/stable/indexing.html#indexing-view-versus-copy\n"
     ]
    },
    {
     "name": "stdout",
     "output_type": "stream",
     "text": [
      "Accuracy 0.14831369362\n",
      "Accuracy positive 1.0\n",
      "Accuracy negative 0.0\n"
     ]
    }
   ],
   "source": [
    "source_dataset = 'scott-final-iter1'\n",
    "source_device = '128.237.248.186'\n",
    "target_dataset = 'scott-final-iter1'\n",
    "target_device = 'Matrix b827eb41f96f'\n",
    "\n",
    "label_name = 'Dishes'\n",
    "label = configuration['activities'].index(label_name)\n",
    "\n",
    "print('Independent scaling')\n",
    "\n",
    "test(source_dataset,\n",
    "     source_device,\n",
    "     target_dataset,\n",
    "     target_device,\n",
    "     label=label,\n",
    "     features='.*',\n",
    "     scale_independently=True)\n",
    "\n",
    "print()\n",
    "print('Common scaling')\n",
    "\n",
    "test(source_dataset,\n",
    "     source_device,\n",
    "     target_dataset,\n",
    "     target_device,\n",
    "     label=label,\n",
    "     features='.*',\n",
    "     scale_independently=False)"
   ]
  },
  {
   "cell_type": "code",
   "execution_count": 10,
   "metadata": {},
   "outputs": [
    {
     "name": "stdout",
     "output_type": "stream",
     "text": [
      "Independent scaling\n",
      "Accuracy 0.948624595469\n",
      "Accuracy positive 1.0\n",
      "Accuracy negative 0.939667458432\n",
      "\n",
      "Common scaling\n"
     ]
    },
    {
     "name": "stderr",
     "output_type": "stream",
     "text": [
      "/home/giotto/.local/lib/python3.5/site-packages/ipykernel_launcher.py:41: SettingWithCopyWarning: \n",
      "A value is trying to be set on a copy of a slice from a DataFrame.\n",
      "Try using .loc[row_indexer,col_indexer] = value instead\n",
      "\n",
      "See the caveats in the documentation: http://pandas.pydata.org/pandas-docs/stable/indexing.html#indexing-view-versus-copy\n",
      "/home/giotto/.local/lib/python3.5/site-packages/pandas/core/frame.py:2454: SettingWithCopyWarning: \n",
      "A value is trying to be set on a copy of a slice from a DataFrame\n",
      "\n",
      "See the caveats in the documentation: http://pandas.pydata.org/pandas-docs/stable/indexing.html#indexing-view-versus-copy\n",
      "  self.loc._setitem_with_indexer((slice(None), indexer), value)\n",
      "/home/giotto/.local/lib/python3.5/site-packages/pandas/core/frame.py:2424: SettingWithCopyWarning: \n",
      "A value is trying to be set on a copy of a slice from a DataFrame\n",
      "\n",
      "See the caveats in the documentation: http://pandas.pydata.org/pandas-docs/stable/indexing.html#indexing-view-versus-copy\n",
      "  self._setitem_array(key, value)\n",
      "/home/giotto/.local/lib/python3.5/site-packages/ipykernel_launcher.py:42: SettingWithCopyWarning: \n",
      "A value is trying to be set on a copy of a slice from a DataFrame.\n",
      "Try using .loc[row_indexer,col_indexer] = value instead\n",
      "\n",
      "See the caveats in the documentation: http://pandas.pydata.org/pandas-docs/stable/indexing.html#indexing-view-versus-copy\n"
     ]
    },
    {
     "name": "stdout",
     "output_type": "stream",
     "text": [
      "Accuracy 0.148462783172\n",
      "Accuracy positive 1.0\n",
      "Accuracy negative 0.0\n"
     ]
    }
   ],
   "source": [
    "source_dataset = 'scott-final-iter1'\n",
    "source_device = '128.237.248.186'\n",
    "target_dataset = 'scott-final-iter1'\n",
    "target_device = 'xdk_2'\n",
    "\n",
    "label_name = 'Dishes'\n",
    "label = configuration['activities'].index(label_name)\n",
    "\n",
    "print('Independent scaling')\n",
    "\n",
    "test(source_dataset,\n",
    "     source_device,\n",
    "     target_dataset,\n",
    "     target_device,\n",
    "     label=label,\n",
    "     features='.*',\n",
    "     scale_independently=True)\n",
    "\n",
    "print()\n",
    "print('Common scaling')\n",
    "\n",
    "test(source_dataset,\n",
    "     source_device,\n",
    "     target_dataset,\n",
    "     target_device,\n",
    "     label=label,\n",
    "     features='.*',\n",
    "     scale_independently=False)"
   ]
  },
  {
   "cell_type": "code",
   "execution_count": 23,
   "metadata": {},
   "outputs": [
    {
     "name": "stdout",
     "output_type": "stream",
     "text": [
      "Independent scaling\n",
      "Accuracy 0.881549815498\n",
      "Accuracy positive 1.0\n",
      "Accuracy negative 0.862349914237\n",
      "\n",
      "Common scaling\n",
      "Accuracy 0.326568265683\n",
      "Accuracy positive 0.746031746032\n",
      "Accuracy negative 0.258576329331\n"
     ]
    }
   ],
   "source": [
    "source_dataset = 'scott-final-iter1'\n",
    "source_device = '128.237.248.186'\n",
    "target_dataset = 'synergy-final-iter2'\n",
    "target_device = 'xdk_1'\n",
    "\n",
    "label_name = 'Dishes'\n",
    "label = configuration['activities'].index(label_name)\n",
    "\n",
    "print('Independent scaling')\n",
    "\n",
    "test(source_dataset,\n",
    "     source_device,\n",
    "     target_dataset,\n",
    "     target_device,\n",
    "     label=label,\n",
    "     features='.*',\n",
    "     scale_independently=True)\n",
    "\n",
    "print()\n",
    "print('Common scaling')\n",
    "\n",
    "test(source_dataset,\n",
    "     source_device,\n",
    "     target_dataset,\n",
    "     target_device,\n",
    "     label=label,\n",
    "     features='.*',\n",
    "     scale_independently=False)"
   ]
  },
  {
   "cell_type": "code",
   "execution_count": 24,
   "metadata": {},
   "outputs": [
    {
     "name": "stdout",
     "output_type": "stream",
     "text": [
      "Independent scaling\n",
      "Accuracy 0.930258302583\n",
      "Accuracy positive 0.997354497354\n",
      "Accuracy negative 0.919382504288\n",
      "\n",
      "Common scaling\n",
      "Accuracy 0.909594095941\n",
      "Accuracy positive 0.465608465608\n",
      "Accuracy negative 0.981560891938\n"
     ]
    }
   ],
   "source": [
    "source_dataset = 'scott-final-iter1'\n",
    "source_device = 'xdk_2'\n",
    "target_dataset = 'synergy-final-iter2'\n",
    "target_device = 'xdk_1'\n",
    "\n",
    "label_name = 'Dishes'\n",
    "label = configuration['activities'].index(label_name)\n",
    "\n",
    "print('Independent scaling')\n",
    "\n",
    "test(source_dataset,\n",
    "     source_device,\n",
    "     target_dataset,\n",
    "     target_device,\n",
    "     label=label,\n",
    "     features='.*',\n",
    "     scale_independently=True)\n",
    "\n",
    "print()\n",
    "print('Common scaling')\n",
    "\n",
    "test(source_dataset,\n",
    "     source_device,\n",
    "     target_dataset,\n",
    "     target_device,\n",
    "     label=label,\n",
    "     features='.*',\n",
    "     scale_independently=False)"
   ]
  },
  {
   "cell_type": "code",
   "execution_count": 25,
   "metadata": {},
   "outputs": [
    {
     "name": "stdout",
     "output_type": "stream",
     "text": [
      "Independent scaling\n",
      "Accuracy 0.870062753784\n",
      "Accuracy positive 0.52380952381\n",
      "Accuracy negative 0.926211926212\n",
      "\n",
      "Common scaling\n",
      "Accuracy 0.860465116279\n",
      "Accuracy positive 0.0\n",
      "Accuracy negative 1.0\n"
     ]
    }
   ],
   "source": [
    "source_dataset = 'scott-final-iter1'\n",
    "source_device = 'Matrix b827eb41f96f'\n",
    "target_dataset = 'synergy-final-iter2'\n",
    "target_device = 'Matrix b827ebe6e0f8'\n",
    "\n",
    "label_name = 'Dishes'\n",
    "label = configuration['activities'].index(label_name)\n",
    "\n",
    "print('Independent scaling')\n",
    "\n",
    "test(source_dataset,\n",
    "     source_device,\n",
    "     target_dataset,\n",
    "     target_device,\n",
    "     label=label,\n",
    "     features='.*',\n",
    "     scale_independently=True)\n",
    "\n",
    "print()\n",
    "print('Common scaling')\n",
    "\n",
    "test(source_dataset,\n",
    "     source_device,\n",
    "     target_dataset,\n",
    "     target_device,\n",
    "     label=label,\n",
    "     features='.*',\n",
    "     scale_independently=False)"
   ]
  }
 ],
 "metadata": {
  "kernelspec": {
   "display_name": "Python 3",
   "language": "python",
   "name": "python3"
  },
  "language_info": {
   "codemirror_mode": {
    "name": "ipython",
    "version": 3
   },
   "file_extension": ".py",
   "mimetype": "text/x-python",
   "name": "python",
   "nbconvert_exporter": "python",
   "pygments_lexer": "ipython3",
   "version": "3.5.2"
  }
 },
 "nbformat": 4,
 "nbformat_minor": 2
}
