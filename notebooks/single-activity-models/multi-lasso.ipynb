{
 "cells": [
  {
   "cell_type": "code",
   "execution_count": 56,
   "metadata": {
    "collapsed": true
   },
   "outputs": [],
   "source": [
    "from sklearn.linear_model import MultiTaskLasso\n",
    "%matplotlib inline\n",
    "import matplotlib\n",
    "import matplotlib.pyplot as plt\n",
    "from sklearn.feature_extraction import DictVectorizer\n",
    "\n",
    "width = 12\n",
    "height = 7\n",
    "plt.rcParams[\"figure.figsize\"] = (width, height)\n",
    "\n",
    "import pandas as pd\n",
    "import numpy as np\n",
    "import tflscripts\n",
    "from sklearn.preprocessing import Imputer\n",
    "from sklearn import tree\n",
    "import pickle\n",
    "\n",
    "configuration = tflscripts.read_configuration()\n",
    "df = pd.read_pickle('results.p')"
   ]
  },
  {
   "cell_type": "code",
   "execution_count": 8,
   "metadata": {},
   "outputs": [
    {
     "data": {
      "text/html": [
       "<div>\n",
       "<style>\n",
       "    .dataframe thead tr:only-child th {\n",
       "        text-align: right;\n",
       "    }\n",
       "\n",
       "    .dataframe thead th {\n",
       "        text-align: left;\n",
       "    }\n",
       "\n",
       "    .dataframe tbody tr th {\n",
       "        vertical-align: top;\n",
       "    }\n",
       "</style>\n",
       "<table border=\"1\" class=\"dataframe\">\n",
       "  <thead>\n",
       "    <tr style=\"text-align: right;\">\n",
       "      <th></th>\n",
       "      <th>Accelerometer</th>\n",
       "      <th>EMI &amp; motion</th>\n",
       "      <th>Environmental</th>\n",
       "      <th>Microphone</th>\n",
       "    </tr>\n",
       "  </thead>\n",
       "  <tbody>\n",
       "    <tr>\n",
       "      <th>0</th>\n",
       "      <td>1</td>\n",
       "      <td>1</td>\n",
       "      <td>1</td>\n",
       "      <td>1</td>\n",
       "    </tr>\n",
       "    <tr>\n",
       "      <th>1</th>\n",
       "      <td>1</td>\n",
       "      <td>1</td>\n",
       "      <td>1</td>\n",
       "      <td>1</td>\n",
       "    </tr>\n",
       "    <tr>\n",
       "      <th>2</th>\n",
       "      <td>1</td>\n",
       "      <td>1</td>\n",
       "      <td>1</td>\n",
       "      <td>1</td>\n",
       "    </tr>\n",
       "    <tr>\n",
       "      <th>3</th>\n",
       "      <td>1</td>\n",
       "      <td>1</td>\n",
       "      <td>1</td>\n",
       "      <td>1</td>\n",
       "    </tr>\n",
       "    <tr>\n",
       "      <th>4</th>\n",
       "      <td>1</td>\n",
       "      <td>1</td>\n",
       "      <td>1</td>\n",
       "      <td>1</td>\n",
       "    </tr>\n",
       "    <tr>\n",
       "      <th>5</th>\n",
       "      <td>1</td>\n",
       "      <td>1</td>\n",
       "      <td>1</td>\n",
       "      <td>1</td>\n",
       "    </tr>\n",
       "    <tr>\n",
       "      <th>6</th>\n",
       "      <td>1</td>\n",
       "      <td>1</td>\n",
       "      <td>1</td>\n",
       "      <td>1</td>\n",
       "    </tr>\n",
       "    <tr>\n",
       "      <th>7</th>\n",
       "      <td>1</td>\n",
       "      <td>1</td>\n",
       "      <td>1</td>\n",
       "      <td>1</td>\n",
       "    </tr>\n",
       "    <tr>\n",
       "      <th>8</th>\n",
       "      <td>1</td>\n",
       "      <td>1</td>\n",
       "      <td>1</td>\n",
       "      <td>1</td>\n",
       "    </tr>\n",
       "    <tr>\n",
       "      <th>9</th>\n",
       "      <td>1</td>\n",
       "      <td>1</td>\n",
       "      <td>1</td>\n",
       "      <td>1</td>\n",
       "    </tr>\n",
       "  </tbody>\n",
       "</table>\n",
       "</div>"
      ],
      "text/plain": [
       "   Accelerometer  EMI & motion  Environmental  Microphone\n",
       "0              1             1              1           1\n",
       "1              1             1              1           1\n",
       "2              1             1              1           1\n",
       "3              1             1              1           1\n",
       "4              1             1              1           1\n",
       "5              1             1              1           1\n",
       "6              1             1              1           1\n",
       "7              1             1              1           1\n",
       "8              1             1              1           1\n",
       "9              1             1              1           1"
      ]
     },
     "execution_count": 8,
     "metadata": {},
     "output_type": "execute_result"
    }
   ],
   "source": [
    "feature_expansion = {\n",
    "    'All': {\n",
    "        'Microphone': 1,\n",
    "        'Accelerometer': 1,\n",
    "        'Environmental': 1,\n",
    "        'EMI & motion': 1\n",
    "    },\n",
    "    'Microphone': {\n",
    "        'Microphone': 1,\n",
    "        'Accelerometer': 0,\n",
    "        'Magnetometer': 0,\n",
    "        'Environmental': 0,\n",
    "        'EMI & motion': 0\n",
    "    },\n",
    "    'Accelerometer & magnetometer': {\n",
    "        'Microphone': 0,\n",
    "        'Accelerometer': 1,\n",
    "        'Magnetometer': 1,\n",
    "        'Environmental': 0,\n",
    "        'EMI & motion': 0\n",
    "    },\n",
    "    'Environmental': {\n",
    "        'Microphone': 0,\n",
    "        'Accelerometer': 0,\n",
    "        'Magnetometer': 0,\n",
    "        'Environmental': 1,\n",
    "        'EMI & motion': 0\n",
    "    },\n",
    "    'EMI & motion': {\n",
    "        'Microphone': 0,\n",
    "        'Accelerometer': 0,\n",
    "        'Magnetometer': 0,\n",
    "        'Environmental': 0,\n",
    "        'EMI & motion': 1\n",
    "    },\n",
    "    'Microphone & accelerometer': {\n",
    "        'Microphone': 1,\n",
    "        'Accelerometer': 1,\n",
    "        'Magnetometer': 0,\n",
    "        'Environmental': 0,\n",
    "        'EMI & motion': 1\n",
    "    }\n",
    "}\n",
    "\n",
    "pd.DataFrame([pd.Series(feature_expansion['All']) for i in range(10)])"
   ]
  },
  {
   "cell_type": "code",
   "execution_count": 18,
   "metadata": {},
   "outputs": [
    {
     "data": {
      "text/plain": [
       "1    122\n",
       "2    244\n",
       "dtype: int64"
      ]
     },
     "execution_count": 18,
     "metadata": {},
     "output_type": "execute_result"
    }
   ],
   "source": [
    "for i, result in df.iterrows():\n",
    "    result\n",
    "\n",
    "pd.Series({'1': 122}).append(pd.Series({'2': 244}))"
   ]
  },
  {
   "cell_type": "code",
   "execution_count": 66,
   "metadata": {
    "collapsed": true
   },
   "outputs": [],
   "source": [
    "def vectorize_column(df, column_name):\n",
    "    rows = [dict(r.iteritems()) for _, r in df[[column_name]].iterrows()]\n",
    "    vectorizer = DictVectorizer()\n",
    "    arr = vectorizer.fit_transform(rows).toarray()\n",
    "    arr_df = pd.DataFrame(arr)\n",
    "#     arr_df.columns = [column_name + str(i) for i in range(len(arr[0]))]\n",
    "    arr_df.columns = vectorizer.get_feature_names()\n",
    "    return arr_df\n",
    "\n",
    "df = df.loc[df.accuracy_negative > 0.95]\n",
    "df = df.loc[df.type_of_transfer != 'Across spaces']\n",
    "df = df.reset_index(drop=True)\n",
    "type_of_transfer_df = vectorize_column(df, 'type_of_transfer')\n",
    "classifier_df = vectorize_column(df, 'classifier')\n",
    "features_df = vectorize_column(df, 'features_name')\n",
    "activities_df = vectorize_column(df, 'label')\n",
    "activities_df[activities_df == 0.0] = np.nan\n",
    "activities_df = pd.DataFrame([row * df.accuracy_positive[i] for i, row in activities_df.iterrows()])\n",
    "vectorized_df = pd.concat([type_of_transfer_df, classifier_df, features_df, activities_df], axis=1)\n",
    "\n",
    "x_columns = vectorized_df.filter(regex='type_of_transfer|classifier|features_name').columns\n",
    "y_columns = vectorized_df.filter(regex='label').columns\n",
    "\n",
    "vectorized_df = vectorized_df.groupby(x_columns.values.tolist(), axis=0)[y_columns.values.tolist()].mean()\n",
    "vectorized_df = vectorized_df.reset_index()"
   ]
  },
  {
   "cell_type": "code",
   "execution_count": 67,
   "metadata": {
    "collapsed": true
   },
   "outputs": [],
   "source": [
    "x = vectorized_df[x_columns]\n",
    "y = vectorized_df[y_columns]\n",
    "x = Imputer().fit_transform(x)\n",
    "y = Imputer().fit_transform(y)\n",
    "lasso = MultiTaskLasso()\n",
    "coef_multi_task_lasso_ = lasso.fit(x, y).coef_"
   ]
  },
  {
   "cell_type": "code",
   "execution_count": 68,
   "metadata": {},
   "outputs": [
    {
     "data": {
      "text/plain": [
       "array([[ 0.,  0.,  0.,  0.,  0.,  0.,  0.,  0.,  0.,  0.,  0.,  0.,  0.,\n",
       "         0.],\n",
       "       [ 0.,  0.,  0.,  0.,  0.,  0.,  0.,  0.,  0.,  0.,  0.,  0.,  0.,\n",
       "         0.],\n",
       "       [ 0.,  0.,  0.,  0.,  0.,  0.,  0.,  0.,  0.,  0.,  0.,  0.,  0.,\n",
       "         0.],\n",
       "       [ 0.,  0.,  0.,  0.,  0.,  0.,  0.,  0.,  0.,  0.,  0.,  0.,  0.,\n",
       "         0.],\n",
       "       [ 0.,  0.,  0.,  0.,  0.,  0.,  0.,  0.,  0.,  0.,  0.,  0.,  0.,\n",
       "         0.],\n",
       "       [ 0.,  0.,  0.,  0.,  0.,  0.,  0.,  0.,  0.,  0.,  0.,  0.,  0.,\n",
       "         0.],\n",
       "       [ 0.,  0.,  0.,  0.,  0.,  0.,  0.,  0.,  0.,  0.,  0.,  0.,  0.,\n",
       "         0.],\n",
       "       [ 0.,  0.,  0.,  0.,  0.,  0.,  0.,  0.,  0.,  0.,  0.,  0.,  0.,\n",
       "         0.],\n",
       "       [ 0.,  0.,  0.,  0.,  0.,  0.,  0.,  0.,  0.,  0.,  0.,  0.,  0.,\n",
       "         0.],\n",
       "       [ 0.,  0.,  0.,  0.,  0.,  0.,  0.,  0.,  0.,  0.,  0.,  0.,  0.,\n",
       "         0.],\n",
       "       [ 0.,  0.,  0.,  0.,  0.,  0.,  0.,  0.,  0.,  0.,  0.,  0.,  0.,\n",
       "         0.],\n",
       "       [ 0.,  0.,  0.,  0.,  0.,  0.,  0.,  0.,  0.,  0.,  0.,  0.,  0.,\n",
       "         0.],\n",
       "       [ 0.,  0.,  0.,  0.,  0.,  0.,  0.,  0.,  0.,  0.,  0.,  0.,  0.,\n",
       "         0.],\n",
       "       [ 0.,  0.,  0.,  0.,  0.,  0.,  0.,  0.,  0.,  0.,  0.,  0.,  0.,\n",
       "         0.],\n",
       "       [ 0.,  0.,  0.,  0.,  0.,  0.,  0.,  0.,  0.,  0.,  0.,  0.,  0.,\n",
       "         0.],\n",
       "       [ 0.,  0.,  0.,  0.,  0.,  0.,  0.,  0.,  0.,  0.,  0.,  0.,  0.,\n",
       "         0.],\n",
       "       [ 0.,  0.,  0.,  0.,  0.,  0.,  0.,  0.,  0.,  0.,  0.,  0.,  0.,\n",
       "         0.]])"
      ]
     },
     "execution_count": 68,
     "metadata": {},
     "output_type": "execute_result"
    }
   ],
   "source": [
    "coef_multi_task_lasso_"
   ]
  },
  {
   "cell_type": "code",
   "execution_count": 69,
   "metadata": {},
   "outputs": [
    {
     "data": {
      "text/plain": [
       "((90, 14), (90, 17))"
      ]
     },
     "execution_count": 69,
     "metadata": {},
     "output_type": "execute_result"
    }
   ],
   "source": [
    "x.shape, y.shape"
   ]
  }
 ],
 "metadata": {
  "kernelspec": {
   "display_name": "Python 3",
   "language": "python",
   "name": "python3"
  },
  "language_info": {
   "codemirror_mode": {
    "name": "ipython",
    "version": 3
   },
   "file_extension": ".py",
   "mimetype": "text/x-python",
   "name": "python",
   "nbconvert_exporter": "python",
   "pygments_lexer": "ipython3",
   "version": "3.5.2"
  }
 },
 "nbformat": 4,
 "nbformat_minor": 2
}
