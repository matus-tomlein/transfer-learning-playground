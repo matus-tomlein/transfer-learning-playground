{
 "cells": [
  {
   "cell_type": "code",
   "execution_count": 1,
   "metadata": {},
   "outputs": [
    {
     "ename": "ImportError",
     "evalue": "No module named tflscripts",
     "output_type": "error",
     "traceback": [
      "\u001b[0;31m---------------------------------------------------------------------------\u001b[0m",
      "\u001b[0;31mImportError\u001b[0m                               Traceback (most recent call last)",
      "\u001b[0;32m<ipython-input-1-d3a5b6beddba>\u001b[0m in \u001b[0;36m<module>\u001b[0;34m()\u001b[0m\n\u001b[0;32m----> 1\u001b[0;31m \u001b[0;32mimport\u001b[0m \u001b[0mtflscripts\u001b[0m\u001b[0;34m\u001b[0m\u001b[0m\n\u001b[0m\u001b[1;32m      2\u001b[0m \u001b[0;32mfrom\u001b[0m \u001b[0mtflscripts\u001b[0m \u001b[0;32mimport\u001b[0m \u001b[0mtake_percentage_of_data\u001b[0m\u001b[0;34m,\u001b[0m \u001b[0mread_dataset\u001b[0m\u001b[0;34m,\u001b[0m \u001b[0mfilter_by_features\u001b[0m\u001b[0;34m,\u001b[0m \u001b[0mX_sort\u001b[0m\u001b[0;34m,\u001b[0m \u001b[0mfilter_by_activities_transfer\u001b[0m\u001b[0;34m,\u001b[0m \u001b[0mclassify\u001b[0m\u001b[0;34m,\u001b[0m \u001b[0measy_domain_adaptation_update_dataframes\u001b[0m\u001b[0;34m,\u001b[0m \u001b[0mtake_multiple_percentages_of_data\u001b[0m\u001b[0;34m,\u001b[0m \u001b[0mconcat_and_reindex\u001b[0m\u001b[0;34m,\u001b[0m \u001b[0mfilter_by_activities\u001b[0m\u001b[0;34m\u001b[0m\u001b[0m\n\u001b[1;32m      3\u001b[0m \u001b[0;32mfrom\u001b[0m \u001b[0msklearn\u001b[0m\u001b[0;34m.\u001b[0m\u001b[0mmetrics\u001b[0m \u001b[0;32mimport\u001b[0m \u001b[0maccuracy_score\u001b[0m\u001b[0;34m\u001b[0m\u001b[0m\n\u001b[1;32m      4\u001b[0m \u001b[0;32mimport\u001b[0m \u001b[0mnumpy\u001b[0m \u001b[0;32mas\u001b[0m \u001b[0mnp\u001b[0m\u001b[0;34m\u001b[0m\u001b[0m\n",
      "\u001b[0;31mImportError\u001b[0m: No module named tflscripts"
     ]
    }
   ],
   "source": [
    "import tflscripts\n",
    "from tflscripts import take_percentage_of_data, read_dataset, filter_by_features, X_sort, filter_by_activities_transfer, classify, easy_domain_adaptation_update_dataframes, take_multiple_percentages_of_data, concat_and_reindex, filter_by_activities\n",
    "from sklearn.metrics import accuracy_score\n",
    "import numpy as np"
   ]
  },
  {
   "cell_type": "code",
   "execution_count": 73,
   "metadata": {
    "collapsed": true
   },
   "outputs": [],
   "source": [
    "source_dataset = 'synergy-final-iter1'\n",
    "source_device = 'xdk_1'\n",
    "target_dataset = 'robotics-final'\n",
    "target_device = 'xdk_2'\n",
    "\n",
    "use_features = 'accel_'\n",
    "force_columns = None\n",
    "use_columns = None\n",
    "use_activities = [0,1,2,3,4,5,7]\n",
    "use_target_training_activities = [0,1,2]\n",
    "activities_to_test = [0,1,2]\n",
    "with_feature_selection = False\n",
    "scale_domains_independently = False\n",
    "use_easy_domain_adaptation = True\n",
    "clf_name = 'LinearSVC'\n",
    "\n",
    "training_source_data_ratio = 0.6\n",
    "training_target_data_ratio = 0.6\n",
    "testing_target_data_ratio = 0.4\n",
    "\n",
    "tflscripts.set_dataset_folder('/home/giotto/transfer-learning-playground/datasets/')"
   ]
  },
  {
   "cell_type": "code",
   "execution_count": 74,
   "metadata": {},
   "outputs": [
    {
     "data": {
      "text/plain": [
       "0.36263736263736257"
      ]
     },
     "execution_count": 74,
     "metadata": {},
     "output_type": "execute_result"
    }
   ],
   "source": [
    "# read datasets\n",
    "df_source, df_source_labels = read_dataset(\n",
    "        source_dataset,\n",
    "        source_device,\n",
    "        with_feature_selection=with_feature_selection)\n",
    "df_target, df_target_labels = read_dataset(\n",
    "        target_dataset,\n",
    "        target_device,\n",
    "        with_feature_selection=with_feature_selection)\n",
    "\n",
    "# filter features\n",
    "if use_features is not None:\n",
    "    df_source, df_target = filter_by_features(df_source=df_source,\n",
    "                                              df_target=df_target,\n",
    "                                              use_features=use_features)\n",
    "    if df_source is None:\n",
    "        print('No features found')\n",
    "\n",
    "if force_columns is not None:\n",
    "    use_columns = force_columns\n",
    "    add_empty_columns_if_missing(df_source, force_columns)\n",
    "    add_empty_columns_if_missing(df_target, force_columns)\n",
    "\n",
    "# filter specific columns\n",
    "if use_columns is not None:\n",
    "    try:\n",
    "        df_source = df_source[use_columns]\n",
    "        df_target = df_target[use_columns]\n",
    "    except KeyError as ex:\n",
    "        print('No such columns found')\n",
    "\n",
    "# filter activities\n",
    "if use_activities is not None:\n",
    "    df_source, df_source_labels, df_target, df_target_labels = \\\n",
    "        filter_by_activities_transfer(\n",
    "            df_source, df_source_labels, df_target,\n",
    "            df_target_labels, use_activities)\n",
    "    if df_source is None:\n",
    "        print('No activities found')\n",
    "\n",
    "# do easy domain adaptation\n",
    "if use_easy_domain_adaptation:\n",
    "    df_source, df_target = easy_domain_adaptation_update_dataframes(\n",
    "            df_source, df_target)\n",
    "\n",
    "# filter samples\n",
    "df_source, df_source_labels = take_percentage_of_data(\n",
    "        df_source,\n",
    "        df_source_labels,\n",
    "        training_source_data_ratio)\n",
    "\n",
    "# split the target data to testing and training if necessary\n",
    "if training_target_data_ratio > 0.0:\n",
    "    dfs_target = take_multiple_percentages_of_data(\n",
    "            df_target,\n",
    "            df_target_labels,\n",
    "            [training_target_data_ratio, testing_target_data_ratio])\n",
    "\n",
    "    df_target_train, df_target_train_labels = dfs_target[0]\n",
    "    df_target, df_target_labels = dfs_target[1]\n",
    "    \n",
    "    # filter target training activities\n",
    "    if use_target_training_activities is not None:\n",
    "        df_target_train, df_target_train_labels = \\\n",
    "            filter_by_activities(\n",
    "                df_target_train, df_target_train_labels, use_target_training_activities)\n",
    "\n",
    "    df_source, df_source_labels = concat_and_reindex(\n",
    "            [df_source, df_target_train],\n",
    "            [df_source_labels, df_target_train_labels])\n",
    "else:\n",
    "    df_target, df_target_labels = take_percentage_of_data(\n",
    "            df_target,\n",
    "            df_target_labels,\n",
    "            testing_target_data_ratio)\n",
    "\n",
    "if activities_to_test is not None:\n",
    "    df_target, df_target_labels = \\\n",
    "            filter_by_activities(df_target, df_target_labels, activities_to_test)\n",
    "\n",
    "# sort feature columns\n",
    "X_source = X_sort(df_source)\n",
    "X_target = X_sort(df_target)\n",
    "\n",
    "# scale domains\n",
    "if scale_domains_independently:\n",
    "    df_source = StandardScaler().fit_transform(df_source)\n",
    "    df_target = StandardScaler().fit_transform(df_target)\n",
    "\n",
    "y_source = df_source_labels['label']\n",
    "y_target = df_target_labels['label']\n",
    "\n",
    "accuracies = []\n",
    "\n",
    "for i in range(20):\n",
    "    y_target_pred = classify(X_source, y_source, X_target, clf_name,\n",
    "                             scale=not scale_domains_independently)\n",
    "\n",
    "    accuracies.append(accuracy_score(y_target, y_target_pred))\n",
    "\n",
    "np.mean(accuracies)"
   ]
  },
  {
   "cell_type": "code",
   "execution_count": null,
   "metadata": {
    "collapsed": true
   },
   "outputs": [],
   "source": []
  }
 ],
 "metadata": {
  "kernelspec": {
   "display_name": "Python 3",
   "language": "python",
   "name": "python3"
  },
  "language_info": {
   "codemirror_mode": {
    "name": "ipython",
    "version": 2
   },
   "file_extension": ".py",
   "mimetype": "text/x-python",
   "name": "python",
   "nbconvert_exporter": "python",
   "pygments_lexer": "ipython2",
   "version": "2.7.12"
  }
 },
 "nbformat": 4,
 "nbformat_minor": 2
}
