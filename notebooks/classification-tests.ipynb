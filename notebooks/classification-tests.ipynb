{
 "cells": [
  {
   "cell_type": "code",
   "execution_count": 35,
   "metadata": {
    "collapsed": true
   },
   "outputs": [],
   "source": [
    "import pandas as pd\n",
    "import numpy as np\n",
    "from sklearn.ensemble import RandomForestClassifier\n",
    "from sklearn import svm\n",
    "from sklearn.pipeline import Pipeline\n",
    "from sklearn.preprocessing import Imputer\n",
    "from sklearn.linear_model import LogisticRegression\n",
    "from sklearn.metrics import classification_report, confusion_matrix, accuracy_score\n",
    "from sklearn.preprocessing import StandardScaler\n",
    "from sklearn.naive_bayes import GaussianNB, MultinomialNB, BernoulliNB\n",
    "from tsfresh import select_features"
   ]
  },
  {
   "cell_type": "markdown",
   "metadata": {},
   "source": [
    "**Configuration**"
   ]
  },
  {
   "cell_type": "code",
   "execution_count": 36,
   "metadata": {
    "collapsed": true
   },
   "outputs": [],
   "source": [
    "dataset = 'synergy-final-iter2'\n",
    "# device = 'Matrix b827eb96f31a'\n",
    "device = 'TI SensorTag 604'\n",
    "use_sensor_features = \"accel_\"\n",
    "should_select_features = False\n",
    "repeat_times = 20\n",
    "train_test_ratio = 0.7\n",
    "test_all_training_split_ratios = False\n",
    "activities_to_use = [\n",
    "    0, # 'Dishes',\n",
    "    1, # 'Microwave',\n",
    "    2, # 'Coffee',\n",
    "    3, # 'Null',\n",
    "    4, # 'Faucet',\n",
    "    5, # 'Kettle',\n",
    "#     6, # 'Phone ringing',\n",
    "    7, # 'Chopping food',\n",
    "    8, # 'Conversation',\n",
    "    9, # 'Eating popcorn',\n",
    "#     10, # 'Microwave door opened',\n",
    "#     11, # 'Microwave door closed',\n",
    "#     12, # 'Cupboard door opened',\n",
    "#     13, # 'Cupboard door closed',\n",
    "#     14, # 'Microwave button press',\n",
    "#     15, # 'Taking ice',\n",
    "    16, # 'Making popcorn in microwave',\n",
    "#     17, # 'Room lights off',\n",
    "#     18, # 'Knocking',\n",
    "#     19, # 'Frequency sweep',\n",
    "    20 # 'Phone vibrating'\n",
    "]"
   ]
  },
  {
   "cell_type": "markdown",
   "metadata": {},
   "source": [
    "**Load the dataset**"
   ]
  },
  {
   "cell_type": "code",
   "execution_count": 37,
   "metadata": {},
   "outputs": [],
   "source": [
    "dataset_path = '../datasets/' + dataset + '-features/'\n",
    "df = pd.read_pickle(dataset_path + device + '.p')\n",
    "df_labels = pd.DataFrame.from_csv(dataset_path + 'activity_labels.csv')"
   ]
  },
  {
   "cell_type": "markdown",
   "metadata": {},
   "source": [
    "**Filter the sensor features to use**"
   ]
  },
  {
   "cell_type": "code",
   "execution_count": 38,
   "metadata": {
    "collapsed": true
   },
   "outputs": [],
   "source": [
    "df = df.filter(regex=(use_sensor_features))"
   ]
  },
  {
   "cell_type": "markdown",
   "metadata": {},
   "source": [
    "**Filter activities to use**"
   ]
  },
  {
   "cell_type": "code",
   "execution_count": 39,
   "metadata": {},
   "outputs": [],
   "source": [
    "df_labels = df_labels.loc[df_labels.label.isin(activities_to_use)]\n",
    "df = df.loc[df.index.isin(df_labels.index)]"
   ]
  },
  {
   "cell_type": "markdown",
   "metadata": {},
   "source": [
    "**Do feature selection**"
   ]
  },
  {
   "cell_type": "code",
   "execution_count": 40,
   "metadata": {},
   "outputs": [],
   "source": [
    "if should_select_features:\n",
    "    df = select_features(df, df_labels['label'])"
   ]
  },
  {
   "cell_type": "markdown",
   "metadata": {},
   "source": [
    "**Compute the accuracies**"
   ]
  },
  {
   "cell_type": "code",
   "execution_count": 41,
   "metadata": {},
   "outputs": [],
   "source": [
    "training_data_ratios = [1]\n",
    "\n",
    "if test_all_training_split_ratios:\n",
    "    training_data_ratios = [(i + 1) / 10 for i in range(10)]\n",
    "\n",
    "results = {}\n",
    "\n",
    "for i in range(repeat_times):\n",
    "    for training_data_ratio in training_data_ratios:\n",
    "        indexes = df_labels.index.tolist()\n",
    "        np.random.shuffle(indexes)\n",
    "        split = round(train_test_ratio * len(indexes))\n",
    "\n",
    "        training_data_split = round(training_data_ratio * split)\n",
    "\n",
    "        training_i = indexes[:training_data_split]\n",
    "        testing_i = indexes[split:]\n",
    "\n",
    "        X_train = df.loc[df.index.isin(training_i)]\n",
    "        X_test = df.loc[df.index.isin(testing_i)]\n",
    "\n",
    "        y_train = df_labels.loc[df_labels.index.isin(training_i)]\n",
    "        y_test = df_labels.loc[df_labels.index.isin(testing_i)]\n",
    "        y_train = y_train['label']\n",
    "        y_test = y_test['label']\n",
    "\n",
    "        ppl = Pipeline([\n",
    "            ('impute', Imputer()),\n",
    "            ('scale', StandardScaler()),\n",
    "            ('clf', RandomForestClassifier())\n",
    "        ])\n",
    "\n",
    "        ppl.fit(X_train, y_train)\n",
    "        y_pred = ppl.predict(X_test)\n",
    "\n",
    "        accuracy = accuracy_score(y_test, y_pred)\n",
    "        key = 'Train data used: ' + str(training_data_ratio * 100) + '%'\n",
    "        if key in results:\n",
    "            results[key].append(accuracy)\n",
    "        else:\n",
    "            results[key] = [accuracy]"
   ]
  },
  {
   "cell_type": "markdown",
   "metadata": {},
   "source": [
    "**Print out the accuracies**"
   ]
  },
  {
   "cell_type": "code",
   "execution_count": 42,
   "metadata": {},
   "outputs": [
    {
     "name": "stdout",
     "output_type": "stream",
     "text": [
      "Train data used: 100%: 0.88731884058\n"
     ]
    }
   ],
   "source": [
    "for key in results:\n",
    "    print(key + ': ' + str(np.average(results[key])))"
   ]
  },
  {
   "cell_type": "code",
   "execution_count": null,
   "metadata": {
    "collapsed": true
   },
   "outputs": [],
   "source": []
  }
 ],
 "metadata": {
  "kernelspec": {
   "display_name": "Python 3",
   "language": "python",
   "name": "python3"
  },
  "language_info": {
   "codemirror_mode": {
    "name": "ipython",
    "version": 3
   },
   "file_extension": ".py",
   "mimetype": "text/x-python",
   "name": "python",
   "nbconvert_exporter": "python",
   "pygments_lexer": "ipython3",
   "version": "3.5.2"
  }
 },
 "nbformat": 4,
 "nbformat_minor": 2
}
