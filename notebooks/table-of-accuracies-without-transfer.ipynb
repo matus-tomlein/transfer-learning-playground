{
 "cells": [
  {
   "cell_type": "code",
   "execution_count": null,
   "metadata": {
    "collapsed": true
   },
   "outputs": [],
   "source": [
    "import numpy as np\n",
    "import pandas as pd\n",
    "import itertools"
   ]
  },
  {
   "cell_type": "code",
   "execution_count": null,
   "metadata": {
    "collapsed": true
   },
   "outputs": [],
   "source": [
    "with open('../scripts/configuration.json') as f:\n",
    "    configuration = json.load(f)\n",
    "\n",
    "df = pd.DataFrame.from_csv('../scripts/results/results_no_transfer.csv', index_col=None)\n",
    "df = df[df['dataset'] == configuration['datasets'].index(dataset)]\n",
    "devices = configuration['devices']\n",
    "device_roles = configuration['device_roles'][dataset]\n",
    "df['device_name'] = [device_roles[devices[i]] for i in df['device']]\n",
    "df = df.sort_values(by='device_name')\n",
    "without_fs = df[df['feature_selection'] == 0]"
   ]
  }
 ],
 "metadata": {
  "kernelspec": {
   "display_name": "Python 3",
   "language": "python",
   "name": "python3"
  },
  "language_info": {
   "codemirror_mode": {
    "name": "ipython",
    "version": 3
   },
   "file_extension": ".py",
   "mimetype": "text/x-python",
   "name": "python",
   "nbconvert_exporter": "python",
   "pygments_lexer": "ipython3",
   "version": "3.5.2"
  }
 },
 "nbformat": 4,
 "nbformat_minor": 2
}
