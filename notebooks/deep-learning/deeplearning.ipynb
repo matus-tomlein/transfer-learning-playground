{
 "cells": [
  {
   "cell_type": "code",
   "execution_count": 1,
   "metadata": {
    "collapsed": true
   },
   "outputs": [],
   "source": [
    "import tensorflow as tf\n",
    "from yadlt.models.recurrent.lstm import LSTM\n",
    "import pandas as pd\n",
    "import numpy as np\n",
    "from yadlt.utils import utilities"
   ]
  },
  {
   "cell_type": "code",
   "execution_count": 2,
   "metadata": {},
   "outputs": [],
   "source": [
    "flags = tf.app.flags\n",
    "FLAGS = flags.FLAGS\n",
    "\n",
    "# Global configuration\n",
    "# flags.DEFINE_string('dataset', 'mnist', 'Which dataset to use. [\"ptb\"]')\n",
    "# flags.DEFINE_string('ptb_dir', '', 'Path to the ptb dataset directory.')\n",
    "flags.DEFINE_string('name', 'lstm', 'Model name.')\n",
    "flags.DEFINE_integer('seed', -1, 'Seed for the random generators (>= 0).\\\n",
    "    Useful for testing hyperparameters.')\n",
    "\n",
    "# LSTM specific parameters\n",
    "flags.DEFINE_integer('num_layers', 2, 'Number of layers.')\n",
    "flags.DEFINE_integer('num_hidden', 200, 'Number of hidden units.')\n",
    "flags.DEFINE_integer('vocab_size', 10000, 'Vocabulary size.')\n",
    "flags.DEFINE_integer('batch_size', 20, 'Size of each mini-batch.')\n",
    "flags.DEFINE_integer('num_steps', 35, 'Number of unrolled steps of LSTM.')\n",
    "flags.DEFINE_integer('num_epochs', 10, 'Number of epochs.')\n",
    "flags.DEFINE_float('learning_rate', 1.0, 'Initial learning rate.')\n",
    "flags.DEFINE_float('dropout', 0.5, 'Dropout parameter.')\n",
    "flags.DEFINE_float('init_scale', 0.05, 'initial scale of the weights.')\n",
    "flags.DEFINE_integer('max_grad_norm', 5, 'Max norm of the gradient.')\n",
    "flags.DEFINE_float('lr_decay', 0.8, 'lr decay after num_epochs/3.')"
   ]
  },
  {
   "cell_type": "code",
   "execution_count": 3,
   "metadata": {},
   "outputs": [],
   "source": [
    "dataset_path = '../datasets/synergy-final-iter1-features/'\n",
    "\n",
    "target = '128.237.248.186'\n",
    "source = '128.237.246.127'\n",
    "\n",
    "df_train = pd.read_pickle(dataset_path + source + '.p')\n",
    "df_train_labels = pd.read_pickle(dataset_path + source + '_labels.p')\n",
    "\n",
    "df_test = pd.read_pickle(dataset_path + target + '.p')\n",
    "df_test_labels = pd.read_pickle(dataset_path + target + '_labels.p')"
   ]
  },
  {
   "cell_type": "code",
   "execution_count": 4,
   "metadata": {},
   "outputs": [
    {
     "ename": "ValueError",
     "evalue": "could not broadcast input array from shape (51,2442) into shape (51)",
     "output_type": "error",
     "traceback": [
      "\u001b[0;31m---------------------------------------------------------------------------\u001b[0m",
      "\u001b[0;31mValueError\u001b[0m                                Traceback (most recent call last)",
      "\u001b[0;32m<ipython-input-4-685c398b03be>\u001b[0m in \u001b[0;36m<module>\u001b[0;34m()\u001b[0m\n\u001b[1;32m      8\u001b[0m )\n\u001b[1;32m      9\u001b[0m \u001b[0my_train\u001b[0m \u001b[0;34m=\u001b[0m \u001b[0mdf_train_labels\u001b[0m\u001b[0;34m[\u001b[0m\u001b[0;34m'label'\u001b[0m\u001b[0;34m]\u001b[0m\u001b[0;34m\u001b[0m\u001b[0m\n\u001b[0;32m---> 10\u001b[0;31m \u001b[0mmodel\u001b[0m\u001b[0;34m.\u001b[0m\u001b[0mfit\u001b[0m\u001b[0;34m(\u001b[0m\u001b[0mdf_train\u001b[0m\u001b[0;34m.\u001b[0m\u001b[0mvalues\u001b[0m\u001b[0;34m,\u001b[0m \u001b[0my_train\u001b[0m\u001b[0;34m)\u001b[0m\u001b[0;34m\u001b[0m\u001b[0m\n\u001b[0m",
      "\u001b[0;32m/home/giotto/.local/lib/python3.5/site-packages/yadlt/models/recurrent/lstm.py\u001b[0m in \u001b[0;36mfit\u001b[0;34m(self, train_set, test_set)\u001b[0m\n\u001b[1;32m     66\u001b[0m                     tf.assign(self.lr_var, tf.multiply(self.learning_rate, lr_decay)))\n\u001b[1;32m     67\u001b[0m \u001b[0;34m\u001b[0m\u001b[0m\n\u001b[0;32m---> 68\u001b[0;31m                 \u001b[0mtrain_perplexity\u001b[0m \u001b[0;34m=\u001b[0m \u001b[0mself\u001b[0m\u001b[0;34m.\u001b[0m\u001b[0m_run_train_step\u001b[0m\u001b[0;34m(\u001b[0m\u001b[0mtrain_set\u001b[0m\u001b[0;34m,\u001b[0m \u001b[0;34m'train'\u001b[0m\u001b[0;34m)\u001b[0m\u001b[0;34m\u001b[0m\u001b[0m\n\u001b[0m\u001b[1;32m     69\u001b[0m                 print(\"Epoch: %d Train Perplexity: %.3f\"\n\u001b[1;32m     70\u001b[0m                       % (i + 1, train_perplexity))\n",
      "\u001b[0;32m/home/giotto/.local/lib/python3.5/site-packages/yadlt/models/recurrent/lstm.py\u001b[0m in \u001b[0;36m_run_train_step\u001b[0;34m(self, data, mode)\u001b[0m\n\u001b[1;32m     91\u001b[0m         for step, (x, y) in enumerate(\n\u001b[1;32m     92\u001b[0m             utilities.seq_data_iterator(\n\u001b[0;32m---> 93\u001b[0;31m                 data, self.batch_size, self.num_steps)):\n\u001b[0m\u001b[1;32m     94\u001b[0m             cost, state, _ = self.tf_session.run(\n\u001b[1;32m     95\u001b[0m                 \u001b[0;34m[\u001b[0m\u001b[0mself\u001b[0m\u001b[0;34m.\u001b[0m\u001b[0mcost\u001b[0m\u001b[0;34m,\u001b[0m \u001b[0mself\u001b[0m\u001b[0;34m.\u001b[0m\u001b[0mfinal_state\u001b[0m\u001b[0;34m,\u001b[0m \u001b[0mop\u001b[0m\u001b[0;34m]\u001b[0m\u001b[0;34m,\u001b[0m\u001b[0;34m\u001b[0m\u001b[0m\n",
      "\u001b[0;32m/home/giotto/.local/lib/python3.5/site-packages/yadlt/utils/utilities.py\u001b[0m in \u001b[0;36mseq_data_iterator\u001b[0;34m(raw_data, batch_size, num_steps)\u001b[0m\n\u001b[1;32m     69\u001b[0m     \u001b[0mdata\u001b[0m \u001b[0;34m=\u001b[0m \u001b[0mnp\u001b[0m\u001b[0;34m.\u001b[0m\u001b[0mzeros\u001b[0m\u001b[0;34m(\u001b[0m\u001b[0;34m[\u001b[0m\u001b[0mbatch_size\u001b[0m\u001b[0;34m,\u001b[0m \u001b[0mbatch_len\u001b[0m\u001b[0;34m]\u001b[0m\u001b[0;34m,\u001b[0m \u001b[0mdtype\u001b[0m\u001b[0;34m=\u001b[0m\u001b[0mnp\u001b[0m\u001b[0;34m.\u001b[0m\u001b[0mint32\u001b[0m\u001b[0;34m)\u001b[0m\u001b[0;34m\u001b[0m\u001b[0m\n\u001b[1;32m     70\u001b[0m     \u001b[0;32mfor\u001b[0m \u001b[0mi\u001b[0m \u001b[0;32min\u001b[0m \u001b[0mrange\u001b[0m\u001b[0;34m(\u001b[0m\u001b[0mbatch_size\u001b[0m\u001b[0;34m)\u001b[0m\u001b[0;34m:\u001b[0m\u001b[0;34m\u001b[0m\u001b[0m\n\u001b[0;32m---> 71\u001b[0;31m         \u001b[0mdata\u001b[0m\u001b[0;34m[\u001b[0m\u001b[0mi\u001b[0m\u001b[0;34m]\u001b[0m \u001b[0;34m=\u001b[0m \u001b[0mraw_data\u001b[0m\u001b[0;34m[\u001b[0m\u001b[0mbatch_len\u001b[0m \u001b[0;34m*\u001b[0m \u001b[0mi\u001b[0m\u001b[0;34m:\u001b[0m\u001b[0mbatch_len\u001b[0m \u001b[0;34m*\u001b[0m \u001b[0;34m(\u001b[0m\u001b[0mi\u001b[0m \u001b[0;34m+\u001b[0m \u001b[0;36m1\u001b[0m\u001b[0;34m)\u001b[0m\u001b[0;34m]\u001b[0m\u001b[0;34m\u001b[0m\u001b[0m\n\u001b[0m\u001b[1;32m     72\u001b[0m \u001b[0;34m\u001b[0m\u001b[0m\n\u001b[1;32m     73\u001b[0m     \u001b[0mepoch_size\u001b[0m \u001b[0;34m=\u001b[0m \u001b[0;34m(\u001b[0m\u001b[0mbatch_len\u001b[0m \u001b[0;34m-\u001b[0m \u001b[0;36m1\u001b[0m\u001b[0;34m)\u001b[0m \u001b[0;34m//\u001b[0m \u001b[0mnum_steps\u001b[0m\u001b[0;34m\u001b[0m\u001b[0m\n",
      "\u001b[0;31mValueError\u001b[0m: could not broadcast input array from shape (51,2442) into shape (51)"
     ]
    }
   ],
   "source": [
    "utilities.random_seed_np_tf(FLAGS.seed)\n",
    "\n",
    "model = LSTM(\n",
    "    FLAGS.num_layers, FLAGS.num_hidden, FLAGS.vocab_size,\n",
    "    FLAGS.batch_size, FLAGS.num_steps, FLAGS.num_epochs,\n",
    "    FLAGS.learning_rate, FLAGS.dropout, FLAGS.init_scale,\n",
    "    FLAGS.max_grad_norm, FLAGS.lr_decay\n",
    ")\n",
    "y_train = df_train_labels['label']\n",
    "model.fit(df_train.values, y_train)"
   ]
  },
  {
   "cell_type": "code",
   "execution_count": null,
   "metadata": {
    "collapsed": true
   },
   "outputs": [],
   "source": []
  }
 ],
 "metadata": {
  "kernelspec": {
   "display_name": "Python 3",
   "language": "python",
   "name": "python3"
  },
  "language_info": {
   "codemirror_mode": {
    "name": "ipython",
    "version": 3
   },
   "file_extension": ".py",
   "mimetype": "text/x-python",
   "name": "python",
   "nbconvert_exporter": "python",
   "pygments_lexer": "ipython3",
   "version": "3.5.2"
  }
 },
 "nbformat": 4,
 "nbformat_minor": 2
}
