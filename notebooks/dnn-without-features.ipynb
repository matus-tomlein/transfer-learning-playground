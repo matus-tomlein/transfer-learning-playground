{
 "cells": [
  {
   "cell_type": "code",
   "execution_count": 84,
   "metadata": {
    "collapsed": true
   },
   "outputs": [],
   "source": [
    "import keras\n",
    "from keras.models import Sequential\n",
    "from keras.layers import Dense, Activation, Dropout\n",
    "from keras.layers import Embedding\n",
    "from keras.layers import Conv1D, LSTM, Conv2D, MaxPooling1D, MaxPooling2D\n",
    "from sklearn.preprocessing import StandardScaler\n",
    "from keras.optimizers import Adam, SGD\n",
    "import pandas as pd\n",
    "import numpy as np"
   ]
  },
  {
   "cell_type": "code",
   "execution_count": 85,
   "metadata": {
    "collapsed": true
   },
   "outputs": [],
   "source": [
    "dataset_path = '../datasets/synergy-final-iter1-processed/'\n",
    "\n",
    "device = 'xdk_1'\n",
    "\n",
    "df = pd.read_pickle(dataset_path + device + '.p')\n",
    "df_labels = pd.read_pickle(dataset_path + device + '_labels.p')\n",
    "\n",
    "# filter activities\n",
    "use_activities = [0,1,2,3,4,5,6,7]\n",
    "num_classes = len(use_activities)\n",
    "df_labels = df_labels.loc[df_labels.label.isin(use_activities)]"
   ]
  },
  {
   "cell_type": "code",
   "execution_count": 86,
   "metadata": {
    "collapsed": true
   },
   "outputs": [],
   "source": [
    "columns = ['accel_x', 'accel_y', 'accel_z']\n",
    "\n",
    "scaler = StandardScaler()\n",
    "\n",
    "df[columns] = scaler.fit_transform(df[columns])"
   ]
  },
  {
   "cell_type": "code",
   "execution_count": 87,
   "metadata": {},
   "outputs": [],
   "source": [
    "from keras.preprocessing.sequence import pad_sequences\n",
    "\n",
    "def extract_window_data(window_id):\n",
    "    segment = df.loc[df.id == window_id]\n",
    "    data = segment[columns].values.T\n",
    "    return pad_sequences(data,\n",
    "                         maxlen=50,\n",
    "                         dtype='float64',\n",
    "                         padding='post',\n",
    "                         value=0)\n",
    "\n",
    "x = np.array([extract_window_data(id) for id in df_labels.index])\n",
    "y = df_labels[['label']].values"
   ]
  },
  {
   "cell_type": "code",
   "execution_count": 88,
   "metadata": {},
   "outputs": [
    {
     "data": {
      "text/plain": [
       "(578, 3, 50)"
      ]
     },
     "execution_count": 88,
     "metadata": {},
     "output_type": "execute_result"
    }
   ],
   "source": [
    "x.shape"
   ]
  },
  {
   "cell_type": "code",
   "execution_count": 89,
   "metadata": {
    "collapsed": true
   },
   "outputs": [],
   "source": [
    "train_test_split = np.random.rand(len(x)) < 0.70\n",
    "x_train = x[train_test_split]\n",
    "y_train = y[train_test_split]\n",
    "x_test = x[~train_test_split]\n",
    "y_test = y[~train_test_split]\n",
    "\n",
    "y_train = keras.utils.to_categorical(y_train, num_classes=num_classes)\n",
    "y_test = keras.utils.to_categorical(y_test, num_classes=num_classes)"
   ]
  },
  {
   "cell_type": "code",
   "execution_count": 94,
   "metadata": {
    "collapsed": true
   },
   "outputs": [],
   "source": [
    "batch_size = 32\n",
    "timesteps = 3\n",
    "data_dim = 50"
   ]
  },
  {
   "cell_type": "code",
   "execution_count": 95,
   "metadata": {
    "collapsed": true
   },
   "outputs": [],
   "source": [
    "import math\n",
    "\n",
    "# x_train = x_train[:math.floor(len(x_train) / batch_size) * batch_size]\n",
    "# x_test = x_test[:math.floor(len(x_test) / batch_size) * batch_size]\n",
    "# y_train = y_train[:math.floor(len(y_train) / batch_size) * batch_size]\n",
    "# y_test = y_test[:math.floor(len(y_test) / batch_size) * batch_size]"
   ]
  },
  {
   "cell_type": "code",
   "execution_count": 103,
   "metadata": {},
   "outputs": [
    {
     "name": "stdout",
     "output_type": "stream",
     "text": [
      "Train on 416 samples, validate on 162 samples\n",
      "Epoch 1/50\n",
      "416/416 [==============================] - 1s - loss: 2.0792 - acc: 0.1298 - val_loss: 2.0802 - val_acc: 0.1111\n",
      "Epoch 2/50\n",
      "416/416 [==============================] - 0s - loss: 2.0716 - acc: 0.2043 - val_loss: 2.0813 - val_acc: 0.1235\n",
      "Epoch 3/50\n",
      "416/416 [==============================] - 0s - loss: 2.0587 - acc: 0.2163 - val_loss: 2.0828 - val_acc: 0.1358\n",
      "Epoch 4/50\n",
      "416/416 [==============================] - 0s - loss: 2.0254 - acc: 0.2284 - val_loss: 2.0877 - val_acc: 0.1358\n",
      "Epoch 5/50\n",
      "416/416 [==============================] - 0s - loss: 1.9296 - acc: 0.2572 - val_loss: 2.1184 - val_acc: 0.1543\n",
      "Epoch 6/50\n",
      "416/416 [==============================] - 0s - loss: 1.7653 - acc: 0.3654 - val_loss: 2.2387 - val_acc: 0.1605\n",
      "Epoch 7/50\n",
      "416/416 [==============================] - 0s - loss: 1.5225 - acc: 0.4712 - val_loss: 2.3121 - val_acc: 0.1790\n",
      "Epoch 8/50\n",
      "416/416 [==============================] - 0s - loss: 1.2638 - acc: 0.5264 - val_loss: 2.7289 - val_acc: 0.1790\n",
      "Epoch 9/50\n",
      "416/416 [==============================] - 0s - loss: 0.9423 - acc: 0.6394 - val_loss: 3.0532 - val_acc: 0.1914\n",
      "Epoch 10/50\n",
      "416/416 [==============================] - 0s - loss: 0.6512 - acc: 0.7740 - val_loss: 3.5052 - val_acc: 0.1728\n",
      "Epoch 11/50\n",
      "416/416 [==============================] - 0s - loss: 0.3841 - acc: 0.8750 - val_loss: 3.7555 - val_acc: 0.1790\n",
      "Epoch 12/50\n",
      "416/416 [==============================] - 0s - loss: 0.2213 - acc: 0.9447 - val_loss: 3.9134 - val_acc: 0.1728\n",
      "Epoch 13/50\n",
      "416/416 [==============================] - 0s - loss: 0.1022 - acc: 0.9880 - val_loss: 4.2149 - val_acc: 0.1790\n",
      "Epoch 14/50\n",
      "416/416 [==============================] - 0s - loss: 0.0512 - acc: 1.0000 - val_loss: 4.4018 - val_acc: 0.1852\n",
      "Epoch 15/50\n",
      "416/416 [==============================] - 0s - loss: 0.0278 - acc: 1.0000 - val_loss: 4.5424 - val_acc: 0.1914\n",
      "Epoch 16/50\n",
      "416/416 [==============================] - 0s - loss: 0.0185 - acc: 1.0000 - val_loss: 4.6185 - val_acc: 0.1914\n",
      "Epoch 17/50\n",
      "416/416 [==============================] - 0s - loss: 0.0134 - acc: 1.0000 - val_loss: 4.7251 - val_acc: 0.1975\n",
      "Epoch 18/50\n",
      "416/416 [==============================] - 0s - loss: 0.0106 - acc: 1.0000 - val_loss: 4.7866 - val_acc: 0.1914\n",
      "Epoch 19/50\n",
      "416/416 [==============================] - 0s - loss: 0.0088 - acc: 1.0000 - val_loss: 4.8207 - val_acc: 0.1914\n",
      "Epoch 20/50\n",
      "416/416 [==============================] - 0s - loss: 0.0076 - acc: 1.0000 - val_loss: 4.8688 - val_acc: 0.1975\n",
      "Epoch 21/50\n",
      "416/416 [==============================] - 0s - loss: 0.0066 - acc: 1.0000 - val_loss: 4.9129 - val_acc: 0.1914\n",
      "Epoch 22/50\n",
      "416/416 [==============================] - 0s - loss: 0.0059 - acc: 1.0000 - val_loss: 4.9605 - val_acc: 0.1914\n",
      "Epoch 23/50\n",
      "416/416 [==============================] - 0s - loss: 0.0052 - acc: 1.0000 - val_loss: 4.9964 - val_acc: 0.1975\n",
      "Epoch 24/50\n",
      "416/416 [==============================] - 0s - loss: 0.0047 - acc: 1.0000 - val_loss: 5.0332 - val_acc: 0.1914\n",
      "Epoch 25/50\n",
      "416/416 [==============================] - 0s - loss: 0.0043 - acc: 1.0000 - val_loss: 5.0617 - val_acc: 0.1914\n",
      "Epoch 26/50\n",
      "416/416 [==============================] - 0s - loss: 0.0039 - acc: 1.0000 - val_loss: 5.0910 - val_acc: 0.1914\n",
      "Epoch 27/50\n",
      "416/416 [==============================] - 0s - loss: 0.0036 - acc: 1.0000 - val_loss: 5.1218 - val_acc: 0.1914\n",
      "Epoch 28/50\n",
      "416/416 [==============================] - 0s - loss: 0.0033 - acc: 1.0000 - val_loss: 5.1466 - val_acc: 0.1914\n",
      "Epoch 29/50\n",
      "416/416 [==============================] - 0s - loss: 0.0031 - acc: 1.0000 - val_loss: 5.1723 - val_acc: 0.1914\n",
      "Epoch 30/50\n",
      "416/416 [==============================] - 0s - loss: 0.0028 - acc: 1.0000 - val_loss: 5.1940 - val_acc: 0.1914\n",
      "Epoch 31/50\n",
      "416/416 [==============================] - 0s - loss: 0.0027 - acc: 1.0000 - val_loss: 5.2176 - val_acc: 0.1914\n",
      "Epoch 32/50\n",
      "416/416 [==============================] - 0s - loss: 0.0025 - acc: 1.0000 - val_loss: 5.2400 - val_acc: 0.1914\n",
      "Epoch 33/50\n",
      "416/416 [==============================] - 0s - loss: 0.0023 - acc: 1.0000 - val_loss: 5.2605 - val_acc: 0.1914\n",
      "Epoch 34/50\n",
      "416/416 [==============================] - 0s - loss: 0.0022 - acc: 1.0000 - val_loss: 5.2802 - val_acc: 0.1914\n",
      "Epoch 35/50\n",
      "416/416 [==============================] - 0s - loss: 0.0021 - acc: 1.0000 - val_loss: 5.3009 - val_acc: 0.1914\n",
      "Epoch 36/50\n",
      "416/416 [==============================] - 0s - loss: 0.0019 - acc: 1.0000 - val_loss: 5.3176 - val_acc: 0.1914\n",
      "Epoch 37/50\n",
      "416/416 [==============================] - 0s - loss: 0.0018 - acc: 1.0000 - val_loss: 5.3361 - val_acc: 0.1914\n",
      "Epoch 38/50\n",
      "416/416 [==============================] - 0s - loss: 0.0017 - acc: 1.0000 - val_loss: 5.3537 - val_acc: 0.1914\n",
      "Epoch 39/50\n",
      "416/416 [==============================] - 0s - loss: 0.0017 - acc: 1.0000 - val_loss: 5.3715 - val_acc: 0.1914\n",
      "Epoch 40/50\n",
      "416/416 [==============================] - 0s - loss: 0.0016 - acc: 1.0000 - val_loss: 5.3891 - val_acc: 0.1914\n",
      "Epoch 41/50\n",
      "416/416 [==============================] - 0s - loss: 0.0015 - acc: 1.0000 - val_loss: 5.4041 - val_acc: 0.1914\n",
      "Epoch 42/50\n",
      "416/416 [==============================] - 0s - loss: 0.0014 - acc: 1.0000 - val_loss: 5.4190 - val_acc: 0.1914\n",
      "Epoch 43/50\n",
      "416/416 [==============================] - 0s - loss: 0.0014 - acc: 1.0000 - val_loss: 5.4342 - val_acc: 0.1914\n",
      "Epoch 44/50\n",
      "416/416 [==============================] - 0s - loss: 0.0013 - acc: 1.0000 - val_loss: 5.4481 - val_acc: 0.1914\n",
      "Epoch 45/50\n",
      "416/416 [==============================] - 0s - loss: 0.0013 - acc: 1.0000 - val_loss: 5.4628 - val_acc: 0.1914\n",
      "Epoch 46/50\n",
      "416/416 [==============================] - 0s - loss: 0.0012 - acc: 1.0000 - val_loss: 5.4765 - val_acc: 0.1914\n",
      "Epoch 47/50\n",
      "416/416 [==============================] - 0s - loss: 0.0012 - acc: 1.0000 - val_loss: 5.4919 - val_acc: 0.1914\n",
      "Epoch 48/50\n",
      "416/416 [==============================] - 0s - loss: 0.0011 - acc: 1.0000 - val_loss: 5.5037 - val_acc: 0.1914\n",
      "Epoch 49/50\n",
      "416/416 [==============================] - 0s - loss: 0.0011 - acc: 1.0000 - val_loss: 5.5170 - val_acc: 0.1914\n",
      "Epoch 50/50\n",
      "416/416 [==============================] - 0s - loss: 0.0010 - acc: 1.0000 - val_loss: 5.5298 - val_acc: 0.1914\n",
      " 32/162 [====>.........................] - ETA: 0s"
     ]
    },
    {
     "data": {
      "text/plain": [
       "[5.529796138221835, 0.19135802469135801]"
      ]
     },
     "execution_count": 103,
     "metadata": {},
     "output_type": "execute_result"
    }
   ],
   "source": [
    "model = Sequential()\n",
    "model.add(LSTM(128, return_sequences=True, stateful=False,\n",
    "               input_shape=(timesteps, data_dim)))\n",
    "model.add(MaxPooling1D(3))\n",
    "model.add(Dropout(1))\n",
    "model.add(LSTM(128, return_sequences=True, stateful=False))\n",
    "model.add(Dropout(1))\n",
    "model.add(LSTM(128, stateful=False))\n",
    "model.add(Dropout(1))\n",
    "model.add(Dense(num_classes, activation='softmax'))\n",
    "\n",
    "opt = Adam(lr=0.001)\n",
    "model.compile(loss='categorical_crossentropy',\n",
    "              optimizer=opt,\n",
    "              metrics=['accuracy'])\n",
    "\n",
    "model.fit(x_train, y_train,\n",
    "          validation_data=(x_test, y_test),\n",
    "          batch_size=batch_size, epochs=50)\n",
    "\n",
    "score = model.evaluate(x_test, y_test, batch_size=batch_size)\n",
    "score"
   ]
  },
  {
   "cell_type": "code",
   "execution_count": 99,
   "metadata": {},
   "outputs": [
    {
     "ename": "ValueError",
     "evalue": "Negative dimension size caused by subtracting 3 from 1 for 'max_pooling1d_3/MaxPool' (op: 'MaxPool') with input shapes: [?,1,1,250].",
     "output_type": "error",
     "traceback": [
      "\u001b[0;31m---------------------------------------------------------------------------\u001b[0m",
      "\u001b[0;31mInvalidArgumentError\u001b[0m                      Traceback (most recent call last)",
      "\u001b[0;32m/home/giotto/.local/lib/python3.5/site-packages/tensorflow/python/framework/common_shapes.py\u001b[0m in \u001b[0;36m_call_cpp_shape_fn_impl\u001b[0;34m(op, input_tensors_needed, input_tensors_as_shapes_needed, debug_python_shape_fn, require_shape_fn)\u001b[0m\n\u001b[1;32m    670\u001b[0m           \u001b[0mgraph_def_version\u001b[0m\u001b[0;34m,\u001b[0m \u001b[0mnode_def_str\u001b[0m\u001b[0;34m,\u001b[0m \u001b[0minput_shapes\u001b[0m\u001b[0;34m,\u001b[0m \u001b[0minput_tensors\u001b[0m\u001b[0;34m,\u001b[0m\u001b[0;34m\u001b[0m\u001b[0m\n\u001b[0;32m--> 671\u001b[0;31m           input_tensors_as_shapes, status)\n\u001b[0m\u001b[1;32m    672\u001b[0m   \u001b[0;32mexcept\u001b[0m \u001b[0merrors\u001b[0m\u001b[0;34m.\u001b[0m\u001b[0mInvalidArgumentError\u001b[0m \u001b[0;32mas\u001b[0m \u001b[0merr\u001b[0m\u001b[0;34m:\u001b[0m\u001b[0;34m\u001b[0m\u001b[0m\n",
      "\u001b[0;32m/usr/lib/python3.5/contextlib.py\u001b[0m in \u001b[0;36m__exit__\u001b[0;34m(self, type, value, traceback)\u001b[0m\n\u001b[1;32m     65\u001b[0m             \u001b[0;32mtry\u001b[0m\u001b[0;34m:\u001b[0m\u001b[0;34m\u001b[0m\u001b[0m\n\u001b[0;32m---> 66\u001b[0;31m                 \u001b[0mnext\u001b[0m\u001b[0;34m(\u001b[0m\u001b[0mself\u001b[0m\u001b[0;34m.\u001b[0m\u001b[0mgen\u001b[0m\u001b[0;34m)\u001b[0m\u001b[0;34m\u001b[0m\u001b[0m\n\u001b[0m\u001b[1;32m     67\u001b[0m             \u001b[0;32mexcept\u001b[0m \u001b[0mStopIteration\u001b[0m\u001b[0;34m:\u001b[0m\u001b[0;34m\u001b[0m\u001b[0m\n",
      "\u001b[0;32m/home/giotto/.local/lib/python3.5/site-packages/tensorflow/python/framework/errors_impl.py\u001b[0m in \u001b[0;36mraise_exception_on_not_ok_status\u001b[0;34m()\u001b[0m\n\u001b[1;32m    465\u001b[0m           \u001b[0mcompat\u001b[0m\u001b[0;34m.\u001b[0m\u001b[0mas_text\u001b[0m\u001b[0;34m(\u001b[0m\u001b[0mpywrap_tensorflow\u001b[0m\u001b[0;34m.\u001b[0m\u001b[0mTF_Message\u001b[0m\u001b[0;34m(\u001b[0m\u001b[0mstatus\u001b[0m\u001b[0;34m)\u001b[0m\u001b[0;34m)\u001b[0m\u001b[0;34m,\u001b[0m\u001b[0;34m\u001b[0m\u001b[0m\n\u001b[0;32m--> 466\u001b[0;31m           pywrap_tensorflow.TF_GetCode(status))\n\u001b[0m\u001b[1;32m    467\u001b[0m   \u001b[0;32mfinally\u001b[0m\u001b[0;34m:\u001b[0m\u001b[0;34m\u001b[0m\u001b[0m\n",
      "\u001b[0;31mInvalidArgumentError\u001b[0m: Negative dimension size caused by subtracting 3 from 1 for 'max_pooling1d_3/MaxPool' (op: 'MaxPool') with input shapes: [?,1,1,250].",
      "\nDuring handling of the above exception, another exception occurred:\n",
      "\u001b[0;31mValueError\u001b[0m                                Traceback (most recent call last)",
      "\u001b[0;32m<ipython-input-99-c46861cb2321>\u001b[0m in \u001b[0;36m<module>\u001b[0;34m()\u001b[0m\n\u001b[1;32m     20\u001b[0m                  \u001b[0minput_shape\u001b[0m\u001b[0;34m=\u001b[0m\u001b[0;34m(\u001b[0m\u001b[0mtimesteps\u001b[0m\u001b[0;34m,\u001b[0m \u001b[0mdata_dim\u001b[0m\u001b[0;34m)\u001b[0m\u001b[0;34m,\u001b[0m\u001b[0;34m\u001b[0m\u001b[0m\n\u001b[1;32m     21\u001b[0m                  strides=1))\n\u001b[0;32m---> 22\u001b[0;31m \u001b[0mmodel\u001b[0m\u001b[0;34m.\u001b[0m\u001b[0madd\u001b[0m\u001b[0;34m(\u001b[0m\u001b[0mMaxPooling1D\u001b[0m\u001b[0;34m(\u001b[0m\u001b[0;36m3\u001b[0m\u001b[0;34m)\u001b[0m\u001b[0;34m)\u001b[0m\u001b[0;34m\u001b[0m\u001b[0m\n\u001b[0m\u001b[1;32m     23\u001b[0m \u001b[0mmodel\u001b[0m\u001b[0;34m.\u001b[0m\u001b[0madd\u001b[0m\u001b[0;34m(\u001b[0m\u001b[0mLSTM\u001b[0m\u001b[0;34m(\u001b[0m\u001b[0;36m128\u001b[0m\u001b[0;34m)\u001b[0m\u001b[0;34m)\u001b[0m\u001b[0;34m\u001b[0m\u001b[0m\n\u001b[1;32m     24\u001b[0m \u001b[0mmodel\u001b[0m\u001b[0;34m.\u001b[0m\u001b[0madd\u001b[0m\u001b[0;34m(\u001b[0m\u001b[0mDropout\u001b[0m\u001b[0;34m(\u001b[0m\u001b[0;36m0.5\u001b[0m\u001b[0;34m)\u001b[0m\u001b[0;34m)\u001b[0m\u001b[0;34m\u001b[0m\u001b[0m\n",
      "\u001b[0;32m/home/giotto/.local/lib/python3.5/site-packages/keras/models.py\u001b[0m in \u001b[0;36madd\u001b[0;34m(self, layer)\u001b[0m\n\u001b[1;32m    461\u001b[0m                           output_shapes=[self.outputs[0]._keras_shape])\n\u001b[1;32m    462\u001b[0m         \u001b[0;32melse\u001b[0m\u001b[0;34m:\u001b[0m\u001b[0;34m\u001b[0m\u001b[0m\n\u001b[0;32m--> 463\u001b[0;31m             \u001b[0moutput_tensor\u001b[0m \u001b[0;34m=\u001b[0m \u001b[0mlayer\u001b[0m\u001b[0;34m(\u001b[0m\u001b[0mself\u001b[0m\u001b[0;34m.\u001b[0m\u001b[0moutputs\u001b[0m\u001b[0;34m[\u001b[0m\u001b[0;36m0\u001b[0m\u001b[0;34m]\u001b[0m\u001b[0;34m)\u001b[0m\u001b[0;34m\u001b[0m\u001b[0m\n\u001b[0m\u001b[1;32m    464\u001b[0m             \u001b[0;32mif\u001b[0m \u001b[0misinstance\u001b[0m\u001b[0;34m(\u001b[0m\u001b[0moutput_tensor\u001b[0m\u001b[0;34m,\u001b[0m \u001b[0mlist\u001b[0m\u001b[0;34m)\u001b[0m\u001b[0;34m:\u001b[0m\u001b[0;34m\u001b[0m\u001b[0m\n\u001b[1;32m    465\u001b[0m                 raise TypeError('All layers in a Sequential model '\n",
      "\u001b[0;32m/home/giotto/.local/lib/python3.5/site-packages/keras/engine/topology.py\u001b[0m in \u001b[0;36m__call__\u001b[0;34m(self, inputs, **kwargs)\u001b[0m\n\u001b[1;32m    576\u001b[0m \u001b[0;34m\u001b[0m\u001b[0m\n\u001b[1;32m    577\u001b[0m             \u001b[0;31m# Actually call the layer, collecting output(s), mask(s), and shape(s).\u001b[0m\u001b[0;34m\u001b[0m\u001b[0;34m\u001b[0m\u001b[0m\n\u001b[0;32m--> 578\u001b[0;31m             \u001b[0moutput\u001b[0m \u001b[0;34m=\u001b[0m \u001b[0mself\u001b[0m\u001b[0;34m.\u001b[0m\u001b[0mcall\u001b[0m\u001b[0;34m(\u001b[0m\u001b[0minputs\u001b[0m\u001b[0;34m,\u001b[0m \u001b[0;34m**\u001b[0m\u001b[0mkwargs\u001b[0m\u001b[0;34m)\u001b[0m\u001b[0;34m\u001b[0m\u001b[0m\n\u001b[0m\u001b[1;32m    579\u001b[0m             \u001b[0moutput_mask\u001b[0m \u001b[0;34m=\u001b[0m \u001b[0mself\u001b[0m\u001b[0;34m.\u001b[0m\u001b[0mcompute_mask\u001b[0m\u001b[0;34m(\u001b[0m\u001b[0minputs\u001b[0m\u001b[0;34m,\u001b[0m \u001b[0mprevious_mask\u001b[0m\u001b[0;34m)\u001b[0m\u001b[0;34m\u001b[0m\u001b[0m\n\u001b[1;32m    580\u001b[0m \u001b[0;34m\u001b[0m\u001b[0m\n",
      "\u001b[0;32m/home/giotto/.local/lib/python3.5/site-packages/keras/layers/pooling.py\u001b[0m in \u001b[0;36mcall\u001b[0;34m(self, inputs)\u001b[0m\n\u001b[1;32m     40\u001b[0m                                         \u001b[0mstrides\u001b[0m\u001b[0;34m=\u001b[0m\u001b[0mself\u001b[0m\u001b[0;34m.\u001b[0m\u001b[0mstrides\u001b[0m \u001b[0;34m+\u001b[0m \u001b[0;34m(\u001b[0m\u001b[0;36m1\u001b[0m\u001b[0;34m,\u001b[0m\u001b[0;34m)\u001b[0m\u001b[0;34m,\u001b[0m\u001b[0;34m\u001b[0m\u001b[0m\n\u001b[1;32m     41\u001b[0m                                         \u001b[0mpadding\u001b[0m\u001b[0;34m=\u001b[0m\u001b[0mself\u001b[0m\u001b[0;34m.\u001b[0m\u001b[0mpadding\u001b[0m\u001b[0;34m,\u001b[0m\u001b[0;34m\u001b[0m\u001b[0m\n\u001b[0;32m---> 42\u001b[0;31m                                         data_format='channels_last')\n\u001b[0m\u001b[1;32m     43\u001b[0m         \u001b[0;32mreturn\u001b[0m \u001b[0mK\u001b[0m\u001b[0;34m.\u001b[0m\u001b[0msqueeze\u001b[0m\u001b[0;34m(\u001b[0m\u001b[0moutput\u001b[0m\u001b[0;34m,\u001b[0m \u001b[0;36m2\u001b[0m\u001b[0;34m)\u001b[0m  \u001b[0;31m# remove dummy last dimension\u001b[0m\u001b[0;34m\u001b[0m\u001b[0m\n\u001b[1;32m     44\u001b[0m \u001b[0;34m\u001b[0m\u001b[0m\n",
      "\u001b[0;32m/home/giotto/.local/lib/python3.5/site-packages/keras/layers/pooling.py\u001b[0m in \u001b[0;36m_pooling_function\u001b[0;34m(self, inputs, pool_size, strides, padding, data_format)\u001b[0m\n\u001b[1;32m     77\u001b[0m                           padding, data_format):\n\u001b[1;32m     78\u001b[0m         output = K.pool2d(inputs, pool_size, strides,\n\u001b[0;32m---> 79\u001b[0;31m                           padding, data_format, pool_mode='max')\n\u001b[0m\u001b[1;32m     80\u001b[0m         \u001b[0;32mreturn\u001b[0m \u001b[0moutput\u001b[0m\u001b[0;34m\u001b[0m\u001b[0m\n\u001b[1;32m     81\u001b[0m \u001b[0;34m\u001b[0m\u001b[0m\n",
      "\u001b[0;32m/home/giotto/.local/lib/python3.5/site-packages/keras/backend/tensorflow_backend.py\u001b[0m in \u001b[0;36mpool2d\u001b[0;34m(x, pool_size, strides, padding, data_format, pool_mode)\u001b[0m\n\u001b[1;32m   3041\u001b[0m \u001b[0;34m\u001b[0m\u001b[0m\n\u001b[1;32m   3042\u001b[0m     \u001b[0;32mif\u001b[0m \u001b[0mpool_mode\u001b[0m \u001b[0;34m==\u001b[0m \u001b[0;34m'max'\u001b[0m\u001b[0;34m:\u001b[0m\u001b[0;34m\u001b[0m\u001b[0m\n\u001b[0;32m-> 3043\u001b[0;31m         \u001b[0mx\u001b[0m \u001b[0;34m=\u001b[0m \u001b[0mtf\u001b[0m\u001b[0;34m.\u001b[0m\u001b[0mnn\u001b[0m\u001b[0;34m.\u001b[0m\u001b[0mmax_pool\u001b[0m\u001b[0;34m(\u001b[0m\u001b[0mx\u001b[0m\u001b[0;34m,\u001b[0m \u001b[0mpool_size\u001b[0m\u001b[0;34m,\u001b[0m \u001b[0mstrides\u001b[0m\u001b[0;34m,\u001b[0m \u001b[0mpadding\u001b[0m\u001b[0;34m=\u001b[0m\u001b[0mpadding\u001b[0m\u001b[0;34m)\u001b[0m\u001b[0;34m\u001b[0m\u001b[0m\n\u001b[0m\u001b[1;32m   3044\u001b[0m     \u001b[0;32melif\u001b[0m \u001b[0mpool_mode\u001b[0m \u001b[0;34m==\u001b[0m \u001b[0;34m'avg'\u001b[0m\u001b[0;34m:\u001b[0m\u001b[0;34m\u001b[0m\u001b[0m\n\u001b[1;32m   3045\u001b[0m         \u001b[0mx\u001b[0m \u001b[0;34m=\u001b[0m \u001b[0mtf\u001b[0m\u001b[0;34m.\u001b[0m\u001b[0mnn\u001b[0m\u001b[0;34m.\u001b[0m\u001b[0mavg_pool\u001b[0m\u001b[0;34m(\u001b[0m\u001b[0mx\u001b[0m\u001b[0;34m,\u001b[0m \u001b[0mpool_size\u001b[0m\u001b[0;34m,\u001b[0m \u001b[0mstrides\u001b[0m\u001b[0;34m,\u001b[0m \u001b[0mpadding\u001b[0m\u001b[0;34m=\u001b[0m\u001b[0mpadding\u001b[0m\u001b[0;34m)\u001b[0m\u001b[0;34m\u001b[0m\u001b[0m\n",
      "\u001b[0;32m/home/giotto/.local/lib/python3.5/site-packages/tensorflow/python/ops/nn_ops.py\u001b[0m in \u001b[0;36mmax_pool\u001b[0;34m(value, ksize, strides, padding, data_format, name)\u001b[0m\n\u001b[1;32m   1819\u001b[0m                                 \u001b[0mpadding\u001b[0m\u001b[0;34m=\u001b[0m\u001b[0mpadding\u001b[0m\u001b[0;34m,\u001b[0m\u001b[0;34m\u001b[0m\u001b[0m\n\u001b[1;32m   1820\u001b[0m                                 \u001b[0mdata_format\u001b[0m\u001b[0;34m=\u001b[0m\u001b[0mdata_format\u001b[0m\u001b[0;34m,\u001b[0m\u001b[0;34m\u001b[0m\u001b[0m\n\u001b[0;32m-> 1821\u001b[0;31m                                 name=name)\n\u001b[0m\u001b[1;32m   1822\u001b[0m \u001b[0;34m\u001b[0m\u001b[0m\n\u001b[1;32m   1823\u001b[0m \u001b[0;34m\u001b[0m\u001b[0m\n",
      "\u001b[0;32m/home/giotto/.local/lib/python3.5/site-packages/tensorflow/python/ops/gen_nn_ops.py\u001b[0m in \u001b[0;36m_max_pool\u001b[0;34m(input, ksize, strides, padding, data_format, name)\u001b[0m\n\u001b[1;32m   1636\u001b[0m   result = _op_def_lib.apply_op(\"MaxPool\", input=input, ksize=ksize,\n\u001b[1;32m   1637\u001b[0m                                 \u001b[0mstrides\u001b[0m\u001b[0;34m=\u001b[0m\u001b[0mstrides\u001b[0m\u001b[0;34m,\u001b[0m \u001b[0mpadding\u001b[0m\u001b[0;34m=\u001b[0m\u001b[0mpadding\u001b[0m\u001b[0;34m,\u001b[0m\u001b[0;34m\u001b[0m\u001b[0m\n\u001b[0;32m-> 1638\u001b[0;31m                                 data_format=data_format, name=name)\n\u001b[0m\u001b[1;32m   1639\u001b[0m   \u001b[0;32mreturn\u001b[0m \u001b[0mresult\u001b[0m\u001b[0;34m\u001b[0m\u001b[0m\n\u001b[1;32m   1640\u001b[0m \u001b[0;34m\u001b[0m\u001b[0m\n",
      "\u001b[0;32m/home/giotto/.local/lib/python3.5/site-packages/tensorflow/python/framework/op_def_library.py\u001b[0m in \u001b[0;36mapply_op\u001b[0;34m(self, op_type_name, name, **keywords)\u001b[0m\n\u001b[1;32m    766\u001b[0m         op = g.create_op(op_type_name, inputs, output_types, name=scope,\n\u001b[1;32m    767\u001b[0m                          \u001b[0minput_types\u001b[0m\u001b[0;34m=\u001b[0m\u001b[0minput_types\u001b[0m\u001b[0;34m,\u001b[0m \u001b[0mattrs\u001b[0m\u001b[0;34m=\u001b[0m\u001b[0mattr_protos\u001b[0m\u001b[0;34m,\u001b[0m\u001b[0;34m\u001b[0m\u001b[0m\n\u001b[0;32m--> 768\u001b[0;31m                          op_def=op_def)\n\u001b[0m\u001b[1;32m    769\u001b[0m         \u001b[0;32mif\u001b[0m \u001b[0moutput_structure\u001b[0m\u001b[0;34m:\u001b[0m\u001b[0;34m\u001b[0m\u001b[0m\n\u001b[1;32m    770\u001b[0m           \u001b[0moutputs\u001b[0m \u001b[0;34m=\u001b[0m \u001b[0mop\u001b[0m\u001b[0;34m.\u001b[0m\u001b[0moutputs\u001b[0m\u001b[0;34m\u001b[0m\u001b[0m\n",
      "\u001b[0;32m/home/giotto/.local/lib/python3.5/site-packages/tensorflow/python/framework/ops.py\u001b[0m in \u001b[0;36mcreate_op\u001b[0;34m(self, op_type, inputs, dtypes, input_types, name, attrs, op_def, compute_shapes, compute_device)\u001b[0m\n\u001b[1;32m   2336\u001b[0m                     original_op=self._default_original_op, op_def=op_def)\n\u001b[1;32m   2337\u001b[0m     \u001b[0;32mif\u001b[0m \u001b[0mcompute_shapes\u001b[0m\u001b[0;34m:\u001b[0m\u001b[0;34m\u001b[0m\u001b[0m\n\u001b[0;32m-> 2338\u001b[0;31m       \u001b[0mset_shapes_for_outputs\u001b[0m\u001b[0;34m(\u001b[0m\u001b[0mret\u001b[0m\u001b[0;34m)\u001b[0m\u001b[0;34m\u001b[0m\u001b[0m\n\u001b[0m\u001b[1;32m   2339\u001b[0m     \u001b[0mself\u001b[0m\u001b[0;34m.\u001b[0m\u001b[0m_add_op\u001b[0m\u001b[0;34m(\u001b[0m\u001b[0mret\u001b[0m\u001b[0;34m)\u001b[0m\u001b[0;34m\u001b[0m\u001b[0m\n\u001b[1;32m   2340\u001b[0m     \u001b[0mself\u001b[0m\u001b[0;34m.\u001b[0m\u001b[0m_record_op_seen_by_control_dependencies\u001b[0m\u001b[0;34m(\u001b[0m\u001b[0mret\u001b[0m\u001b[0;34m)\u001b[0m\u001b[0;34m\u001b[0m\u001b[0m\n",
      "\u001b[0;32m/home/giotto/.local/lib/python3.5/site-packages/tensorflow/python/framework/ops.py\u001b[0m in \u001b[0;36mset_shapes_for_outputs\u001b[0;34m(op)\u001b[0m\n\u001b[1;32m   1717\u001b[0m       \u001b[0mshape_func\u001b[0m \u001b[0;34m=\u001b[0m \u001b[0m_call_cpp_shape_fn_and_require_op\u001b[0m\u001b[0;34m\u001b[0m\u001b[0m\n\u001b[1;32m   1718\u001b[0m \u001b[0;34m\u001b[0m\u001b[0m\n\u001b[0;32m-> 1719\u001b[0;31m   \u001b[0mshapes\u001b[0m \u001b[0;34m=\u001b[0m \u001b[0mshape_func\u001b[0m\u001b[0;34m(\u001b[0m\u001b[0mop\u001b[0m\u001b[0;34m)\u001b[0m\u001b[0;34m\u001b[0m\u001b[0m\n\u001b[0m\u001b[1;32m   1720\u001b[0m   \u001b[0;32mif\u001b[0m \u001b[0mshapes\u001b[0m \u001b[0;32mis\u001b[0m \u001b[0;32mNone\u001b[0m\u001b[0;34m:\u001b[0m\u001b[0;34m\u001b[0m\u001b[0m\n\u001b[1;32m   1721\u001b[0m     raise RuntimeError(\n",
      "\u001b[0;32m/home/giotto/.local/lib/python3.5/site-packages/tensorflow/python/framework/ops.py\u001b[0m in \u001b[0;36mcall_with_requiring\u001b[0;34m(op)\u001b[0m\n\u001b[1;32m   1667\u001b[0m \u001b[0;34m\u001b[0m\u001b[0m\n\u001b[1;32m   1668\u001b[0m   \u001b[0;32mdef\u001b[0m \u001b[0mcall_with_requiring\u001b[0m\u001b[0;34m(\u001b[0m\u001b[0mop\u001b[0m\u001b[0;34m)\u001b[0m\u001b[0;34m:\u001b[0m\u001b[0;34m\u001b[0m\u001b[0m\n\u001b[0;32m-> 1669\u001b[0;31m     \u001b[0;32mreturn\u001b[0m \u001b[0mcall_cpp_shape_fn\u001b[0m\u001b[0;34m(\u001b[0m\u001b[0mop\u001b[0m\u001b[0;34m,\u001b[0m \u001b[0mrequire_shape_fn\u001b[0m\u001b[0;34m=\u001b[0m\u001b[0;32mTrue\u001b[0m\u001b[0;34m)\u001b[0m\u001b[0;34m\u001b[0m\u001b[0m\n\u001b[0m\u001b[1;32m   1670\u001b[0m \u001b[0;34m\u001b[0m\u001b[0m\n\u001b[1;32m   1671\u001b[0m   \u001b[0m_call_cpp_shape_fn_and_require_op\u001b[0m \u001b[0;34m=\u001b[0m \u001b[0mcall_with_requiring\u001b[0m\u001b[0;34m\u001b[0m\u001b[0m\n",
      "\u001b[0;32m/home/giotto/.local/lib/python3.5/site-packages/tensorflow/python/framework/common_shapes.py\u001b[0m in \u001b[0;36mcall_cpp_shape_fn\u001b[0;34m(op, input_tensors_needed, input_tensors_as_shapes_needed, debug_python_shape_fn, require_shape_fn)\u001b[0m\n\u001b[1;32m    608\u001b[0m     res = _call_cpp_shape_fn_impl(op, input_tensors_needed,\n\u001b[1;32m    609\u001b[0m                                   \u001b[0minput_tensors_as_shapes_needed\u001b[0m\u001b[0;34m,\u001b[0m\u001b[0;34m\u001b[0m\u001b[0m\n\u001b[0;32m--> 610\u001b[0;31m                                   debug_python_shape_fn, require_shape_fn)\n\u001b[0m\u001b[1;32m    611\u001b[0m     \u001b[0;32mif\u001b[0m \u001b[0;32mnot\u001b[0m \u001b[0misinstance\u001b[0m\u001b[0;34m(\u001b[0m\u001b[0mres\u001b[0m\u001b[0;34m,\u001b[0m \u001b[0mdict\u001b[0m\u001b[0;34m)\u001b[0m\u001b[0;34m:\u001b[0m\u001b[0;34m\u001b[0m\u001b[0m\n\u001b[1;32m    612\u001b[0m       \u001b[0;31m# Handles the case where _call_cpp_shape_fn_impl calls unknown_shape(op).\u001b[0m\u001b[0;34m\u001b[0m\u001b[0;34m\u001b[0m\u001b[0m\n",
      "\u001b[0;32m/home/giotto/.local/lib/python3.5/site-packages/tensorflow/python/framework/common_shapes.py\u001b[0m in \u001b[0;36m_call_cpp_shape_fn_impl\u001b[0;34m(op, input_tensors_needed, input_tensors_as_shapes_needed, debug_python_shape_fn, require_shape_fn)\u001b[0m\n\u001b[1;32m    674\u001b[0m       \u001b[0mmissing_shape_fn\u001b[0m \u001b[0;34m=\u001b[0m \u001b[0;32mTrue\u001b[0m\u001b[0;34m\u001b[0m\u001b[0m\n\u001b[1;32m    675\u001b[0m     \u001b[0;32melse\u001b[0m\u001b[0;34m:\u001b[0m\u001b[0;34m\u001b[0m\u001b[0m\n\u001b[0;32m--> 676\u001b[0;31m       \u001b[0;32mraise\u001b[0m \u001b[0mValueError\u001b[0m\u001b[0;34m(\u001b[0m\u001b[0merr\u001b[0m\u001b[0;34m.\u001b[0m\u001b[0mmessage\u001b[0m\u001b[0;34m)\u001b[0m\u001b[0;34m\u001b[0m\u001b[0m\n\u001b[0m\u001b[1;32m    677\u001b[0m \u001b[0;34m\u001b[0m\u001b[0m\n\u001b[1;32m    678\u001b[0m   \u001b[0;32mif\u001b[0m \u001b[0mmissing_shape_fn\u001b[0m\u001b[0;34m:\u001b[0m\u001b[0;34m\u001b[0m\u001b[0m\n",
      "\u001b[0;31mValueError\u001b[0m: Negative dimension size caused by subtracting 3 from 1 for 'max_pooling1d_3/MaxPool' (op: 'MaxPool') with input shapes: [?,1,1,250]."
     ]
    }
   ],
   "source": [
    "max_features = 5000\n",
    "maxlen = 400\n",
    "batch_size = 32\n",
    "embedding_dims = 50\n",
    "filters = 250\n",
    "kernel_size = 3\n",
    "hidden_dims = 250\n",
    "epochs = 10\n",
    "\n",
    "model = Sequential()\n",
    "# Dense(64) is a fully-connected layer with 64 hidden units.\n",
    "# in the first layer, you must specify the expected input data shape:\n",
    "# here, 20-dimensional vectors.\n",
    "# model.add(LSTM(128, stateful=False,\n",
    "#                input_shape=(timesteps, data_dim)))\n",
    "model.add(Conv1D(filters,\n",
    "                 kernel_size,\n",
    "                 padding='valid',\n",
    "                 activation='relu',\n",
    "                 input_shape=(timesteps, data_dim),\n",
    "                 strides=1))\n",
    "model.add(LSTM(128))\n",
    "model.add(Dropout(0.5))\n",
    "model.add(Dense(num_classes, activation='softmax'))\n",
    "\n",
    "# sgd = SGD(lr=0.01, decay=1e-6, momentum=0.9, nesterov=True)\n",
    "model.compile(loss='categorical_crossentropy',\n",
    "              optimizer='adam',\n",
    "              metrics=['accuracy'])\n",
    "\n",
    "model.fit(x_train, y_train,\n",
    "          epochs=epochs,\n",
    "          batch_size=batch_size)\n",
    "score = model.evaluate(x_test, y_test, batch_size=batch_size)\n",
    "score"
   ]
  },
  {
   "cell_type": "code",
   "execution_count": 58,
   "metadata": {},
   "outputs": [
    {
     "data": {
      "text/plain": [
       "array([[[ 0.09348373,  0.09348373,  0.46311822, ..., -1.01541975,\n",
       "         -0.27615077, -0.27615077],\n",
       "        [-1.21433523, -1.21433523, -0.05500802, ..., -1.98722003,\n",
       "          1.10431918,  1.10431918],\n",
       "        [ 0.60179186,  0.60179186,  0.60179186, ...,  0.60179186,\n",
       "         -0.73721969, -0.73721969]],\n",
       "\n",
       "       [[ 0.46311822,  0.46311822,  0.09348373, ..., -1.38505424,\n",
       "         -1.38505424,  0.        ],\n",
       "        [ 0.33143438,  0.33143438, -0.44145042, ...,  0.33143438,\n",
       "          0.33143438,  0.        ],\n",
       "        [ 2.2755563 ,  2.2755563 ,  0.60179186, ...,  0.26703897,\n",
       "          0.26703897,  0.        ]],\n",
       "\n",
       "       [[-1.75468873, -1.75468873,  0.46311822, ..., -1.38505424,\n",
       "          0.46311822,  0.46311822],\n",
       "        [-0.44145042, -0.44145042,  0.33143438, ..., -0.44145042,\n",
       "         -0.05500802, -0.05500802],\n",
       "        [-0.73721969, -0.73721969,  0.26703897, ...,  1.27129763,\n",
       "          0.60179186,  0.60179186]],\n",
       "\n",
       "       ..., \n",
       "       [[ 0.09348373,  0.09348373,  0.46311822, ..., -1.75468873,\n",
       "         -1.01541975, -2.12432322],\n",
       "        [ 3.03653119,  3.03653119,  0.71787678, ...,  0.33143438,\n",
       "          1.10431918,  0.71787678],\n",
       "        [-0.73721969, -0.73721969,  0.60179186, ..., -0.4024668 ,\n",
       "         -1.07197258, -1.40672547]],\n",
       "\n",
       "       [[ 0.09348373,  0.09348373,  0.83275271, ...,  0.83275271,\n",
       "          1.2023872 ,  0.09348373],\n",
       "        [ 0.33143438,  0.33143438, -0.05500802, ..., -0.82789282,\n",
       "          1.10431918, -0.82789282],\n",
       "        [ 0.26703897,  0.26703897,  0.93654475, ..., -0.73721969,\n",
       "         -0.4024668 , -0.73721969]],\n",
       "\n",
       "       [[-1.01541975, -1.01541975, -0.64578526, ...,  0.        ,\n",
       "          0.        ,  0.        ],\n",
       "        [ 0.33143438,  0.33143438,  0.71787678, ...,  0.        ,\n",
       "          0.        ,  0.        ],\n",
       "        [-1.40672547, -1.40672547, -0.4024668 , ...,  0.        ,\n",
       "          0.        ,  0.        ]]])"
      ]
     },
     "execution_count": 58,
     "metadata": {},
     "output_type": "execute_result"
    }
   ],
   "source": [
    "x_train"
   ]
  }
 ],
 "metadata": {
  "kernelspec": {
   "display_name": "Python 3",
   "language": "python",
   "name": "python3"
  },
  "language_info": {
   "codemirror_mode": {
    "name": "ipython",
    "version": 3
   },
   "file_extension": ".py",
   "mimetype": "text/x-python",
   "name": "python",
   "nbconvert_exporter": "python",
   "pygments_lexer": "ipython3",
   "version": "3.5.2"
  }
 },
 "nbformat": 4,
 "nbformat_minor": 2
}
