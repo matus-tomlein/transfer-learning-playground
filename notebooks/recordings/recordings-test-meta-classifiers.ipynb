{
 "cells": [
  {
   "cell_type": "code",
   "execution_count": 33,
   "metadata": {
    "collapsed": true
   },
   "outputs": [],
   "source": [
    "import pandas as pd\n",
    "import numpy as np\n",
    "from tsfresh.transformers import RelevantFeatureAugmenter, FeatureAugmenter\n",
    "from sklearn.ensemble import RandomForestClassifier\n",
    "from sklearn.metrics import classification_report\n",
    "from sklearn.preprocessing import StandardScaler\n",
    "from sklearn.pipeline import Pipeline\n",
    "from sklearn.preprocessing import Imputer\n",
    "from sklearn.decomposition import PCA"
   ]
  },
  {
   "cell_type": "code",
   "execution_count": 34,
   "metadata": {
    "collapsed": false
   },
   "outputs": [],
   "source": [
    "dataset_path = '../../datasets/recordings/'\n",
    "def read_meta(name):\n",
    "    pd_1 = pd.DataFrame.from_csv(dataset_path + name + '_ESC_1.csv')\n",
    "    pd_1.columns = ['meta_1']\n",
    "    pd_2 = pd.DataFrame.from_csv(dataset_path + name + '_ESC_2.csv')\n",
    "    pd_2.columns = ['meta_2']\n",
    "    pd_3 = pd.DataFrame.from_csv(dataset_path + name + '_ESC_3.csv')\n",
    "    pd_3.columns = ['meta_3']\n",
    "    pd_4 = pd.DataFrame.from_csv(dataset_path + name + '_ESC_4.csv')\n",
    "    pd_4.columns = ['meta_4']\n",
    "    pd_5 = pd.DataFrame.from_csv(dataset_path + name + '_ESC_5.csv')\n",
    "    pd_5.columns = ['meta_5']\n",
    "    return pd_1.join(pd_2).join(pd_3).join(pd_4).join(pd_5)\n",
    "\n",
    "df = read_meta('NSH2_iPhone')\n",
    "df_labels = pd.DataFrame.from_csv(dataset_path + 'NSH2_iPhone_labels.csv')"
   ]
  },
  {
   "cell_type": "code",
   "execution_count": 35,
   "metadata": {
    "collapsed": false
   },
   "outputs": [],
   "source": [
    "# training and testing split\n",
    "indexes = df_labels.index.tolist()\n",
    "np.random.shuffle(indexes)\n",
    "split = round(0.7*len(indexes))\n",
    "training_i = indexes[:split]\n",
    "testing_i = indexes[split:]\n",
    "\n",
    "X_train = df.loc[df.index.isin(training_i)]\n",
    "X_test = df.loc[df.index.isin(testing_i)]\n",
    "\n",
    "y_train = df_labels.loc[df_labels.index.isin(training_i)]\n",
    "y_test = df_labels.loc[df_labels.index.isin(testing_i)]\n",
    "\n",
    "y_train = y_train['label']\n",
    "y_test = y_test['label']"
   ]
  },
  {
   "cell_type": "code",
   "execution_count": 36,
   "metadata": {
    "collapsed": false
   },
   "outputs": [
    {
     "name": "stdout",
     "output_type": "stream",
     "text": [
      "             precision    recall  f1-score   support\n",
      "\n",
      "          0       0.94      0.88      0.91        17\n",
      "          1       0.69      0.87      0.77        23\n",
      "          3       1.00      0.38      0.56        13\n",
      "          4       0.91      1.00      0.95        10\n",
      "          5       0.85      0.94      0.89        18\n",
      "\n",
      "avg / total       0.85      0.83      0.81        81\n",
      "\n"
     ]
    }
   ],
   "source": [
    "ppl = Pipeline([\n",
    "    ('clf', RandomForestClassifier())\n",
    "])\n",
    "\n",
    "ppl.fit(X_train, y_train)\n",
    "y_pred = ppl.predict(X_test)\n",
    "\n",
    "print(classification_report(y_test, y_pred))"
   ]
  },
  {
   "cell_type": "code",
   "execution_count": null,
   "metadata": {
    "collapsed": true
   },
   "outputs": [],
   "source": []
  }
 ],
 "metadata": {
  "kernelspec": {
   "display_name": "Python 3",
   "language": "python",
   "name": "python3"
  },
  "language_info": {
   "codemirror_mode": {
    "name": "ipython",
    "version": 3
   },
   "file_extension": ".py",
   "mimetype": "text/x-python",
   "name": "python",
   "nbconvert_exporter": "python",
   "pygments_lexer": "ipython3",
   "version": "3.4.3"
  }
 },
 "nbformat": 4,
 "nbformat_minor": 0
}
