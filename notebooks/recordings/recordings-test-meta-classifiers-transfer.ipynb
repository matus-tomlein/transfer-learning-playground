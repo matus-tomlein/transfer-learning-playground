{
 "cells": [
  {
   "cell_type": "code",
   "execution_count": 2,
   "metadata": {
    "collapsed": true
   },
   "outputs": [],
   "source": [
    "import pandas as pd\n",
    "import numpy as np\n",
    "from tsfresh.transformers import RelevantFeatureAugmenter, FeatureAugmenter\n",
    "from sklearn.ensemble import RandomForestClassifier\n",
    "from sklearn.metrics import classification_report\n",
    "from sklearn.preprocessing import StandardScaler\n",
    "from sklearn.pipeline import Pipeline\n",
    "from sklearn.preprocessing import Imputer\n",
    "from sklearn.decomposition import PCA"
   ]
  },
  {
   "cell_type": "code",
   "execution_count": 22,
   "metadata": {
    "collapsed": false
   },
   "outputs": [],
   "source": [
    "dataset_path = '../../datasets/recordings/'\n",
    "def read_meta(name):\n",
    "    pd_1 = pd.DataFrame.from_csv(dataset_path + name + '_ESC_1.csv')\n",
    "    pd_1.columns = ['meta_1']\n",
    "    pd_2 = pd.DataFrame.from_csv(dataset_path + name + '_ESC_2.csv')\n",
    "    pd_2.columns = ['meta_2']\n",
    "    pd_3 = pd.DataFrame.from_csv(dataset_path + name + '_ESC_3.csv')\n",
    "    pd_3.columns = ['meta_3']\n",
    "    pd_4 = pd.DataFrame.from_csv(dataset_path + name + '_ESC_4.csv')\n",
    "    pd_4.columns = ['meta_4']\n",
    "    pd_5 = pd.DataFrame.from_csv(dataset_path + name + '_ESC_5.csv')\n",
    "    pd_5.columns = ['meta_5']\n",
    "    return pd_1.join(pd_2).join(pd_3).join(pd_4).join(pd_5)\n",
    "\n",
    "X_train = read_meta('Home_iPhone')\n",
    "y_train = pd.DataFrame.from_csv(dataset_path + 'Home_iPhone_labels.csv')\n",
    "y_train = y_train['label']\n",
    "\n",
    "X_test = read_meta('NSH2_iPhone')\n",
    "y_test = pd.DataFrame.from_csv(dataset_path + 'NSH2_iPhone_labels.csv')\n",
    "y_test = y_test['label']"
   ]
  },
  {
   "cell_type": "code",
   "execution_count": 23,
   "metadata": {
    "collapsed": false
   },
   "outputs": [
    {
     "name": "stdout",
     "output_type": "stream",
     "text": [
      "             precision    recall  f1-score   support\n",
      "\n",
      "          0       0.00      0.00      0.00        56\n",
      "          1       0.00      0.00      0.00        74\n",
      "          3       0.02      0.05      0.03        38\n",
      "          4       0.00      0.00      0.00        37\n",
      "          5       0.00      0.00      0.00        66\n",
      "\n",
      "avg / total       0.00      0.01      0.00       271\n",
      "\n"
     ]
    },
    {
     "name": "stderr",
     "output_type": "stream",
     "text": [
      "/usr/local/lib/python3.4/site-packages/sklearn/metrics/classification.py:1113: UndefinedMetricWarning: Precision and F-score are ill-defined and being set to 0.0 in labels with no predicted samples.\n",
      "  'precision', 'predicted', average, warn_for)\n"
     ]
    }
   ],
   "source": [
    "ppl = Pipeline([\n",
    "    ('clf', RandomForestClassifier())\n",
    "])\n",
    "\n",
    "ppl.fit(X_train, y_train)\n",
    "y_pred = ppl.predict(X_test)\n",
    "\n",
    "print(classification_report(y_test, y_pred))"
   ]
  },
  {
   "cell_type": "code",
   "execution_count": null,
   "metadata": {
    "collapsed": true
   },
   "outputs": [],
   "source": []
  }
 ],
 "metadata": {
  "kernelspec": {
   "display_name": "Python 3",
   "language": "python",
   "name": "python3"
  },
  "language_info": {
   "codemirror_mode": {
    "name": "ipython",
    "version": 3
   },
   "file_extension": ".py",
   "mimetype": "text/x-python",
   "name": "python",
   "nbconvert_exporter": "python",
   "pygments_lexer": "ipython3",
   "version": "3.4.3"
  }
 },
 "nbformat": 4,
 "nbformat_minor": 0
}
