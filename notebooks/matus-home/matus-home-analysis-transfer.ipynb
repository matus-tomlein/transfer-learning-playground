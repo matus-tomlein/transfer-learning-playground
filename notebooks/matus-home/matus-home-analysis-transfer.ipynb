{
 "cells": [
  {
   "cell_type": "code",
   "execution_count": 41,
   "metadata": {
    "collapsed": false
   },
   "outputs": [],
   "source": [
    "import pandas as pd\n",
    "import numpy as np"
   ]
  },
  {
   "cell_type": "code",
   "execution_count": 42,
   "metadata": {
    "collapsed": false
   },
   "outputs": [],
   "source": [
    "def read_data_frame(name):\n",
    "    return pd.DataFrame.from_csv('../../datasets/matus-home/csv/' + name + '.csv')\n",
    "\n",
    "labels = read_data_frame('labels')\n",
    "activity_ids = read_data_frame('activity_ids')\n",
    "\n",
    "def sensor_tag_accelerometer(sensor_tag_id):\n",
    "    x = read_data_frame(sensor_tag_id + '_accelerometer_x')\n",
    "    y = read_data_frame(sensor_tag_id + '_accelerometer_y')\n",
    "    z = read_data_frame(sensor_tag_id + '_accelerometer_z')\n",
    "    return [x, y, z]\n",
    "\n",
    "def sensor_tag_magnetometer(sensor_tag_id):\n",
    "    x = read_data_frame(sensor_tag_id + '_magnetometer_x')\n",
    "    y = read_data_frame(sensor_tag_id + '_magnetometer_y')\n",
    "    z = read_data_frame(sensor_tag_id + '_magnetometer_z')\n",
    "    return [x, y, z]\n",
    "\n",
    "def sensor_tag_gyroscope(sensor_tag_id):\n",
    "    x = read_data_frame(sensor_tag_id + '_gyroscope_x')\n",
    "    y = read_data_frame(sensor_tag_id + '_gyroscope_y')\n",
    "    z = read_data_frame(sensor_tag_id + '_gyroscope_z')\n",
    "    return [x, y, z]\n",
    "\n",
    "def iphone_accelerometer():\n",
    "    x = read_data_frame('matus_iphone_accelerometer_x')\n",
    "    y = read_data_frame('matus_iphone_accelerometer_y')\n",
    "    z = read_data_frame('matus_iphone_accelerometer_z')\n",
    "    return [x, y, z]\n",
    "\n",
    "def iphone_magnetometer():\n",
    "    x = read_data_frame('matus_iphone_magnetometer_x')\n",
    "    y = read_data_frame('matus_iphone_magnetometer_y')\n",
    "    z = read_data_frame('matus_iphone_magnetometer_z')\n",
    "    return [x, y, z]\n",
    "\n",
    "def iphone_gravity():\n",
    "    x = read_data_frame('matus_iphone_gravity_x')\n",
    "    y = read_data_frame('matus_iphone_gravity_y')\n",
    "    z = read_data_frame('matus_iphone_gravity_z')\n",
    "    return [x, y, z]\n",
    "\n",
    "def mac_microphone():\n",
    "    return [read_data_frame('matus_mac_microphone')]\n",
    "\n",
    "def wemo_power():\n",
    "    return [read_data_frame('221445K12000EF_power')]\n",
    "\n",
    "\n",
    "def build_df(sets):\n",
    "    df = activity_ids\n",
    "    for s in sets:\n",
    "        df = df.join(s)\n",
    "    df = df.ffill().bfill()\n",
    "    return df\n",
    "\n",
    "sets = []\n",
    "# sets += sensor_tag_accelerometer('61e7e6b71abe49218f132bad935fcebe')\n",
    "# sets += sensor_tag_accelerometer('778c5d0e6a744c1c961cdecdb2b29d3c')\n",
    "sets += sensor_tag_accelerometer('3a9d6f1b70dd493088305f679f4aa386')\n",
    "# sets += sensor_tag_accelerometer('f0c688e5fc9e4df4ba87cbd394737884')\n",
    "# sets += sensor_tag_magnetometer('61e7e6b71abe49218f132bad935fcebe')\n",
    "# sets += sensor_tag_magnetometer('778c5d0e6a744c1c961cdecdb2b29d3c')\n",
    "# sets += sensor_tag_magnetometer('3a9d6f1b70dd493088305f679f4aa386')\n",
    "# sets += sensor_tag_magnetometer('f0c688e5fc9e4df4ba87cbd394737884')\n",
    "# sets += sensor_tag_gyroscope(sensor_tag_id)\n",
    "# sets += iphone_accelerometer()\n",
    "# sets += iphone_magnetometer()\n",
    "# sets += iphone_gravity()\n",
    "# sets += mac_microphone()\n",
    "# sets += wemo_power()\n",
    "\n",
    "df_train = build_df(sets)\n",
    "df_train.columns = ['id', 'x', 'y', 'z']\n",
    "\n",
    "sets = []\n",
    "sets += sensor_tag_accelerometer('61e7e6b71abe49218f132bad935fcebe')\n",
    "# sets += sensor_tag_accelerometer('778c5d0e6a744c1c961cdecdb2b29d3c')\n",
    "# sets += sensor_tag_accelerometer('3a9d6f1b70dd493088305f679f4aa386')\n",
    "# sets += sensor_tag_accelerometer('f0c688e5fc9e4df4ba87cbd394737884')\n",
    "# sets += sensor_tag_magnetometer('61e7e6b71abe49218f132bad935fcebe')\n",
    "# sets += sensor_tag_magnetometer('778c5d0e6a744c1c961cdecdb2b29d3c')\n",
    "# sets += sensor_tag_magnetometer('3a9d6f1b70dd493088305f679f4aa386')\n",
    "# sets += sensor_tag_magnetometer('f0c688e5fc9e4df4ba87cbd394737884')\n",
    "# sets += sensor_tag_gyroscope(sensor_tag_id)\n",
    "# sets += iphone_accelerometer()\n",
    "# sets += iphone_magnetometer()\n",
    "# sets += iphone_gravity()\n",
    "# sets += mac_microphone()\n",
    "# sets += wemo_power()\n",
    "\n",
    "\n",
    "df_test = build_df(sets)\n",
    "df_test.columns = ['id', 'x', 'y', 'z']"
   ]
  },
  {
   "cell_type": "code",
   "execution_count": 43,
   "metadata": {
    "collapsed": false
   },
   "outputs": [],
   "source": [
    "import sklearn.utils\n",
    "\n",
    "def process_data_frame(df):\n",
    "    # remove items with a duplicate index\n",
    "    df = df[~df.index.duplicated(keep='first')]\n",
    "    df.index.get_duplicates() # should be empty\n",
    "\n",
    "    # split into 5s windows and resample for 100ms sampling rate\n",
    "    windowed_labels = pd.DataFrame(columns=['label'])\n",
    "    new_dfs = []\n",
    "\n",
    "    window_size_secs = 5\n",
    "    i = 0\n",
    "    for id in labels.index:\n",
    "        label = labels.loc[id]['label']\n",
    "\n",
    "        activity_df = df[df['id'] == id]\n",
    "        since = activity_df.index[0]\n",
    "        until = since + pd.DateOffset(seconds=window_size_secs)\n",
    "\n",
    "        while len(df[since:until]):\n",
    "            new_df = df[since:until].copy()\n",
    "            new_df.id = i\n",
    "\n",
    "            # resample\n",
    "            new_df = new_df.resample('100L').ffill().bfill()\n",
    "\n",
    "            new_dfs.append(new_df)\n",
    "\n",
    "            since = until\n",
    "            until = until + pd.DateOffset(seconds=5)\n",
    "\n",
    "            windowed_labels.loc[i] = [label]\n",
    "            i += 1\n",
    "\n",
    "    windowed_df = pd.concat(new_dfs)\n",
    "    \n",
    "    #windowed_df.reindex(pd.Series(index=range(len(windowed_df.index)))\n",
    "    windowed_df['new_index'] = pd.Series(range(len(windowed_df.index)), index=windowed_df.index)\n",
    "    windowed_df = windowed_df.set_index(['new_index'])\n",
    "\n",
    "    y_train = windowed_labels['label']\n",
    "    y_train = sklearn.utils.shuffle(y_train)\n",
    "    X_train = pd.DataFrame(index=y_train.index)\n",
    "    \n",
    "    return windowed_df, X_train, y_train"
   ]
  },
  {
   "cell_type": "code",
   "execution_count": 44,
   "metadata": {
    "collapsed": false
   },
   "outputs": [],
   "source": [
    "df_train, X_train, y_train = process_data_frame(df_train)\n",
    "df_test, X_test, y_test = process_data_frame(df_test)"
   ]
  },
  {
   "cell_type": "code",
   "execution_count": 45,
   "metadata": {
    "collapsed": true
   },
   "outputs": [],
   "source": [
    "from tsfresh.transformers import RelevantFeatureAugmenter, FeatureAugmenter\n",
    "from sklearn.ensemble import RandomForestClassifier\n",
    "from sklearn.metrics import classification_report\n",
    "from sklearn.preprocessing import StandardScaler\n",
    "from sklearn.pipeline import Pipeline\n",
    "from sklearn.preprocessing import Imputer\n",
    "from sklearn.decomposition import PCA"
   ]
  },
  {
   "cell_type": "code",
   "execution_count": 46,
   "metadata": {
    "collapsed": true
   },
   "outputs": [],
   "source": [
    "from sklearn.base import BaseEstimator, TransformerMixin\n",
    "from pprint import pprint\n",
    "\n",
    "\n",
    "class ImputeInf(BaseEstimator, TransformerMixin):\n",
    "    def fit(self, X, y):\n",
    "        #pprint(X)\n",
    "        #pprint(y)\n",
    "        return self\n",
    "\n",
    "    def transform(self, X):\n",
    "        #pprint(X)\n",
    "        #np.set_printoptions(threshold=np.nan)\n",
    "        X[X == np.inf] = 0.0\n",
    "        #pprint(np.isfinite(X))\n",
    "        return X"
   ]
  },
  {
   "cell_type": "code",
   "execution_count": 47,
   "metadata": {
    "collapsed": false
   },
   "outputs": [],
   "source": [
    "# this probably doesn't make sense, find a different\n",
    "# way to get rid of NaN values\n",
    "df_train = df_train.ffill()\n",
    "df_test = df_test.ffill()"
   ]
  },
  {
   "cell_type": "code",
   "execution_count": 48,
   "metadata": {
    "collapsed": false
   },
   "outputs": [
    {
     "name": "stderr",
     "output_type": "stream",
     "text": [
      "Feature Extraction: 100%|██████████| 3/3 [00:23<00:00,  7.75s/it]\n",
      "WARNING:tsfresh.feature_selection.feature_selector:[test_feature_significance] Feature x__symmetry_looking__r_0.0 is constant\n",
      "WARNING:tsfresh.feature_selection.feature_selector:[test_feature_significance] Feature z__symmetry_looking__r_0.55 is constant\n",
      "WARNING:tsfresh.feature_selection.feature_selector:[test_feature_significance] Feature x__symmetry_looking__r_0.4 is constant\n",
      "WARNING:tsfresh.feature_selection.feature_selector:[test_feature_significance] Feature x__mean_abs_change_quantiles__qh_0.2__ql_0.2 is constant\n",
      "WARNING:tsfresh.feature_selection.feature_selector:[test_feature_significance] Feature x__mean_abs_change_quantiles__qh_0.4__ql_0.8 is constant\n",
      "WARNING:tsfresh.feature_selection.feature_selector:[test_feature_significance] Feature x__symmetry_looking__r_0.45 is constant\n",
      "WARNING:tsfresh.feature_selection.feature_selector:[test_feature_significance] Feature z__mean_abs_change_quantiles__qh_0.6__ql_0.6 is constant\n",
      "WARNING:tsfresh.feature_selection.feature_selector:[test_feature_significance] Feature y__symmetry_looking__r_0.55 is constant\n",
      "WARNING:tsfresh.feature_selection.feature_selector:[test_feature_significance] Feature x__value_count__value_-inf is constant\n",
      "WARNING:tsfresh.feature_selection.feature_selector:[test_feature_significance] Feature y__symmetry_looking__r_0.6000000000000001 is constant\n",
      "WARNING:tsfresh.feature_selection.feature_selector:[test_feature_significance] Feature z__large_standard_deviation__r_0.0 is constant\n",
      "WARNING:tsfresh.feature_selection.feature_selector:[test_feature_significance] Feature y__symmetry_looking__r_0.45 is constant\n",
      "WARNING:tsfresh.feature_selection.feature_selector:[test_feature_significance] Feature z__mean_abs_change_quantiles__qh_0.2__ql_0.4 is constant\n",
      "WARNING:tsfresh.feature_selection.feature_selector:[test_feature_significance] Feature z__mean_abs_change_quantiles__qh_0.2__ql_0.8 is constant\n",
      "WARNING:tsfresh.feature_selection.feature_selector:[test_feature_significance] Feature z__mean_abs_change_quantiles__qh_0.4__ql_0.6 is constant\n",
      "WARNING:tsfresh.feature_selection.feature_selector:[test_feature_significance] Feature y__value_count__value_-inf is constant\n",
      "WARNING:tsfresh.feature_selection.feature_selector:[test_feature_significance] Feature x__large_number_of_peaks__n_5 is constant\n",
      "WARNING:tsfresh.feature_selection.feature_selector:[test_feature_significance] Feature x__large_number_of_peaks__n_3 is constant\n",
      "WARNING:tsfresh.feature_selection.feature_selector:[test_feature_significance] Feature x__has_duplicate is constant\n",
      "WARNING:tsfresh.feature_selection.feature_selector:[test_feature_significance] Feature x__value_count__value_nan is constant\n",
      "WARNING:tsfresh.feature_selection.feature_selector:[test_feature_significance] Feature y__symmetry_looking__r_0.7000000000000001 is constant\n",
      "WARNING:tsfresh.feature_selection.feature_selector:[test_feature_significance] Feature y__value_count__value_nan is constant\n",
      "WARNING:tsfresh.feature_selection.feature_selector:[test_feature_significance] Feature y__mean_abs_change_quantiles__qh_0.4__ql_0.6 is constant\n",
      "WARNING:tsfresh.feature_selection.feature_selector:[test_feature_significance] Feature z__symmetry_looking__r_0.75 is constant\n",
      "WARNING:tsfresh.feature_selection.feature_selector:[test_feature_significance] Feature z__has_duplicate is constant\n",
      "WARNING:tsfresh.feature_selection.feature_selector:[test_feature_significance] Feature z__symmetry_looking__r_0.7000000000000001 is constant\n",
      "WARNING:tsfresh.feature_selection.feature_selector:[test_feature_significance] Feature y__large_number_of_peaks__n_5 is constant\n",
      "WARNING:tsfresh.feature_selection.feature_selector:[test_feature_significance] Feature x__symmetry_looking__r_0.55 is constant\n",
      "WARNING:tsfresh.feature_selection.feature_selector:[test_feature_significance] Feature y__symmetry_looking__r_0.9500000000000001 is constant\n",
      "WARNING:tsfresh.feature_selection.feature_selector:[test_feature_significance] Feature z__mean_abs_change_quantiles__qh_0.2__ql_0.6 is constant\n",
      "WARNING:tsfresh.feature_selection.feature_selector:[test_feature_significance] Feature y__mean_abs_change_quantiles__qh_0.2__ql_0.4 is constant\n",
      "WARNING:tsfresh.feature_selection.feature_selector:[test_feature_significance] Feature z__symmetry_looking__r_0.9 is constant\n",
      "WARNING:tsfresh.feature_selection.feature_selector:[test_feature_significance] Feature y__value_count__value_inf is constant\n",
      "WARNING:tsfresh.feature_selection.feature_selector:[test_feature_significance] Feature x__symmetry_looking__r_0.9 is constant\n",
      "WARNING:tsfresh.feature_selection.feature_selector:[test_feature_significance] Feature y__mean_abs_change_quantiles__qh_0.6__ql_0.6 is constant\n",
      "WARNING:tsfresh.feature_selection.feature_selector:[test_feature_significance] Feature x__symmetry_looking__r_0.6000000000000001 is constant\n",
      "WARNING:tsfresh.feature_selection.feature_selector:[test_feature_significance] Feature z__value_count__value_0 is constant\n",
      "WARNING:tsfresh.feature_selection.feature_selector:[test_feature_significance] Feature x__symmetry_looking__r_0.5 is constant\n",
      "WARNING:tsfresh.feature_selection.feature_selector:[test_feature_significance] Feature y__mean_abs_change_quantiles__qh_0.8__ql_0.8 is constant\n",
      "WARNING:tsfresh.feature_selection.feature_selector:[test_feature_significance] Feature x__mean_abs_change_quantiles__qh_0.8__ql_0.8 is constant\n",
      "WARNING:tsfresh.feature_selection.feature_selector:[test_feature_significance] Feature x__large_number_of_peaks__n_1 is constant\n",
      "WARNING:tsfresh.feature_selection.feature_selector:[test_feature_significance] Feature y__symmetry_looking__r_0.65 is constant\n",
      "WARNING:tsfresh.feature_selection.feature_selector:[test_feature_significance] Feature y__large_standard_deviation__r_0.05 is constant\n",
      "WARNING:tsfresh.feature_selection.feature_selector:[test_feature_significance] Feature z__large_number_of_peaks__n_3 is constant\n",
      "WARNING:tsfresh.feature_selection.feature_selector:[test_feature_significance] Feature x__symmetry_looking__r_0.7000000000000001 is constant\n",
      "WARNING:tsfresh.feature_selection.feature_selector:[test_feature_significance] Feature x__large_standard_deviation__r_0.05 is constant\n",
      "WARNING:tsfresh.feature_selection.feature_selector:[test_feature_significance] Feature y__large_number_of_peaks__n_3 is constant\n",
      "WARNING:tsfresh.feature_selection.feature_selector:[test_feature_significance] Feature y__mean_abs_change_quantiles__qh_0.2__ql_0.8 is constant\n",
      "WARNING:tsfresh.feature_selection.feature_selector:[test_feature_significance] Feature x__value_count__value_inf is constant\n",
      "WARNING:tsfresh.feature_selection.feature_selector:[test_feature_significance] Feature z__symmetry_looking__r_0.0 is constant\n",
      "WARNING:tsfresh.feature_selection.feature_selector:[test_feature_significance] Feature x__symmetry_looking__r_0.65 is constant\n",
      "WARNING:tsfresh.feature_selection.feature_selector:[test_feature_significance] Feature x__symmetry_looking__r_0.9500000000000001 is constant\n",
      "WARNING:tsfresh.feature_selection.feature_selector:[test_feature_significance] Feature x__mean_abs_change_quantiles__qh_0.4__ql_0.6 is constant\n",
      "WARNING:tsfresh.feature_selection.feature_selector:[test_feature_significance] Feature y__symmetry_looking__r_0.5 is constant\n",
      "WARNING:tsfresh.feature_selection.feature_selector:[test_feature_significance] Feature z__mean_abs_change_quantiles__qh_0.6__ql_0.8 is constant\n",
      "WARNING:tsfresh.feature_selection.feature_selector:[test_feature_significance] Feature y__value_count__value_0 is constant\n",
      "WARNING:tsfresh.feature_selection.feature_selector:[test_feature_significance] Feature x__symmetry_looking__r_0.75 is constant\n",
      "WARNING:tsfresh.feature_selection.feature_selector:[test_feature_significance] Feature x__mean_abs_change_quantiles__qh_0.4__ql_0.4 is constant\n",
      "WARNING:tsfresh.feature_selection.feature_selector:[test_feature_significance] Feature y__symmetry_looking__r_0.0 is constant\n",
      "WARNING:tsfresh.feature_selection.feature_selector:[test_feature_significance] Feature z__large_number_of_peaks__n_5 is constant\n",
      "WARNING:tsfresh.feature_selection.feature_selector:[test_feature_significance] Feature y__symmetry_looking__r_0.8500000000000001 is constant\n",
      "WARNING:tsfresh.feature_selection.feature_selector:[test_feature_significance] Feature y__mean_abs_change_quantiles__qh_0.6__ql_0.8 is constant\n",
      "WARNING:tsfresh.feature_selection.feature_selector:[test_feature_significance] Feature y__variance_larger_than_standard_deviation is constant\n",
      "WARNING:tsfresh.feature_selection.feature_selector:[test_feature_significance] Feature x__mean_abs_change_quantiles__qh_0.2__ql_0.4 is constant\n",
      "WARNING:tsfresh.feature_selection.feature_selector:[test_feature_significance] Feature y__symmetry_looking__r_0.4 is constant\n",
      "WARNING:tsfresh.feature_selection.feature_selector:[test_feature_significance] Feature z__value_count__value_-inf is constant\n",
      "WARNING:tsfresh.feature_selection.feature_selector:[test_feature_significance] Feature y__mean_abs_change_quantiles__qh_0.4__ql_0.8 is constant\n",
      "WARNING:tsfresh.feature_selection.feature_selector:[test_feature_significance] Feature z__value_count__value_nan is constant\n",
      "WARNING:tsfresh.feature_selection.feature_selector:[test_feature_significance] Feature x__mean_abs_change_quantiles__qh_0.6__ql_0.6 is constant\n",
      "WARNING:tsfresh.feature_selection.feature_selector:[test_feature_significance] Feature z__symmetry_looking__r_0.8500000000000001 is constant\n",
      "WARNING:tsfresh.feature_selection.feature_selector:[test_feature_significance] Feature x__symmetry_looking__r_0.8500000000000001 is constant\n",
      "WARNING:tsfresh.feature_selection.feature_selector:[test_feature_significance] Feature z__mean_abs_change_quantiles__qh_0.4__ql_0.8 is constant\n",
      "WARNING:tsfresh.feature_selection.feature_selector:[test_feature_significance] Feature x__mean_abs_change_quantiles__qh_0.6__ql_0.8 is constant\n",
      "WARNING:tsfresh.feature_selection.feature_selector:[test_feature_significance] Feature z__symmetry_looking__r_0.65 is constant\n",
      "WARNING:tsfresh.feature_selection.feature_selector:[test_feature_significance] Feature y__mean_abs_change_quantiles__qh_0.2__ql_0.6 is constant\n",
      "WARNING:tsfresh.feature_selection.feature_selector:[test_feature_significance] Feature z__variance_larger_than_standard_deviation is constant\n",
      "WARNING:tsfresh.feature_selection.feature_selector:[test_feature_significance] Feature z__mean_abs_change_quantiles__qh_0.8__ql_0.8 is constant\n",
      "WARNING:tsfresh.feature_selection.feature_selector:[test_feature_significance] Feature y__symmetry_looking__r_0.9 is constant\n",
      "WARNING:tsfresh.feature_selection.feature_selector:[test_feature_significance] Feature y__symmetry_looking__r_0.75 is constant\n",
      "WARNING:tsfresh.feature_selection.feature_selector:[test_feature_significance] Feature z__symmetry_looking__r_0.45 is constant\n",
      "WARNING:tsfresh.feature_selection.feature_selector:[test_feature_significance] Feature z__symmetry_looking__r_0.5 is constant\n",
      "WARNING:tsfresh.feature_selection.feature_selector:[test_feature_significance] Feature x__large_standard_deviation__r_0.1 is constant\n",
      "WARNING:tsfresh.feature_selection.feature_selector:[test_feature_significance] Feature x__symmetry_looking__r_0.8 is constant\n",
      "WARNING:tsfresh.feature_selection.feature_selector:[test_feature_significance] Feature y__mean_abs_change_quantiles__qh_0.4__ql_0.4 is constant\n",
      "WARNING:tsfresh.feature_selection.feature_selector:[test_feature_significance] Feature x__value_count__value_1 is constant\n",
      "WARNING:tsfresh.feature_selection.feature_selector:[test_feature_significance] Feature z__mean_abs_change_quantiles__qh_0.2__ql_0.2 is constant\n",
      "WARNING:tsfresh.feature_selection.feature_selector:[test_feature_significance] Feature y__symmetry_looking__r_0.8 is constant\n",
      "WARNING:tsfresh.feature_selection.feature_selector:[test_feature_significance] Feature z__symmetry_looking__r_0.4 is constant\n",
      "WARNING:tsfresh.feature_selection.feature_selector:[test_feature_significance] Feature x__mean_abs_change_quantiles__qh_0.2__ql_0.6 is constant\n",
      "WARNING:tsfresh.feature_selection.feature_selector:[test_feature_significance] Feature y__mean_abs_change_quantiles__qh_0.2__ql_0.2 is constant\n",
      "WARNING:tsfresh.feature_selection.feature_selector:[test_feature_significance] Feature x__value_count__value_0 is constant\n",
      "WARNING:tsfresh.feature_selection.feature_selector:[test_feature_significance] Feature z__range_count__max_1__min_-1 is constant\n",
      "WARNING:tsfresh.feature_selection.feature_selector:[test_feature_significance] Feature x__large_standard_deviation__r_0.0 is constant\n",
      "WARNING:tsfresh.feature_selection.feature_selector:[test_feature_significance] Feature y__has_duplicate is constant\n",
      "WARNING:tsfresh.feature_selection.feature_selector:[test_feature_significance] Feature y__large_standard_deviation__r_0.1 is constant\n",
      "WARNING:tsfresh.feature_selection.feature_selector:[test_feature_significance] Feature z__value_count__value_inf is constant\n",
      "WARNING:tsfresh.feature_selection.feature_selector:[test_feature_significance] Feature z__large_standard_deviation__r_0.05 is constant\n",
      "WARNING:tsfresh.feature_selection.feature_selector:[test_feature_significance] Feature z__symmetry_looking__r_0.6000000000000001 is constant\n",
      "WARNING:tsfresh.feature_selection.feature_selector:[test_feature_significance] Feature z__symmetry_looking__r_0.9500000000000001 is constant\n",
      "WARNING:tsfresh.feature_selection.feature_selector:[test_feature_significance] Feature y__large_standard_deviation__r_0.0 is constant\n",
      "WARNING:tsfresh.feature_selection.feature_selector:[test_feature_significance] Feature z__value_count__value_1 is constant\n",
      "WARNING:tsfresh.feature_selection.feature_selector:[test_feature_significance] Feature z__large_standard_deviation__r_0.1 is constant\n",
      "WARNING:tsfresh.feature_selection.feature_selector:[test_feature_significance] Feature y__value_count__value_1 is constant\n",
      "WARNING:tsfresh.feature_selection.feature_selector:[test_feature_significance] Feature x__mean_abs_change_quantiles__qh_0.2__ql_0.8 is constant\n",
      "WARNING:tsfresh.feature_selection.feature_selector:[test_feature_significance] Feature z__mean_abs_change_quantiles__qh_0.4__ql_0.4 is constant\n",
      "WARNING:tsfresh.feature_selection.feature_selector:[test_feature_significance] Feature x__variance_larger_than_standard_deviation is constant\n",
      "WARNING:tsfresh.feature_selection.feature_selector:[test_feature_significance] Feature z__symmetry_looking__r_0.8 is constant\n",
      "Feature Extraction: 100%|██████████| 3/3 [00:07<00:00,  3.49s/it]\n"
     ]
    }
   ],
   "source": [
    "def fit_augmenter_on_test_data(augmenter):\n",
    "    augmenter.timeseries_container = df_test\n",
    "    augmenter.fit(X_test, y_test)\n",
    "\n",
    "def fit_augmenter_on_train_and_test_data(augmenter):\n",
    "    df_test_copy = df_test.copy()\n",
    "    df_test_copy['id'] += len(X_train)\n",
    "    X_test_copy = X_test.copy()\n",
    "    X_test_copy.index += len(X_train)\n",
    "    y_test_copy = y_test.copy()\n",
    "    y_test_copy.index += len(X_train)\n",
    "\n",
    "    df_complete = pd.concat([df_train, df_test_copy])\n",
    "    X_complete = pd.concat([X_train, X_test_copy])\n",
    "    y_complete = pd.concat([y_train, y_test_copy])\n",
    "\n",
    "    augmenter.timeseries_container = df_complete\n",
    "    augmenter.fit(X_complete, y_complete)\n",
    "\n",
    "augmenter = RelevantFeatureAugmenter(column_id='id')\n",
    "# fit_augmenter_on_train_and_test_data(augmenter)\n",
    "\n",
    "augmenter.timeseries_container = df_train\n",
    "# X_train = augmenter.transform(X_train)\n",
    "X_train = augmenter.fit_transform(X_train, y_train)"
   ]
  },
  {
   "cell_type": "code",
   "execution_count": 49,
   "metadata": {
    "collapsed": false,
    "scrolled": true
   },
   "outputs": [
    {
     "data": {
      "text/plain": [
       "Pipeline(steps=[('impute', Imputer(axis=0, copy=True, missing_values='NaN', strategy='mean', verbose=0)), ('imput_inf', ImputeInf()), ('scale', StandardScaler(copy=True, with_mean=True, with_std=True)), ('clf', RandomForestClassifier(bootstrap=True, class_weight=None, criterion='gini',\n",
       "            max_depth=...imators=10, n_jobs=1, oob_score=False, random_state=None,\n",
       "            verbose=0, warm_start=False))])"
      ]
     },
     "execution_count": 49,
     "metadata": {},
     "output_type": "execute_result"
    }
   ],
   "source": [
    "ppl = Pipeline([\n",
    "#     ('fresh', FeatureAugmenter(column_id='id')),\n",
    "#     ('fresh', RelevantFeatureAugmenter(column_id='id')),\n",
    "    ('impute', Imputer()),\n",
    "    ('imput_inf', ImputeInf()),\n",
    "    #('impute_inf', Imputer(missing_values='inf', strategy='mean', axis=0)),\n",
    "    ('scale', StandardScaler()),\n",
    "#     ('pca', PCA()),\n",
    "    #('standardscaler', StandardScaler(with_mean=True, with_std=True)),\n",
    "    ('clf', RandomForestClassifier())\n",
    "])\n",
    "\n",
    "\n",
    "ppl.fit(X_train, y_train)"
   ]
  },
  {
   "cell_type": "code",
   "execution_count": 50,
   "metadata": {
    "collapsed": false,
    "scrolled": false
   },
   "outputs": [
    {
     "name": "stderr",
     "output_type": "stream",
     "text": [
      "Feature Extraction: 100%|██████████| 3/3 [00:08<00:00,  3.62s/it]"
     ]
    },
    {
     "name": "stdout",
     "output_type": "stream",
     "text": [
      "             precision    recall  f1-score   support\n",
      "\n",
      "        0.0       1.00      0.17      0.29       111\n",
      "        1.0       0.18      0.95      0.31        37\n",
      "        2.0       0.92      0.40      0.56       110\n",
      "        3.0       1.00      0.98      0.99        48\n",
      "\n",
      "avg / total       0.87      0.47      0.50       306\n",
      "\n"
     ]
    },
    {
     "name": "stderr",
     "output_type": "stream",
     "text": [
      "\n"
     ]
    }
   ],
   "source": [
    "# ppl.set_params(fresh__timeseries_container=df_test)\n",
    "augmenter.timeseries_container = df_test\n",
    "transformed_X_test = augmenter.transform(X_test)\n",
    "\n",
    "y_pred = ppl.predict(transformed_X_test)\n",
    "\n",
    "print(classification_report(y_test, y_pred))"
   ]
  },
  {
   "cell_type": "code",
   "execution_count": null,
   "metadata": {
    "collapsed": true
   },
   "outputs": [],
   "source": []
  },
  {
   "cell_type": "markdown",
   "metadata": {
    "collapsed": true
   },
   "source": []
  }
 ],
 "metadata": {
  "kernelspec": {
   "display_name": "Python 3",
   "language": "python",
   "name": "python3"
  },
  "language_info": {
   "codemirror_mode": {
    "name": "ipython",
    "version": 3
   },
   "file_extension": ".py",
   "mimetype": "text/x-python",
   "name": "python",
   "nbconvert_exporter": "python",
   "pygments_lexer": "ipython3",
   "version": "3.4.3"
  }
 },
 "nbformat": 4,
 "nbformat_minor": 0
}
