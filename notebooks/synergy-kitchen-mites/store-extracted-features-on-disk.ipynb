{
 "cells": [
  {
   "cell_type": "code",
   "execution_count": 4,
   "metadata": {
    "collapsed": true
   },
   "outputs": [],
   "source": [
    "from tsfresh import extract_features\n",
    "from tsfresh.utilities.dataframe_functions import impute\n",
    "from pprint import pprint\n",
    "import pandas as pd"
   ]
  },
  {
   "cell_type": "code",
   "execution_count": null,
   "metadata": {
    "collapsed": true
   },
   "outputs": [],
   "source": [
    "def extract_device_features(df):\n",
    "    extracted_features = extract_features(df, column_id=\"id\")\n",
    "    impute(extracted_features)\n",
    "    return extracted_features"
   ]
  },
  {
   "cell_type": "code",
   "execution_count": 5,
   "metadata": {
    "collapsed": true
   },
   "outputs": [],
   "source": [
    "dataset_path = '../../datasets/synergy-kitchen-mites-processed/'\n",
    "processed_dataset_path = '../../datasets/synergy-kitchen-mites-features/'\n",
    "\n",
    "\n",
    "devices = [\n",
    "    '128.237.246.127',\n",
    "    '128.237.248.186',\n",
    "    '128.237.253.157',\n",
    "    '128.237.242.0'\n",
    "]"
   ]
  },
  {
   "cell_type": "code",
   "execution_count": null,
   "metadata": {
    "collapsed": false,
    "scrolled": true
   },
   "outputs": [],
   "source": [
    "data_frames = {}\n",
    "\n",
    "for device in devices:\n",
    "    df = pd.read_pickle(dataset_path + device + '.p')\n",
    "    df = df.filter(regex=(\"ACCEL_sst_*|MICROPHONE_sst_*|COLOR_sst_*|BAROMETER_sst_*|EMI_sst_*|GEYE_sst_*|ILLUMINATION_sst_*|HUMIDITY_sst_*|IRMOTION_sst_*|TEMPERATURE_sst_*|MAGNETOMETER_sst_*|id\"))\n",
    "\n",
    "    extracted = extract_device_features(df)\n",
    "    extracted.to_pickle(processed_dataset_path + device + '.p')\n",
    "    print('Finished ' + device)"
   ]
  },
  {
   "cell_type": "code",
   "execution_count": null,
   "metadata": {
    "collapsed": true
   },
   "outputs": [],
   "source": []
  }
 ],
 "metadata": {
  "kernelspec": {
   "display_name": "Python 3",
   "language": "python",
   "name": "python3"
  },
  "language_info": {
   "codemirror_mode": {
    "name": "ipython",
    "version": 3
   },
   "file_extension": ".py",
   "mimetype": "text/x-python",
   "name": "python",
   "nbconvert_exporter": "python",
   "pygments_lexer": "ipython3",
   "version": "3.4.3"
  }
 },
 "nbformat": 4,
 "nbformat_minor": 0
}
