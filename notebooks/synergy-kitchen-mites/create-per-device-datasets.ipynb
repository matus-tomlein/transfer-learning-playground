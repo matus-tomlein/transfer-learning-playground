{
 "cells": [
  {
   "cell_type": "code",
   "execution_count": null,
   "metadata": {
    "collapsed": true
   },
   "outputs": [],
   "source": [
    "import pandas as pd\n",
    "import numpy as np\n",
    "import os\n",
    "from tsfresh import extract_features\n",
    "from tsfresh.utilities.dataframe_functions import impute\n",
    "from pprint import pprint"
   ]
  },
  {
   "cell_type": "markdown",
   "metadata": {
    "collapsed": true
   },
   "source": [
    "**Dataset configuration**"
   ]
  },
  {
   "cell_type": "code",
   "execution_count": null,
   "metadata": {
    "collapsed": true
   },
   "outputs": [],
   "source": [
    "dataset_path = '../../datasets/synergy-mites-colocated/'\n",
    "output_path = '../../datasets/synergy-mites-colocated-processed/'\n",
    "features_output_path = '../../datasets/synergy-mites-colocated-features/'"
   ]
  },
  {
   "cell_type": "markdown",
   "metadata": {},
   "source": [
    "**Merge the individual CSVs into one DataFrame per device**"
   ]
  },
  {
   "cell_type": "code",
   "execution_count": null,
   "metadata": {
    "collapsed": true
   },
   "outputs": [],
   "source": [
    "data_frames = {}\n",
    "\n",
    "for root, dirs, files in os.walk(dataset_path):\n",
    "    for file in files:\n",
    "        if file.startswith('128'):\n",
    "            device_id = file.split('_')[0]\n",
    "            df = pd.DataFrame()\n",
    "            if device_id in data_frames:\n",
    "                df = data_frames[device_id]\n",
    "            \n",
    "            df_new = pd.DataFrame.from_csv(dataset_path + file)\n",
    "            df = df.join(df_new, how='outer')\n",
    "            data_frames[device_id] = df"
   ]
  },
  {
   "cell_type": "markdown",
   "metadata": {},
   "source": [
    "**Merge with labeled activities**"
   ]
  },
  {
   "cell_type": "code",
   "execution_count": null,
   "metadata": {
    "collapsed": true
   },
   "outputs": [],
   "source": [
    "for device_id in data_frames:\n",
    "    df = data_frames[device_id]\n",
    "    df_act = pd.DataFrame.from_csv(dataset_path + 'activities.csv')\n",
    "    df = df.join(df_act, how='outer')\n",
    "    data_frames[device_id] = df"
   ]
  },
  {
   "cell_type": "markdown",
   "metadata": {},
   "source": [
    "**Fill missing values**"
   ]
  },
  {
   "cell_type": "code",
   "execution_count": null,
   "metadata": {
    "collapsed": true
   },
   "outputs": [],
   "source": [
    "for device_id in data_frames:\n",
    "    df = data_frames[device_id]\n",
    "    df = df.ffill().bfill()\n",
    "    data_frames[device_id] = df"
   ]
  },
  {
   "cell_type": "markdown",
   "metadata": {},
   "source": [
    "**Remove duplicate indices**"
   ]
  },
  {
   "cell_type": "code",
   "execution_count": null,
   "metadata": {
    "collapsed": true
   },
   "outputs": [],
   "source": [
    "for device_id in data_frames:\n",
    "    df = data_frames[device_id]\n",
    "    df = df[~df.index.duplicated(keep='first')]\n",
    "    data_frames[device_id] = df"
   ]
  },
  {
   "cell_type": "markdown",
   "metadata": {},
   "source": [
    "**Resample to 10Hz**"
   ]
  },
  {
   "cell_type": "code",
   "execution_count": null,
   "metadata": {
    "collapsed": false
   },
   "outputs": [],
   "source": [
    "for device_id in data_frames:\n",
    "    df = data_frames[device_id]\n",
    "\n",
    "    previous_length = len(df)\n",
    "    df = df.resample('100L').ffill().bfill()\n",
    "    print('Resampled from ' + str(previous_length) + ' to ' + str(len(df)))\n",
    "\n",
    "    data_frames[device_id] = df"
   ]
  },
  {
   "cell_type": "markdown",
   "metadata": {},
   "source": [
    "**Remove activities with ID -1 (unlabeled activities)**"
   ]
  },
  {
   "cell_type": "code",
   "execution_count": null,
   "metadata": {
    "collapsed": false
   },
   "outputs": [],
   "source": [
    "for device_id in data_frames:\n",
    "    df = data_frames[device_id]\n",
    "    df = df[df.id != -1]\n",
    "    data_frames[device_id] = df"
   ]
  },
  {
   "cell_type": "markdown",
   "metadata": {},
   "source": [
    "**Split into 5s windows**"
   ]
  },
  {
   "cell_type": "code",
   "execution_count": null,
   "metadata": {
    "collapsed": false
   },
   "outputs": [],
   "source": [
    "labels = pd.DataFrame.from_csv(dataset_path + 'activity_labels.csv')\n",
    "windowed_labels = pd.DataFrame(columns=['label'])\n",
    "\n",
    "for device_id in data_frames:\n",
    "    df = data_frames[device_id]\n",
    "    new_dfs = []\n",
    "\n",
    "    window_size_secs = 5\n",
    "    i = 0\n",
    "    for id in labels.index:\n",
    "        label = labels.loc[id]['label']\n",
    "\n",
    "        activity_df = df[df['id'] == id]\n",
    "        since = activity_df.index[0]\n",
    "        until = since + pd.DateOffset(seconds=window_size_secs)\n",
    "\n",
    "        while len(df[since:until]):\n",
    "            new_df = df[since:until].copy()\n",
    "            new_df.id = i\n",
    "\n",
    "            new_dfs.append(new_df)\n",
    "\n",
    "            since = until\n",
    "            until = until + pd.DateOffset(seconds=5)\n",
    "\n",
    "            windowed_labels.loc[i] = [label]\n",
    "            i += 1\n",
    "\n",
    "    df = pd.concat(new_dfs)\n",
    "    data_frames[device_id] = df"
   ]
  },
  {
   "cell_type": "markdown",
   "metadata": {},
   "source": [
    "**Replace timestamp indices with integer ones**"
   ]
  },
  {
   "cell_type": "code",
   "execution_count": null,
   "metadata": {
    "collapsed": false
   },
   "outputs": [],
   "source": [
    "for device_id in data_frames:\n",
    "    df = data_frames[device_id]\n",
    "    df.insert(0, 'i_index', pd.Series(range(len(df.index)), index=df.index))\n",
    "    df = df.set_index(['i_index'])\n",
    "    data_frames[device_id] = df"
   ]
  },
  {
   "cell_type": "markdown",
   "metadata": {},
   "source": [
    "**Save as Pickle files to disk**"
   ]
  },
  {
   "cell_type": "code",
   "execution_count": null,
   "metadata": {
    "collapsed": true
   },
   "outputs": [],
   "source": [
    "windowed_labels.to_csv(output_path + 'activity_labels.csv')\n",
    "for device_id in data_frames:\n",
    "    df = data_frames[device_id]\n",
    "    df.to_pickle(output_path + device_id + '.p')"
   ]
  },
  {
   "cell_type": "markdown",
   "metadata": {
    "collapsed": true
   },
   "source": [
    "**Extract features and store them on disk**"
   ]
  },
  {
   "cell_type": "code",
   "execution_count": null,
   "metadata": {
    "collapsed": false
   },
   "outputs": [],
   "source": [
    "data_frame_features = {}\n",
    "\n",
    "features_to_extract = [\n",
    "    'ACCEL_sst_*',\n",
    "    'MICROPHONE_sst_*',\n",
    "    'COLOR_sst_*',\n",
    "    'BAROMETER_sst_*',\n",
    "    'EMI_sst_*',\n",
    "    'GEYE_sst_*',\n",
    "    'ILLUMINATION_sst_*',\n",
    "    'HUMIDITY_sst_*',\n",
    "    'IRMOTION_sst_*',\n",
    "    'TEMPERATURE_sst_*',\n",
    "    'MAGNETOMETER_sst_*',\n",
    "    'id'\n",
    "]\n",
    "\n",
    "for device_id in data_frames:\n",
    "    df = data_frames[device_id]\n",
    "    df = df.filter(regex=(\"|\".join(features_to_extract)))\n",
    "\n",
    "    extracted = extract_device_features(df)\n",
    "    extracted.to_pickle(features_output_path + device_id + '.p')\n",
    "    data_frame_features[device_id] = extracted"
   ]
  },
  {
   "cell_type": "code",
   "execution_count": null,
   "metadata": {
    "collapsed": true
   },
   "outputs": [],
   "source": []
  }
 ],
 "metadata": {
  "kernelspec": {
   "display_name": "Python 3",
   "language": "python",
   "name": "python3"
  },
  "language_info": {
   "codemirror_mode": {
    "name": "ipython",
    "version": 3
   },
   "file_extension": ".py",
   "mimetype": "text/x-python",
   "name": "python",
   "nbconvert_exporter": "python",
   "pygments_lexer": "ipython3",
   "version": "3.4.3"
  }
 },
 "nbformat": 4,
 "nbformat_minor": 0
}
