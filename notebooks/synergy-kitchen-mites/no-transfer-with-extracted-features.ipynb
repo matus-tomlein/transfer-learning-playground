{
 "cells": [
  {
   "cell_type": "code",
   "execution_count": 88,
   "metadata": {
    "collapsed": true,
    "deletable": true,
    "editable": true
   },
   "outputs": [],
   "source": [
    "import pandas as pd\n",
    "import numpy as np\n",
    "from sklearn.ensemble import RandomForestClassifier\n",
    "from sklearn import svm\n",
    "from sklearn.pipeline import Pipeline\n",
    "from sklearn.preprocessing import Imputer\n",
    "from sklearn.metrics import classification_report, confusion_matrix, accuracy_score\n",
    "from sklearn.preprocessing import StandardScaler\n",
    "from sklearn.linear_model import LogisticRegression\n",
    "from sklearn.naive_bayes import GaussianNB, MultinomialNB, BernoulliNB"
   ]
  },
  {
   "cell_type": "code",
   "execution_count": 42,
   "metadata": {
    "collapsed": true,
    "deletable": true,
    "editable": true
   },
   "outputs": [],
   "source": [
    "dataset_path = '../../datasets/synergy-kitchen-mites-features/'\n",
    "df = pd.read_pickle(dataset_path + '128.237.246.127.p')\n",
    "df_labels = pd.DataFrame.from_csv(dataset_path + 'activity_labels.csv')"
   ]
  },
  {
   "cell_type": "code",
   "execution_count": 43,
   "metadata": {
    "collapsed": true,
    "deletable": true,
    "editable": true
   },
   "outputs": [],
   "source": [
    "df = df.filter(regex=(\"ACCEL_sst_*\"))"
   ]
  },
  {
   "cell_type": "code",
   "execution_count": 216,
   "metadata": {
    "collapsed": false,
    "deletable": true,
    "editable": true
   },
   "outputs": [],
   "source": [
    "# train test split\n",
    "indexes = df_labels.index.tolist()\n",
    "np.random.shuffle(indexes)\n",
    "split = round(0.7*len(indexes))\n",
    "training_i = indexes[:split]\n",
    "testing_i = indexes[split:]\n",
    "\n",
    "X_train = df.loc[df.index.isin(training_i)]\n",
    "X_test = df.loc[df.index.isin(testing_i)]\n",
    "\n",
    "y_train = df_labels.loc[df_labels.index.isin(training_i)]\n",
    "y_test = df_labels.loc[df_labels.index.isin(testing_i)]\n",
    "y_train = y_train['label']\n",
    "y_test = y_test['label']"
   ]
  },
  {
   "cell_type": "code",
   "execution_count": 217,
   "metadata": {
    "collapsed": false,
    "deletable": true,
    "editable": true
   },
   "outputs": [],
   "source": [
    "ppl = Pipeline([\n",
    "    ('impute', Imputer()),\n",
    "    ('scale', StandardScaler()),\n",
    "    ('clf', svm.SVC(kernel='linear', decision_function_shape='ovr'))\n",
    "#     ('clf', LogisticRegression())\n",
    "])\n",
    "\n",
    "ppl.fit(X_train, y_train)\n",
    "y_pred = ppl.predict(X_test)"
   ]
  },
  {
   "cell_type": "code",
   "execution_count": 218,
   "metadata": {
    "collapsed": false,
    "deletable": true,
    "editable": true
   },
   "outputs": [
    {
     "name": "stdout",
     "output_type": "stream",
     "text": [
      "[[10  0  0  1  0  0]\n",
      " [ 1 10  1  2  0  2]\n",
      " [ 0  0 12  3  0  2]\n",
      " [ 2  0  2  7  0  0]\n",
      " [ 0  0  0  0 10  0]\n",
      " [ 0  0  0  0  0 15]]\n",
      "0.8\n"
     ]
    }
   ],
   "source": [
    "print(confusion_matrix(y_test, y_pred))\n",
    "print(accuracy_score(y_test, y_pred))"
   ]
  },
  {
   "cell_type": "code",
   "execution_count": null,
   "metadata": {
    "collapsed": true,
    "deletable": true,
    "editable": true
   },
   "outputs": [],
   "source": []
  }
 ],
 "metadata": {
  "kernelspec": {
   "display_name": "Python 3",
   "language": "python",
   "name": "python3"
  },
  "language_info": {
   "codemirror_mode": {
    "name": "ipython",
    "version": 3
   },
   "file_extension": ".py",
   "mimetype": "text/x-python",
   "name": "python",
   "nbconvert_exporter": "python",
   "pygments_lexer": "ipython3",
   "version": "3.5.2"
  }
 },
 "nbformat": 4,
 "nbformat_minor": 0
}
