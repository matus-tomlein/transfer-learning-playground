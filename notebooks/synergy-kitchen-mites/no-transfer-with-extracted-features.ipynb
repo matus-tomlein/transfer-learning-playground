{
 "cells": [
  {
   "cell_type": "code",
   "execution_count": 19,
   "metadata": {
    "collapsed": true
   },
   "outputs": [],
   "source": [
    "import pandas as pd\n",
    "import numpy as np\n",
    "from sklearn.ensemble import RandomForestClassifier\n",
    "from sklearn.pipeline import Pipeline\n",
    "from sklearn.preprocessing import Imputer\n",
    "from sklearn.metrics import classification_report\n",
    "from sklearn.preprocessing import StandardScaler"
   ]
  },
  {
   "cell_type": "code",
   "execution_count": 20,
   "metadata": {
    "collapsed": true
   },
   "outputs": [],
   "source": [
    "dataset_path = '../../datasets/synergy-kitchen-mites-features/'\n",
    "df = pd.read_pickle(dataset_path + '128.237.246.127.p')\n",
    "df_labels = pd.DataFrame.from_csv(dataset_path + 'activity_labels.csv')"
   ]
  },
  {
   "cell_type": "code",
   "execution_count": 21,
   "metadata": {
    "collapsed": true
   },
   "outputs": [],
   "source": [
    "df = df.filter(regex=(\"ACCEL_sst_*\"))"
   ]
  },
  {
   "cell_type": "code",
   "execution_count": 22,
   "metadata": {
    "collapsed": false
   },
   "outputs": [],
   "source": [
    "# train test split\n",
    "indexes = df_labels.index.tolist()\n",
    "np.random.shuffle(indexes)\n",
    "split = round(0.7*len(indexes))\n",
    "training_i = indexes[:split]\n",
    "testing_i = indexes[split:]\n",
    "\n",
    "X_train = df.loc[df.index.isin(training_i)]\n",
    "X_test = df.loc[df.index.isin(testing_i)]\n",
    "\n",
    "y_train = df_labels.loc[df_labels.index.isin(training_i)]\n",
    "y_test = df_labels.loc[df_labels.index.isin(testing_i)]\n",
    "y_train = y_train['label']\n",
    "y_test = y_test['label']"
   ]
  },
  {
   "cell_type": "code",
   "execution_count": 23,
   "metadata": {
    "collapsed": false
   },
   "outputs": [],
   "source": [
    "ppl = Pipeline([\n",
    "    ('impute', Imputer()),\n",
    "    ('scale', StandardScaler()),\n",
    "    ('clf', RandomForestClassifier())\n",
    "])\n",
    "\n",
    "ppl.fit(X_train, y_train)\n",
    "y_pred = ppl.predict(X_test)"
   ]
  },
  {
   "cell_type": "code",
   "execution_count": 24,
   "metadata": {
    "collapsed": false
   },
   "outputs": [
    {
     "name": "stdout",
     "output_type": "stream",
     "text": [
      "             precision    recall  f1-score   support\n",
      "\n",
      "        0.0       1.00      1.00      1.00        12\n",
      "        1.0       0.92      1.00      0.96        12\n",
      "        2.0       1.00      1.00      1.00        19\n",
      "        3.0       1.00      0.91      0.95        11\n",
      "        4.0       1.00      1.00      1.00        10\n",
      "        5.0       1.00      1.00      1.00        16\n",
      "\n",
      "avg / total       0.99      0.99      0.99        80\n",
      "\n"
     ]
    }
   ],
   "source": [
    "print(classification_report(y_test, y_pred))"
   ]
  },
  {
   "cell_type": "code",
   "execution_count": null,
   "metadata": {
    "collapsed": true
   },
   "outputs": [],
   "source": []
  }
 ],
 "metadata": {
  "kernelspec": {
   "display_name": "Python 3",
   "language": "python",
   "name": "python3"
  },
  "language_info": {
   "codemirror_mode": {
    "name": "ipython",
    "version": 3
   },
   "file_extension": ".py",
   "mimetype": "text/x-python",
   "name": "python",
   "nbconvert_exporter": "python",
   "pygments_lexer": "ipython3",
   "version": "3.4.3"
  }
 },
 "nbformat": 4,
 "nbformat_minor": 0
}
