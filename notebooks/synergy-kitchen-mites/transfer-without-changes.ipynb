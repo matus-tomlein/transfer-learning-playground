{
 "cells": [
  {
   "cell_type": "markdown",
   "metadata": {},
   "source": [
    "**Trains on device A, tests on device B**\n",
    "\n",
    "No changes are made to the trained model to facilitate for the target domain."
   ]
  },
  {
   "cell_type": "code",
   "execution_count": null,
   "metadata": {
    "collapsed": false
   },
   "outputs": [],
   "source": [
    "import pandas as pd\n",
    "import numpy as np\n",
    "%run ../helpers.py"
   ]
  },
  {
   "cell_type": "code",
   "execution_count": null,
   "metadata": {
    "collapsed": false
   },
   "outputs": [],
   "source": [
    "dataset_path = '../../datasets/synergy-kitchen-mites-processed/'\n",
    "\n",
    "def test(source, target, use_features):\n",
    "    df_train = pd.DataFrame.from_csv(dataset_path + source + '.csv')\n",
    "    df_test = pd.DataFrame.from_csv(dataset_path + target + '.csv')\n",
    "\n",
    "    df_labels = pd.DataFrame.from_csv(dataset_path + 'activity_labels.csv')\n",
    "\n",
    "    y_train, y_test = train_test_split_labels(df_labels)\n",
    "    X_train = pd.DataFrame(index=y_train.index)\n",
    "    X_test = pd.DataFrame(index=y_test.index)\n",
    "\n",
    "    df_train = df_train.filter(regex=(use_features))\n",
    "    df_test = df_test.filter(regex=(use_features))\n",
    "\n",
    "    return classify_with_tsfresh_features(df_train, X_train, y_train, df_test, X_test, y_test)"
   ]
  },
  {
   "cell_type": "markdown",
   "metadata": {},
   "source": [
    "**For each 2-combination of devices and each sensor type, calculate the classification results and print**"
   ]
  },
  {
   "cell_type": "code",
   "execution_count": null,
   "metadata": {
    "collapsed": false
   },
   "outputs": [],
   "source": [
    "devices = {\n",
    "    '128.237.242.0': 'SS008',\n",
    "    '128.237.246.127': 'SS076',\n",
    "    '128.237.248.186': 'SS049',\n",
    "    '128.237.253.157': 'SS018'\n",
    "}\n",
    "\n",
    "features = {\n",
    "    \"ACCEL_sst_*|id\": 'Accelerometer',\n",
    "    \"MICROPHONE_sst_*|id\": 'Microphone',\n",
    "    \"MAGNETOMETER_sst_*|id\": 'Magnetometer'\n",
    "}\n",
    "\n",
    "reports = {}\n",
    "\n",
    "for source in devices:\n",
    "    for target in devices:\n",
    "        if source != target:\n",
    "            for feature in features:\n",
    "                report = test(source, target, feature)\n",
    "                report_name = features[feature] + ' on ' + devices[source] + ' to ' + devices[target]\n",
    "                reports[report_name] = report\n",
    "\n",
    "for name in reports:\n",
    "    print(name)\n",
    "    print('')\n",
    "    print(reports[name])\n",
    "    print('')"
   ]
  },
  {
   "cell_type": "code",
   "execution_count": null,
   "metadata": {
    "collapsed": true
   },
   "outputs": [],
   "source": []
  }
 ],
 "metadata": {
  "kernelspec": {
   "display_name": "Python 3",
   "language": "python",
   "name": "python3"
  },
  "language_info": {
   "codemirror_mode": {
    "name": "ipython",
    "version": 3
   },
   "file_extension": ".py",
   "mimetype": "text/x-python",
   "name": "python",
   "nbconvert_exporter": "python",
   "pygments_lexer": "ipython3",
   "version": "3.4.3"
  }
 },
 "nbformat": 4,
 "nbformat_minor": 0
}
