{
 "cells": [
  {
   "cell_type": "code",
   "execution_count": 7,
   "metadata": {
    "collapsed": false
   },
   "outputs": [],
   "source": [
    "import pandas as pd\n",
    "import numpy as np"
   ]
  },
  {
   "cell_type": "code",
   "execution_count": 8,
   "metadata": {
    "collapsed": true
   },
   "outputs": [],
   "source": [
    "dataset_path = '../../datasets/synergy-kitchen-mites-processed/'\n",
    "df = pd.DataFrame.from_csv(dataset_path + '128.237.246.127.csv')\n",
    "df_labels = pd.DataFrame.from_csv(dataset_path + 'activity_labels.csv')"
   ]
  },
  {
   "cell_type": "code",
   "execution_count": 9,
   "metadata": {
    "collapsed": false
   },
   "outputs": [],
   "source": [
    "df = df.filter(regex=(\"MICROPHONE_sst_*|id\"))"
   ]
  },
  {
   "cell_type": "code",
   "execution_count": 10,
   "metadata": {
    "collapsed": true
   },
   "outputs": [],
   "source": [
    "# train tes\n",
    "indexes = df_labels.index.tolist()\n",
    "np.random.shuffle(indexes)\n",
    "split = round(0.7*len(indexes))\n",
    "training_i = indexes[:split]\n",
    "testing_i = indexes[split:]\n",
    "df_train = df.loc[df.id.isin(training_i)]\n",
    "df_test = df.loc[df.id.isin(testing_i)]"
   ]
  },
  {
   "cell_type": "code",
   "execution_count": 11,
   "metadata": {
    "collapsed": false
   },
   "outputs": [
    {
     "name": "stderr",
     "output_type": "stream",
     "text": [
      "Feature Extraction: 100%|██████████| 7/7 [00:31<00:00,  6.07s/it]\n",
      "WARNING:tsfresh.feature_selection.feature_selector:[test_feature_significance] Feature MICROPHONE_sst_0_5__value_count__value_-inf is constant\n",
      "WARNING:tsfresh.feature_selection.feature_selector:[test_feature_significance] Feature MICROPHONE_sst_0_5__large_number_of_peaks__n_3 is constant\n",
      "WARNING:tsfresh.feature_selection.feature_selector:[test_feature_significance] Feature MICROPHONE_sst_0_3__large_number_of_peaks__n_3 is constant\n",
      "WARNING:tsfresh.feature_selection.feature_selector:[test_feature_significance] Feature MICROPHONE_sst_0_4__large_number_of_peaks__n_5 is constant\n",
      "WARNING:tsfresh.feature_selection.feature_selector:[test_feature_significance] Feature MICROPHONE_sst_0_2__large_number_of_peaks__n_3 is constant\n",
      "WARNING:tsfresh.feature_selection.feature_selector:[test_feature_significance] Feature MICROPHONE_sst_0_0__mean_abs_change_quantiles__qh_0.4__ql_0.4 is constant\n",
      "WARNING:tsfresh.feature_selection.feature_selector:[test_feature_significance] Feature MICROPHONE_sst_0_4__mean_abs_change_quantiles__qh_0.8__ql_0.8 is constant\n",
      "WARNING:tsfresh.feature_selection.feature_selector:[test_feature_significance] Feature MICROPHONE_sst_0_2__value_count__value_nan is constant\n",
      "WARNING:tsfresh.feature_selection.feature_selector:[test_feature_significance] Feature MICROPHONE_sst_0_0__mean_abs_change_quantiles__qh_0.4__ql_0.6 is constant\n",
      "WARNING:tsfresh.feature_selection.feature_selector:[test_feature_significance] Feature MICROPHONE_sst_0_2__large_standard_deviation__r_0.45 is constant\n",
      "WARNING:tsfresh.feature_selection.feature_selector:[test_feature_significance] Feature MICROPHONE_sst_0_6__value_count__value_0 is constant\n",
      "WARNING:tsfresh.feature_selection.feature_selector:[test_feature_significance] Feature MICROPHONE_sst_0_5__mean_abs_change_quantiles__qh_0.8__ql_0.8 is constant\n",
      "WARNING:tsfresh.feature_selection.feature_selector:[test_feature_significance] Feature MICROPHONE_sst_0_4__value_count__value_1 is constant\n",
      "WARNING:tsfresh.feature_selection.feature_selector:[test_feature_significance] Feature MICROPHONE_sst_0_3__mean_abs_change_quantiles__qh_0.2__ql_0.2 is constant\n",
      "WARNING:tsfresh.feature_selection.feature_selector:[test_feature_significance] Feature MICROPHONE_sst_0_0__value_count__value_1 is constant\n",
      "WARNING:tsfresh.feature_selection.feature_selector:[test_feature_significance] Feature MICROPHONE_sst_0_4__mean_abs_change_quantiles__qh_0.4__ql_0.6 is constant\n",
      "WARNING:tsfresh.feature_selection.feature_selector:[test_feature_significance] Feature MICROPHONE_sst_0_2__mean_abs_change_quantiles__qh_0.2__ql_0.4 is constant\n",
      "WARNING:tsfresh.feature_selection.feature_selector:[test_feature_significance] Feature MICROPHONE_sst_0_1__value_count__value_-inf is constant\n",
      "WARNING:tsfresh.feature_selection.feature_selector:[test_feature_significance] Feature MICROPHONE_sst_0_5__large_standard_deviation__r_0.4 is constant\n",
      "WARNING:tsfresh.feature_selection.feature_selector:[test_feature_significance] Feature MICROPHONE_sst_0_3__mean_abs_change_quantiles__qh_0.2__ql_0.8 is constant\n",
      "WARNING:tsfresh.feature_selection.feature_selector:[test_feature_significance] Feature MICROPHONE_sst_0_2__symmetry_looking__r_0.0 is constant\n",
      "WARNING:tsfresh.feature_selection.feature_selector:[test_feature_significance] Feature MICROPHONE_sst_0_0__symmetry_looking__r_0.0 is constant\n",
      "WARNING:tsfresh.feature_selection.feature_selector:[test_feature_significance] Feature MICROPHONE_sst_0_5__value_count__value_1 is constant\n",
      "WARNING:tsfresh.feature_selection.feature_selector:[test_feature_significance] Feature MICROPHONE_sst_0_0__mean_abs_change_quantiles__qh_0.2__ql_0.2 is constant\n",
      "WARNING:tsfresh.feature_selection.feature_selector:[test_feature_significance] Feature MICROPHONE_sst_0_4__mean_abs_change_quantiles__qh_0.2__ql_0.8 is constant\n",
      "WARNING:tsfresh.feature_selection.feature_selector:[test_feature_significance] Feature MICROPHONE_sst_0_0__large_number_of_peaks__n_3 is constant\n",
      "WARNING:tsfresh.feature_selection.feature_selector:[test_feature_significance] Feature MICROPHONE_sst_0_2__range_count__max_1__min_-1 is constant\n",
      "WARNING:tsfresh.feature_selection.feature_selector:[test_feature_significance] Feature MICROPHONE_sst_0_1__symmetry_looking__r_0.0 is constant\n",
      "WARNING:tsfresh.feature_selection.feature_selector:[test_feature_significance] Feature MICROPHONE_sst_0_1__mean_abs_change_quantiles__qh_0.6__ql_0.8 is constant\n",
      "WARNING:tsfresh.feature_selection.feature_selector:[test_feature_significance] Feature MICROPHONE_sst_0_6__mean_abs_change_quantiles__qh_0.4__ql_0.4 is constant\n",
      "WARNING:tsfresh.feature_selection.feature_selector:[test_feature_significance] Feature MICROPHONE_sst_0_3__mean_abs_change_quantiles__qh_0.4__ql_0.6 is constant\n",
      "WARNING:tsfresh.feature_selection.feature_selector:[test_feature_significance] Feature MICROPHONE_sst_0_4__value_count__value_0 is constant\n",
      "WARNING:tsfresh.feature_selection.feature_selector:[test_feature_significance] Feature MICROPHONE_sst_0_0__value_count__value_nan is constant\n",
      "WARNING:tsfresh.feature_selection.feature_selector:[test_feature_significance] Feature MICROPHONE_sst_0_2__mean_abs_change_quantiles__qh_0.6__ql_0.8 is constant\n",
      "WARNING:tsfresh.feature_selection.feature_selector:[test_feature_significance] Feature MICROPHONE_sst_0_6__large_number_of_peaks__n_1 is constant\n",
      "WARNING:tsfresh.feature_selection.feature_selector:[test_feature_significance] Feature MICROPHONE_sst_0_4__mean_abs_change_quantiles__qh_0.6__ql_0.6 is constant\n",
      "WARNING:tsfresh.feature_selection.feature_selector:[test_feature_significance] Feature MICROPHONE_sst_0_6__value_count__value_inf is constant\n",
      "WARNING:tsfresh.feature_selection.feature_selector:[test_feature_significance] Feature MICROPHONE_sst_0_3__mean_abs_change_quantiles__qh_0.4__ql_0.4 is constant\n",
      "WARNING:tsfresh.feature_selection.feature_selector:[test_feature_significance] Feature MICROPHONE_sst_0_4__mean_abs_change_quantiles__qh_0.4__ql_0.8 is constant\n",
      "WARNING:tsfresh.feature_selection.feature_selector:[test_feature_significance] Feature MICROPHONE_sst_0_5__mean_abs_change_quantiles__qh_0.2__ql_0.8 is constant\n",
      "WARNING:tsfresh.feature_selection.feature_selector:[test_feature_significance] Feature MICROPHONE_sst_0_0__large_number_of_peaks__n_1 is constant\n",
      "WARNING:tsfresh.feature_selection.feature_selector:[test_feature_significance] Feature MICROPHONE_sst_0_0__value_count__value_-inf is constant\n",
      "WARNING:tsfresh.feature_selection.feature_selector:[test_feature_significance] Feature MICROPHONE_sst_0_6__mean_abs_change_quantiles__qh_0.2__ql_0.6 is constant\n",
      "WARNING:tsfresh.feature_selection.feature_selector:[test_feature_significance] Feature MICROPHONE_sst_0_2__value_count__value_0 is constant\n",
      "WARNING:tsfresh.feature_selection.feature_selector:[test_feature_significance] Feature MICROPHONE_sst_0_6__mean_abs_change_quantiles__qh_0.8__ql_0.8 is constant\n",
      "WARNING:tsfresh.feature_selection.feature_selector:[test_feature_significance] Feature MICROPHONE_sst_0_4__mean_abs_change_quantiles__qh_0.2__ql_0.6 is constant\n",
      "WARNING:tsfresh.feature_selection.feature_selector:[test_feature_significance] Feature MICROPHONE_sst_0_3__value_count__value_inf is constant\n",
      "WARNING:tsfresh.feature_selection.feature_selector:[test_feature_significance] Feature MICROPHONE_sst_0_1__mean_abs_change_quantiles__qh_0.8__ql_0.8 is constant\n",
      "WARNING:tsfresh.feature_selection.significance_tests:[target_binary_feature_binary_test] A binary feature should have only values 1 and 0 (incl. True and False). Instead found {0.0, 2.0} in feature ''MICROPHONE_sst_0_0__range_count__max_1__min_-1''.\n",
      "WARNING:tsfresh.feature_selection.feature_selector:[test_feature_significance] Feature MICROPHONE_sst_0_1__mean_abs_change_quantiles__qh_0.4__ql_0.8 is constant\n",
      "WARNING:tsfresh.feature_selection.feature_selector:[test_feature_significance] Feature MICROPHONE_sst_0_4__value_count__value_nan is constant\n",
      "WARNING:tsfresh.feature_selection.feature_selector:[test_feature_significance] Feature MICROPHONE_sst_0_6__mean_abs_change_quantiles__qh_0.4__ql_0.8 is constant\n",
      "WARNING:tsfresh.feature_selection.feature_selector:[test_feature_significance] Feature MICROPHONE_sst_0_1__large_standard_deviation__r_0.4 is constant\n",
      "WARNING:tsfresh.feature_selection.feature_selector:[test_feature_significance] Feature MICROPHONE_sst_0_0__mean_abs_change_quantiles__qh_0.4__ql_0.8 is constant\n",
      "WARNING:tsfresh.feature_selection.feature_selector:[test_feature_significance] Feature MICROPHONE_sst_0_0__mean_abs_change_quantiles__qh_0.6__ql_0.8 is constant\n",
      "WARNING:tsfresh.feature_selection.feature_selector:[test_feature_significance] Feature MICROPHONE_sst_0_3__mean_abs_change_quantiles__qh_0.2__ql_0.6 is constant\n",
      "WARNING:tsfresh.feature_selection.feature_selector:[test_feature_significance] Feature MICROPHONE_sst_0_3__mean_abs_change_quantiles__qh_0.4__ql_0.8 is constant\n",
      "WARNING:tsfresh.feature_selection.feature_selector:[test_feature_significance] Feature MICROPHONE_sst_0_1__value_count__value_nan is constant\n",
      "WARNING:tsfresh.feature_selection.feature_selector:[test_feature_significance] Feature MICROPHONE_sst_0_6__mean_abs_change_quantiles__qh_0.2__ql_0.8 is constant\n",
      "WARNING:tsfresh.feature_selection.feature_selector:[test_feature_significance] Feature MICROPHONE_sst_0_5__mean_abs_change_quantiles__qh_0.2__ql_0.4 is constant\n",
      "WARNING:tsfresh.feature_selection.feature_selector:[test_feature_significance] Feature MICROPHONE_sst_0_6__mean_abs_change_quantiles__qh_0.2__ql_0.4 is constant\n",
      "WARNING:tsfresh.feature_selection.feature_selector:[test_feature_significance] Feature MICROPHONE_sst_0_2__value_count__value_inf is constant\n",
      "WARNING:tsfresh.feature_selection.feature_selector:[test_feature_significance] Feature MICROPHONE_sst_0_4__symmetry_looking__r_0.0 is constant\n",
      "WARNING:tsfresh.feature_selection.feature_selector:[test_feature_significance] Feature MICROPHONE_sst_0_2__mean_abs_change_quantiles__qh_0.4__ql_0.8 is constant\n",
      "WARNING:tsfresh.feature_selection.feature_selector:[test_feature_significance] Feature MICROPHONE_sst_0_1__value_count__value_1 is constant\n",
      "WARNING:tsfresh.feature_selection.feature_selector:[test_feature_significance] Feature MICROPHONE_sst_0_3__mean_abs_change_quantiles__qh_0.2__ql_0.4 is constant\n",
      "WARNING:tsfresh.feature_selection.feature_selector:[test_feature_significance] Feature MICROPHONE_sst_0_1__mean_abs_change_quantiles__qh_0.6__ql_0.6 is constant\n",
      "WARNING:tsfresh.feature_selection.feature_selector:[test_feature_significance] Feature MICROPHONE_sst_0_4__value_count__value_-inf is constant\n",
      "WARNING:tsfresh.feature_selection.feature_selector:[test_feature_significance] Feature MICROPHONE_sst_0_1__value_count__value_0 is constant\n",
      "WARNING:tsfresh.feature_selection.feature_selector:[test_feature_significance] Feature MICROPHONE_sst_0_3__value_count__value_1 is constant\n",
      "WARNING:tsfresh.feature_selection.feature_selector:[test_feature_significance] Feature MICROPHONE_sst_0_4__mean_abs_change_quantiles__qh_0.2__ql_0.2 is constant\n",
      "WARNING:tsfresh.feature_selection.feature_selector:[test_feature_significance] Feature MICROPHONE_sst_0_5__value_count__value_0 is constant\n",
      "WARNING:tsfresh.feature_selection.feature_selector:[test_feature_significance] Feature MICROPHONE_sst_0_4__large_standard_deviation__r_0.45 is constant\n",
      "WARNING:tsfresh.feature_selection.feature_selector:[test_feature_significance] Feature MICROPHONE_sst_0_0__mean_abs_change_quantiles__qh_0.6__ql_0.6 is constant\n",
      "WARNING:tsfresh.feature_selection.feature_selector:[test_feature_significance] Feature MICROPHONE_sst_0_3__mean_abs_change_quantiles__qh_0.6__ql_0.8 is constant\n",
      "WARNING:tsfresh.feature_selection.feature_selector:[test_feature_significance] Feature MICROPHONE_sst_0_2__mean_abs_change_quantiles__qh_0.6__ql_0.6 is constant\n",
      "WARNING:tsfresh.feature_selection.feature_selector:[test_feature_significance] Feature MICROPHONE_sst_0_5__value_count__value_nan is constant\n",
      "WARNING:tsfresh.feature_selection.feature_selector:[test_feature_significance] Feature MICROPHONE_sst_0_2__large_number_of_peaks__n_5 is constant\n",
      "WARNING:tsfresh.feature_selection.feature_selector:[test_feature_significance] Feature MICROPHONE_sst_0_3__large_number_of_peaks__n_5 is constant\n",
      "WARNING:tsfresh.feature_selection.feature_selector:[test_feature_significance] Feature MICROPHONE_sst_0_3__mean_abs_change_quantiles__qh_0.8__ql_0.8 is constant\n",
      "WARNING:tsfresh.feature_selection.feature_selector:[test_feature_significance] Feature MICROPHONE_sst_0_0__value_count__value_inf is constant\n",
      "WARNING:tsfresh.feature_selection.feature_selector:[test_feature_significance] Feature MICROPHONE_sst_0_6__mean_abs_change_quantiles__qh_0.2__ql_0.2 is constant\n",
      "WARNING:tsfresh.feature_selection.feature_selector:[test_feature_significance] Feature MICROPHONE_sst_0_2__value_count__value_-inf is constant\n",
      "WARNING:tsfresh.feature_selection.feature_selector:[test_feature_significance] Feature MICROPHONE_sst_0_5__mean_abs_change_quantiles__qh_0.6__ql_0.6 is constant\n",
      "WARNING:tsfresh.feature_selection.feature_selector:[test_feature_significance] Feature MICROPHONE_sst_0_1__mean_abs_change_quantiles__qh_0.2__ql_0.2 is constant\n",
      "WARNING:tsfresh.feature_selection.feature_selector:[test_feature_significance] Feature MICROPHONE_sst_0_1__mean_abs_change_quantiles__qh_0.2__ql_0.6 is constant\n",
      "WARNING:tsfresh.feature_selection.feature_selector:[test_feature_significance] Feature MICROPHONE_sst_0_5__mean_abs_change_quantiles__qh_0.4__ql_0.4 is constant\n",
      "WARNING:tsfresh.feature_selection.feature_selector:[test_feature_significance] Feature MICROPHONE_sst_0_4__large_number_of_peaks__n_3 is constant\n",
      "WARNING:tsfresh.feature_selection.feature_selector:[test_feature_significance] Feature MICROPHONE_sst_0_2__value_count__value_1 is constant\n",
      "WARNING:tsfresh.feature_selection.feature_selector:[test_feature_significance] Feature MICROPHONE_sst_0_1__large_standard_deviation__r_0.45 is constant\n",
      "WARNING:tsfresh.feature_selection.feature_selector:[test_feature_significance] Feature MICROPHONE_sst_0_3__mean_abs_change_quantiles__qh_0.6__ql_0.6 is constant\n",
      "WARNING:tsfresh.feature_selection.feature_selector:[test_feature_significance] Feature MICROPHONE_sst_0_3__large_number_of_peaks__n_1 is constant\n",
      "WARNING:tsfresh.feature_selection.feature_selector:[test_feature_significance] Feature MICROPHONE_sst_0_2__mean_abs_change_quantiles__qh_0.4__ql_0.4 is constant\n",
      "WARNING:tsfresh.feature_selection.feature_selector:[test_feature_significance] Feature MICROPHONE_sst_0_6__symmetry_looking__r_0.0 is constant\n",
      "WARNING:tsfresh.feature_selection.feature_selector:[test_feature_significance] Feature MICROPHONE_sst_0_5__large_number_of_peaks__n_5 is constant\n",
      "WARNING:tsfresh.feature_selection.feature_selector:[test_feature_significance] Feature MICROPHONE_sst_0_6__large_number_of_peaks__n_3 is constant\n",
      "WARNING:tsfresh.feature_selection.feature_selector:[test_feature_significance] Feature MICROPHONE_sst_0_3__symmetry_looking__r_0.0 is constant\n",
      "WARNING:tsfresh.feature_selection.feature_selector:[test_feature_significance] Feature MICROPHONE_sst_0_1__range_count__max_1__min_-1 is constant\n",
      "WARNING:tsfresh.feature_selection.feature_selector:[test_feature_significance] Feature MICROPHONE_sst_0_2__mean_abs_change_quantiles__qh_0.2__ql_0.2 is constant\n",
      "WARNING:tsfresh.feature_selection.feature_selector:[test_feature_significance] Feature MICROPHONE_sst_0_4__range_count__max_1__min_-1 is constant\n",
      "WARNING:tsfresh.feature_selection.feature_selector:[test_feature_significance] Feature MICROPHONE_sst_0_6__mean_abs_change_quantiles__qh_0.6__ql_0.6 is constant\n",
      "WARNING:tsfresh.feature_selection.feature_selector:[test_feature_significance] Feature MICROPHONE_sst_0_1__large_number_of_peaks__n_5 is constant\n",
      "WARNING:tsfresh.feature_selection.feature_selector:[test_feature_significance] Feature MICROPHONE_sst_0_1__mean_abs_change_quantiles__qh_0.4__ql_0.4 is constant\n",
      "WARNING:tsfresh.feature_selection.feature_selector:[test_feature_significance] Feature MICROPHONE_sst_0_6__mean_abs_change_quantiles__qh_0.6__ql_0.8 is constant\n",
      "WARNING:tsfresh.feature_selection.feature_selector:[test_feature_significance] Feature MICROPHONE_sst_0_0__mean_abs_change_quantiles__qh_0.8__ql_0.8 is constant\n",
      "WARNING:tsfresh.feature_selection.feature_selector:[test_feature_significance] Feature MICROPHONE_sst_0_3__value_count__value_0 is constant\n",
      "WARNING:tsfresh.feature_selection.feature_selector:[test_feature_significance] Feature MICROPHONE_sst_0_0__mean_abs_change_quantiles__qh_0.2__ql_0.6 is constant\n",
      "WARNING:tsfresh.feature_selection.feature_selector:[test_feature_significance] Feature MICROPHONE_sst_0_5__mean_abs_change_quantiles__qh_0.6__ql_0.8 is constant\n",
      "WARNING:tsfresh.feature_selection.feature_selector:[test_feature_significance] Feature MICROPHONE_sst_0_5__mean_abs_change_quantiles__qh_0.2__ql_0.2 is constant\n",
      "WARNING:tsfresh.feature_selection.feature_selector:[test_feature_significance] Feature MICROPHONE_sst_0_5__range_count__max_1__min_-1 is constant\n",
      "WARNING:tsfresh.feature_selection.feature_selector:[test_feature_significance] Feature MICROPHONE_sst_0_5__mean_abs_change_quantiles__qh_0.2__ql_0.6 is constant\n",
      "WARNING:tsfresh.feature_selection.feature_selector:[test_feature_significance] Feature MICROPHONE_sst_0_2__mean_abs_change_quantiles__qh_0.8__ql_0.8 is constant\n",
      "WARNING:tsfresh.feature_selection.feature_selector:[test_feature_significance] Feature MICROPHONE_sst_0_1__mean_abs_change_quantiles__qh_0.2__ql_0.8 is constant\n",
      "WARNING:tsfresh.feature_selection.feature_selector:[test_feature_significance] Feature MICROPHONE_sst_0_1__value_count__value_inf is constant\n",
      "WARNING:tsfresh.feature_selection.feature_selector:[test_feature_significance] Feature MICROPHONE_sst_0_1__large_number_of_peaks__n_3 is constant\n",
      "WARNING:tsfresh.feature_selection.feature_selector:[test_feature_significance] Feature MICROPHONE_sst_0_3__value_count__value_nan is constant\n",
      "WARNING:tsfresh.feature_selection.feature_selector:[test_feature_significance] Feature MICROPHONE_sst_0_5__mean_abs_change_quantiles__qh_0.4__ql_0.8 is constant\n",
      "WARNING:tsfresh.feature_selection.feature_selector:[test_feature_significance] Feature MICROPHONE_sst_0_6__mean_abs_change_quantiles__qh_0.4__ql_0.6 is constant\n",
      "WARNING:tsfresh.feature_selection.feature_selector:[test_feature_significance] Feature MICROPHONE_sst_0_3__value_count__value_-inf is constant\n",
      "WARNING:tsfresh.feature_selection.feature_selector:[test_feature_significance] Feature MICROPHONE_sst_0_1__mean_abs_change_quantiles__qh_0.4__ql_0.6 is constant\n",
      "WARNING:tsfresh.feature_selection.feature_selector:[test_feature_significance] Feature MICROPHONE_sst_0_4__value_count__value_inf is constant\n",
      "WARNING:tsfresh.feature_selection.feature_selector:[test_feature_significance] Feature MICROPHONE_sst_0_5__symmetry_looking__r_0.0 is constant\n",
      "WARNING:tsfresh.feature_selection.feature_selector:[test_feature_significance] Feature MICROPHONE_sst_0_2__mean_abs_change_quantiles__qh_0.2__ql_0.8 is constant\n",
      "WARNING:tsfresh.feature_selection.significance_tests:[target_binary_feature_binary_test] A binary feature should have only values 1 and 0 (incl. True and False). Instead found {0.0, 2.0} in feature ''MICROPHONE_sst_0_0__value_count__value_0''.\n",
      "WARNING:tsfresh.feature_selection.feature_selector:[test_feature_significance] Feature MICROPHONE_sst_0_2__mean_abs_change_quantiles__qh_0.2__ql_0.6 is constant\n",
      "WARNING:tsfresh.feature_selection.feature_selector:[test_feature_significance] Feature MICROPHONE_sst_0_0__large_number_of_peaks__n_5 is constant\n",
      "WARNING:tsfresh.feature_selection.feature_selector:[test_feature_significance] Feature MICROPHONE_sst_0_3__range_count__max_1__min_-1 is constant\n",
      "WARNING:tsfresh.feature_selection.feature_selector:[test_feature_significance] Feature MICROPHONE_sst_0_0__mean_abs_change_quantiles__qh_0.2__ql_0.8 is constant\n",
      "WARNING:tsfresh.feature_selection.feature_selector:[test_feature_significance] Feature MICROPHONE_sst_0_5__mean_abs_change_quantiles__qh_0.4__ql_0.6 is constant\n",
      "WARNING:tsfresh.feature_selection.feature_selector:[test_feature_significance] Feature MICROPHONE_sst_0_1__mean_abs_change_quantiles__qh_0.2__ql_0.4 is constant\n",
      "WARNING:tsfresh.feature_selection.feature_selector:[test_feature_significance] Feature MICROPHONE_sst_0_0__mean_abs_change_quantiles__qh_0.2__ql_0.4 is constant\n",
      "WARNING:tsfresh.feature_selection.feature_selector:[test_feature_significance] Feature MICROPHONE_sst_0_6__range_count__max_1__min_-1 is constant\n",
      "WARNING:tsfresh.feature_selection.feature_selector:[test_feature_significance] Feature MICROPHONE_sst_0_5__large_standard_deviation__r_0.45 is constant\n",
      "WARNING:tsfresh.feature_selection.feature_selector:[test_feature_significance] Feature MICROPHONE_sst_0_6__value_count__value_-inf is constant\n",
      "WARNING:tsfresh.feature_selection.feature_selector:[test_feature_significance] Feature MICROPHONE_sst_0_6__value_count__value_1 is constant\n",
      "WARNING:tsfresh.feature_selection.feature_selector:[test_feature_significance] Feature MICROPHONE_sst_0_5__value_count__value_inf is constant\n",
      "WARNING:tsfresh.feature_selection.feature_selector:[test_feature_significance] Feature MICROPHONE_sst_0_4__mean_abs_change_quantiles__qh_0.6__ql_0.8 is constant\n",
      "WARNING:tsfresh.feature_selection.feature_selector:[test_feature_significance] Feature MICROPHONE_sst_0_6__value_count__value_nan is constant\n",
      "WARNING:tsfresh.feature_selection.feature_selector:[test_feature_significance] Feature MICROPHONE_sst_0_4__mean_abs_change_quantiles__qh_0.4__ql_0.4 is constant\n",
      "WARNING:tsfresh.feature_selection.feature_selector:[test_feature_significance] Feature MICROPHONE_sst_0_6__large_number_of_peaks__n_5 is constant\n",
      "WARNING:tsfresh.feature_selection.feature_selector:[test_feature_significance] Feature MICROPHONE_sst_0_4__large_standard_deviation__r_0.4 is constant\n",
      "WARNING:tsfresh.feature_selection.feature_selector:[test_feature_significance] Feature MICROPHONE_sst_0_2__mean_abs_change_quantiles__qh_0.4__ql_0.6 is constant\n",
      "WARNING:tsfresh.feature_selection.feature_selector:[test_feature_significance] Feature MICROPHONE_sst_0_4__mean_abs_change_quantiles__qh_0.2__ql_0.4 is constant\n",
      "Feature Extraction: 100%|██████████| 7/7 [00:08<00:00,  1.25s/it]\n",
      "Feature Extraction: 100%|██████████| 7/7 [00:03<00:00,  1.78it/s]"
     ]
    },
    {
     "name": "stdout",
     "output_type": "stream",
     "text": [
      "             precision    recall  f1-score   support\n",
      "\n",
      "        0.0       1.00      1.00      1.00        12\n",
      "        1.0       0.94      1.00      0.97        17\n",
      "        2.0       0.62      0.53      0.57        15\n",
      "        3.0       0.33      0.38      0.35         8\n",
      "        4.0       1.00      1.00      1.00        11\n",
      "        5.0       0.94      0.94      0.94        17\n",
      "\n",
      "avg / total       0.84      0.84      0.84        80\n",
      "\n"
     ]
    },
    {
     "name": "stderr",
     "output_type": "stream",
     "text": [
      "\n"
     ]
    }
   ],
   "source": [
    "%run ../helpers.py\n",
    "df_train, X_train, y_train, df_test, X_test, y_test = train_test_split(df, df_labels)\n",
    "print(classify_with_tsfresh_features(df_train, X_train, y_train, df_test, X_test, y_test))"
   ]
  },
  {
   "cell_type": "code",
   "execution_count": null,
   "metadata": {
    "collapsed": true
   },
   "outputs": [],
   "source": []
  }
 ],
 "metadata": {
  "kernelspec": {
   "display_name": "Python 3",
   "language": "python",
   "name": "python3"
  },
  "language_info": {
   "codemirror_mode": {
    "name": "ipython",
    "version": 3
   },
   "file_extension": ".py",
   "mimetype": "text/x-python",
   "name": "python",
   "nbconvert_exporter": "python",
   "pygments_lexer": "ipython3",
   "version": "3.4.3"
  }
 },
 "nbformat": 4,
 "nbformat_minor": 0
}
