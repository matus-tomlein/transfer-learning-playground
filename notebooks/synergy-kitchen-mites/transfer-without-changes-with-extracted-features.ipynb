{
 "cells": [
  {
   "cell_type": "code",
   "execution_count": 52,
   "metadata": {
    "collapsed": true
   },
   "outputs": [],
   "source": [
    "import pandas as pd\n",
    "import numpy as np\n",
    "from sklearn.ensemble import RandomForestClassifier\n",
    "from sklearn.pipeline import Pipeline\n",
    "from sklearn.preprocessing import Imputer\n",
    "from sklearn.metrics import classification_report, accuracy_score\n",
    "from sklearn.preprocessing import StandardScaler"
   ]
  },
  {
   "cell_type": "code",
   "execution_count": 53,
   "metadata": {
    "collapsed": true
   },
   "outputs": [],
   "source": [
    "dataset_path = '../../datasets/synergy-kitchen-mites-features/'\n",
    "\n",
    "source = '128.237.253.157'\n",
    "target = '128.237.242.0'\n",
    "\n",
    "df_train = pd.read_pickle(dataset_path + source + '.p')\n",
    "df_test = pd.read_pickle(dataset_path + target + '.p')\n",
    "df_labels = pd.DataFrame.from_csv(dataset_path + 'activity_labels.csv')"
   ]
  },
  {
   "cell_type": "code",
   "execution_count": 54,
   "metadata": {
    "collapsed": false
   },
   "outputs": [],
   "source": [
    "df_train = df_train.filter(regex=(\"ACCEL_sst_*\"))\n",
    "df_test = df_test.filter(regex=(\"ACCEL_sst_*\"))"
   ]
  },
  {
   "cell_type": "code",
   "execution_count": 55,
   "metadata": {
    "collapsed": true
   },
   "outputs": [],
   "source": [
    "# train test split\n",
    "indexes = df_labels.index.tolist()\n",
    "np.random.shuffle(indexes)\n",
    "split = round(0.7*len(indexes))\n",
    "training_i = indexes[:split]\n",
    "testing_i = indexes[split:]\n",
    "\n",
    "X_train = df_train.loc[df_train.index.isin(training_i)]\n",
    "X_test = df_test.loc[df_test.index.isin(testing_i)]\n",
    "\n",
    "y_train = df_labels.loc[df_labels.index.isin(training_i)]\n",
    "y_test = df_labels.loc[df_labels.index.isin(testing_i)]\n",
    "y_train = y_train['label']\n",
    "y_test = y_test['label']"
   ]
  },
  {
   "cell_type": "code",
   "execution_count": 56,
   "metadata": {
    "collapsed": true
   },
   "outputs": [],
   "source": [
    "ppl = Pipeline([\n",
    "    ('impute', Imputer()),\n",
    "    ('scale', StandardScaler()),\n",
    "    ('clf', RandomForestClassifier())\n",
    "])\n",
    "\n",
    "ppl.fit(X_train, y_train)\n",
    "y_pred = ppl.predict(X_test)"
   ]
  },
  {
   "cell_type": "code",
   "execution_count": 57,
   "metadata": {
    "collapsed": false
   },
   "outputs": [
    {
     "name": "stdout",
     "output_type": "stream",
     "text": [
      "0.275\n"
     ]
    }
   ],
   "source": [
    "print(accuracy_score(y_test, y_pred))"
   ]
  },
  {
   "cell_type": "code",
   "execution_count": null,
   "metadata": {
    "collapsed": true
   },
   "outputs": [],
   "source": []
  }
 ],
 "metadata": {
  "kernelspec": {
   "display_name": "Python 3",
   "language": "python",
   "name": "python3"
  },
  "language_info": {
   "codemirror_mode": {
    "name": "ipython",
    "version": 3
   },
   "file_extension": ".py",
   "mimetype": "text/x-python",
   "name": "python",
   "nbconvert_exporter": "python",
   "pygments_lexer": "ipython3",
   "version": "3.4.3"
  }
 },
 "nbformat": 4,
 "nbformat_minor": 0
}
