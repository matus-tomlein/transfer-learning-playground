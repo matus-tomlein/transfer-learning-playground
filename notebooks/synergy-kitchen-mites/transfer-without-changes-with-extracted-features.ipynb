{
 "cells": [
  {
   "cell_type": "code",
   "execution_count": 120,
   "metadata": {
    "collapsed": true
   },
   "outputs": [],
   "source": [
    "import pandas as pd\n",
    "import numpy as np\n",
    "from sklearn.ensemble import RandomForestClassifier\n",
    "from sklearn import svm\n",
    "from sklearn.pipeline import Pipeline\n",
    "from sklearn.preprocessing import Imputer\n",
    "from sklearn.linear_model import LogisticRegression\n",
    "from sklearn.metrics import classification_report, confusion_matrix, accuracy_score\n",
    "from sklearn.preprocessing import StandardScaler\n",
    "from sklearn.naive_bayes import GaussianNB, MultinomialNB, BernoulliNB"
   ]
  },
  {
   "cell_type": "code",
   "execution_count": 304,
   "metadata": {
    "collapsed": true
   },
   "outputs": [],
   "source": [
    "dataset_path = '../../datasets/synergy-kitchen-mites-features/'\n",
    "\n",
    "source = '128.237.253.157'\n",
    "target = '128.237.242.0'\n",
    "\n",
    "df_train = pd.read_pickle(dataset_path + source + '.p')\n",
    "df_test = pd.read_pickle(dataset_path + target + '.p')\n",
    "df_labels = pd.DataFrame.from_csv(dataset_path + 'activity_labels.csv')"
   ]
  },
  {
   "cell_type": "code",
   "execution_count": 305,
   "metadata": {
    "collapsed": false
   },
   "outputs": [],
   "source": [
    "df_train = df_train.filter(regex=(\"ACCEL_sst_*\"))\n",
    "df_test = df_test.filter(regex=(\"ACCEL_sst_*\"))"
   ]
  },
  {
   "cell_type": "code",
   "execution_count": 335,
   "metadata": {
    "collapsed": true
   },
   "outputs": [],
   "source": [
    "# train test split\n",
    "indexes = df_labels.index.tolist()\n",
    "np.random.shuffle(indexes)\n",
    "split = round(0.7*len(indexes))\n",
    "training_i = indexes[:split]\n",
    "testing_i = indexes[split:]\n",
    "\n",
    "X_train = df_train.loc[df_train.index.isin(training_i)]\n",
    "X_test = df_test.loc[df_test.index.isin(testing_i)]\n",
    "\n",
    "y_train = df_labels.loc[df_labels.index.isin(training_i)]\n",
    "y_test = df_labels.loc[df_labels.index.isin(testing_i)]\n",
    "y_train = y_train['label']\n",
    "y_test = y_test['label']\n",
    "\n",
    "X_train = X_train.reindex_axis(sorted(X_train.columns), axis=1)\n",
    "X_test = X_test.reindex_axis(sorted(X_test.columns), axis=1)"
   ]
  },
  {
   "cell_type": "code",
   "execution_count": 336,
   "metadata": {
    "collapsed": false
   },
   "outputs": [],
   "source": [
    "ppl = Pipeline([\n",
    "    ('impute', Imputer()),\n",
    "    ('scale', StandardScaler()),\n",
    "#     ('clf', svm.LinearSVC())\n",
    "#     ('clf', svm.SVC(kernel='rbf', decision_function_shape='ovr'))\n",
    "    ('clf', LogisticRegression())\n",
    "])\n",
    "\n",
    "ppl.fit(X_train, y_train)\n",
    "y_pred = ppl.predict(X_test)"
   ]
  },
  {
   "cell_type": "code",
   "execution_count": 337,
   "metadata": {
    "collapsed": false
   },
   "outputs": [
    {
     "name": "stdout",
     "output_type": "stream",
     "text": [
      "[[ 0  0 10  0  0  0]\n",
      " [ 0  1  5  0  6  0]\n",
      " [ 0  0 19  0  0  0]\n",
      " [ 0  0 11  0  0  0]\n",
      " [ 0  0  0  0  7  0]\n",
      " [ 0  1 20  0  0  0]]\n",
      "0.3375\n"
     ]
    }
   ],
   "source": [
    "print(confusion_matrix(y_test, y_pred))\n",
    "print(accuracy_score(y_test, y_pred))"
   ]
  },
  {
   "cell_type": "code",
   "execution_count": null,
   "metadata": {
    "collapsed": true
   },
   "outputs": [],
   "source": []
  },
  {
   "cell_type": "code",
   "execution_count": null,
   "metadata": {
    "collapsed": true
   },
   "outputs": [],
   "source": []
  }
 ],
 "metadata": {
  "kernelspec": {
   "display_name": "Python 3",
   "language": "python",
   "name": "python3"
  },
  "language_info": {
   "codemirror_mode": {
    "name": "ipython",
    "version": 3
   },
   "file_extension": ".py",
   "mimetype": "text/x-python",
   "name": "python",
   "nbconvert_exporter": "python",
   "pygments_lexer": "ipython3",
   "version": "3.4.3"
  }
 },
 "nbformat": 4,
 "nbformat_minor": 0
}
