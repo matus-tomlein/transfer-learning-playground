{
 "cells": [
  {
   "cell_type": "code",
   "execution_count": 1,
   "metadata": {
    "collapsed": true
   },
   "outputs": [],
   "source": [
    "import pandas as pd\n",
    "import numpy as np\n",
    "from sklearn.ensemble import RandomForestClassifier\n",
    "from sklearn.pipeline import Pipeline\n",
    "from sklearn.preprocessing import Imputer\n",
    "from sklearn.metrics import classification_report, accuracy_score\n",
    "from sklearn.preprocessing import StandardScaler"
   ]
  },
  {
   "cell_type": "markdown",
   "metadata": {},
   "source": [
    "**Load data**"
   ]
  },
  {
   "cell_type": "code",
   "execution_count": 18,
   "metadata": {
    "collapsed": true
   },
   "outputs": [],
   "source": [
    "dataset_path = '../../datasets/synergy-kitchen-mites-features/'\n",
    "\n",
    "source = '128.237.253.157'\n",
    "target = '128.237.242.0'\n",
    "\n",
    "df_source = pd.read_pickle(dataset_path + source + '.p')\n",
    "df_target = pd.read_pickle(dataset_path + target + '.p')\n",
    "df_labels = pd.DataFrame.from_csv(dataset_path + 'activity_labels.csv')"
   ]
  },
  {
   "cell_type": "markdown",
   "metadata": {},
   "source": [
    "**Filter features to be used**"
   ]
  },
  {
   "cell_type": "code",
   "execution_count": 19,
   "metadata": {
    "collapsed": true
   },
   "outputs": [],
   "source": [
    "df_source = df_source.filter(regex=(\"ACCEL_sst_*\"))\n",
    "df_target = df_target.filter(regex=(\"ACCEL_sst_*\"))"
   ]
  },
  {
   "cell_type": "markdown",
   "metadata": {},
   "source": [
    "**Do the easy domain adaptation trick – add source_X and target_X columns**"
   ]
  },
  {
   "cell_type": "code",
   "execution_count": 22,
   "metadata": {
    "collapsed": false
   },
   "outputs": [],
   "source": [
    "for column in df_source.columns.tolist():\n",
    "    df_source['source_' + column] = df_source[column]\n",
    "    df_source['target_' + column] = 0\n",
    "\n",
    "for column in df_target.columns.tolist():\n",
    "    df_target['source_' + column] = 0\n",
    "    df_target['target_' + column] = df_target[column]"
   ]
  },
  {
   "cell_type": "markdown",
   "metadata": {},
   "source": [
    "**Split into training and testing set**"
   ]
  },
  {
   "cell_type": "code",
   "execution_count": 24,
   "metadata": {
    "collapsed": true
   },
   "outputs": [],
   "source": [
    "TRAINING_TEST_SPLIT = 0.7\n",
    "\n",
    "indexes = df_labels.index.tolist()\n",
    "np.random.shuffle(indexes)\n",
    "\n",
    "split = round(TRAINING_TEST_SPLIT * len(indexes))\n",
    "all_training_i = indexes[:split]\n",
    "testing_i = indexes[split:]"
   ]
  },
  {
   "cell_type": "markdown",
   "metadata": {},
   "source": [
    "**Split training into source-domain training and target-domain training**"
   ]
  },
  {
   "cell_type": "code",
   "execution_count": 25,
   "metadata": {
    "collapsed": false
   },
   "outputs": [],
   "source": [
    "TRAINING_SOURCE_TARGET_SPLIT = 0.8\n",
    "\n",
    "training_split = round(TRAINING_SOURCE_TARGET_SPLIT * len(all_training_i))\n",
    "\n",
    "source_training_i = all_training_i[:training_split]\n",
    "target_training_i = all_training_i[training_split:]\n",
    "\n",
    "X_train_source = df_source.loc[df_source.index.isin(source_training_i)]\n",
    "X_train_target = df_target.loc[df_target.index.isin(target_training_i)]\n",
    "X_train = pd.concat([X_train_source, X_train_target])"
   ]
  },
  {
   "cell_type": "markdown",
   "metadata": {},
   "source": [
    "**Create the inputs for classifier**"
   ]
  },
  {
   "cell_type": "code",
   "execution_count": 26,
   "metadata": {
    "collapsed": false
   },
   "outputs": [],
   "source": [
    "X_test = df_target.loc[df_target.index.isin(testing_i)]\n",
    "\n",
    "y_train = df_labels.loc[df_labels.index.isin(all_training_i)]\n",
    "y_test = df_labels.loc[df_labels.index.isin(testing_i)]\n",
    "y_train = y_train['label']\n",
    "y_test = y_test['label']\n",
    "\n",
    "# sort the columns\n",
    "X_train = X_train.reindex_axis(sorted(X_train.columns), axis=1)\n",
    "X_test = X_test.reindex_axis(sorted(X_test.columns), axis=1)"
   ]
  },
  {
   "cell_type": "markdown",
   "metadata": {
    "collapsed": true
   },
   "source": [
    "**Classify and test**"
   ]
  },
  {
   "cell_type": "code",
   "execution_count": 27,
   "metadata": {
    "collapsed": false
   },
   "outputs": [
    {
     "name": "stdout",
     "output_type": "stream",
     "text": [
      "0.1875 TS split: 0.7 TST split 0.8\n"
     ]
    }
   ],
   "source": [
    "ppl = Pipeline([\n",
    "    ('impute', Imputer()),\n",
    "    ('scale', StandardScaler()),\n",
    "    ('clf', RandomForestClassifier())\n",
    "])\n",
    "\n",
    "ppl.fit(X_train, y_train)\n",
    "y_pred = ppl.predict(X_test)\n",
    "\n",
    "accuracy = accuracy_score(y_test, y_pred)\n",
    "\n",
    "if not 'accuracies' in locals():\n",
    "    accuracies = []\n",
    "\n",
    "accuracies.append([accuracy, TRAINING_TEST_SPLIT, TRAINING_SOURCE_TARGET_SPLIT])\n",
    "\n",
    "for accuracy in accuracies:\n",
    "    print(str(accuracy[0]) + ' TS split: ' + str(accuracy[1]) + ' TST split ' + str(accuracy[2]))"
   ]
  },
  {
   "cell_type": "code",
   "execution_count": null,
   "metadata": {
    "collapsed": false
   },
   "outputs": [],
   "source": []
  },
  {
   "cell_type": "code",
   "execution_count": 228,
   "metadata": {
    "collapsed": true
   },
   "outputs": [],
   "source": [
    "accuracies = []"
   ]
  },
  {
   "cell_type": "code",
   "execution_count": null,
   "metadata": {
    "collapsed": true
   },
   "outputs": [],
   "source": []
  }
 ],
 "metadata": {
  "kernelspec": {
   "display_name": "Python 3",
   "language": "python",
   "name": "python3"
  },
  "language_info": {
   "codemirror_mode": {
    "name": "ipython",
    "version": 3
   },
   "file_extension": ".py",
   "mimetype": "text/x-python",
   "name": "python",
   "nbconvert_exporter": "python",
   "pygments_lexer": "ipython3",
   "version": "3.4.3"
  }
 },
 "nbformat": 4,
 "nbformat_minor": 0
}
