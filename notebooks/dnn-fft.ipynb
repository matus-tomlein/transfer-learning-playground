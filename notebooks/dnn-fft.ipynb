{
 "cells": [
  {
   "cell_type": "code",
   "execution_count": 1,
   "metadata": {},
   "outputs": [
    {
     "name": "stderr",
     "output_type": "stream",
     "text": [
      "Using TensorFlow backend.\n"
     ]
    }
   ],
   "source": [
    "import keras\n",
    "from keras.models import Sequential\n",
    "from keras.layers import Dense, Activation, Dropout\n",
    "from keras.layers import Embedding\n",
    "from keras.layers import Conv1D, LSTM, Conv2D, MaxPooling1D, MaxPooling2D\n",
    "from keras.layers.convolutional_recurrent import ConvLSTM2D\n",
    "from sklearn.preprocessing import StandardScaler\n",
    "from keras.optimizers import Adam, SGD\n",
    "import pandas as pd\n",
    "import numpy as np\n",
    "from tflscripts import concat_and_reindex"
   ]
  },
  {
   "cell_type": "code",
   "execution_count": 3,
   "metadata": {},
   "outputs": [],
   "source": [
    "dataset_path = '../datasets/scott-final-iter1-complete/'\n",
    "\n",
    "device = '128.237.248.186'\n",
    "\n",
    "df = pd.read_pickle(dataset_path + device + '.p')\n",
    "# df_labels = pd.read_pickle(dataset_path + device + '_labels.p')\n",
    "\n",
    "# device = '128.237.247.134'\n",
    "\n",
    "# df2 = pd.read_pickle(dataset_path + device + '.p')\n",
    "# df2_labels = pd.read_pickle(dataset_path + device + '_labels.p')\n",
    "\n",
    "# device = '128.237.248.186'\n",
    "\n",
    "# df3 = pd.read_pickle(dataset_path + device + '.p')\n",
    "# df3_labels = pd.read_pickle(dataset_path + device + '_labels.p')\n",
    "\n",
    "# df, df_labels = concat_and_reindex([df1, df2], [df1_labels, df2_labels])\n",
    "\n",
    "# filter activities\n",
    "use_activities = [0,1,2,3,4,5,7,8,9,20]\n",
    "num_classes = len(use_activities)\n",
    "df = df.loc[df.label.isin(use_activities)]"
   ]
  },
  {
   "cell_type": "code",
   "execution_count": 3,
   "metadata": {
    "collapsed": true
   },
   "outputs": [],
   "source": [
    "# scaling makes acc worse for some reason...\n",
    "# scaler = StandardScaler()\n",
    "\n",
    "# df[df.columns] = scaler.fit_transform(df[df.columns])"
   ]
  },
  {
   "cell_type": "markdown",
   "metadata": {},
   "source": [
    "**Rename the labels**"
   ]
  },
  {
   "cell_type": "code",
   "execution_count": 4,
   "metadata": {
    "collapsed": true
   },
   "outputs": [],
   "source": [
    "for i, activity in enumerate(use_activities):\n",
    "    df.loc[df.label == activity, 'label'] = i\n",
    "y = df.label.values"
   ]
  },
  {
   "cell_type": "code",
   "execution_count": 5,
   "metadata": {
    "collapsed": true
   },
   "outputs": [],
   "source": [
    "from keras.preprocessing.sequence import pad_sequences\n",
    "\n",
    "def extract_window_data(window_id):\n",
    "    segment = df.loc[df.id == window_id]\n",
    "    # microphone works much better than accelerometer\n",
    "    data = segment.filter(regex='MICROPHONE_fft').values.T\n",
    "    data = pad_sequences(data,\n",
    "                         maxlen=50,\n",
    "                         dtype='float64',\n",
    "                         padding='post',\n",
    "                         value=0)\n",
    "#     return np.expand_dims(data, axis=2)\n",
    "    return data\n",
    "\n",
    "# x = np.array([extract_window_data(id) for id in df.index])\n",
    "x = df.filter(regex='MICROPHONE_fft')\n",
    "# y = df_labels[['label']].values"
   ]
  },
  {
   "cell_type": "code",
   "execution_count": 15,
   "metadata": {},
   "outputs": [
    {
     "data": {
      "text/plain": [
       "(35541, 128)"
      ]
     },
     "execution_count": 15,
     "metadata": {},
     "output_type": "execute_result"
    }
   ],
   "source": [
    "x.shape"
   ]
  },
  {
   "cell_type": "code",
   "execution_count": 20,
   "metadata": {},
   "outputs": [],
   "source": [
    "x = x.values.reshape(x.shape + (1,))"
   ]
  },
  {
   "cell_type": "code",
   "execution_count": 21,
   "metadata": {
    "collapsed": true
   },
   "outputs": [],
   "source": [
    "train_test_split = np.random.rand(len(x)) < 0.70\n",
    "x_train = x[train_test_split]\n",
    "y_train = y[train_test_split]\n",
    "x_test = x[~train_test_split]\n",
    "y_test = y[~train_test_split]\n",
    "\n",
    "y_train = keras.utils.to_categorical(y_train, num_classes=num_classes)\n",
    "y_test = keras.utils.to_categorical(y_test, num_classes=num_classes)"
   ]
  },
  {
   "cell_type": "code",
   "execution_count": 22,
   "metadata": {
    "collapsed": true
   },
   "outputs": [],
   "source": [
    "batch_size = 64\n",
    "timesteps = 128\n",
    "data_dim = 1"
   ]
  },
  {
   "cell_type": "code",
   "execution_count": 23,
   "metadata": {
    "collapsed": true
   },
   "outputs": [],
   "source": [
    "import math\n",
    "\n",
    "x_train = x_train[:math.floor(len(x_train) / batch_size) * batch_size]\n",
    "x_test = x_test[:math.floor(len(x_test) / batch_size) * batch_size]\n",
    "y_train = y_train[:math.floor(len(y_train) / batch_size) * batch_size]\n",
    "y_test = y_test[:math.floor(len(y_test) / batch_size) * batch_size]"
   ]
  },
  {
   "cell_type": "code",
   "execution_count": null,
   "metadata": {},
   "outputs": [
    {
     "name": "stdout",
     "output_type": "stream",
     "text": [
      "Train on 24896 samples, validate on 10624 samples\n",
      "Epoch 1/50\n",
      "24896/24896 [==============================] - 101s - loss: 1.6867 - acc: 0.3363 - val_loss: 1.5087 - val_acc: 0.4010\n",
      "Epoch 2/50\n",
      "24896/24896 [==============================] - 101s - loss: 1.4830 - acc: 0.4145 - val_loss: 1.5244 - val_acc: 0.3964\n",
      "Epoch 3/50\n",
      "24896/24896 [==============================] - 102s - loss: 1.4360 - acc: 0.4377 - val_loss: 1.4238 - val_acc: 0.4299\n",
      "Epoch 4/50\n",
      "24896/24896 [==============================] - 102s - loss: 1.3578 - acc: 0.4749 - val_loss: 1.2838 - val_acc: 0.4975\n",
      "Epoch 5/50\n",
      "24896/24896 [==============================] - 101s - loss: 1.2922 - acc: 0.4942 - val_loss: 1.3087 - val_acc: 0.4896\n",
      "Epoch 6/50\n",
      "24896/24896 [==============================] - 101s - loss: 1.2729 - acc: 0.5047 - val_loss: 1.2746 - val_acc: 0.5000\n",
      "Epoch 7/50\n",
      "24896/24896 [==============================] - 102s - loss: 1.2401 - acc: 0.5169 - val_loss: 1.2538 - val_acc: 0.5103\n",
      "Epoch 8/50\n",
      "24896/24896 [==============================] - 102s - loss: 1.2346 - acc: 0.5185 - val_loss: 1.2155 - val_acc: 0.5161\n",
      "Epoch 9/50\n",
      "24896/24896 [==============================] - 101s - loss: 1.2216 - acc: 0.5231 - val_loss: 1.1963 - val_acc: 0.5232\n",
      "Epoch 10/50\n",
      "24896/24896 [==============================] - 102s - loss: 1.2150 - acc: 0.5251 - val_loss: 1.2317 - val_acc: 0.5155\n",
      "Epoch 11/50\n",
      "24896/24896 [==============================] - 101s - loss: 1.1688 - acc: 0.5482 - val_loss: 1.1869 - val_acc: 0.5302\n",
      "Epoch 17/50\n",
      "24896/24896 [==============================] - 102s - loss: 1.1593 - acc: 0.5487 - val_loss: 1.1769 - val_acc: 0.5385\n",
      "Epoch 18/50\n",
      "24896/24896 [==============================] - 102s - loss: 1.1719 - acc: 0.5467 - val_loss: 1.1397 - val_acc: 0.5479\n",
      "Epoch 19/50\n",
      "24896/24896 [==============================] - 101s - loss: 1.1496 - acc: 0.5555 - val_loss: 1.1387 - val_acc: 0.5521\n",
      "Epoch 20/50\n",
      "24896/24896 [==============================] - 101s - loss: 1.1484 - acc: 0.5551 - val_loss: 1.1514 - val_acc: 0.5463\n",
      "Epoch 21/50\n",
      "24896/24896 [==============================] - 100s - loss: 1.1391 - acc: 0.5564 - val_loss: 1.1298 - val_acc: 0.5587\n",
      "Epoch 22/50\n",
      "24896/24896 [==============================] - 102s - loss: 1.1378 - acc: 0.5580 - val_loss: 1.1346 - val_acc: 0.5503\n",
      "Epoch 23/50\n",
      "24896/24896 [==============================] - 101s - loss: 1.1341 - acc: 0.5606 - val_loss: 1.1578 - val_acc: 0.5472\n",
      "Epoch 24/50\n",
      "24896/24896 [==============================] - 102s - loss: 1.1272 - acc: 0.5614 - val_loss: 1.1463 - val_acc: 0.5500\n",
      "Epoch 25/50\n",
      "24896/24896 [==============================] - 101s - loss: 1.1224 - acc: 0.5630 - val_loss: 1.1486 - val_acc: 0.5480\n",
      "Epoch 26/50\n",
      "24896/24896 [==============================] - 101s - loss: 1.1236 - acc: 0.5627 - val_loss: 1.1457 - val_acc: 0.5502\n",
      "Epoch 27/50\n",
      "24896/24896 [==============================] - 102s - loss: 1.1233 - acc: 0.5660 - val_loss: 1.1178 - val_acc: 0.5571\n",
      "Epoch 28/50\n",
      "24896/24896 [==============================] - 102s - loss: 1.1170 - acc: 0.5640 - val_loss: 1.1290 - val_acc: 0.5513\n",
      "Epoch 29/50\n",
      "24896/24896 [==============================] - 102s - loss: 1.1113 - acc: 0.5667 - val_loss: 1.1125 - val_acc: 0.5631\n",
      "Epoch 30/50\n",
      "24896/24896 [==============================] - 102s - loss: 1.1099 - acc: 0.5684 - val_loss: 1.1196 - val_acc: 0.5632\n",
      "Epoch 31/50\n",
      "24896/24896 [==============================] - 103s - loss: 1.1074 - acc: 0.5687 - val_loss: 1.1186 - val_acc: 0.5598\n",
      "Epoch 32/50\n",
      "24896/24896 [==============================] - 103s - loss: 1.1122 - acc: 0.5673 - val_loss: 1.1141 - val_acc: 0.5618\n",
      "Epoch 33/50\n",
      "24896/24896 [==============================] - 103s - loss: 1.1052 - acc: 0.5718 - val_loss: 1.1040 - val_acc: 0.5668\n",
      "Epoch 34/50\n",
      "24896/24896 [==============================] - 103s - loss: 1.1015 - acc: 0.5684 - val_loss: 1.1350 - val_acc: 0.5507\n",
      "Epoch 35/50\n",
      "24896/24896 [==============================] - 102s - loss: 1.0945 - acc: 0.5740 - val_loss: 1.1022 - val_acc: 0.5611\n",
      "Epoch 36/50\n",
      "24896/24896 [==============================] - 102s - loss: 1.0941 - acc: 0.5745 - val_loss: 1.1418 - val_acc: 0.5480\n",
      "Epoch 37/50\n",
      "24896/24896 [==============================] - 101s - loss: 1.0927 - acc: 0.5765 - val_loss: 1.1022 - val_acc: 0.5662\n",
      "Epoch 38/50\n",
      "24896/24896 [==============================] - 102s - loss: 1.0853 - acc: 0.5768 - val_loss: 1.1186 - val_acc: 0.5585\n",
      "Epoch 39/50\n",
      "24896/24896 [==============================] - 102s - loss: 1.0844 - acc: 0.5792 - val_loss: 1.0977 - val_acc: 0.5640\n",
      "Epoch 40/50\n",
      "24896/24896 [==============================] - 101s - loss: 1.0813 - acc: 0.5800 - val_loss: 1.1152 - val_acc: 0.5608\n",
      "Epoch 41/50\n",
      "24896/24896 [==============================] - 102s - loss: 1.0794 - acc: 0.5795 - val_loss: 1.1302 - val_acc: 0.5577\n",
      "Epoch 42/50\n",
      "24896/24896 [==============================] - 103s - loss: 1.0844 - acc: 0.5782 - val_loss: 1.0977 - val_acc: 0.5691\n",
      "Epoch 43/50\n",
      "24896/24896 [==============================] - 104s - loss: 1.0708 - acc: 0.5834 - val_loss: 1.1032 - val_acc: 0.5657\n",
      "Epoch 47/50\n",
      " 8512/24896 [=========>....................] - ETA: 60s - loss: 1.0642 - acc: 0.5885"
     ]
    }
   ],
   "source": [
    "model = Sequential()\n",
    "# model.add(ConvLSTM2D(filters=40, kernel_size=(3, 3),\n",
    "#                    input_shape=(None, timesteps, data_dim, 1),\n",
    "#                    padding='same', return_sequences=True))\n",
    "model.add(LSTM(32, return_sequences=True, stateful=True,\n",
    "               batch_input_shape=(batch_size, timesteps, data_dim)))\n",
    "model.add(LSTM(32, return_sequences=True, stateful=True))\n",
    "model.add(LSTM(32, stateful=True))\n",
    "model.add(Dropout(1))\n",
    "model.add(Dense(num_classes, activation='softmax'))\n",
    "\n",
    "opt = Adam(lr=0.001)\n",
    "model.compile(loss='categorical_crossentropy',\n",
    "              optimizer=opt,\n",
    "              metrics=['accuracy'])\n",
    "\n",
    "model.fit(x_train, y_train,\n",
    "          validation_data=(x_test, y_test),\n",
    "          batch_size=batch_size, epochs=50)\n",
    "\n",
    "score = model.evaluate(x_test, y_test, batch_size=batch_size)\n",
    "score"
   ]
  },
  {
   "cell_type": "code",
   "execution_count": null,
   "metadata": {
    "collapsed": true
   },
   "outputs": [],
   "source": [
    "model.evaluate(x_train, y_train, batch_size=batch_size)"
   ]
  },
  {
   "cell_type": "code",
   "execution_count": null,
   "metadata": {
    "collapsed": true
   },
   "outputs": [],
   "source": [
    "model"
   ]
  }
 ],
 "metadata": {
  "kernelspec": {
   "display_name": "Python 3",
   "language": "python",
   "name": "python3"
  },
  "language_info": {
   "codemirror_mode": {
    "name": "ipython",
    "version": 3
   },
   "file_extension": ".py",
   "mimetype": "text/x-python",
   "name": "python",
   "nbconvert_exporter": "python",
   "pygments_lexer": "ipython3",
   "version": "3.5.2"
  }
 },
 "nbformat": 4,
 "nbformat_minor": 2
}
