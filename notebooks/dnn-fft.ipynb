{
 "cells": [
  {
   "cell_type": "code",
   "execution_count": 1,
   "metadata": {},
   "outputs": [
    {
     "name": "stderr",
     "output_type": "stream",
     "text": [
      "Using TensorFlow backend.\n"
     ]
    }
   ],
   "source": [
    "import keras\n",
    "from keras.models import Sequential\n",
    "from keras.layers import Dense, Activation, Dropout\n",
    "from keras.layers import Embedding\n",
    "from keras.layers import Conv1D, LSTM, Conv2D, MaxPooling1D, MaxPooling2D\n",
    "from keras.layers.convolutional_recurrent import ConvLSTM2D\n",
    "from sklearn.preprocessing import StandardScaler\n",
    "from keras.optimizers import Adam, SGD\n",
    "import pandas as pd\n",
    "import numpy as np\n",
    "from tflscripts import concat_and_reindex"
   ]
  },
  {
   "cell_type": "code",
   "execution_count": 2,
   "metadata": {
    "collapsed": true
   },
   "outputs": [],
   "source": [
    "dataset_path = '../datasets/scott-final-iter1-fft/'\n",
    "\n",
    "device = '128.237.248.186'\n",
    "\n",
    "df = pd.read_pickle(dataset_path + device + '.p')\n",
    "df_labels = pd.read_pickle(dataset_path + device + '_labels.p')\n",
    "\n",
    "# device = '128.237.247.134'\n",
    "\n",
    "# df2 = pd.read_pickle(dataset_path + device + '.p')\n",
    "# df2_labels = pd.read_pickle(dataset_path + device + '_labels.p')\n",
    "\n",
    "# device = '128.237.248.186'\n",
    "\n",
    "# df3 = pd.read_pickle(dataset_path + device + '.p')\n",
    "# df3_labels = pd.read_pickle(dataset_path + device + '_labels.p')\n",
    "\n",
    "# df, df_labels = concat_and_reindex([df1, df2], [df1_labels, df2_labels])\n",
    "\n",
    "# filter activities\n",
    "use_activities = [0,1,2,3,4,5,7,8,9,20]\n",
    "num_classes = len(use_activities)\n",
    "df_labels = df_labels.loc[df_labels.label.isin(use_activities)]"
   ]
  },
  {
   "cell_type": "code",
   "execution_count": 3,
   "metadata": {
    "collapsed": true
   },
   "outputs": [],
   "source": [
    "# scaling makes acc worse for some reason...\n",
    "# scaler = StandardScaler()\n",
    "\n",
    "# df[df.columns] = scaler.fit_transform(df[df.columns])"
   ]
  },
  {
   "cell_type": "markdown",
   "metadata": {},
   "source": [
    "**Rename the labels**"
   ]
  },
  {
   "cell_type": "code",
   "execution_count": 4,
   "metadata": {
    "collapsed": true
   },
   "outputs": [],
   "source": [
    "for i, activity in enumerate(use_activities):\n",
    "    df_labels.loc[df_labels.label == activity, 'label'] = i"
   ]
  },
  {
   "cell_type": "code",
   "execution_count": 12,
   "metadata": {
    "collapsed": true
   },
   "outputs": [],
   "source": [
    "from keras.preprocessing.sequence import pad_sequences\n",
    "\n",
    "def extract_window_data(window_id):\n",
    "    segment = df.loc[df.id == window_id]\n",
    "    # microphone works much better than accelerometer\n",
    "    data = segment.filter(regex='MICROPHONE').values.T\n",
    "    data = pad_sequences(data,\n",
    "                         maxlen=50,\n",
    "                         dtype='float64',\n",
    "                         padding='post',\n",
    "                         value=0)\n",
    "#     return np.expand_dims(data, axis=2)\n",
    "    return data\n",
    "\n",
    "x = np.array([extract_window_data(id) for id in df_labels.index])\n",
    "y = df_labels[['label']].values"
   ]
  },
  {
   "cell_type": "code",
   "execution_count": 13,
   "metadata": {},
   "outputs": [
    {
     "data": {
      "text/plain": [
       "(709, 128, 50)"
      ]
     },
     "execution_count": 13,
     "metadata": {},
     "output_type": "execute_result"
    }
   ],
   "source": [
    "x.shape"
   ]
  },
  {
   "cell_type": "code",
   "execution_count": 14,
   "metadata": {
    "collapsed": true
   },
   "outputs": [],
   "source": [
    "train_test_split = np.random.rand(len(x)) < 0.70\n",
    "x_train = x[train_test_split]\n",
    "y_train = y[train_test_split]\n",
    "x_test = x[~train_test_split]\n",
    "y_test = y[~train_test_split]\n",
    "\n",
    "y_train = keras.utils.to_categorical(y_train, num_classes=num_classes)\n",
    "y_test = keras.utils.to_categorical(y_test, num_classes=num_classes)"
   ]
  },
  {
   "cell_type": "code",
   "execution_count": 15,
   "metadata": {
    "collapsed": true
   },
   "outputs": [],
   "source": [
    "batch_size = 64\n",
    "timesteps = 128\n",
    "data_dim = 50"
   ]
  },
  {
   "cell_type": "code",
   "execution_count": 16,
   "metadata": {
    "collapsed": true
   },
   "outputs": [],
   "source": [
    "import math\n",
    "\n",
    "x_train = x_train[:math.floor(len(x_train) / batch_size) * batch_size]\n",
    "x_test = x_test[:math.floor(len(x_test) / batch_size) * batch_size]\n",
    "y_train = y_train[:math.floor(len(y_train) / batch_size) * batch_size]\n",
    "y_test = y_test[:math.floor(len(y_test) / batch_size) * batch_size]"
   ]
  },
  {
   "cell_type": "code",
   "execution_count": 17,
   "metadata": {},
   "outputs": [
    {
     "name": "stdout",
     "output_type": "stream",
     "text": [
      "Train on 448 samples, validate on 192 samples\n",
      "Epoch 1/50\n",
      "448/448 [==============================] - 2s - loss: 2.2939 - acc: 0.1429 - val_loss: 2.2931 - val_acc: 0.1198\n",
      "Epoch 2/50\n",
      "448/448 [==============================] - 2s - loss: 2.2774 - acc: 0.1339 - val_loss: 2.2772 - val_acc: 0.1198\n",
      "Epoch 3/50\n",
      "448/448 [==============================] - 2s - loss: 2.2473 - acc: 0.1518 - val_loss: 2.2491 - val_acc: 0.1198\n",
      "Epoch 4/50\n",
      "448/448 [==============================] - 2s - loss: 2.1636 - acc: 0.2388 - val_loss: 2.0918 - val_acc: 0.2396\n",
      "Epoch 5/50\n",
      "448/448 [==============================] - 2s - loss: 2.0172 - acc: 0.2522 - val_loss: 1.9295 - val_acc: 0.2448\n",
      "Epoch 6/50\n",
      "448/448 [==============================] - 2s - loss: 1.9227 - acc: 0.2500 - val_loss: 2.4114 - val_acc: 0.1719\n",
      "Epoch 7/50\n",
      "448/448 [==============================] - 2s - loss: 2.0424 - acc: 0.2277 - val_loss: 1.8598 - val_acc: 0.2292\n",
      "Epoch 8/50\n",
      "448/448 [==============================] - 2s - loss: 1.8666 - acc: 0.2344 - val_loss: 1.8358 - val_acc: 0.2240\n",
      "Epoch 9/50\n",
      "448/448 [==============================] - 2s - loss: 1.8169 - acc: 0.2835 - val_loss: 1.7915 - val_acc: 0.2604\n",
      "Epoch 10/50\n",
      "448/448 [==============================] - 2s - loss: 1.7761 - acc: 0.3058 - val_loss: 1.7471 - val_acc: 0.2552\n",
      "Epoch 11/50\n",
      "448/448 [==============================] - 2s - loss: 1.7688 - acc: 0.2946 - val_loss: 1.7340 - val_acc: 0.2604\n",
      "Epoch 12/50\n",
      "448/448 [==============================] - 2s - loss: 1.7172 - acc: 0.3237 - val_loss: 1.7392 - val_acc: 0.2708\n",
      "Epoch 13/50\n",
      "448/448 [==============================] - 2s - loss: 1.6621 - acc: 0.3348 - val_loss: 1.6240 - val_acc: 0.2865\n",
      "Epoch 14/50\n",
      "448/448 [==============================] - 2s - loss: 1.7166 - acc: 0.2969 - val_loss: 1.6692 - val_acc: 0.3125\n",
      "Epoch 15/50\n",
      "448/448 [==============================] - 2s - loss: 1.6961 - acc: 0.3326 - val_loss: 1.6511 - val_acc: 0.3177\n",
      "Epoch 16/50\n",
      "448/448 [==============================] - 2s - loss: 1.6468 - acc: 0.3304 - val_loss: 1.6811 - val_acc: 0.3021\n",
      "Epoch 17/50\n",
      "448/448 [==============================] - 2s - loss: 1.6766 - acc: 0.3058 - val_loss: 1.6521 - val_acc: 0.2604\n",
      "Epoch 18/50\n",
      "448/448 [==============================] - 2s - loss: 1.6778 - acc: 0.3125 - val_loss: 1.6188 - val_acc: 0.3177\n",
      "Epoch 19/50\n",
      "448/448 [==============================] - 2s - loss: 1.5960 - acc: 0.3638 - val_loss: 1.5722 - val_acc: 0.3281\n",
      "Epoch 20/50\n",
      "448/448 [==============================] - 2s - loss: 1.5868 - acc: 0.3772 - val_loss: 1.5988 - val_acc: 0.3594\n",
      "Epoch 21/50\n",
      "448/448 [==============================] - 2s - loss: 1.5871 - acc: 0.3795 - val_loss: 1.6199 - val_acc: 0.3021\n",
      "Epoch 22/50\n",
      "448/448 [==============================] - 2s - loss: 1.6107 - acc: 0.3259 - val_loss: 1.6930 - val_acc: 0.2812\n",
      "Epoch 23/50\n",
      "448/448 [==============================] - 2s - loss: 1.5868 - acc: 0.3594 - val_loss: 1.6455 - val_acc: 0.3125\n",
      "Epoch 24/50\n",
      "448/448 [==============================] - 2s - loss: 1.6085 - acc: 0.3750 - val_loss: 1.8871 - val_acc: 0.2865\n",
      "Epoch 25/50\n",
      "448/448 [==============================] - 2s - loss: 1.6276 - acc: 0.3259 - val_loss: 1.6259 - val_acc: 0.2865\n",
      "Epoch 26/50\n",
      "448/448 [==============================] - 2s - loss: 1.6244 - acc: 0.3259 - val_loss: 1.6354 - val_acc: 0.2865\n",
      "Epoch 27/50\n",
      "448/448 [==============================] - 2s - loss: 1.5570 - acc: 0.3705 - val_loss: 1.5950 - val_acc: 0.3177\n",
      "Epoch 28/50\n",
      "448/448 [==============================] - 2s - loss: 1.5726 - acc: 0.3772 - val_loss: 1.5959 - val_acc: 0.3125\n",
      "Epoch 29/50\n",
      "448/448 [==============================] - 2s - loss: 1.6196 - acc: 0.3304 - val_loss: 1.6455 - val_acc: 0.2708\n",
      "Epoch 30/50\n",
      "448/448 [==============================] - 2s - loss: 1.5720 - acc: 0.3661 - val_loss: 1.6030 - val_acc: 0.3333\n",
      "Epoch 31/50\n",
      "448/448 [==============================] - 2s - loss: 1.5349 - acc: 0.3616 - val_loss: 1.5841 - val_acc: 0.3125\n",
      "Epoch 32/50\n",
      "448/448 [==============================] - 2s - loss: 1.5205 - acc: 0.3862 - val_loss: 1.5789 - val_acc: 0.3490\n",
      "Epoch 33/50\n",
      "448/448 [==============================] - 2s - loss: 1.5291 - acc: 0.3661 - val_loss: 1.5250 - val_acc: 0.3490\n",
      "Epoch 34/50\n",
      "448/448 [==============================] - 2s - loss: 1.4943 - acc: 0.3996 - val_loss: 1.6175 - val_acc: 0.3073\n",
      "Epoch 35/50\n",
      "448/448 [==============================] - 2s - loss: 1.4872 - acc: 0.3906 - val_loss: 1.5619 - val_acc: 0.3490\n",
      "Epoch 36/50\n",
      "448/448 [==============================] - 2s - loss: 1.4768 - acc: 0.3951 - val_loss: 1.5212 - val_acc: 0.3385\n",
      "Epoch 37/50\n",
      "448/448 [==============================] - 2s - loss: 1.4782 - acc: 0.4152 - val_loss: 1.5378 - val_acc: 0.3594\n",
      "Epoch 38/50\n",
      "448/448 [==============================] - 2s - loss: 1.4759 - acc: 0.3996 - val_loss: 1.6869 - val_acc: 0.3438\n",
      "Epoch 39/50\n",
      "448/448 [==============================] - 2s - loss: 1.4504 - acc: 0.4487 - val_loss: 1.4915 - val_acc: 0.3594\n",
      "Epoch 40/50\n",
      "448/448 [==============================] - 2s - loss: 1.4633 - acc: 0.4241 - val_loss: 1.5280 - val_acc: 0.3333\n",
      "Epoch 41/50\n",
      "448/448 [==============================] - 2s - loss: 1.5325 - acc: 0.3973 - val_loss: 1.4792 - val_acc: 0.3542\n",
      "Epoch 42/50\n",
      "448/448 [==============================] - 2s - loss: 1.4562 - acc: 0.4085 - val_loss: 1.4920 - val_acc: 0.3385\n",
      "Epoch 43/50\n",
      "448/448 [==============================] - 2s - loss: 1.4462 - acc: 0.4196 - val_loss: 1.5639 - val_acc: 0.3646\n",
      "Epoch 44/50\n",
      "448/448 [==============================] - 2s - loss: 1.4510 - acc: 0.4085 - val_loss: 1.5015 - val_acc: 0.3750\n",
      "Epoch 45/50\n",
      "448/448 [==============================] - 2s - loss: 1.4743 - acc: 0.3996 - val_loss: 1.5973 - val_acc: 0.3333\n",
      "Epoch 46/50\n",
      "448/448 [==============================] - 2s - loss: 1.4912 - acc: 0.4018 - val_loss: 1.4977 - val_acc: 0.3490\n",
      "Epoch 47/50\n",
      "448/448 [==============================] - 2s - loss: 1.4789 - acc: 0.4129 - val_loss: 1.5013 - val_acc: 0.3854\n",
      "Epoch 48/50\n",
      "448/448 [==============================] - 2s - loss: 1.4261 - acc: 0.4442 - val_loss: 1.5824 - val_acc: 0.3281\n",
      "Epoch 49/50\n",
      "448/448 [==============================] - 2s - loss: 1.4360 - acc: 0.4464 - val_loss: 1.5509 - val_acc: 0.3281\n",
      "Epoch 50/50\n",
      "448/448 [==============================] - 2s - loss: 1.4665 - acc: 0.3661 - val_loss: 1.5653 - val_acc: 0.2969\n",
      "192/192 [==============================] - 0s     \n"
     ]
    },
    {
     "data": {
      "text/plain": [
       "[1.5618146657943726, 0.296875]"
      ]
     },
     "execution_count": 17,
     "metadata": {},
     "output_type": "execute_result"
    }
   ],
   "source": [
    "model = Sequential()\n",
    "# model.add(ConvLSTM2D(filters=40, kernel_size=(3, 3),\n",
    "#                    input_shape=(None, timesteps, data_dim, 1),\n",
    "#                    padding='same', return_sequences=True))\n",
    "model.add(LSTM(32, return_sequences=True, stateful=True,\n",
    "               batch_input_shape=(batch_size, timesteps, data_dim)))\n",
    "model.add(LSTM(32, return_sequences=True, stateful=True))\n",
    "model.add(LSTM(32, stateful=True))\n",
    "model.add(Dropout(1))\n",
    "model.add(Dense(num_classes, activation='softmax'))\n",
    "\n",
    "opt = Adam(lr=0.001)\n",
    "model.compile(loss='categorical_crossentropy',\n",
    "              optimizer=opt,\n",
    "              metrics=['accuracy'])\n",
    "\n",
    "model.fit(x_train, y_train,\n",
    "          validation_data=(x_test, y_test),\n",
    "          batch_size=batch_size, epochs=50)\n",
    "\n",
    "score = model.evaluate(x_test, y_test, batch_size=batch_size)\n",
    "score"
   ]
  },
  {
   "cell_type": "code",
   "execution_count": null,
   "metadata": {
    "collapsed": true
   },
   "outputs": [],
   "source": [
    "model.evaluate(x_train, y_train, batch_size=batch_size)"
   ]
  },
  {
   "cell_type": "code",
   "execution_count": null,
   "metadata": {
    "collapsed": true
   },
   "outputs": [],
   "source": []
  }
 ],
 "metadata": {
  "kernelspec": {
   "display_name": "Python 3",
   "language": "python",
   "name": "python3"
  },
  "language_info": {
   "codemirror_mode": {
    "name": "ipython",
    "version": 3
   },
   "file_extension": ".py",
   "mimetype": "text/x-python",
   "name": "python",
   "nbconvert_exporter": "python",
   "pygments_lexer": "ipython3",
   "version": "3.5.2"
  }
 },
 "nbformat": 4,
 "nbformat_minor": 2
}
