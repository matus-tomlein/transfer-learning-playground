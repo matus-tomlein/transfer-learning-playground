{
 "cells": [
  {
   "cell_type": "code",
   "execution_count": null,
   "metadata": {
    "collapsed": true
   },
   "outputs": [],
   "source": [
    "import tflscripts\n",
    "from tflscripts import take_percentage_of_data, read_dataset, filter_by_features, X_sort, filter_by_activities_transfer, classify, easy_domain_adaptation_update_dataframes, take_multiple_percentages_of_data, concat_and_reindex, filter_by_activities, read_and_filter_dataset, build_pipeline\n",
    "from sklearn.metrics import accuracy_score\n",
    "import numpy as np\n",
    "from scipy.stats import mode\n",
    "import pandas as pd"
   ]
  },
  {
   "cell_type": "code",
   "execution_count": 468,
   "metadata": {
    "collapsed": true
   },
   "outputs": [],
   "source": [
    "use_features = 'microphone.*index_mass_quantile'\n",
    "force_columns = None\n",
    "use_columns = None\n",
    "use_activities = [0,1,2,3,4,5,7]\n",
    "\n",
    "training_source_data_ratio = 0.6\n",
    "training_target_data_ratio = 0.6\n",
    "testing_target_data_ratio = 0.4\n",
    "\n",
    "tflscripts.set_dataset_folder('/home/giotto/transfer-learning-playground/datasets/')"
   ]
  },
  {
   "cell_type": "code",
   "execution_count": 493,
   "metadata": {
    "collapsed": true
   },
   "outputs": [],
   "source": [
    "sources = [\n",
    "    {\n",
    "        'dataset': 'synergy-final-iter1',\n",
    "        'device': 'xdk_1'\n",
    "    },\n",
    "    {\n",
    "        'dataset': 'synergy-final-iter1',\n",
    "        'device': 'xdk_2'\n",
    "    },\n",
    "    {\n",
    "        'dataset': 'synergy-final-iter1',\n",
    "        'device': 'xdk_3'\n",
    "    },\n",
    "    {\n",
    "        'dataset': 'synergy-final-iter2',\n",
    "        'device': 'xdk_1'\n",
    "    },\n",
    "    {\n",
    "        'dataset': 'synergy-final-iter2',\n",
    "        'device': 'xdk_2'\n",
    "    },\n",
    "    {\n",
    "        'dataset': 'synergy-final-iter2',\n",
    "        'device': 'xdk_3'\n",
    "    },\n",
    "    {\n",
    "        'dataset': 'synergy-final-iter3',\n",
    "        'device': 'xdk_1'\n",
    "    },\n",
    "    {\n",
    "        'dataset': 'synergy-final-iter3',\n",
    "        'device': 'xdk_2'\n",
    "    },\n",
    "    {\n",
    "        'dataset': 'synergy-final-iter3',\n",
    "        'device': 'xdk_3'\n",
    "    },\n",
    "    {\n",
    "        'dataset': 'robotics-final',\n",
    "        'device': 'xdk_1'\n",
    "    },\n",
    "    {\n",
    "        'dataset': 'robotics-final',\n",
    "        'device': 'xdk_2'\n",
    "    },\n",
    "    {\n",
    "        'dataset': 'robotics-final',\n",
    "        'device': 'xdk_3'\n",
    "    },\n",
    "    {\n",
    "        'dataset': 'robotics-final',\n",
    "        'device': '128.237.246.127'\n",
    "    },\n",
    "    {\n",
    "        'dataset': 'robotics-final',\n",
    "        'device': '128.237.247.134'\n",
    "    }\n",
    "]\n",
    "\n",
    "target_dataset = 'scott-final-iter1'\n",
    "target_device = '128.237.247.134'\n",
    "target_teacher = 'xdk_2'"
   ]
  },
  {
   "cell_type": "code",
   "execution_count": 494,
   "metadata": {
    "collapsed": true
   },
   "outputs": [],
   "source": [
    "source_ppls = []\n",
    "\n",
    "for source in sources:\n",
    "    # read datasets\n",
    "    df, df_labels = read_and_filter_dataset(\n",
    "        source['dataset'],\n",
    "        source['device'],\n",
    "        use_features=use_features,\n",
    "        force_columns=force_columns,\n",
    "        use_columns=use_columns,\n",
    "        use_activities=use_activities,\n",
    "        scale=True,\n",
    "        with_feature_selection=False)\n",
    "\n",
    "    ppl = build_pipeline(df, df_labels, scale=True)\n",
    "\n",
    "    source_ppls.append(ppl)"
   ]
  },
  {
   "cell_type": "code",
   "execution_count": 495,
   "metadata": {
    "collapsed": true
   },
   "outputs": [],
   "source": [
    "df_target, df_target_labels = read_and_filter_dataset(\n",
    "        target_dataset,\n",
    "        target_device,\n",
    "        use_features=use_features,\n",
    "        force_columns=force_columns,\n",
    "        use_columns=use_columns,\n",
    "        use_activities=use_activities,\n",
    "        scale=True,\n",
    "        with_feature_selection=False)"
   ]
  },
  {
   "cell_type": "code",
   "execution_count": 496,
   "metadata": {
    "collapsed": true
   },
   "outputs": [],
   "source": [
    "all_probs = [ppl.predict_proba(df_target) for ppl in source_ppls]\n",
    "for i, probs in enumerate(all_probs):\n",
    "    df_target['source_' + str(i) + '_pred'] = \\\n",
    "        [ppl.classes_[np.argmax(prob)] for prob in probs]\n",
    "    df_target['source_' + str(i) + '_prob'] = \\\n",
    "        [np.max(prob) for prob in probs]\n",
    "\n",
    "df_target = df_target.filter(regex='source_')"
   ]
  },
  {
   "cell_type": "code",
   "execution_count": 529,
   "metadata": {},
   "outputs": [
    {
     "data": {
      "text/plain": [
       "0.85611510791366907"
      ]
     },
     "execution_count": 529,
     "metadata": {},
     "output_type": "execute_result"
    }
   ],
   "source": [
    "dfs = take_multiple_percentages_of_data(df_target, df_target_labels, [0.7, 0.3])\n",
    "df_train, df_train_labels = dfs[0]\n",
    "df_test, df_test_labels = dfs[1]\n",
    "\n",
    "ppl = build_pipeline(df_train, df_train_labels, scale=True)\n",
    "accuracy_score(df_test_labels['label'], ppl.predict(df_test))"
   ]
  },
  {
   "cell_type": "code",
   "execution_count": 498,
   "metadata": {},
   "outputs": [
    {
     "data": {
      "text/plain": [
       "0.69396551724137934"
      ]
     },
     "execution_count": 498,
     "metadata": {},
     "output_type": "execute_result"
    }
   ],
   "source": [
    "preds = [mode(preds)[0][0] for preds in df_target.filter(regex='source_.*_pred').values]\n",
    "\n",
    "accuracy_score(df_target_labels['label'], preds)"
   ]
  },
  {
   "cell_type": "code",
   "execution_count": 499,
   "metadata": {},
   "outputs": [
    {
     "data": {
      "text/plain": [
       "0.70905172413793105"
      ]
     },
     "execution_count": 499,
     "metadata": {},
     "output_type": "execute_result"
    }
   ],
   "source": [
    "args = [np.argmax(probs) for probs in df_target.filter(regex='source_.*_prob').values]\n",
    "preds = [preds[args[i]] for i, preds in enumerate(df_target.filter(regex='source_.*_pred').values)]\n",
    "accuracy_score(df_target_labels['label'], preds)"
   ]
  },
  {
   "cell_type": "code",
   "execution_count": 500,
   "metadata": {},
   "outputs": [
    {
     "data": {
      "text/plain": [
       "0.9008620689655172"
      ]
     },
     "execution_count": 500,
     "metadata": {},
     "output_type": "execute_result"
    }
   ],
   "source": [
    "preds = df_target.filter(regex='source_.*_pred').values\n",
    "pot = [label in preds[i] for i, label in enumerate(df_target_labels['label'])]\n",
    "len([p for p in pot if p]) / len(pot)"
   ]
  },
  {
   "cell_type": "code",
   "execution_count": null,
   "metadata": {
    "collapsed": true
   },
   "outputs": [],
   "source": [
    "df_target, df_target_labels = read_and_filter_dataset(\n",
    "        target_dataset,\n",
    "        target_device,\n",
    "        use_features=use_features,\n",
    "        force_columns=force_columns,\n",
    "        use_columns=use_columns,\n",
    "        use_activities=use_activities,\n",
    "        scale=True,\n",
    "        with_feature_selection=False)\n",
    "df_target_labels"
   ]
  }
 ],
 "metadata": {
  "kernelspec": {
   "display_name": "Python 3",
   "language": "python",
   "name": "python3"
  },
  "language_info": {
   "codemirror_mode": {
    "name": "ipython",
    "version": 3
   },
   "file_extension": ".py",
   "mimetype": "text/x-python",
   "name": "python",
   "nbconvert_exporter": "python",
   "pygments_lexer": "ipython3",
   "version": "3.5.2"
  }
 },
 "nbformat": 4,
 "nbformat_minor": 2
}
