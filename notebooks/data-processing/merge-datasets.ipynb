{
 "cells": [
  {
   "cell_type": "code",
   "execution_count": 2,
   "metadata": {
    "collapsed": true
   },
   "outputs": [],
   "source": [
    "import pandas as pd\n",
    "import numpy as np\n",
    "import os\n",
    "import glob"
   ]
  },
  {
   "cell_type": "code",
   "execution_count": 16,
   "metadata": {},
   "outputs": [
    {
     "name": "stdout",
     "output_type": "stream",
     "text": [
      "xdk_2_labels.p\n",
      "1393 3455 4848\n",
      "Matrix b827eb41f96f_labels.p\n",
      "1465 3029 4494\n",
      "128.237.250.218_labels.p\n",
      "1465 3412 4877\n",
      "128.237.247.190.p\n",
      "1374 2929 4303\n",
      "Matrix b827ebe6e0f8.p\n",
      "1465 3472 4937\n",
      "128.237.247.190_labels.p\n",
      "1374 2929 4303\n",
      "128.237.227.76_labels.p\n",
      "1465 3146 4611\n",
      "Matrix b827eb96f31a_labels.p\n",
      "1465 3457 4922\n",
      "xdk_2.p\n",
      "1393 3455 4848\n",
      "xdk_3_labels.p\n",
      "1465 3467 4932\n",
      "xdk_1.p\n",
      "1464 3460 4924\n",
      "128.237.250.218.p\n",
      "1465 3412 4877\n",
      "xdk_3.p\n",
      "1465 3467 4932\n",
      "Matrix b827eb41f96f.p\n",
      "1465 3029 4494\n",
      "Matrix b827ebe6e0f8_labels.p\n",
      "1465 3472 4937\n",
      "xdk_1_labels.p\n",
      "1464 3460 4924\n",
      "128.237.227.76.p\n",
      "1465 3146 4611\n",
      "Matrix b827eb96f31a.p\n",
      "1465 3457 4922\n"
     ]
    }
   ],
   "source": [
    "dataset_path = '../../datasets/'\n",
    "datasets = [\n",
    "    'synergy-final-iter41-1s-features',\n",
    "    'synergy-final-iter42-1s-features',\n",
    "]\n",
    "destination_dataset = 'synergy-final-iter4-1s-features'\n",
    "\n",
    "def get_files(dataset):\n",
    "    files = glob.glob(dataset_path + dataset + '/*.p')\n",
    "    files = [f for f in files if not f.endswith('_selected.p')]\n",
    "    files_by_name = {}\n",
    "    for f in files:\n",
    "        files_by_name[f.split('/')[-1]] = f\n",
    "    return files_by_name\n",
    "\n",
    "files1 = get_files(datasets[0])\n",
    "files2 = get_files(datasets[1])\n",
    "\n",
    "for file_name in files1:\n",
    "    if file_name not in files2:\n",
    "        print('Other dataset doesnt contain', file_name)\n",
    "        continue\n",
    "\n",
    "    print(file_name)\n",
    "\n",
    "    path1 = files1[file_name]\n",
    "    path2 = files2[file_name]\n",
    "    \n",
    "    df1 = pd.read_pickle(path1)\n",
    "    df2 = pd.read_pickle(path2)\n",
    "    df = pd.concat([df1, df2])\n",
    "    df = df.reset_index(drop=True)\n",
    "\n",
    "    print(len(df1), len(df2), len(df))\n",
    "    \n",
    "    df.to_pickle(dataset_path + destination_dataset + '/' + file_name)"
   ]
  }
 ],
 "metadata": {
  "kernelspec": {
   "display_name": "Python 3",
   "language": "python",
   "name": "python3"
  },
  "language_info": {
   "codemirror_mode": {
    "name": "ipython",
    "version": 3
   },
   "file_extension": ".py",
   "mimetype": "text/x-python",
   "name": "python",
   "nbconvert_exporter": "python",
   "pygments_lexer": "ipython3",
   "version": "3.5.2"
  }
 },
 "nbformat": 4,
 "nbformat_minor": 2
}
