{
 "cells": [
  {
   "cell_type": "code",
   "execution_count": 1,
   "metadata": {},
   "outputs": [
    {
     "name": "stderr",
     "output_type": "stream",
     "text": [
      "/home/giotto/.local/lib/python3.5/site-packages/statsmodels/compat/pandas.py:56: FutureWarning: The pandas.core.datetools module is deprecated and will be removed in a future version. Please use the pandas.tseries module instead.\n",
      "  from pandas.core import datetools\n"
     ]
    }
   ],
   "source": [
    "import pandas as pd\n",
    "import numpy as np\n",
    "import os\n",
    "from tsfresh import extract_features, select_features\n",
    "from tsfresh.feature_extraction import MinimalFCParameters, EfficientFCParameters\n",
    "from tsfresh.utilities.dataframe_functions import impute, impute_dataframe_zero\n",
    "from pprint import pprint"
   ]
  },
  {
   "cell_type": "markdown",
   "metadata": {
    "collapsed": true
   },
   "source": [
    "**Dataset configuration**"
   ]
  },
  {
   "cell_type": "code",
   "execution_count": 2,
   "metadata": {
    "collapsed": true
   },
   "outputs": [],
   "source": [
    "dataset = 'synergy-final-iter1'\n",
    "\n",
    "dataset_path = '../../datasets/' + dataset + '/'\n",
    "output_path = '../../datasets/' + dataset + '-1s-processed/'\n",
    "features_output_path = '../../datasets/' + dataset + '-1s-features/'"
   ]
  },
  {
   "cell_type": "code",
   "execution_count": 3,
   "metadata": {
    "collapsed": true
   },
   "outputs": [],
   "source": [
    "devices_to_use = [\n",
    "    '128.237.246.127',\n",
    "    '128.237.248.186',\n",
    "    '128.237.247.134',\n",
    "    '128.237.234.0',\n",
    "    '128.237.237.122',\n",
    "    '128.237.239.234',\n",
    "    '128.237.254.195', # this Mite is only in the Synergy kitchen dataset\n",
    "    '128.237.227.76',\n",
    "    '128.237.247.190',\n",
    "    '128.237.250.218',\n",
    "    'DialogIoT 591844595',\n",
    "    'DialogIoT 591844599',\n",
    "    'DialogIoT 591844765',\n",
    "    'Matrix b827eb96f31a',\n",
    "    'Matrix b827ebe6e0f8',\n",
    "    'Matrix b827eb41f96f',\n",
    "    'TI SensorTag 604',\n",
    "    'TI SensorTag 690',\n",
    "    'TI SensorTag 85',\n",
    "    'xdk_1',\n",
    "    'xdk_2',\n",
    "    'xdk_3',\n",
    "    'TI SensorTag 33',\n",
    "    'TI SensorTag 535',\n",
    "    'TI SensorTag 709'\n",
    "]\n",
    "\n",
    "columns_to_rename = {\n",
    "    'ACCEL_sst_0_avg': 'accel_x',\n",
    "    'ACCEL_sst_1_avg': 'accel_y',\n",
    "    'ACCEL_sst_2_avg': 'accel_z',\n",
    "    'MAGNETOMETER_sst_0_avg': 'mag_x',\n",
    "    'MAGNETOMETER_sst_1_avg': 'mag_y',\n",
    "    'MAGNETOMETER_sst_2_avg': 'mag_z',\n",
    "    'HUMIDITY_sst_0_avg': 'humidity',\n",
    "    'ILLUMINATION_sst_0_avg': 'light',\n",
    "    'BAROMETER_sst_0_avg': 'pressure',\n",
    "    'TEMPERATURE_sst_0_avg': 'temperature',\n",
    "    'MICROPHONE_sst_0_avg': 'microphone',\n",
    "    'MICROPHONE_sst_0_min': 'microphone_min',\n",
    "    'MICROPHONE_sst_0_max': 'microphone_max',\n",
    "    'MICROPHONE_sst_0_sum': 'microphone_sum',\n",
    "    'MICROPHONE_sst_0_variance': 'microphone_variance',\n",
    "    'MICROPHONE_sst_0_range': 'microphone_range',\n",
    "    'MICROPHONE_sst_0_centroid': 'microphone_centroid',\n",
    "    'microphone_avg': 'microphone',\n",
    "    'magnetometer_x': 'mag_x',\n",
    "    'magnetometer_y': 'mag_y',\n",
    "    'magnetometer_z': 'mag_z'\n",
    "}\n",
    "\n",
    "columns_to_keep = '|'.join([\n",
    "    'accel_',\n",
    "    'gyro_',\n",
    "    'mag_',\n",
    "    'humidity',\n",
    "    'light',\n",
    "    'pressure',\n",
    "    'temperature',\n",
    "    'microphone',\n",
    "    'ACCEL_fft_',\n",
    "    'ACCEL_sst_',\n",
    "    'MICROPHONE_fft_',\n",
    "    'EMI',\n",
    "    'IRMOTION'\n",
    "])"
   ]
  },
  {
   "cell_type": "markdown",
   "metadata": {},
   "source": [
    "**Merge the individual CSVs into one DataFrame per device for the chosen devices**"
   ]
  },
  {
   "cell_type": "code",
   "execution_count": 4,
   "metadata": {
    "scrolled": true
   },
   "outputs": [
    {
     "name": "stderr",
     "output_type": "stream",
     "text": [
      "/home/giotto/.local/lib/python3.5/site-packages/IPython/core/interactiveshell.py:2787: DtypeWarning: Columns (1,2,3,4,5,6,7,8,9,10,11,12,13,14,15,16,17,18,19,20,21,22,23,24,25,26,27,28,29,30,31,32,33,34,35,36,37,38,39,40,41,42,43,44,45,46,47,48,49,50,51,52,53,54,55,56,57,58,59,60,61,62,63,64,65,66,67,68,69,70,71,72,73,74,75,76,77,78,79,80,81,82,83,84,85,86,87,88,89,90,91,92,93,94,95,96,97,98,99,100,101,102,103,104,105,106,107,108,109,110,111,112,113,114,115,116,117,118,119,120,121,122,123,124,125,126,127,128) have mixed types. Specify dtype option on import or set low_memory=False.\n",
      "  if self.run_code(code, result):\n",
      "/home/giotto/.local/lib/python3.5/site-packages/IPython/core/interactiveshell.py:2787: DtypeWarning: Columns (1,2,3,4,5,6,7) have mixed types. Specify dtype option on import or set low_memory=False.\n",
      "  if self.run_code(code, result):\n",
      "/home/giotto/.local/lib/python3.5/site-packages/IPython/core/interactiveshell.py:2787: DtypeWarning: Columns (1,2,3,4,5,6,7,8,9,10,11,12,13,14,15,16,17,18,19,20,21,22,23,24,25,26,27,28,29,30,31,32,33,34,35,36,37,38,39,40,41,42,43,44,45,46,47,48,49,50,51,52,53,54,55,56,57,58,59,60,61,62,63,64,65,66,67,68,69,70,71,72,73,74,75,76,77,78,79,80,81,82,83,84,85,86,87,88,89,90,91,92,93,94,95,96,97,98,99,100,101,102,103,104,105,106,107,108,109,110,111,112,113,114,115,116,117,118,119,120,121,122,123,124,125,126,127,128,129,130,131,132,133,134,135,136,137,138,139,140,141,142,143,144,145,146,147,148,149,150,151,152,153,154,155,156,157,158,159,160,161,162,163,164,165,166,167,168,169,170,171,172,173,174,175,176,177,178,179,180,181,182,183,184,185,186,187,188,189,190,191,192,193,194,195,196,197,198,199,200,201,202,203,204,205,206,207,208,209,210,211,212,213,214,215,216,217,218,219,220,221,222,223,224,225,226,227,228,229,230,231,232,233,234,235,236,237,238,239,240,241,242,243,244,245,246,247,248,249,250,251,252,253,254,255,256,257,258,259,260,261,262,263,264,265,266,267,268,269,270,271,272,273,274,275,276,277,278,279,280,281,282,283,284,285,286,287,288,289,290,291,292,293,294,295,296,297,298,299,300,301,302,303,304,305,306,307,308,309,310,311,312,313,314,315,316,317,318,319,320,321,322,323,324,325,326,327,328,329,330,331,332,333,334,335,336,337,338,339,340,341,342,343,344,345,346,347,348,349,350,351,352,353,354,355,356,357,358,359,360,361,362,363,364,365,366,367,368,369,370,371,372,373,374,375,376,377,378,379,380,381,382,383,384,385,386,387,388,389,390,391,392,393,394,395,396,397,398,399,400,401,402,403,404,405,406,407,408,409,410,411,412,413,414,415,416,417,418,419,420,421,422,423,424,425,426,427,428,429,430,431,432,433,434,435,436,437,438,439,440,441,442,443,444,445,446,447,448) have mixed types. Specify dtype option on import or set low_memory=False.\n",
      "  if self.run_code(code, result):\n",
      "/home/giotto/.local/lib/python3.5/site-packages/pandas/core/indexes/base.py:2134: FutureWarning: In the future, 'NAT < x' and 'x < NAT' will always be False.\n",
      "  self._values[0] < other_diff[0]\n",
      "/home/giotto/.local/lib/python3.5/site-packages/IPython/core/interactiveshell.py:2787: DtypeWarning: Columns (1,2,3,4,5,6,7,8,9,10,11,12,13,14,15,16,17,18,19,20,21) have mixed types. Specify dtype option on import or set low_memory=False.\n",
      "  if self.run_code(code, result):\n"
     ]
    },
    {
     "ename": "KeyboardInterrupt",
     "evalue": "",
     "output_type": "error",
     "traceback": [
      "\u001b[0;31m---------------------------------------------------------------------------\u001b[0m",
      "\u001b[0;31mKeyboardInterrupt\u001b[0m                         Traceback (most recent call last)",
      "\u001b[0;32m<ipython-input-4-4790bcf5e4b4>\u001b[0m in \u001b[0;36m<module>\u001b[0;34m()\u001b[0m\n\u001b[1;32m     15\u001b[0m \u001b[0;34m\u001b[0m\u001b[0m\n\u001b[1;32m     16\u001b[0m             \u001b[0mdf_new\u001b[0m \u001b[0;34m=\u001b[0m \u001b[0mpd\u001b[0m\u001b[0;34m.\u001b[0m\u001b[0mDataFrame\u001b[0m\u001b[0;34m.\u001b[0m\u001b[0mfrom_csv\u001b[0m\u001b[0;34m(\u001b[0m\u001b[0mdataset_path\u001b[0m \u001b[0;34m+\u001b[0m \u001b[0mfile\u001b[0m\u001b[0;34m)\u001b[0m\u001b[0;34m\u001b[0m\u001b[0m\n\u001b[0;32m---> 17\u001b[0;31m             \u001b[0mdf_new\u001b[0m\u001b[0;34m.\u001b[0m\u001b[0mrename\u001b[0m\u001b[0;34m(\u001b[0m\u001b[0mindex\u001b[0m\u001b[0;34m=\u001b[0m\u001b[0mstr\u001b[0m\u001b[0;34m,\u001b[0m \u001b[0mcolumns\u001b[0m\u001b[0;34m=\u001b[0m\u001b[0mcolumns_to_rename\u001b[0m\u001b[0;34m,\u001b[0m \u001b[0minplace\u001b[0m\u001b[0;34m=\u001b[0m\u001b[0;32mTrue\u001b[0m\u001b[0;34m)\u001b[0m\u001b[0;34m\u001b[0m\u001b[0m\n\u001b[0m\u001b[1;32m     18\u001b[0m \u001b[0;34m\u001b[0m\u001b[0m\n\u001b[1;32m     19\u001b[0m             \u001b[0mdf_new\u001b[0m\u001b[0;34m.\u001b[0m\u001b[0mindex\u001b[0m \u001b[0;34m=\u001b[0m \u001b[0mpd\u001b[0m\u001b[0;34m.\u001b[0m\u001b[0mto_datetime\u001b[0m\u001b[0;34m(\u001b[0m\u001b[0mdf_new\u001b[0m\u001b[0;34m.\u001b[0m\u001b[0mindex\u001b[0m\u001b[0;34m)\u001b[0m\u001b[0;34m.\u001b[0m\u001b[0mround\u001b[0m\u001b[0;34m(\u001b[0m\u001b[0;34m'100ms'\u001b[0m\u001b[0;34m)\u001b[0m\u001b[0;34m\u001b[0m\u001b[0m\n",
      "\u001b[0;32m/home/giotto/.local/lib/python3.5/site-packages/pandas/core/frame.py\u001b[0m in \u001b[0;36mrename\u001b[0;34m(self, index, columns, **kwargs)\u001b[0m\n\u001b[1;32m   2842\u001b[0m     \u001b[0;32mdef\u001b[0m \u001b[0mrename\u001b[0m\u001b[0;34m(\u001b[0m\u001b[0mself\u001b[0m\u001b[0;34m,\u001b[0m \u001b[0mindex\u001b[0m\u001b[0;34m=\u001b[0m\u001b[0;32mNone\u001b[0m\u001b[0;34m,\u001b[0m \u001b[0mcolumns\u001b[0m\u001b[0;34m=\u001b[0m\u001b[0;32mNone\u001b[0m\u001b[0;34m,\u001b[0m \u001b[0;34m**\u001b[0m\u001b[0mkwargs\u001b[0m\u001b[0;34m)\u001b[0m\u001b[0;34m:\u001b[0m\u001b[0;34m\u001b[0m\u001b[0m\n\u001b[1;32m   2843\u001b[0m         return super(DataFrame, self).rename(index=index, columns=columns,\n\u001b[0;32m-> 2844\u001b[0;31m                                              **kwargs)\n\u001b[0m\u001b[1;32m   2845\u001b[0m \u001b[0;34m\u001b[0m\u001b[0m\n\u001b[1;32m   2846\u001b[0m     \u001b[0;34m@\u001b[0m\u001b[0mAppender\u001b[0m\u001b[0;34m(\u001b[0m\u001b[0m_shared_docs\u001b[0m\u001b[0;34m[\u001b[0m\u001b[0;34m'fillna'\u001b[0m\u001b[0;34m]\u001b[0m \u001b[0;34m%\u001b[0m \u001b[0m_shared_doc_kwargs\u001b[0m\u001b[0;34m)\u001b[0m\u001b[0;34m\u001b[0m\u001b[0m\n",
      "\u001b[0;32m/home/giotto/.local/lib/python3.5/site-packages/pandas/core/generic.py\u001b[0m in \u001b[0;36mrename\u001b[0;34m(self, *args, **kwargs)\u001b[0m\n\u001b[1;32m    723\u001b[0m                 \u001b[0mlevel\u001b[0m \u001b[0;34m=\u001b[0m \u001b[0mself\u001b[0m\u001b[0;34m.\u001b[0m\u001b[0maxes\u001b[0m\u001b[0;34m[\u001b[0m\u001b[0maxis\u001b[0m\u001b[0;34m]\u001b[0m\u001b[0;34m.\u001b[0m\u001b[0m_get_level_number\u001b[0m\u001b[0;34m(\u001b[0m\u001b[0mlevel\u001b[0m\u001b[0;34m)\u001b[0m\u001b[0;34m\u001b[0m\u001b[0m\n\u001b[1;32m    724\u001b[0m             result._data = result._data.rename_axis(f, axis=baxis, copy=copy,\n\u001b[0;32m--> 725\u001b[0;31m                                                     level=level)\n\u001b[0m\u001b[1;32m    726\u001b[0m             \u001b[0mresult\u001b[0m\u001b[0;34m.\u001b[0m\u001b[0m_clear_item_cache\u001b[0m\u001b[0;34m(\u001b[0m\u001b[0;34m)\u001b[0m\u001b[0;34m\u001b[0m\u001b[0m\n\u001b[1;32m    727\u001b[0m \u001b[0;34m\u001b[0m\u001b[0m\n",
      "\u001b[0;32m/home/giotto/.local/lib/python3.5/site-packages/pandas/core/internals.py\u001b[0m in \u001b[0;36mrename_axis\u001b[0;34m(self, mapper, axis, copy, level)\u001b[0m\n\u001b[1;32m   2851\u001b[0m         \"\"\"\n\u001b[1;32m   2852\u001b[0m         \u001b[0mobj\u001b[0m \u001b[0;34m=\u001b[0m \u001b[0mself\u001b[0m\u001b[0;34m.\u001b[0m\u001b[0mcopy\u001b[0m\u001b[0;34m(\u001b[0m\u001b[0mdeep\u001b[0m\u001b[0;34m=\u001b[0m\u001b[0mcopy\u001b[0m\u001b[0;34m)\u001b[0m\u001b[0;34m\u001b[0m\u001b[0m\n\u001b[0;32m-> 2853\u001b[0;31m         \u001b[0mobj\u001b[0m\u001b[0;34m.\u001b[0m\u001b[0mset_axis\u001b[0m\u001b[0;34m(\u001b[0m\u001b[0maxis\u001b[0m\u001b[0;34m,\u001b[0m \u001b[0m_transform_index\u001b[0m\u001b[0;34m(\u001b[0m\u001b[0mself\u001b[0m\u001b[0;34m.\u001b[0m\u001b[0maxes\u001b[0m\u001b[0;34m[\u001b[0m\u001b[0maxis\u001b[0m\u001b[0;34m]\u001b[0m\u001b[0;34m,\u001b[0m \u001b[0mmapper\u001b[0m\u001b[0;34m,\u001b[0m \u001b[0mlevel\u001b[0m\u001b[0;34m)\u001b[0m\u001b[0;34m)\u001b[0m\u001b[0;34m\u001b[0m\u001b[0m\n\u001b[0m\u001b[1;32m   2854\u001b[0m         \u001b[0;32mreturn\u001b[0m \u001b[0mobj\u001b[0m\u001b[0;34m\u001b[0m\u001b[0m\n\u001b[1;32m   2855\u001b[0m \u001b[0;34m\u001b[0m\u001b[0m\n",
      "\u001b[0;32m/home/giotto/.local/lib/python3.5/site-packages/pandas/core/internals.py\u001b[0m in \u001b[0;36m_transform_index\u001b[0;34m(index, func, level)\u001b[0m\n\u001b[1;32m   4753\u001b[0m         \u001b[0;32mreturn\u001b[0m \u001b[0mMultiIndex\u001b[0m\u001b[0;34m.\u001b[0m\u001b[0mfrom_tuples\u001b[0m\u001b[0;34m(\u001b[0m\u001b[0mitems\u001b[0m\u001b[0;34m,\u001b[0m \u001b[0mnames\u001b[0m\u001b[0;34m=\u001b[0m\u001b[0mindex\u001b[0m\u001b[0;34m.\u001b[0m\u001b[0mnames\u001b[0m\u001b[0;34m)\u001b[0m\u001b[0;34m\u001b[0m\u001b[0m\n\u001b[1;32m   4754\u001b[0m     \u001b[0;32melse\u001b[0m\u001b[0;34m:\u001b[0m\u001b[0;34m\u001b[0m\u001b[0m\n\u001b[0;32m-> 4755\u001b[0;31m         \u001b[0mitems\u001b[0m \u001b[0;34m=\u001b[0m \u001b[0;34m[\u001b[0m\u001b[0mfunc\u001b[0m\u001b[0;34m(\u001b[0m\u001b[0mx\u001b[0m\u001b[0;34m)\u001b[0m \u001b[0;32mfor\u001b[0m \u001b[0mx\u001b[0m \u001b[0;32min\u001b[0m \u001b[0mindex\u001b[0m\u001b[0;34m]\u001b[0m\u001b[0;34m\u001b[0m\u001b[0m\n\u001b[0m\u001b[1;32m   4756\u001b[0m         \u001b[0;32mreturn\u001b[0m \u001b[0mIndex\u001b[0m\u001b[0;34m(\u001b[0m\u001b[0mitems\u001b[0m\u001b[0;34m,\u001b[0m \u001b[0mname\u001b[0m\u001b[0;34m=\u001b[0m\u001b[0mindex\u001b[0m\u001b[0;34m.\u001b[0m\u001b[0mname\u001b[0m\u001b[0;34m)\u001b[0m\u001b[0;34m\u001b[0m\u001b[0m\n\u001b[1;32m   4757\u001b[0m \u001b[0;34m\u001b[0m\u001b[0m\n",
      "\u001b[0;32m/home/giotto/.local/lib/python3.5/site-packages/pandas/core/internals.py\u001b[0m in \u001b[0;36m<listcomp>\u001b[0;34m(.0)\u001b[0m\n\u001b[1;32m   4753\u001b[0m         \u001b[0;32mreturn\u001b[0m \u001b[0mMultiIndex\u001b[0m\u001b[0;34m.\u001b[0m\u001b[0mfrom_tuples\u001b[0m\u001b[0;34m(\u001b[0m\u001b[0mitems\u001b[0m\u001b[0;34m,\u001b[0m \u001b[0mnames\u001b[0m\u001b[0;34m=\u001b[0m\u001b[0mindex\u001b[0m\u001b[0;34m.\u001b[0m\u001b[0mnames\u001b[0m\u001b[0;34m)\u001b[0m\u001b[0;34m\u001b[0m\u001b[0m\n\u001b[1;32m   4754\u001b[0m     \u001b[0;32melse\u001b[0m\u001b[0;34m:\u001b[0m\u001b[0;34m\u001b[0m\u001b[0m\n\u001b[0;32m-> 4755\u001b[0;31m         \u001b[0mitems\u001b[0m \u001b[0;34m=\u001b[0m \u001b[0;34m[\u001b[0m\u001b[0mfunc\u001b[0m\u001b[0;34m(\u001b[0m\u001b[0mx\u001b[0m\u001b[0;34m)\u001b[0m \u001b[0;32mfor\u001b[0m \u001b[0mx\u001b[0m \u001b[0;32min\u001b[0m \u001b[0mindex\u001b[0m\u001b[0;34m]\u001b[0m\u001b[0;34m\u001b[0m\u001b[0m\n\u001b[0m\u001b[1;32m   4756\u001b[0m         \u001b[0;32mreturn\u001b[0m \u001b[0mIndex\u001b[0m\u001b[0;34m(\u001b[0m\u001b[0mitems\u001b[0m\u001b[0;34m,\u001b[0m \u001b[0mname\u001b[0m\u001b[0;34m=\u001b[0m\u001b[0mindex\u001b[0m\u001b[0;34m.\u001b[0m\u001b[0mname\u001b[0m\u001b[0;34m)\u001b[0m\u001b[0;34m\u001b[0m\u001b[0m\n\u001b[1;32m   4757\u001b[0m \u001b[0;34m\u001b[0m\u001b[0m\n",
      "\u001b[0;32m/home/giotto/.local/lib/python3.5/site-packages/pandas/core/indexes/datetimes.py\u001b[0m in \u001b[0;36m__iter__\u001b[0;34m(self)\u001b[0m\n\u001b[1;32m   1179\u001b[0m             converted = libts.ints_to_pydatetime(data[start_i:end_i],\n\u001b[1;32m   1180\u001b[0m                                                  \u001b[0mtz\u001b[0m\u001b[0;34m=\u001b[0m\u001b[0mself\u001b[0m\u001b[0;34m.\u001b[0m\u001b[0mtz\u001b[0m\u001b[0;34m,\u001b[0m \u001b[0mfreq\u001b[0m\u001b[0;34m=\u001b[0m\u001b[0mself\u001b[0m\u001b[0;34m.\u001b[0m\u001b[0mfreq\u001b[0m\u001b[0;34m,\u001b[0m\u001b[0;34m\u001b[0m\u001b[0m\n\u001b[0;32m-> 1181\u001b[0;31m                                                  box=True)\n\u001b[0m\u001b[1;32m   1182\u001b[0m             \u001b[0;32mfor\u001b[0m \u001b[0mv\u001b[0m \u001b[0;32min\u001b[0m \u001b[0mconverted\u001b[0m\u001b[0;34m:\u001b[0m\u001b[0;34m\u001b[0m\u001b[0m\n\u001b[1;32m   1183\u001b[0m                 \u001b[0;32myield\u001b[0m \u001b[0mv\u001b[0m\u001b[0;34m\u001b[0m\u001b[0m\n",
      "\u001b[0;31mKeyboardInterrupt\u001b[0m: "
     ]
    }
   ],
   "source": [
    "data_frames = {}\n",
    "\n",
    "for root, dirs, files in os.walk(dataset_path):\n",
    "    for file in files:\n",
    "        device_id = None\n",
    "\n",
    "        for device in devices_to_use:\n",
    "            if file.startswith(device):\n",
    "                device_id = device\n",
    "\n",
    "        if device_id is not None:\n",
    "            df = pd.DataFrame()\n",
    "            if device_id in data_frames:\n",
    "                df = data_frames[device_id]\n",
    "\n",
    "            df_new = pd.DataFrame.from_csv(dataset_path + file)\n",
    "            df_new.rename(index=str, columns=columns_to_rename, inplace=True)\n",
    "\n",
    "            df_new.index = pd.to_datetime(df_new.index).round('100ms')\n",
    "\n",
    "            df_new = df_new.filter(regex=(columns_to_keep))\n",
    "#             df_new = df_new[df_new.columns.difference(['time'])]\n",
    "            df_new = df_new[~df_new.index.duplicated(keep='first')]\n",
    "\n",
    "            if len(df_new.columns) > 0:\n",
    "                df = pd.concat([df, df_new], join='outer', axis=1)\n",
    "\n",
    "                data_frames[device_id] = df"
   ]
  },
  {
   "cell_type": "markdown",
   "metadata": {},
   "source": [
    "**Remove duplicate indices**"
   ]
  },
  {
   "cell_type": "code",
   "execution_count": null,
   "metadata": {
    "collapsed": true
   },
   "outputs": [],
   "source": [
    "for device_id in data_frames:\n",
    "    df = data_frames[device_id]\n",
    "    df = df[~df.index.duplicated(keep='first')]\n",
    "    data_frames[device_id] = df"
   ]
  },
  {
   "cell_type": "markdown",
   "metadata": {},
   "source": [
    "**Convert index to datetime**"
   ]
  },
  {
   "cell_type": "code",
   "execution_count": null,
   "metadata": {
    "collapsed": true
   },
   "outputs": [],
   "source": [
    "for device_id in data_frames:\n",
    "    df = data_frames[device_id]\n",
    "    df.index = pd.to_datetime(df.index)\n",
    "    data_frames[device_id] = df"
   ]
  },
  {
   "cell_type": "markdown",
   "metadata": {},
   "source": [
    "**Fill missing values**"
   ]
  },
  {
   "cell_type": "code",
   "execution_count": null,
   "metadata": {
    "collapsed": true
   },
   "outputs": [],
   "source": [
    "for device_id in data_frames:\n",
    "    df = data_frames[device_id]\n",
    "    df = df.ffill().bfill()\n",
    "    data_frames[device_id] = df"
   ]
  },
  {
   "cell_type": "markdown",
   "metadata": {},
   "source": [
    "**Create 1 sec activity windows**"
   ]
  },
  {
   "cell_type": "code",
   "execution_count": null,
   "metadata": {
    "collapsed": true,
    "scrolled": true
   },
   "outputs": [],
   "source": [
    "window_size_secs = 1 # seconds\n",
    "smallest_size_secs = 1 # seconds\n",
    "\n",
    "activities = pd.DataFrame.from_csv(dataset_path + 'activities.csv')\n",
    "labels = pd.DataFrame.from_csv(dataset_path + 'activity_labels.csv')\n",
    "labeled_activities = activities.loc[activities.id != -1]\n",
    "\n",
    "activity_windows = []\n",
    "\n",
    "for id in labeled_activities.id.unique():\n",
    "    start = labeled_activities.loc[labeled_activities.id == id].index.min()\n",
    "    end = labeled_activities.loc[labeled_activities.id == id].index.max()\n",
    "\n",
    "    since = start\n",
    "    until = start + pd.DateOffset(seconds=window_size_secs)\n",
    "\n",
    "    while since < end:\n",
    "        label = labels.loc[id]['label']\n",
    "\n",
    "        length = (until - since).seconds\n",
    "        if length >= smallest_size_secs:\n",
    "            activity_windows.append({\n",
    "                'since': since,\n",
    "                'until': until,\n",
    "                'label': label,\n",
    "                'length': length,\n",
    "                'id': id\n",
    "            })\n",
    "\n",
    "        since = until\n",
    "        until = until + pd.DateOffset(seconds=window_size_secs)\n",
    "        until = min(until, end)"
   ]
  },
  {
   "cell_type": "markdown",
   "metadata": {},
   "source": [
    "**Create per-activity dataframes which are not missing more than 1 second of data**"
   ]
  },
  {
   "cell_type": "code",
   "execution_count": null,
   "metadata": {
    "collapsed": true
   },
   "outputs": [],
   "source": [
    "activity_data_frames = {}\n",
    "device_labels = {}\n",
    "\n",
    "removed_activities = {}\n",
    "all_activities = {}\n",
    "activity_id = 0\n",
    "\n",
    "for device_id in data_frames:\n",
    "    df = data_frames[device_id]\n",
    "    data_frames[device_id] = None\n",
    "    df['id'] = -1\n",
    "\n",
    "    device_activities = []\n",
    "\n",
    "    for i, window in enumerate(activity_windows):\n",
    "\n",
    "        activity_df = df.loc[df.index >= window['since']]\n",
    "        activity_df = activity_df.loc[activity_df.index <= window['until']].copy()\n",
    "\n",
    "        seconds = activity_df.index.round('s').unique()\n",
    "\n",
    "        key = device_id + ', activity ' + str(window['label'])\n",
    "        if not key in all_activities:\n",
    "            all_activities[key] = 0\n",
    "            removed_activities[key] = 0\n",
    "\n",
    "        if len(seconds) < window['length'] or len(activity_df) <= 3:\n",
    "            removed_activities[key] += 1\n",
    "        else:\n",
    "            activity_df['id'] = activity_id\n",
    "            activity_data_frames[activity_id] = activity_df\n",
    "            device_activities.append(pd.DataFrame({\n",
    "                'id': [activity_id],\n",
    "                'label': [window['label']],\n",
    "                'activity_id': [window['id']],\n",
    "                'since': [window['since']],\n",
    "                'until': [window['until']],\n",
    "                'window_id': [i]\n",
    "            }))\n",
    "            activity_id += 1\n",
    "\n",
    "        all_activities[key] += 1\n",
    "\n",
    "    df_labels = pd.concat(device_activities)\n",
    "    df_labels = df_labels.set_index('id')\n",
    "    device_labels[device_id] = df_labels\n",
    "\n",
    "# print stats    \n",
    "for key in all_activities:\n",
    "    if removed_activities[key] > 0:\n",
    "        print(str(removed_activities[key]) + ' out of ' + str(all_activities[key]) + ' removed for ' + key)"
   ]
  },
  {
   "cell_type": "markdown",
   "metadata": {},
   "source": [
    "**Resample to 10Hz and fill missing values**"
   ]
  },
  {
   "cell_type": "code",
   "execution_count": null,
   "metadata": {
    "collapsed": true
   },
   "outputs": [],
   "source": [
    "for activity_id in activity_data_frames:\n",
    "    df = activity_data_frames[activity_id]\n",
    "    df = df.resample('100L')\n",
    "    df = df.ffill().bfill()\n",
    "    activity_data_frames[activity_id] = df"
   ]
  },
  {
   "cell_type": "markdown",
   "metadata": {},
   "source": [
    "**Update device data frames**"
   ]
  },
  {
   "cell_type": "code",
   "execution_count": null,
   "metadata": {
    "collapsed": true
   },
   "outputs": [],
   "source": [
    "for device_id in device_labels:\n",
    "    labels = device_labels[device_id]\n",
    "    df_parts = [activity_data_frames[id] for id in labels.index]\n",
    "    df = pd.concat(df_parts)\n",
    "    data_frames[device_id] = df"
   ]
  },
  {
   "cell_type": "markdown",
   "metadata": {},
   "source": [
    "**Replace timestamp indices with integer ones**"
   ]
  },
  {
   "cell_type": "code",
   "execution_count": null,
   "metadata": {
    "collapsed": true
   },
   "outputs": [],
   "source": [
    "for device_id in data_frames:\n",
    "    df = data_frames[device_id]\n",
    "    df.insert(0, 'i_index', pd.Series(range(len(df.index)), index=df.index))\n",
    "    df = df.set_index(['i_index'])\n",
    "    data_frames[device_id] = df"
   ]
  },
  {
   "cell_type": "markdown",
   "metadata": {},
   "source": [
    "**Save as Pickle files to disk**"
   ]
  },
  {
   "cell_type": "code",
   "execution_count": 17,
   "metadata": {
    "collapsed": true
   },
   "outputs": [],
   "source": [
    "for device_id in data_frames:\n",
    "    df = data_frames[device_id]\n",
    "    df.to_pickle(output_path + device_id + '.p')\n",
    "\n",
    "    df_labels = device_labels[device_id]\n",
    "    df_labels.to_pickle(output_path + device_id + '_labels.p')"
   ]
  },
  {
   "cell_type": "markdown",
   "metadata": {},
   "source": [
    "**Reload extracted datasets from disk**"
   ]
  },
  {
   "cell_type": "code",
   "execution_count": null,
   "metadata": {
    "collapsed": true
   },
   "outputs": [],
   "source": [
    "data_frames = {}\n",
    "device_labels = {}\n",
    "\n",
    "for root, dirs, files in os.walk(output_path):\n",
    "    for file in files:\n",
    "        device_id = None\n",
    "\n",
    "        for device in devices_to_use:\n",
    "            if file.startswith(device):\n",
    "                device_id = device\n",
    "\n",
    "        if device_id is not None:\n",
    "            df = pd.read_pickle(output_path + file)\n",
    "            if file.endswith('_labels.p'):\n",
    "                device_labels[device_id] = df\n",
    "            else:\n",
    "                data_frames[device_id] = df"
   ]
  },
  {
   "cell_type": "markdown",
   "metadata": {
    "collapsed": true
   },
   "source": [
    "**Extract features**"
   ]
  },
  {
   "cell_type": "code",
   "execution_count": null,
   "metadata": {
    "scrolled": false
   },
   "outputs": [
    {
     "name": "stdout",
     "output_type": "stream",
     "text": [
      "DialogIoT 591844599\n",
      "Start extracting non-FFT features\n"
     ]
    },
    {
     "name": "stderr",
     "output_type": "stream",
     "text": [
      "Feature Extraction: 100%|██████████| 7/7 [05:44<00:00, 67.90s/it] \n"
     ]
    },
    {
     "name": "stdout",
     "output_type": "stream",
     "text": [
      "Finished extracting features\n",
      "Imputed data\n",
      "Matrix b827ebe6e0f8\n",
      "Start extracting non-FFT features\n"
     ]
    },
    {
     "name": "stderr",
     "output_type": "stream",
     "text": [
      "Feature Extraction: 100%|██████████| 18/18 [09:35<00:00, 13.98s/it]\n"
     ]
    },
    {
     "name": "stdout",
     "output_type": "stream",
     "text": [
      "Finished extracting features\n",
      "Imputed data\n",
      "128.237.254.195\n",
      "Start extracting FFT features\n"
     ]
    },
    {
     "name": "stderr",
     "output_type": "stream",
     "text": [
      "Feature Extraction: 100%|██████████| 512/512 [03:34<00:00,  2.39it/s] \n"
     ]
    },
    {
     "name": "stdout",
     "output_type": "stream",
     "text": [
      "Start extracting non-FFT features\n"
     ]
    },
    {
     "name": "stderr",
     "output_type": "stream",
     "text": [
      "Feature Extraction: 100%|██████████| 49/49 [24:17<00:00, 24.50s/it]  \n"
     ]
    },
    {
     "name": "stdout",
     "output_type": "stream",
     "text": [
      "Finished extracting features\n",
      "Imputed data\n",
      "128.237.248.186\n",
      "Start extracting FFT features\n"
     ]
    },
    {
     "name": "stderr",
     "output_type": "stream",
     "text": [
      "Feature Extraction: 100%|██████████| 512/512 [03:57<00:00,  2.15it/s] \n"
     ]
    },
    {
     "name": "stdout",
     "output_type": "stream",
     "text": [
      "Start extracting non-FFT features\n"
     ]
    },
    {
     "name": "stderr",
     "output_type": "stream",
     "text": [
      "Feature Extraction: 100%|██████████| 49/49 [27:15<00:00, 16.91s/it]  \n"
     ]
    },
    {
     "name": "stdout",
     "output_type": "stream",
     "text": [
      "Finished extracting features\n",
      "Imputed data\n",
      "Matrix b827eb96f31a\n",
      "Start extracting non-FFT features\n"
     ]
    },
    {
     "name": "stderr",
     "output_type": "stream",
     "text": [
      "Feature Extraction: 100%|██████████| 9/9 [05:55<00:00, 35.70s/it] \n"
     ]
    },
    {
     "name": "stdout",
     "output_type": "stream",
     "text": [
      "Finished extracting features\n",
      "Imputed data\n",
      "TI SensorTag 85\n",
      "Start extracting non-FFT features\n"
     ]
    },
    {
     "name": "stderr",
     "output_type": "stream",
     "text": [
      "Feature Extraction: 100%|██████████| 10/10 [05:01<00:00, 22.47s/it]\n"
     ]
    },
    {
     "name": "stdout",
     "output_type": "stream",
     "text": [
      "Finished extracting features\n",
      "Imputed data\n",
      "xdk_1\n",
      "Start extracting non-FFT features\n"
     ]
    },
    {
     "name": "stderr",
     "output_type": "stream",
     "text": [
      "Feature Extraction:  86%|████████▌ | 12/14 [06:25<00:29, 14.86s/it]"
     ]
    }
   ],
   "source": [
    "data_frame_features = {}\n",
    "\n",
    "def extract_device_features(df):\n",
    "    impute(df)\n",
    "\n",
    "    fft_columns = [col for col in df.columns if '_fft_' in col]\n",
    "    non_fft_columns = [col for col in df.columns if '_fft_' not in col]\n",
    "\n",
    "    if len(fft_columns) > 0:\n",
    "        fft_columns = fft_columns + ['id']\n",
    "\n",
    "        df_fft = df[fft_columns]\n",
    "        df_non_fft = df[non_fft_columns]\n",
    "\n",
    "        print('Start extracting FFT features')\n",
    "        extracted_features_fft = extract_features(df_fft,\n",
    "                                              column_id=\"id\",\n",
    "                                              default_fc_parameters=MinimalFCParameters())\n",
    "\n",
    "        print('Start extracting non-FFT features')\n",
    "        extracted_features_non_fft = extract_features(df_non_fft,\n",
    "                                              column_id=\"id\",\n",
    "                                              default_fc_parameters=EfficientFCParameters())\n",
    "\n",
    "        extracted_features = pd.concat([extracted_features_fft, extracted_features_non_fft], axis=1)\n",
    "    else:\n",
    "        print('Start extracting non-FFT features')\n",
    "        extracted_features = extract_features(df,\n",
    "                                              column_id=\"id\",\n",
    "                                              default_fc_parameters=EfficientFCParameters())\n",
    "    print('Finished extracting features')\n",
    "    impute_dataframe_zero(extracted_features)\n",
    "    print('Imputed data')\n",
    "\n",
    "    return extracted_features\n",
    "\n",
    "for device_id in data_frames:\n",
    "    print(device_id)\n",
    "    df = data_frames[device_id]\n",
    "\n",
    "    extracted = extract_device_features(df)\n",
    "    data_frame_features[device_id] = extracted"
   ]
  },
  {
   "cell_type": "markdown",
   "metadata": {},
   "source": [
    "**Sort feature columns**"
   ]
  },
  {
   "cell_type": "code",
   "execution_count": 15,
   "metadata": {
    "collapsed": true
   },
   "outputs": [],
   "source": [
    "for device_id in data_frame_features:\n",
    "    df = data_frame_features[device_id]\n",
    "    df = df.reindex_axis(sorted(df.columns), axis=1)\n",
    "    data_frame_features[device_id] = df"
   ]
  },
  {
   "cell_type": "markdown",
   "metadata": {},
   "source": [
    "**Store extracted features on disk**"
   ]
  },
  {
   "cell_type": "code",
   "execution_count": 16,
   "metadata": {
    "collapsed": true
   },
   "outputs": [],
   "source": [
    "for device_id in data_frame_features:\n",
    "    extracted = data_frame_features[device_id]\n",
    "    extracted.to_pickle(features_output_path + device_id + '.p')\n",
    "\n",
    "    df_labels = device_labels[device_id]\n",
    "    df_labels.to_pickle(features_output_path + device_id + '_labels.p')"
   ]
  },
  {
   "cell_type": "markdown",
   "metadata": {
    "collapsed": true
   },
   "source": [
    "**Do feature selection**"
   ]
  },
  {
   "cell_type": "code",
   "execution_count": 17,
   "metadata": {},
   "outputs": [
    {
     "name": "stderr",
     "output_type": "stream",
     "text": [
      "WARNING:tsfresh.feature_selection.feature_selector:[test_feature_significance] Feature EMI_sst_0_range__standard_deviation is constant\n",
      "WARNING:tsfresh.feature_selection.significance_tests:[target_binary_feature_binary_test] A binary feature should have only values 1 and 0 (incl. True and False). Instead found {32452.0, 32446.0} in feature ''EMI_sst_0_range__median''.\n",
      "WARNING:tsfresh.feature_selection.feature_selector:[test_feature_significance] Feature EMI_sst_0_avg__variance is constant\n",
      "WARNING:tsfresh.feature_selection.significance_tests:[target_binary_feature_binary_test] A binary feature should have only values 1 and 0 (incl. True and False). Instead found {6440.0, 6456.0} in feature ''EMI_sst_0_avg__minimum''.\n",
      "WARNING:tsfresh.feature_selection.feature_selector:[test_feature_significance] Feature EMI_sst_0_min__variance is constant\n",
      "WARNING:tsfresh.feature_selection.feature_selector:[test_feature_significance] Feature EMI_sst_0_centroid__mean is constant\n",
      "WARNING:tsfresh.feature_selection.significance_tests:[target_binary_feature_binary_test] A binary feature should have only values 1 and 0 (incl. True and False). Instead found {6440.0, 6456.0} in feature ''EMI_sst_0_avg__maximum''.\n",
      "WARNING:tsfresh.feature_selection.significance_tests:[target_binary_feature_binary_test] A binary feature should have only values 1 and 0 (incl. True and False). Instead found {6440.0, 6456.0} in feature ''EMI_sst_0_avg__median''.\n",
      "WARNING:tsfresh.feature_selection.feature_selector:[test_feature_significance] Feature EMI_sst_0_max__minimum is constant\n",
      "WARNING:tsfresh.feature_selection.feature_selector:[test_feature_significance] Feature EMI_sst_0_variance__sum_values is constant\n",
      "WARNING:tsfresh.feature_selection.feature_selector:[test_feature_significance] Feature EMI_sst_0_range__variance is constant\n",
      "WARNING:tsfresh.feature_selection.feature_selector:[test_feature_significance] Feature EMI_sst_0_avg__standard_deviation is constant\n",
      "WARNING:tsfresh.feature_selection.significance_tests:[target_binary_feature_binary_test] A binary feature should have only values 1 and 0 (incl. True and False). Instead found {2.0, 3.0} in feature ''IRMOTION_sst_0_centroid__maximum''.\n",
      "WARNING:tsfresh.feature_selection.significance_tests:[target_binary_feature_binary_test] A binary feature should have only values 1 and 0 (incl. True and False). Instead found {6440.0, 6456.0} in feature ''EMI_sst_0_avg__mean''.\n",
      "WARNING:tsfresh.feature_selection.feature_selector:[test_feature_significance] Feature EMI_sst_0_variance__median is constant\n",
      "WARNING:tsfresh.feature_selection.significance_tests:[target_binary_feature_binary_test] A binary feature should have only values 1 and 0 (incl. True and False). Instead found {91.0, 92.0} in feature ''temperature__median''.\n",
      "WARNING:tsfresh.feature_selection.significance_tests:[target_binary_feature_binary_test] A binary feature should have only values 1 and 0 (incl. True and False). Instead found {91.0, 92.0} in feature ''temperature__maximum''.\n",
      "WARNING:tsfresh.feature_selection.feature_selector:[test_feature_significance] Feature EMI_sst_0_centroid__median is constant\n",
      "WARNING:tsfresh.feature_selection.significance_tests:[target_binary_feature_binary_test] A binary feature should have only values 1 and 0 (incl. True and False). Instead found {12.0, 13.0} in feature ''humidity__maximum''.\n",
      "WARNING:tsfresh.feature_selection.significance_tests:[target_binary_feature_binary_test] A binary feature should have only values 1 and 0 (incl. True and False). Instead found {32.0, 26.0} in feature ''EMI_sst_0_min__maximum''.\n",
      "WARNING:tsfresh.feature_selection.feature_selector:[test_feature_significance] Feature EMI_sst_0_centroid__maximum is constant\n",
      "WARNING:tsfresh.feature_selection.feature_selector:[test_feature_significance] Feature EMI_sst_0_max__mean is constant\n",
      "WARNING:tsfresh.feature_selection.feature_selector:[test_feature_significance] Feature EMI_sst_0_max__maximum is constant\n",
      "WARNING:tsfresh.feature_selection.feature_selector:[test_feature_significance] Feature EMI_sst_0_max__variance is constant\n",
      "WARNING:tsfresh.feature_selection.feature_selector:[test_feature_significance] Feature EMI_sst_0_variance__minimum is constant\n",
      "WARNING:tsfresh.feature_selection.feature_selector:[test_feature_significance] Feature EMI_sst_0_centroid__variance is constant\n",
      "WARNING:tsfresh.feature_selection.significance_tests:[target_binary_feature_binary_test] A binary feature should have only values 1 and 0 (incl. True and False). Instead found {32452.0, 32446.0} in feature ''EMI_sst_0_range__maximum''.\n",
      "WARNING:tsfresh.feature_selection.feature_selector:[test_feature_significance] Feature EMI_sst_0_variance__standard_deviation is constant\n",
      "WARNING:tsfresh.feature_selection.feature_selector:[test_feature_significance] Feature EMI_sst_0_variance__mean is constant\n",
      "WARNING:tsfresh.feature_selection.feature_selector:[test_feature_significance] Feature EMI_sst_0_centroid__minimum is constant\n",
      "WARNING:tsfresh.feature_selection.feature_selector:[test_feature_significance] Feature EMI_sst_0_variance__maximum is constant\n",
      "WARNING:tsfresh.feature_selection.significance_tests:[target_binary_feature_binary_test] A binary feature should have only values 1 and 0 (incl. True and False). Instead found {32452.0, 32446.0} in feature ''EMI_sst_0_range__mean''.\n",
      "WARNING:tsfresh.feature_selection.significance_tests:[target_binary_feature_binary_test] A binary feature should have only values 1 and 0 (incl. True and False). Instead found {32.0, 26.0} in feature ''EMI_sst_0_min__median''.\n",
      "WARNING:tsfresh.feature_selection.significance_tests:[target_binary_feature_binary_test] A binary feature should have only values 1 and 0 (incl. True and False). Instead found {32452.0, 32446.0} in feature ''EMI_sst_0_range__minimum''.\n",
      "WARNING:tsfresh.feature_selection.feature_selector:[test_feature_significance] Feature EMI_sst_0_max__standard_deviation is constant\n",
      "WARNING:tsfresh.feature_selection.significance_tests:[target_binary_feature_binary_test] A binary feature should have only values 1 and 0 (incl. True and False). Instead found {32.0, 26.0} in feature ''EMI_sst_0_min__minimum''.\n",
      "WARNING:tsfresh.feature_selection.significance_tests:[target_binary_feature_binary_test] A binary feature should have only values 1 and 0 (incl. True and False). Instead found {30.0, 31.0} in feature ''mag_y__maximum''.\n",
      "WARNING:tsfresh.feature_selection.feature_selector:[test_feature_significance] Feature EMI_sst_0_min__standard_deviation is constant\n",
      "WARNING:tsfresh.feature_selection.feature_selector:[test_feature_significance] Feature EMI_sst_0_max__median is constant\n",
      "WARNING:tsfresh.feature_selection.feature_selector:[test_feature_significance] Feature EMI_sst_0_variance__variance is constant\n",
      "WARNING:tsfresh.feature_selection.significance_tests:[target_binary_feature_binary_test] A binary feature should have only values 1 and 0 (incl. True and False). Instead found {32.0, 26.0} in feature ''EMI_sst_0_min__mean''.\n",
      "WARNING:tsfresh.feature_selection.feature_selector:[test_feature_significance] Feature EMI_sst_0_centroid__standard_deviation is constant\n",
      "WARNING:tsfresh.feature_selection.feature_selector:[test_feature_significance] Feature EMI_sst_0_centroid__mean is constant\n",
      "WARNING:tsfresh.feature_selection.feature_selector:[test_feature_significance] Feature EMI_sst_0_variance__sum_values is constant\n",
      "WARNING:tsfresh.feature_selection.feature_selector:[test_feature_significance] Feature EMI_sst_0_max__minimum is constant\n",
      "WARNING:tsfresh.feature_selection.significance_tests:[target_binary_feature_binary_test] A binary feature should have only values 1 and 0 (incl. True and False). Instead found {2.0, 3.0} in feature ''IRMOTION_sst_0_centroid__maximum''.\n",
      "WARNING:tsfresh.feature_selection.feature_selector:[test_feature_significance] Feature EMI_sst_0_variance__median is constant\n",
      "WARNING:tsfresh.feature_selection.feature_selector:[test_feature_significance] Feature EMI_sst_0_centroid__median is constant\n",
      "WARNING:tsfresh.feature_selection.feature_selector:[test_feature_significance] Feature EMI_sst_0_centroid__maximum is constant\n",
      "WARNING:tsfresh.feature_selection.feature_selector:[test_feature_significance] Feature EMI_sst_0_max__maximum is constant\n"
     ]
    },
    {
     "name": "stderr",
     "output_type": "stream",
     "text": [
      "WARNING:tsfresh.feature_selection.feature_selector:[test_feature_significance] Feature EMI_sst_0_variance__minimum is constant\n",
      "WARNING:tsfresh.feature_selection.feature_selector:[test_feature_significance] Feature EMI_sst_0_centroid__variance is constant\n",
      "WARNING:tsfresh.feature_selection.feature_selector:[test_feature_significance] Feature EMI_sst_0_max__variance is constant\n",
      "WARNING:tsfresh.feature_selection.feature_selector:[test_feature_significance] Feature EMI_sst_0_max__mean is constant\n",
      "WARNING:tsfresh.feature_selection.feature_selector:[test_feature_significance] Feature EMI_sst_0_centroid__minimum is constant\n",
      "WARNING:tsfresh.feature_selection.feature_selector:[test_feature_significance] Feature EMI_sst_0_variance__standard_deviation is constant\n",
      "WARNING:tsfresh.feature_selection.feature_selector:[test_feature_significance] Feature EMI_sst_0_variance__maximum is constant\n",
      "WARNING:tsfresh.feature_selection.feature_selector:[test_feature_significance] Feature EMI_sst_0_variance__mean is constant\n",
      "WARNING:tsfresh.feature_selection.feature_selector:[test_feature_significance] Feature EMI_sst_0_max__standard_deviation is constant\n",
      "WARNING:tsfresh.feature_selection.feature_selector:[test_feature_significance] Feature EMI_sst_0_max__median is constant\n",
      "WARNING:tsfresh.feature_selection.feature_selector:[test_feature_significance] Feature EMI_sst_0_variance__variance is constant\n",
      "WARNING:tsfresh.feature_selection.feature_selector:[test_feature_significance] Feature EMI_sst_0_centroid__standard_deviation is constant\n",
      "WARNING:tsfresh.feature_selection.significance_tests:[target_binary_feature_binary_test] A binary feature should have only values 1 and 0 (incl. True and False). Instead found {16.0, 17.0} in feature ''humidity__maximum''.\n",
      "WARNING:tsfresh.feature_selection.significance_tests:[target_binary_feature_binary_test] A binary feature should have only values 1 and 0 (incl. True and False). Instead found {16.0, 17.0} in feature ''humidity__median''.\n",
      "WARNING:tsfresh.feature_selection.feature_selector:[test_feature_significance] Feature mag_z__variance is constant\n",
      "WARNING:tsfresh.feature_selection.feature_selector:[test_feature_significance] Feature mag_x__minimum is constant\n",
      "WARNING:tsfresh.feature_selection.feature_selector:[test_feature_significance] Feature mag_x__variance is constant\n",
      "WARNING:tsfresh.feature_selection.feature_selector:[test_feature_significance] Feature mag_x__standard_deviation is constant\n",
      "WARNING:tsfresh.feature_selection.feature_selector:[test_feature_significance] Feature mag_y__maximum is constant\n",
      "WARNING:tsfresh.feature_selection.feature_selector:[test_feature_significance] Feature mag_x__median is constant\n",
      "WARNING:tsfresh.feature_selection.feature_selector:[test_feature_significance] Feature mag_y__median is constant\n",
      "WARNING:tsfresh.feature_selection.feature_selector:[test_feature_significance] Feature mag_x__maximum is constant\n",
      "WARNING:tsfresh.feature_selection.feature_selector:[test_feature_significance] Feature mag_y__variance is constant\n",
      "WARNING:tsfresh.feature_selection.feature_selector:[test_feature_significance] Feature mag_z__minimum is constant\n",
      "WARNING:tsfresh.feature_selection.feature_selector:[test_feature_significance] Feature mag_z__median is constant\n",
      "WARNING:tsfresh.feature_selection.feature_selector:[test_feature_significance] Feature mag_z__mean is constant\n",
      "WARNING:tsfresh.feature_selection.feature_selector:[test_feature_significance] Feature mag_x__mean is constant\n",
      "WARNING:tsfresh.feature_selection.feature_selector:[test_feature_significance] Feature mag_y__minimum is constant\n",
      "WARNING:tsfresh.feature_selection.feature_selector:[test_feature_significance] Feature mag_y__standard_deviation is constant\n",
      "WARNING:tsfresh.feature_selection.feature_selector:[test_feature_significance] Feature mag_y__mean is constant\n",
      "WARNING:tsfresh.feature_selection.feature_selector:[test_feature_significance] Feature mag_z__standard_deviation is constant\n",
      "WARNING:tsfresh.feature_selection.feature_selector:[test_feature_significance] Feature mag_z__maximum is constant\n",
      "WARNING:tsfresh.feature_selection.significance_tests:[target_binary_feature_binary_test] A binary feature should have only values 1 and 0 (incl. True and False). Instead found {-1.02, -1.01} in feature ''accel_y__maximum''.\n",
      "WARNING:tsfresh.feature_selection.significance_tests:[target_binary_feature_binary_test] A binary feature should have only values 1 and 0 (incl. True and False). Instead found {-0.050000000000000003, -0.059999999999999998} in feature ''accel_x__maximum''.\n",
      "WARNING:tsfresh.feature_selection.feature_selector:[test_feature_significance] Feature accel_y__median is constant\n",
      "WARNING:tsfresh.feature_selection.significance_tests:[target_binary_feature_binary_test] A binary feature should have only values 1 and 0 (incl. True and False). Instead found {-0.050000000000000003, -0.059999999999999998} in feature ''accel_x__median''.\n",
      "WARNING:tsfresh.feature_selection.feature_selector:[test_feature_significance] Feature accel_y__minimum is constant\n",
      "WARNING:tsfresh.feature_selection.significance_tests:[target_binary_feature_binary_test] A binary feature should have only values 1 and 0 (incl. True and False). Instead found {-0.97999999999999998, -0.96999999999999997} in feature ''accel_y__maximum''.\n",
      "WARNING:tsfresh.feature_selection.significance_tests:[target_binary_feature_binary_test] A binary feature should have only values 1 and 0 (incl. True and False). Instead found {0.089999999999999997, 0.10000000000000001} in feature ''accel_z__median''.\n",
      "WARNING:tsfresh.feature_selection.significance_tests:[target_binary_feature_binary_test] A binary feature should have only values 1 and 0 (incl. True and False). Instead found {0.01, -0.01} in feature ''accel_x__maximum''.\n",
      "WARNING:tsfresh.feature_selection.significance_tests:[target_binary_feature_binary_test] A binary feature should have only values 1 and 0 (incl. True and False). Instead found {0.089999999999999997, 0.10000000000000001} in feature ''accel_z__minimum''.\n",
      "WARNING:tsfresh.feature_selection.significance_tests:[target_binary_feature_binary_test] A binary feature should have only values 1 and 0 (incl. True and False). Instead found {-0.98999999999999999, -1.0} in feature ''accel_y__minimum''.\n",
      "WARNING:tsfresh.feature_selection.significance_tests:[target_binary_feature_binary_test] A binary feature should have only values 1 and 0 (incl. True and False). Instead found {0.01, -0.01} in feature ''accel_x__median''.\n",
      "WARNING:tsfresh.feature_selection.feature_selector:[test_feature_significance] Feature accel_y__maximum is constant\n",
      "WARNING:tsfresh.feature_selection.significance_tests:[target_binary_feature_binary_test] A binary feature should have only values 1 and 0 (incl. True and False). Instead found {0.0, 0.38569460791993498} in feature ''EMI_sst_0_range__standard_deviation''.\n",
      "WARNING:tsfresh.feature_selection.significance_tests:[target_binary_feature_binary_test] A binary feature should have only values 1 and 0 (incl. True and False). Instead found {48.0, 49.0} in feature ''mag_y__minimum''.\n",
      "WARNING:tsfresh.feature_selection.significance_tests:[target_binary_feature_binary_test] A binary feature should have only values 1 and 0 (incl. True and False). Instead found {0.0, 0.14876033057851237} in feature ''EMI_sst_0_min__variance''.\n",
      "WARNING:tsfresh.feature_selection.significance_tests:[target_binary_feature_binary_test] A binary feature should have only values 1 and 0 (incl. True and False). Instead found {50.0, 51.0} in feature ''EMI_sst_0_centroid__mean''.\n",
      "WARNING:tsfresh.feature_selection.feature_selector:[test_feature_significance] Feature EMI_sst_0_variance__sum_values is constant\n",
      "WARNING:tsfresh.feature_selection.feature_selector:[test_feature_significance] Feature EMI_sst_0_max__minimum is constant\n",
      "WARNING:tsfresh.feature_selection.significance_tests:[target_binary_feature_binary_test] A binary feature should have only values 1 and 0 (incl. True and False). Instead found {0.0, 0.14876033057851237} in feature ''EMI_sst_0_range__variance''.\n",
      "WARNING:tsfresh.feature_selection.feature_selector:[test_feature_significance] Feature EMI_sst_0_variance__median is constant\n",
      "WARNING:tsfresh.feature_selection.significance_tests:[target_binary_feature_binary_test] A binary feature should have only values 1 and 0 (incl. True and False). Instead found {50.0, 51.0} in feature ''EMI_sst_0_centroid__median''.\n"
     ]
    },
    {
     "name": "stderr",
     "output_type": "stream",
     "text": [
      "WARNING:tsfresh.feature_selection.significance_tests:[target_binary_feature_binary_test] A binary feature should have only values 1 and 0 (incl. True and False). Instead found {50.0, 51.0} in feature ''EMI_sst_0_centroid__maximum''.\n",
      "WARNING:tsfresh.feature_selection.feature_selector:[test_feature_significance] Feature EMI_sst_0_max__mean is constant\n",
      "WARNING:tsfresh.feature_selection.feature_selector:[test_feature_significance] Feature EMI_sst_0_max__maximum is constant\n",
      "WARNING:tsfresh.feature_selection.feature_selector:[test_feature_significance] Feature EMI_sst_0_max__variance is constant\n",
      "WARNING:tsfresh.feature_selection.feature_selector:[test_feature_significance] Feature EMI_sst_0_variance__minimum is constant\n",
      "WARNING:tsfresh.feature_selection.feature_selector:[test_feature_significance] Feature EMI_sst_0_centroid__variance is constant\n",
      "WARNING:tsfresh.feature_selection.feature_selector:[test_feature_significance] Feature EMI_sst_0_variance__standard_deviation is constant\n",
      "WARNING:tsfresh.feature_selection.significance_tests:[target_binary_feature_binary_test] A binary feature should have only values 1 and 0 (incl. True and False). Instead found {50.0, 51.0} in feature ''EMI_sst_0_centroid__minimum''.\n",
      "WARNING:tsfresh.feature_selection.feature_selector:[test_feature_significance] Feature EMI_sst_0_variance__mean is constant\n",
      "WARNING:tsfresh.feature_selection.feature_selector:[test_feature_significance] Feature EMI_sst_0_variance__maximum is constant\n",
      "WARNING:tsfresh.feature_selection.significance_tests:[target_binary_feature_binary_test] A binary feature should have only values 1 and 0 (incl. True and False). Instead found {2.0, 4.0} in feature ''microphone_min__minimum''.\n",
      "WARNING:tsfresh.feature_selection.feature_selector:[test_feature_significance] Feature EMI_sst_0_max__standard_deviation is constant\n",
      "WARNING:tsfresh.feature_selection.significance_tests:[target_binary_feature_binary_test] A binary feature should have only values 1 and 0 (incl. True and False). Instead found {48.0, 49.0} in feature ''mag_y__maximum''.\n",
      "WARNING:tsfresh.feature_selection.significance_tests:[target_binary_feature_binary_test] A binary feature should have only values 1 and 0 (incl. True and False). Instead found {0.0, 0.38569460791993498} in feature ''EMI_sst_0_min__standard_deviation''.\n",
      "WARNING:tsfresh.feature_selection.feature_selector:[test_feature_significance] Feature EMI_sst_0_max__median is constant\n",
      "WARNING:tsfresh.feature_selection.feature_selector:[test_feature_significance] Feature EMI_sst_0_variance__variance is constant\n",
      "WARNING:tsfresh.feature_selection.feature_selector:[test_feature_significance] Feature EMI_sst_0_centroid__standard_deviation is constant\n"
     ]
    }
   ],
   "source": [
    "data_frame_selected = {}\n",
    "\n",
    "for device_id in device_labels:\n",
    "    df = data_frame_features[device_id]\n",
    "    df_labels = device_labels[device_id]\n",
    "    selected = select_features(df, df_labels['label'])\n",
    "    data_frame_selected[device_id] = selected"
   ]
  },
  {
   "cell_type": "markdown",
   "metadata": {},
   "source": [
    "**Save to disk**"
   ]
  },
  {
   "cell_type": "code",
   "execution_count": 18,
   "metadata": {
    "collapsed": true
   },
   "outputs": [],
   "source": [
    "for device_id in data_frame_selected:\n",
    "    selected = data_frame_selected[device_id]\n",
    "    selected.to_pickle(features_output_path + device_id + '_selected.p')"
   ]
  },
  {
   "cell_type": "code",
   "execution_count": null,
   "metadata": {
    "collapsed": true
   },
   "outputs": [],
   "source": [
    "1"
   ]
  }
 ],
 "metadata": {
  "kernelspec": {
   "display_name": "Python 3",
   "language": "python",
   "name": "python3"
  },
  "language_info": {
   "codemirror_mode": {
    "name": "ipython",
    "version": 3
   },
   "file_extension": ".py",
   "mimetype": "text/x-python",
   "name": "python",
   "nbconvert_exporter": "python",
   "pygments_lexer": "ipython3",
   "version": "3.5.2"
  }
 },
 "nbformat": 4,
 "nbformat_minor": 1
}
