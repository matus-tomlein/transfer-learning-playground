{
 "cells": [
  {
   "cell_type": "code",
   "execution_count": 1,
   "metadata": {},
   "outputs": [
    {
     "name": "stderr",
     "output_type": "stream",
     "text": [
      "/home/giotto/.local/lib/python3.5/site-packages/statsmodels/compat/pandas.py:56: FutureWarning: The pandas.core.datetools module is deprecated and will be removed in a future version. Please use the pandas.tseries module instead.\n",
      "  from pandas.core import datetools\n"
     ]
    }
   ],
   "source": [
    "import pandas as pd\n",
    "import numpy as np\n",
    "import os\n",
    "from tsfresh import extract_features, select_features\n",
    "from tsfresh.feature_extraction import MinimalFCParameters\n",
    "from tsfresh.utilities.dataframe_functions import impute\n",
    "from pprint import pprint"
   ]
  },
  {
   "cell_type": "markdown",
   "metadata": {
    "collapsed": true
   },
   "source": [
    "**Dataset configuration**"
   ]
  },
  {
   "cell_type": "code",
   "execution_count": 2,
   "metadata": {
    "collapsed": true
   },
   "outputs": [],
   "source": [
    "dataset = 'scott-final-iter1'\n",
    "\n",
    "dataset_path = '../datasets/' + dataset + '/'\n",
    "output_path = '../datasets/' + dataset + '-1s-processed/'\n",
    "features_output_path = '../datasets/' + dataset + '-1s-features/'"
   ]
  },
  {
   "cell_type": "code",
   "execution_count": 3,
   "metadata": {
    "collapsed": true
   },
   "outputs": [],
   "source": [
    "devices_to_use = [\n",
    "    '128.237.246.127',\n",
    "    '128.237.248.186',\n",
    "    '128.237.247.134',\n",
    "    '128.237.234.0',\n",
    "    '128.237.237.122',\n",
    "    '128.237.239.234',\n",
    "    '128.237.254.195', # this Mite is only in the Synergy kitchen dataset\n",
    "    'DialogIoT 591844595',\n",
    "    'DialogIoT 591844599',\n",
    "    'DialogIoT 591844765',\n",
    "    'Matrix b827eb96f31a',\n",
    "    'Matrix b827ebe6e0f8',\n",
    "    'Matrix b827eb41f96f',\n",
    "    'TI SensorTag 604',\n",
    "    'TI SensorTag 690',\n",
    "    'TI SensorTag 85',\n",
    "    'xdk_1',\n",
    "    'xdk_2',\n",
    "    'xdk_3',\n",
    "    'TI SensorTag 33',\n",
    "    'TI SensorTag 535',\n",
    "    'TI SensorTag 709'\n",
    "]\n",
    "\n",
    "columns_to_rename = {\n",
    "    'ACCEL_sst_0_avg': 'accel_x',\n",
    "    'ACCEL_sst_1_avg': 'accel_y',\n",
    "    'ACCEL_sst_2_avg': 'accel_z',\n",
    "    'MAGNETOMETER_sst_0_avg': 'mag_x',\n",
    "    'MAGNETOMETER_sst_1_avg': 'mag_y',\n",
    "    'MAGNETOMETER_sst_2_avg': 'mag_z',\n",
    "    'HUMIDITY_sst_0_avg': 'humidity',\n",
    "    'ILLUMINATION_sst_0_avg': 'light',\n",
    "    'BAROMETER_sst_0_avg': 'pressure',\n",
    "    'TEMPERATURE_sst_0_avg': 'temperature',\n",
    "    'MICROPHONE_sst_0_avg': 'microphone',\n",
    "    'MICROPHONE_sst_0_min': 'microphone_min',\n",
    "    'MICROPHONE_sst_0_max': 'microphone_max',\n",
    "    'MICROPHONE_sst_0_sum': 'microphone_sum',\n",
    "    'MICROPHONE_sst_0_variance': 'microphone_variance',\n",
    "    'MICROPHONE_sst_0_range': 'microphone_range',\n",
    "    'MICROPHONE_sst_0_centroid': 'microphone_centroid',\n",
    "    'microphone_avg': 'microphone',\n",
    "    'magnetometer_x': 'mag_x',\n",
    "    'magnetometer_y': 'mag_y',\n",
    "    'magnetometer_z': 'mag_z'\n",
    "}\n",
    "\n",
    "columns_to_keep = '|'.join([\n",
    "    'accel_',\n",
    "    'gyro_',\n",
    "    'mag_',\n",
    "    'humidity',\n",
    "    'light',\n",
    "    'pressure',\n",
    "    'temperature',\n",
    "    'microphone',\n",
    "    'ACCEL_fft_',\n",
    "    'ACCEL_sst_',\n",
    "    'MICROPHONE_fft_',\n",
    "    'EMI',\n",
    "    'IRMOTION'\n",
    "])"
   ]
  },
  {
   "cell_type": "markdown",
   "metadata": {},
   "source": [
    "**Merge the individual CSVs into one DataFrame per device for the chosen devices**"
   ]
  },
  {
   "cell_type": "code",
   "execution_count": 4,
   "metadata": {
    "collapsed": true,
    "scrolled": true
   },
   "outputs": [],
   "source": [
    "data_frames = {}\n",
    "\n",
    "for root, dirs, files in os.walk(dataset_path):\n",
    "    for file in files:\n",
    "        device_id = None\n",
    "\n",
    "        for device in devices_to_use:\n",
    "            if file.startswith(device):\n",
    "                device_id = device\n",
    "\n",
    "        if device_id is not None:\n",
    "            df = pd.DataFrame()\n",
    "            if device_id in data_frames:\n",
    "                df = data_frames[device_id]\n",
    "\n",
    "            df_new = pd.DataFrame.from_csv(dataset_path + file)\n",
    "            df_new.rename(index=str, columns=columns_to_rename, inplace=True)\n",
    "\n",
    "            df_new.index = pd.to_datetime(df_new.index).round('100ms')\n",
    "\n",
    "            df_new = df_new.filter(regex=(columns_to_keep))\n",
    "#             df_new = df_new[df_new.columns.difference(['time'])]\n",
    "            df_new = df_new[~df_new.index.duplicated(keep='first')]\n",
    "\n",
    "            if len(df_new.columns) > 0:\n",
    "                df = pd.concat([df, df_new], join='outer', axis=1)\n",
    "\n",
    "                data_frames[device_id] = df"
   ]
  },
  {
   "cell_type": "markdown",
   "metadata": {},
   "source": [
    "**Remove duplicate indices**"
   ]
  },
  {
   "cell_type": "code",
   "execution_count": 5,
   "metadata": {
    "collapsed": true
   },
   "outputs": [],
   "source": [
    "for device_id in data_frames:\n",
    "    df = data_frames[device_id]\n",
    "    df = df[~df.index.duplicated(keep='first')]\n",
    "    data_frames[device_id] = df"
   ]
  },
  {
   "cell_type": "markdown",
   "metadata": {},
   "source": [
    "**Convert index to datetime**"
   ]
  },
  {
   "cell_type": "code",
   "execution_count": 6,
   "metadata": {
    "collapsed": true
   },
   "outputs": [],
   "source": [
    "for device_id in data_frames:\n",
    "    df = data_frames[device_id]\n",
    "    df.index = pd.to_datetime(df.index)\n",
    "    data_frames[device_id] = df"
   ]
  },
  {
   "cell_type": "markdown",
   "metadata": {},
   "source": [
    "**Fill missing values**"
   ]
  },
  {
   "cell_type": "code",
   "execution_count": 7,
   "metadata": {
    "collapsed": true
   },
   "outputs": [],
   "source": [
    "for device_id in data_frames:\n",
    "    df = data_frames[device_id]\n",
    "    df = df.ffill().bfill()\n",
    "    data_frames[device_id] = df"
   ]
  },
  {
   "cell_type": "markdown",
   "metadata": {},
   "source": [
    "**Create 5 sec activity windows**"
   ]
  },
  {
   "cell_type": "code",
   "execution_count": 8,
   "metadata": {
    "collapsed": true,
    "scrolled": true
   },
   "outputs": [],
   "source": [
    "window_size_secs = 1 # seconds\n",
    "smallest_size_secs = 1 # seconds\n",
    "\n",
    "activities = pd.DataFrame.from_csv(dataset_path + 'activities.csv')\n",
    "labels = pd.DataFrame.from_csv(dataset_path + 'activity_labels.csv')\n",
    "labeled_activities = activities.loc[activities.id != -1]\n",
    "\n",
    "activity_windows = []\n",
    "\n",
    "for id in labeled_activities.id.unique():\n",
    "    start = labeled_activities.loc[labeled_activities.id == id].index.min()\n",
    "    end = labeled_activities.loc[labeled_activities.id == id].index.max()\n",
    "\n",
    "    since = start\n",
    "    until = start + pd.DateOffset(seconds=window_size_secs)\n",
    "\n",
    "    while since < end:\n",
    "        label = labels.loc[id]['label']\n",
    "\n",
    "        length = (until - since).seconds\n",
    "        if length >= smallest_size_secs:\n",
    "            activity_windows.append({\n",
    "                'since': since,\n",
    "                'until': until,\n",
    "                'label': label,\n",
    "                'length': length,\n",
    "                'id': id\n",
    "            })\n",
    "\n",
    "        since = until\n",
    "        until = until + pd.DateOffset(seconds=window_size_secs)\n",
    "        until = min(until, end)"
   ]
  },
  {
   "cell_type": "markdown",
   "metadata": {},
   "source": [
    "**Create per-activity dataframes which are not missing more than 1 second of data**"
   ]
  },
  {
   "cell_type": "code",
   "execution_count": 9,
   "metadata": {},
   "outputs": [
    {
     "name": "stdout",
     "output_type": "stream",
     "text": [
      "2 out of 292 removed for 128.237.246.127, activity 1\n",
      "1 out of 292 removed for Matrix b827eb96f31a, activity 1\n",
      "93 out of 316 removed for TI SensorTag 85, activity 16\n",
      "186 out of 316 removed for TI SensorTag 604, activity 16\n",
      "4 out of 467 removed for Matrix b827eb41f96f, activity 8\n",
      "147 out of 292 removed for DialogIoT 591844595, activity 1\n",
      "2 out of 371 removed for Matrix b827eb41f96f, activity 9\n",
      "5 out of 365 removed for DialogIoT 591844599, activity 5\n",
      "15 out of 365 removed for TI SensorTag 604, activity 5\n",
      "37 out of 292 removed for TI SensorTag 85, activity 1\n",
      "1 out of 371 removed for 128.237.248.186, activity 20\n",
      "3 out of 366 removed for DialogIoT 591844595, activity 4\n",
      "1 out of 292 removed for xdk_2, activity 1\n",
      "4 out of 288 removed for TI SensorTag 85, activity 19\n",
      "1 out of 366 removed for 128.237.248.186, activity 4\n",
      "3 out of 366 removed for 128.237.247.134, activity 4\n",
      "3 out of 366 removed for Matrix b827ebe6e0f8, activity 4\n",
      "3 out of 371 removed for Matrix b827eb96f31a, activity 9\n",
      "1 out of 365 removed for 128.237.246.127, activity 5\n",
      "6 out of 316 removed for 128.237.248.186, activity 16\n",
      "9 out of 288 removed for TI SensorTag 690, activity 19\n",
      "4 out of 367 removed for 128.237.248.186, activity 0\n",
      "3 out of 365 removed for Matrix b827eb96f31a, activity 5\n",
      "19 out of 371 removed for TI SensorTag 690, activity 9\n",
      "1 out of 371 removed for 128.237.248.186, activity 9\n",
      "4 out of 366 removed for TI SensorTag 85, activity 4\n",
      "1 out of 199 removed for xdk_1, activity 2\n",
      "12 out of 364 removed for TI SensorTag 604, activity 7\n",
      "1 out of 16 removed for TI SensorTag 604, activity 14\n",
      "2 out of 367 removed for Matrix b827eb41f96f, activity 0\n",
      "4 out of 467 removed for DialogIoT 591844595, activity 8\n",
      "12 out of 371 removed for TI SensorTag 604, activity 3\n",
      "2 out of 292 removed for Matrix b827ebe6e0f8, activity 1\n",
      "1 out of 22 removed for TI SensorTag 85, activity 18\n",
      "1 out of 292 removed for Matrix b827eb41f96f, activity 1\n",
      "2 out of 365 removed for xdk_2, activity 5\n",
      "1 out of 364 removed for 128.237.247.134, activity 7\n",
      "1 out of 199 removed for Matrix b827ebe6e0f8, activity 2\n",
      "2 out of 371 removed for 128.237.248.186, activity 3\n",
      "7 out of 371 removed for DialogIoT 591844595, activity 20\n",
      "18 out of 366 removed for TI SensorTag 604, activity 4\n",
      "1 out of 364 removed for Matrix b827ebe6e0f8, activity 7\n",
      "11 out of 199 removed for TI SensorTag 690, activity 2\n",
      "6 out of 371 removed for DialogIoT 591844599, activity 20\n",
      "4 out of 292 removed for DialogIoT 591844599, activity 1\n",
      "2 out of 199 removed for DialogIoT 591844599, activity 2\n",
      "5 out of 316 removed for 128.237.247.134, activity 16\n",
      "3 out of 371 removed for DialogIoT 591844765, activity 3\n",
      "3 out of 367 removed for 128.237.247.134, activity 0\n",
      "2 out of 467 removed for Matrix b827ebe6e0f8, activity 8\n",
      "9 out of 288 removed for TI SensorTag 604, activity 19\n",
      "14 out of 371 removed for TI SensorTag 690, activity 20\n",
      "3 out of 16 removed for TI SensorTag 690, activity 14\n",
      "2 out of 365 removed for Matrix b827ebe6e0f8, activity 5\n",
      "3 out of 364 removed for Matrix b827eb96f31a, activity 7\n",
      "4 out of 365 removed for DialogIoT 591844595, activity 5\n",
      "3 out of 367 removed for Matrix b827ebe6e0f8, activity 0\n",
      "4 out of 467 removed for 128.237.248.186, activity 8\n",
      "26 out of 371 removed for TI SensorTag 690, activity 3\n",
      "2 out of 288 removed for DialogIoT 591844599, activity 19\n",
      "1 out of 199 removed for 128.237.246.127, activity 2\n",
      "2 out of 288 removed for 128.237.247.134, activity 19\n",
      "6 out of 316 removed for 128.237.246.127, activity 16\n",
      "14 out of 292 removed for DialogIoT 591844765, activity 1\n",
      "2 out of 316 removed for DialogIoT 591844599, activity 16\n",
      "10 out of 365 removed for TI SensorTag 85, activity 5\n",
      "2 out of 288 removed for 128.237.246.127, activity 19\n",
      "3 out of 365 removed for 128.237.247.134, activity 5\n",
      "3 out of 364 removed for DialogIoT 591844599, activity 7\n",
      "2 out of 316 removed for Matrix b827eb96f31a, activity 16\n",
      "316 out of 316 removed for DialogIoT 591844595, activity 16\n",
      "2 out of 364 removed for Matrix b827eb41f96f, activity 7\n",
      "4 out of 371 removed for Matrix b827eb41f96f, activity 20\n",
      "3 out of 367 removed for Matrix b827eb96f31a, activity 0\n",
      "2 out of 371 removed for DialogIoT 591844595, activity 9\n",
      "7 out of 371 removed for TI SensorTag 85, activity 20\n",
      "3 out of 367 removed for DialogIoT 591844595, activity 0\n",
      "2 out of 371 removed for 128.237.247.134, activity 20\n",
      "2 out of 199 removed for Matrix b827eb41f96f, activity 2\n",
      "5 out of 467 removed for 128.237.247.134, activity 8\n",
      "3 out of 371 removed for 128.237.246.127, activity 3\n",
      "4 out of 288 removed for 128.237.248.186, activity 19\n",
      "2 out of 371 removed for Matrix b827eb41f96f, activity 3\n",
      "1 out of 288 removed for Matrix b827ebe6e0f8, activity 19\n",
      "1 out of 371 removed for 128.237.246.127, activity 20\n",
      "3 out of 366 removed for Matrix b827eb41f96f, activity 4\n",
      "26 out of 367 removed for TI SensorTag 690, activity 0\n",
      "3 out of 371 removed for Matrix b827eb96f31a, activity 20\n",
      "10 out of 371 removed for TI SensorTag 85, activity 3\n",
      "5 out of 366 removed for DialogIoT 591844599, activity 4\n",
      "3 out of 371 removed for Matrix b827eb96f31a, activity 3\n",
      "4 out of 288 removed for DialogIoT 591844595, activity 19\n",
      "3 out of 467 removed for Matrix b827eb96f31a, activity 8\n",
      "2 out of 288 removed for Matrix b827eb41f96f, activity 19\n",
      "2 out of 467 removed for 128.237.246.127, activity 8\n",
      "24 out of 364 removed for TI SensorTag 690, activity 7\n",
      "5 out of 371 removed for DialogIoT 591844599, activity 3\n",
      "121 out of 292 removed for TI SensorTag 690, activity 1\n",
      "180 out of 316 removed for DialogIoT 591844765, activity 16\n",
      "7 out of 371 removed for DialogIoT 591844595, activity 3\n",
      "19 out of 467 removed for TI SensorTag 690, activity 8\n",
      "2 out of 371 removed for 128.237.247.134, activity 3\n",
      "21 out of 365 removed for TI SensorTag 690, activity 5\n",
      "11 out of 367 removed for TI SensorTag 85, activity 0\n",
      "3 out of 367 removed for DialogIoT 591844599, activity 0\n",
      "13 out of 366 removed for TI SensorTag 690, activity 4\n",
      "1 out of 22 removed for 128.237.246.127, activity 18\n",
      "2 out of 316 removed for Matrix b827eb41f96f, activity 16\n",
      "1 out of 316 removed for xdk_1, activity 16\n",
      "16 out of 467 removed for TI SensorTag 85, activity 8\n",
      "2 out of 365 removed for 128.237.248.186, activity 5\n",
      "4 out of 371 removed for DialogIoT 591844599, activity 9\n",
      "3 out of 288 removed for Matrix b827eb96f31a, activity 19\n",
      "2 out of 366 removed for Matrix b827eb96f31a, activity 4\n",
      "2 out of 316 removed for Matrix b827ebe6e0f8, activity 16\n",
      "1 out of 365 removed for xdk_3, activity 5\n",
      "6 out of 199 removed for TI SensorTag 85, activity 2\n",
      "2 out of 364 removed for 128.237.248.186, activity 7\n",
      "7 out of 367 removed for TI SensorTag 604, activity 0\n",
      "86 out of 292 removed for TI SensorTag 604, activity 1\n",
      "2 out of 364 removed for 128.237.246.127, activity 7\n",
      "4 out of 364 removed for TI SensorTag 85, activity 7\n",
      "1 out of 12 removed for TI SensorTag 604, activity 11\n",
      "21 out of 371 removed for TI SensorTag 604, activity 9\n",
      "1 out of 316 removed for xdk_2, activity 16\n",
      "1 out of 292 removed for 128.237.247.134, activity 1\n",
      "4 out of 366 removed for 128.237.246.127, activity 4\n",
      "19 out of 467 removed for TI SensorTag 604, activity 8\n",
      "4 out of 371 removed for TI SensorTag 85, activity 9\n",
      "4 out of 467 removed for DialogIoT 591844599, activity 8\n",
      "1 out of 365 removed for Matrix b827eb41f96f, activity 5\n",
      "4 out of 364 removed for DialogIoT 591844595, activity 7\n",
      "2 out of 367 removed for 128.237.246.127, activity 0\n",
      "9 out of 199 removed for TI SensorTag 604, activity 2\n",
      "203 out of 316 removed for TI SensorTag 690, activity 16\n",
      "2 out of 199 removed for Matrix b827eb96f31a, activity 2\n",
      "6 out of 371 removed for Matrix b827ebe6e0f8, activity 3\n",
      "1 out of 199 removed for DialogIoT 591844595, activity 2\n",
      "1 out of 16 removed for DialogIoT 591844599, activity 14\n",
      "9 out of 371 removed for TI SensorTag 604, activity 20\n"
     ]
    }
   ],
   "source": [
    "activity_data_frames = {}\n",
    "device_labels = {}\n",
    "\n",
    "removed_activities = {}\n",
    "all_activities = {}\n",
    "activity_id = 0\n",
    "\n",
    "for device_id in data_frames:\n",
    "    df = data_frames[device_id]\n",
    "    data_frames[device_id] = None\n",
    "    df['id'] = -1\n",
    "\n",
    "    device_activities = []\n",
    "\n",
    "    for i, window in enumerate(activity_windows):\n",
    "\n",
    "        activity_df = df.loc[df.index >= window['since']]\n",
    "        activity_df = activity_df.loc[activity_df.index <= window['until']].copy()\n",
    "\n",
    "        seconds = activity_df.index.round('s').unique()\n",
    "\n",
    "        key = device_id + ', activity ' + str(window['label'])\n",
    "        if not key in all_activities:\n",
    "            all_activities[key] = 0\n",
    "            removed_activities[key] = 0\n",
    "\n",
    "        if len(seconds) < window['length'] or len(activity_df) <= 3:\n",
    "            removed_activities[key] += 1\n",
    "        else:\n",
    "            activity_df['id'] = activity_id\n",
    "            activity_data_frames[activity_id] = activity_df\n",
    "            device_activities.append(pd.DataFrame({\n",
    "                'id': [activity_id],\n",
    "                'label': [window['label']],\n",
    "                'activity_id': [window['id']],\n",
    "                'since': [window['since']],\n",
    "                'until': [window['until']],\n",
    "                'window_id': [i]\n",
    "            }))\n",
    "            activity_id += 1\n",
    "\n",
    "        all_activities[key] += 1\n",
    "\n",
    "    df_labels = pd.concat(device_activities)\n",
    "    df_labels = df_labels.set_index('id')\n",
    "    device_labels[device_id] = df_labels\n",
    "\n",
    "# print stats    \n",
    "for key in all_activities:\n",
    "    if removed_activities[key] > 0:\n",
    "        print(str(removed_activities[key]) + ' out of ' + str(all_activities[key]) + ' removed for ' + key)"
   ]
  },
  {
   "cell_type": "markdown",
   "metadata": {},
   "source": [
    "**Resample to 10Hz and fill missing values**"
   ]
  },
  {
   "cell_type": "code",
   "execution_count": 10,
   "metadata": {
    "collapsed": true
   },
   "outputs": [],
   "source": [
    "for activity_id in activity_data_frames:\n",
    "    df = activity_data_frames[activity_id]\n",
    "    df = df.resample('100L')\n",
    "    df = df.ffill().bfill()\n",
    "    activity_data_frames[activity_id] = df"
   ]
  },
  {
   "cell_type": "markdown",
   "metadata": {},
   "source": [
    "**Update device data frames**"
   ]
  },
  {
   "cell_type": "code",
   "execution_count": 11,
   "metadata": {
    "collapsed": true
   },
   "outputs": [],
   "source": [
    "for device_id in device_labels:\n",
    "    labels = device_labels[device_id]\n",
    "    df_parts = [activity_data_frames[id] for id in labels.index]\n",
    "    df = pd.concat(df_parts)\n",
    "    data_frames[device_id] = df"
   ]
  },
  {
   "cell_type": "markdown",
   "metadata": {},
   "source": [
    "**Replace timestamp indices with integer ones**"
   ]
  },
  {
   "cell_type": "code",
   "execution_count": 12,
   "metadata": {
    "collapsed": true
   },
   "outputs": [],
   "source": [
    "for device_id in data_frames:\n",
    "    df = data_frames[device_id]\n",
    "    df.insert(0, 'i_index', pd.Series(range(len(df.index)), index=df.index))\n",
    "    df = df.set_index(['i_index'])\n",
    "    data_frames[device_id] = df"
   ]
  },
  {
   "cell_type": "markdown",
   "metadata": {},
   "source": [
    "**Save as Pickle files to disk**"
   ]
  },
  {
   "cell_type": "code",
   "execution_count": 13,
   "metadata": {
    "collapsed": true
   },
   "outputs": [],
   "source": [
    "for device_id in data_frames:\n",
    "    df = data_frames[device_id]\n",
    "    df.to_pickle(output_path + device_id + '.p')\n",
    "\n",
    "    df_labels = device_labels[device_id]\n",
    "    df_labels.to_pickle(output_path + device_id + '_labels.p')"
   ]
  },
  {
   "cell_type": "markdown",
   "metadata": {},
   "source": [
    "**Reload extracted datasets from disk**"
   ]
  },
  {
   "cell_type": "code",
   "execution_count": 4,
   "metadata": {
    "collapsed": true
   },
   "outputs": [],
   "source": [
    "data_frames = {}\n",
    "device_labels = {}\n",
    "\n",
    "for root, dirs, files in os.walk(output_path):\n",
    "    for file in files:\n",
    "        device_id = None\n",
    "\n",
    "        for device in devices_to_use:\n",
    "            if file.startswith(device):\n",
    "                device_id = device\n",
    "\n",
    "        if device_id is not None:\n",
    "            df = pd.read_pickle(output_path + file)\n",
    "            if file.endswith('_labels.p'):\n",
    "                device_labels[device_id] = df\n",
    "            else:\n",
    "                data_frames[device_id] = df"
   ]
  },
  {
   "cell_type": "markdown",
   "metadata": {
    "collapsed": true
   },
   "source": [
    "**Extract features**"
   ]
  },
  {
   "cell_type": "code",
   "execution_count": 14,
   "metadata": {},
   "outputs": [
    {
     "name": "stderr",
     "output_type": "stream",
     "text": [
      "Feature Extraction: 100%|██████████| 14/14 [00:06<00:00,  2.13it/s]\n",
      "Feature Extraction: 100%|██████████| 10/10 [00:04<00:00,  2.28it/s]\n",
      "Feature Extraction: 100%|██████████| 561/561 [03:33<00:00,  2.62it/s] \n",
      "Feature Extraction: 100%|██████████| 14/14 [00:06<00:00,  2.08it/s]\n",
      "Feature Extraction: 100%|██████████| 7/7 [00:04<00:00,  1.68s/it]\n",
      "Feature Extraction: 100%|██████████| 10/10 [00:03<00:00,  2.52it/s]\n",
      "Feature Extraction: 100%|██████████| 18/18 [00:07<00:00,  2.01it/s]\n",
      "Feature Extraction: 100%|██████████| 18/18 [00:07<00:00,  1.61it/s]\n",
      "Feature Extraction: 100%|██████████| 10/10 [00:04<00:00,  2.40it/s]\n",
      "Feature Extraction: 100%|██████████| 7/7 [00:03<00:00,  1.50s/it]\n",
      "Feature Extraction: 100%|██████████| 14/14 [00:06<00:00,  1.14s/it]\n",
      "Feature Extraction: 100%|██████████| 18/18 [00:06<00:00,  1.22it/s]\n",
      "Feature Extraction: 100%|██████████| 7/7 [00:04<00:00,  1.62s/it]\n",
      "Feature Extraction: 100%|██████████| 561/561 [03:32<00:00,  2.64it/s] \n",
      "Feature Extraction: 100%|██████████| 561/561 [03:37<00:00,  2.58it/s] \n"
     ]
    }
   ],
   "source": [
    "data_frame_features = {}\n",
    "\n",
    "def extract_device_features(df):\n",
    "    extracted_features = extract_features(impute(df),\n",
    "                                          column_id=\"id\",\n",
    "                                          default_fc_parameters=MinimalFCParameters())\n",
    "    impute(extracted_features)\n",
    "    return extracted_features\n",
    "\n",
    "for device_id in data_frames:\n",
    "    df = data_frames[device_id]\n",
    "\n",
    "    extracted = extract_device_features(df)\n",
    "    data_frame_features[device_id] = extracted"
   ]
  },
  {
   "cell_type": "markdown",
   "metadata": {},
   "source": [
    "**Sort feature columns**"
   ]
  },
  {
   "cell_type": "code",
   "execution_count": 15,
   "metadata": {
    "collapsed": true
   },
   "outputs": [],
   "source": [
    "for device_id in data_frame_features:\n",
    "    df = data_frame_features[device_id]\n",
    "    df = df.reindex_axis(sorted(df.columns), axis=1)\n",
    "    data_frame_features[device_id] = df"
   ]
  },
  {
   "cell_type": "markdown",
   "metadata": {},
   "source": [
    "**Store extracted features on disk**"
   ]
  },
  {
   "cell_type": "code",
   "execution_count": 16,
   "metadata": {
    "collapsed": true
   },
   "outputs": [],
   "source": [
    "for device_id in data_frame_features:\n",
    "    extracted = data_frame_features[device_id]\n",
    "    extracted.to_pickle(features_output_path + device_id + '.p')\n",
    "\n",
    "    df_labels = device_labels[device_id]\n",
    "    df_labels.to_pickle(features_output_path + device_id + '_labels.p')"
   ]
  },
  {
   "cell_type": "markdown",
   "metadata": {
    "collapsed": true
   },
   "source": [
    "**Do feature selection**"
   ]
  },
  {
   "cell_type": "code",
   "execution_count": 17,
   "metadata": {},
   "outputs": [
    {
     "name": "stderr",
     "output_type": "stream",
     "text": [
      "WARNING:tsfresh.feature_selection.feature_selector:[test_feature_significance] Feature EMI_sst_0_range__standard_deviation is constant\n",
      "WARNING:tsfresh.feature_selection.significance_tests:[target_binary_feature_binary_test] A binary feature should have only values 1 and 0 (incl. True and False). Instead found {32452.0, 32446.0} in feature ''EMI_sst_0_range__median''.\n",
      "WARNING:tsfresh.feature_selection.feature_selector:[test_feature_significance] Feature EMI_sst_0_avg__variance is constant\n",
      "WARNING:tsfresh.feature_selection.significance_tests:[target_binary_feature_binary_test] A binary feature should have only values 1 and 0 (incl. True and False). Instead found {6440.0, 6456.0} in feature ''EMI_sst_0_avg__minimum''.\n",
      "WARNING:tsfresh.feature_selection.feature_selector:[test_feature_significance] Feature EMI_sst_0_min__variance is constant\n",
      "WARNING:tsfresh.feature_selection.feature_selector:[test_feature_significance] Feature EMI_sst_0_centroid__mean is constant\n",
      "WARNING:tsfresh.feature_selection.significance_tests:[target_binary_feature_binary_test] A binary feature should have only values 1 and 0 (incl. True and False). Instead found {6440.0, 6456.0} in feature ''EMI_sst_0_avg__maximum''.\n",
      "WARNING:tsfresh.feature_selection.significance_tests:[target_binary_feature_binary_test] A binary feature should have only values 1 and 0 (incl. True and False). Instead found {6440.0, 6456.0} in feature ''EMI_sst_0_avg__median''.\n",
      "WARNING:tsfresh.feature_selection.feature_selector:[test_feature_significance] Feature EMI_sst_0_max__minimum is constant\n",
      "WARNING:tsfresh.feature_selection.feature_selector:[test_feature_significance] Feature EMI_sst_0_variance__sum_values is constant\n",
      "WARNING:tsfresh.feature_selection.feature_selector:[test_feature_significance] Feature EMI_sst_0_range__variance is constant\n",
      "WARNING:tsfresh.feature_selection.feature_selector:[test_feature_significance] Feature EMI_sst_0_avg__standard_deviation is constant\n",
      "WARNING:tsfresh.feature_selection.significance_tests:[target_binary_feature_binary_test] A binary feature should have only values 1 and 0 (incl. True and False). Instead found {2.0, 3.0} in feature ''IRMOTION_sst_0_centroid__maximum''.\n",
      "WARNING:tsfresh.feature_selection.significance_tests:[target_binary_feature_binary_test] A binary feature should have only values 1 and 0 (incl. True and False). Instead found {6440.0, 6456.0} in feature ''EMI_sst_0_avg__mean''.\n",
      "WARNING:tsfresh.feature_selection.feature_selector:[test_feature_significance] Feature EMI_sst_0_variance__median is constant\n",
      "WARNING:tsfresh.feature_selection.significance_tests:[target_binary_feature_binary_test] A binary feature should have only values 1 and 0 (incl. True and False). Instead found {91.0, 92.0} in feature ''temperature__median''.\n",
      "WARNING:tsfresh.feature_selection.significance_tests:[target_binary_feature_binary_test] A binary feature should have only values 1 and 0 (incl. True and False). Instead found {91.0, 92.0} in feature ''temperature__maximum''.\n",
      "WARNING:tsfresh.feature_selection.feature_selector:[test_feature_significance] Feature EMI_sst_0_centroid__median is constant\n",
      "WARNING:tsfresh.feature_selection.significance_tests:[target_binary_feature_binary_test] A binary feature should have only values 1 and 0 (incl. True and False). Instead found {12.0, 13.0} in feature ''humidity__maximum''.\n",
      "WARNING:tsfresh.feature_selection.significance_tests:[target_binary_feature_binary_test] A binary feature should have only values 1 and 0 (incl. True and False). Instead found {32.0, 26.0} in feature ''EMI_sst_0_min__maximum''.\n",
      "WARNING:tsfresh.feature_selection.feature_selector:[test_feature_significance] Feature EMI_sst_0_centroid__maximum is constant\n",
      "WARNING:tsfresh.feature_selection.feature_selector:[test_feature_significance] Feature EMI_sst_0_max__mean is constant\n",
      "WARNING:tsfresh.feature_selection.feature_selector:[test_feature_significance] Feature EMI_sst_0_max__maximum is constant\n",
      "WARNING:tsfresh.feature_selection.feature_selector:[test_feature_significance] Feature EMI_sst_0_max__variance is constant\n",
      "WARNING:tsfresh.feature_selection.feature_selector:[test_feature_significance] Feature EMI_sst_0_variance__minimum is constant\n",
      "WARNING:tsfresh.feature_selection.feature_selector:[test_feature_significance] Feature EMI_sst_0_centroid__variance is constant\n",
      "WARNING:tsfresh.feature_selection.significance_tests:[target_binary_feature_binary_test] A binary feature should have only values 1 and 0 (incl. True and False). Instead found {32452.0, 32446.0} in feature ''EMI_sst_0_range__maximum''.\n",
      "WARNING:tsfresh.feature_selection.feature_selector:[test_feature_significance] Feature EMI_sst_0_variance__standard_deviation is constant\n",
      "WARNING:tsfresh.feature_selection.feature_selector:[test_feature_significance] Feature EMI_sst_0_variance__mean is constant\n",
      "WARNING:tsfresh.feature_selection.feature_selector:[test_feature_significance] Feature EMI_sst_0_centroid__minimum is constant\n",
      "WARNING:tsfresh.feature_selection.feature_selector:[test_feature_significance] Feature EMI_sst_0_variance__maximum is constant\n",
      "WARNING:tsfresh.feature_selection.significance_tests:[target_binary_feature_binary_test] A binary feature should have only values 1 and 0 (incl. True and False). Instead found {32452.0, 32446.0} in feature ''EMI_sst_0_range__mean''.\n",
      "WARNING:tsfresh.feature_selection.significance_tests:[target_binary_feature_binary_test] A binary feature should have only values 1 and 0 (incl. True and False). Instead found {32.0, 26.0} in feature ''EMI_sst_0_min__median''.\n",
      "WARNING:tsfresh.feature_selection.significance_tests:[target_binary_feature_binary_test] A binary feature should have only values 1 and 0 (incl. True and False). Instead found {32452.0, 32446.0} in feature ''EMI_sst_0_range__minimum''.\n",
      "WARNING:tsfresh.feature_selection.feature_selector:[test_feature_significance] Feature EMI_sst_0_max__standard_deviation is constant\n",
      "WARNING:tsfresh.feature_selection.significance_tests:[target_binary_feature_binary_test] A binary feature should have only values 1 and 0 (incl. True and False). Instead found {32.0, 26.0} in feature ''EMI_sst_0_min__minimum''.\n",
      "WARNING:tsfresh.feature_selection.significance_tests:[target_binary_feature_binary_test] A binary feature should have only values 1 and 0 (incl. True and False). Instead found {30.0, 31.0} in feature ''mag_y__maximum''.\n",
      "WARNING:tsfresh.feature_selection.feature_selector:[test_feature_significance] Feature EMI_sst_0_min__standard_deviation is constant\n",
      "WARNING:tsfresh.feature_selection.feature_selector:[test_feature_significance] Feature EMI_sst_0_max__median is constant\n",
      "WARNING:tsfresh.feature_selection.feature_selector:[test_feature_significance] Feature EMI_sst_0_variance__variance is constant\n",
      "WARNING:tsfresh.feature_selection.significance_tests:[target_binary_feature_binary_test] A binary feature should have only values 1 and 0 (incl. True and False). Instead found {32.0, 26.0} in feature ''EMI_sst_0_min__mean''.\n",
      "WARNING:tsfresh.feature_selection.feature_selector:[test_feature_significance] Feature EMI_sst_0_centroid__standard_deviation is constant\n",
      "WARNING:tsfresh.feature_selection.feature_selector:[test_feature_significance] Feature EMI_sst_0_centroid__mean is constant\n",
      "WARNING:tsfresh.feature_selection.feature_selector:[test_feature_significance] Feature EMI_sst_0_variance__sum_values is constant\n",
      "WARNING:tsfresh.feature_selection.feature_selector:[test_feature_significance] Feature EMI_sst_0_max__minimum is constant\n",
      "WARNING:tsfresh.feature_selection.significance_tests:[target_binary_feature_binary_test] A binary feature should have only values 1 and 0 (incl. True and False). Instead found {2.0, 3.0} in feature ''IRMOTION_sst_0_centroid__maximum''.\n",
      "WARNING:tsfresh.feature_selection.feature_selector:[test_feature_significance] Feature EMI_sst_0_variance__median is constant\n",
      "WARNING:tsfresh.feature_selection.feature_selector:[test_feature_significance] Feature EMI_sst_0_centroid__median is constant\n",
      "WARNING:tsfresh.feature_selection.feature_selector:[test_feature_significance] Feature EMI_sst_0_centroid__maximum is constant\n",
      "WARNING:tsfresh.feature_selection.feature_selector:[test_feature_significance] Feature EMI_sst_0_max__maximum is constant\n"
     ]
    },
    {
     "name": "stderr",
     "output_type": "stream",
     "text": [
      "WARNING:tsfresh.feature_selection.feature_selector:[test_feature_significance] Feature EMI_sst_0_variance__minimum is constant\n",
      "WARNING:tsfresh.feature_selection.feature_selector:[test_feature_significance] Feature EMI_sst_0_centroid__variance is constant\n",
      "WARNING:tsfresh.feature_selection.feature_selector:[test_feature_significance] Feature EMI_sst_0_max__variance is constant\n",
      "WARNING:tsfresh.feature_selection.feature_selector:[test_feature_significance] Feature EMI_sst_0_max__mean is constant\n",
      "WARNING:tsfresh.feature_selection.feature_selector:[test_feature_significance] Feature EMI_sst_0_centroid__minimum is constant\n",
      "WARNING:tsfresh.feature_selection.feature_selector:[test_feature_significance] Feature EMI_sst_0_variance__standard_deviation is constant\n",
      "WARNING:tsfresh.feature_selection.feature_selector:[test_feature_significance] Feature EMI_sst_0_variance__maximum is constant\n",
      "WARNING:tsfresh.feature_selection.feature_selector:[test_feature_significance] Feature EMI_sst_0_variance__mean is constant\n",
      "WARNING:tsfresh.feature_selection.feature_selector:[test_feature_significance] Feature EMI_sst_0_max__standard_deviation is constant\n",
      "WARNING:tsfresh.feature_selection.feature_selector:[test_feature_significance] Feature EMI_sst_0_max__median is constant\n",
      "WARNING:tsfresh.feature_selection.feature_selector:[test_feature_significance] Feature EMI_sst_0_variance__variance is constant\n",
      "WARNING:tsfresh.feature_selection.feature_selector:[test_feature_significance] Feature EMI_sst_0_centroid__standard_deviation is constant\n",
      "WARNING:tsfresh.feature_selection.significance_tests:[target_binary_feature_binary_test] A binary feature should have only values 1 and 0 (incl. True and False). Instead found {16.0, 17.0} in feature ''humidity__maximum''.\n",
      "WARNING:tsfresh.feature_selection.significance_tests:[target_binary_feature_binary_test] A binary feature should have only values 1 and 0 (incl. True and False). Instead found {16.0, 17.0} in feature ''humidity__median''.\n",
      "WARNING:tsfresh.feature_selection.feature_selector:[test_feature_significance] Feature mag_z__variance is constant\n",
      "WARNING:tsfresh.feature_selection.feature_selector:[test_feature_significance] Feature mag_x__minimum is constant\n",
      "WARNING:tsfresh.feature_selection.feature_selector:[test_feature_significance] Feature mag_x__variance is constant\n",
      "WARNING:tsfresh.feature_selection.feature_selector:[test_feature_significance] Feature mag_x__standard_deviation is constant\n",
      "WARNING:tsfresh.feature_selection.feature_selector:[test_feature_significance] Feature mag_y__maximum is constant\n",
      "WARNING:tsfresh.feature_selection.feature_selector:[test_feature_significance] Feature mag_x__median is constant\n",
      "WARNING:tsfresh.feature_selection.feature_selector:[test_feature_significance] Feature mag_y__median is constant\n",
      "WARNING:tsfresh.feature_selection.feature_selector:[test_feature_significance] Feature mag_x__maximum is constant\n",
      "WARNING:tsfresh.feature_selection.feature_selector:[test_feature_significance] Feature mag_y__variance is constant\n",
      "WARNING:tsfresh.feature_selection.feature_selector:[test_feature_significance] Feature mag_z__minimum is constant\n",
      "WARNING:tsfresh.feature_selection.feature_selector:[test_feature_significance] Feature mag_z__median is constant\n",
      "WARNING:tsfresh.feature_selection.feature_selector:[test_feature_significance] Feature mag_z__mean is constant\n",
      "WARNING:tsfresh.feature_selection.feature_selector:[test_feature_significance] Feature mag_x__mean is constant\n",
      "WARNING:tsfresh.feature_selection.feature_selector:[test_feature_significance] Feature mag_y__minimum is constant\n",
      "WARNING:tsfresh.feature_selection.feature_selector:[test_feature_significance] Feature mag_y__standard_deviation is constant\n",
      "WARNING:tsfresh.feature_selection.feature_selector:[test_feature_significance] Feature mag_y__mean is constant\n",
      "WARNING:tsfresh.feature_selection.feature_selector:[test_feature_significance] Feature mag_z__standard_deviation is constant\n",
      "WARNING:tsfresh.feature_selection.feature_selector:[test_feature_significance] Feature mag_z__maximum is constant\n",
      "WARNING:tsfresh.feature_selection.significance_tests:[target_binary_feature_binary_test] A binary feature should have only values 1 and 0 (incl. True and False). Instead found {-1.02, -1.01} in feature ''accel_y__maximum''.\n",
      "WARNING:tsfresh.feature_selection.significance_tests:[target_binary_feature_binary_test] A binary feature should have only values 1 and 0 (incl. True and False). Instead found {-0.050000000000000003, -0.059999999999999998} in feature ''accel_x__maximum''.\n",
      "WARNING:tsfresh.feature_selection.feature_selector:[test_feature_significance] Feature accel_y__median is constant\n",
      "WARNING:tsfresh.feature_selection.significance_tests:[target_binary_feature_binary_test] A binary feature should have only values 1 and 0 (incl. True and False). Instead found {-0.050000000000000003, -0.059999999999999998} in feature ''accel_x__median''.\n",
      "WARNING:tsfresh.feature_selection.feature_selector:[test_feature_significance] Feature accel_y__minimum is constant\n",
      "WARNING:tsfresh.feature_selection.significance_tests:[target_binary_feature_binary_test] A binary feature should have only values 1 and 0 (incl. True and False). Instead found {-0.97999999999999998, -0.96999999999999997} in feature ''accel_y__maximum''.\n",
      "WARNING:tsfresh.feature_selection.significance_tests:[target_binary_feature_binary_test] A binary feature should have only values 1 and 0 (incl. True and False). Instead found {0.089999999999999997, 0.10000000000000001} in feature ''accel_z__median''.\n",
      "WARNING:tsfresh.feature_selection.significance_tests:[target_binary_feature_binary_test] A binary feature should have only values 1 and 0 (incl. True and False). Instead found {0.01, -0.01} in feature ''accel_x__maximum''.\n",
      "WARNING:tsfresh.feature_selection.significance_tests:[target_binary_feature_binary_test] A binary feature should have only values 1 and 0 (incl. True and False). Instead found {0.089999999999999997, 0.10000000000000001} in feature ''accel_z__minimum''.\n",
      "WARNING:tsfresh.feature_selection.significance_tests:[target_binary_feature_binary_test] A binary feature should have only values 1 and 0 (incl. True and False). Instead found {-0.98999999999999999, -1.0} in feature ''accel_y__minimum''.\n",
      "WARNING:tsfresh.feature_selection.significance_tests:[target_binary_feature_binary_test] A binary feature should have only values 1 and 0 (incl. True and False). Instead found {0.01, -0.01} in feature ''accel_x__median''.\n",
      "WARNING:tsfresh.feature_selection.feature_selector:[test_feature_significance] Feature accel_y__maximum is constant\n",
      "WARNING:tsfresh.feature_selection.significance_tests:[target_binary_feature_binary_test] A binary feature should have only values 1 and 0 (incl. True and False). Instead found {0.0, 0.38569460791993498} in feature ''EMI_sst_0_range__standard_deviation''.\n",
      "WARNING:tsfresh.feature_selection.significance_tests:[target_binary_feature_binary_test] A binary feature should have only values 1 and 0 (incl. True and False). Instead found {48.0, 49.0} in feature ''mag_y__minimum''.\n",
      "WARNING:tsfresh.feature_selection.significance_tests:[target_binary_feature_binary_test] A binary feature should have only values 1 and 0 (incl. True and False). Instead found {0.0, 0.14876033057851237} in feature ''EMI_sst_0_min__variance''.\n",
      "WARNING:tsfresh.feature_selection.significance_tests:[target_binary_feature_binary_test] A binary feature should have only values 1 and 0 (incl. True and False). Instead found {50.0, 51.0} in feature ''EMI_sst_0_centroid__mean''.\n",
      "WARNING:tsfresh.feature_selection.feature_selector:[test_feature_significance] Feature EMI_sst_0_variance__sum_values is constant\n",
      "WARNING:tsfresh.feature_selection.feature_selector:[test_feature_significance] Feature EMI_sst_0_max__minimum is constant\n",
      "WARNING:tsfresh.feature_selection.significance_tests:[target_binary_feature_binary_test] A binary feature should have only values 1 and 0 (incl. True and False). Instead found {0.0, 0.14876033057851237} in feature ''EMI_sst_0_range__variance''.\n",
      "WARNING:tsfresh.feature_selection.feature_selector:[test_feature_significance] Feature EMI_sst_0_variance__median is constant\n",
      "WARNING:tsfresh.feature_selection.significance_tests:[target_binary_feature_binary_test] A binary feature should have only values 1 and 0 (incl. True and False). Instead found {50.0, 51.0} in feature ''EMI_sst_0_centroid__median''.\n"
     ]
    },
    {
     "name": "stderr",
     "output_type": "stream",
     "text": [
      "WARNING:tsfresh.feature_selection.significance_tests:[target_binary_feature_binary_test] A binary feature should have only values 1 and 0 (incl. True and False). Instead found {50.0, 51.0} in feature ''EMI_sst_0_centroid__maximum''.\n",
      "WARNING:tsfresh.feature_selection.feature_selector:[test_feature_significance] Feature EMI_sst_0_max__mean is constant\n",
      "WARNING:tsfresh.feature_selection.feature_selector:[test_feature_significance] Feature EMI_sst_0_max__maximum is constant\n",
      "WARNING:tsfresh.feature_selection.feature_selector:[test_feature_significance] Feature EMI_sst_0_max__variance is constant\n",
      "WARNING:tsfresh.feature_selection.feature_selector:[test_feature_significance] Feature EMI_sst_0_variance__minimum is constant\n",
      "WARNING:tsfresh.feature_selection.feature_selector:[test_feature_significance] Feature EMI_sst_0_centroid__variance is constant\n",
      "WARNING:tsfresh.feature_selection.feature_selector:[test_feature_significance] Feature EMI_sst_0_variance__standard_deviation is constant\n",
      "WARNING:tsfresh.feature_selection.significance_tests:[target_binary_feature_binary_test] A binary feature should have only values 1 and 0 (incl. True and False). Instead found {50.0, 51.0} in feature ''EMI_sst_0_centroid__minimum''.\n",
      "WARNING:tsfresh.feature_selection.feature_selector:[test_feature_significance] Feature EMI_sst_0_variance__mean is constant\n",
      "WARNING:tsfresh.feature_selection.feature_selector:[test_feature_significance] Feature EMI_sst_0_variance__maximum is constant\n",
      "WARNING:tsfresh.feature_selection.significance_tests:[target_binary_feature_binary_test] A binary feature should have only values 1 and 0 (incl. True and False). Instead found {2.0, 4.0} in feature ''microphone_min__minimum''.\n",
      "WARNING:tsfresh.feature_selection.feature_selector:[test_feature_significance] Feature EMI_sst_0_max__standard_deviation is constant\n",
      "WARNING:tsfresh.feature_selection.significance_tests:[target_binary_feature_binary_test] A binary feature should have only values 1 and 0 (incl. True and False). Instead found {48.0, 49.0} in feature ''mag_y__maximum''.\n",
      "WARNING:tsfresh.feature_selection.significance_tests:[target_binary_feature_binary_test] A binary feature should have only values 1 and 0 (incl. True and False). Instead found {0.0, 0.38569460791993498} in feature ''EMI_sst_0_min__standard_deviation''.\n",
      "WARNING:tsfresh.feature_selection.feature_selector:[test_feature_significance] Feature EMI_sst_0_max__median is constant\n",
      "WARNING:tsfresh.feature_selection.feature_selector:[test_feature_significance] Feature EMI_sst_0_variance__variance is constant\n",
      "WARNING:tsfresh.feature_selection.feature_selector:[test_feature_significance] Feature EMI_sst_0_centroid__standard_deviation is constant\n"
     ]
    }
   ],
   "source": [
    "data_frame_selected = {}\n",
    "\n",
    "for device_id in device_labels:\n",
    "    df = data_frame_features[device_id]\n",
    "    df_labels = device_labels[device_id]\n",
    "    selected = select_features(df, df_labels['label'])\n",
    "    data_frame_selected[device_id] = selected"
   ]
  },
  {
   "cell_type": "markdown",
   "metadata": {},
   "source": [
    "**Save to disk**"
   ]
  },
  {
   "cell_type": "code",
   "execution_count": 18,
   "metadata": {
    "collapsed": true
   },
   "outputs": [],
   "source": [
    "for device_id in data_frame_selected:\n",
    "    selected = data_frame_selected[device_id]\n",
    "    selected.to_pickle(features_output_path + device_id + '_selected.p')"
   ]
  },
  {
   "cell_type": "code",
   "execution_count": 19,
   "metadata": {},
   "outputs": [
    {
     "data": {
      "text/plain": [
       "1"
      ]
     },
     "execution_count": 19,
     "metadata": {},
     "output_type": "execute_result"
    }
   ],
   "source": [
    "1"
   ]
  }
 ],
 "metadata": {
  "kernelspec": {
   "display_name": "Python 3",
   "language": "python",
   "name": "python3"
  },
  "language_info": {
   "codemirror_mode": {
    "name": "ipython",
    "version": 3
   },
   "file_extension": ".py",
   "mimetype": "text/x-python",
   "name": "python",
   "nbconvert_exporter": "python",
   "pygments_lexer": "ipython3",
   "version": "3.5.2"
  }
 },
 "nbformat": 4,
 "nbformat_minor": 1
}
