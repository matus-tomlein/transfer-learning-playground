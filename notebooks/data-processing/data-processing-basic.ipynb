{
 "cells": [
  {
   "cell_type": "code",
   "execution_count": 1,
   "metadata": {},
   "outputs": [
    {
     "name": "stderr",
     "output_type": "stream",
     "text": [
      "/home/giotto/.local/lib/python3.5/site-packages/statsmodels/compat/pandas.py:56: FutureWarning: The pandas.core.datetools module is deprecated and will be removed in a future version. Please use the pandas.tseries module instead.\n",
      "  from pandas.core import datetools\n"
     ]
    }
   ],
   "source": [
    "import pandas as pd\n",
    "import numpy as np\n",
    "import os\n",
    "from tsfresh import extract_features, select_features\n",
    "from tsfresh.utilities.dataframe_functions import impute\n",
    "from pprint import pprint\n",
    "from sqlalchemy import create_engine"
   ]
  },
  {
   "cell_type": "markdown",
   "metadata": {
    "collapsed": true
   },
   "source": [
    "**Dataset configuration**"
   ]
  },
  {
   "cell_type": "code",
   "execution_count": 2,
   "metadata": {
    "collapsed": true
   },
   "outputs": [],
   "source": [
    "dataset = 'robotics-final'\n",
    "\n",
    "dataset_path = '../datasets/' + dataset + '/'\n",
    "output_path = '../datasets/' + dataset + '-complete/'"
   ]
  },
  {
   "cell_type": "code",
   "execution_count": 3,
   "metadata": {
    "collapsed": true
   },
   "outputs": [],
   "source": [
    "devices_to_use = [\n",
    "    '128.237.246.127',\n",
    "    '128.237.248.186',\n",
    "    '128.237.247.134',\n",
    "    '128.237.234.0',\n",
    "    '128.237.237.122',\n",
    "    '128.237.239.234',\n",
    "    '128.237.254.195', # this Mite is only in the Synergy kitchen dataset\n",
    "    'DialogIoT 591844595',\n",
    "    'DialogIoT 591844599',\n",
    "    'DialogIoT 591844765',\n",
    "    'Matrix b827eb96f31a',\n",
    "    'Matrix b827ebe6e0f8',\n",
    "    'Matrix b827eb41f96f',\n",
    "    'TI SensorTag 604',\n",
    "    'TI SensorTag 690',\n",
    "    'TI SensorTag 85',\n",
    "    'xdk_1',\n",
    "    'xdk_2',\n",
    "    'xdk_3',\n",
    "    'TI SensorTag 33',\n",
    "    'TI SensorTag 535',\n",
    "    'TI SensorTag 709'\n",
    "]\n",
    "\n",
    "columns_to_keep = '|'.join([\n",
    "    'ACCEL_',\n",
    "    'MICROPHONE_',\n",
    "    'BAROMETER_',\n",
    "    'COLOT_',\n",
    "])"
   ]
  },
  {
   "cell_type": "markdown",
   "metadata": {},
   "source": [
    "**Merge the individual CSVs into one DataFrame per device for the chosen devices**"
   ]
  },
  {
   "cell_type": "code",
   "execution_count": 4,
   "metadata": {},
   "outputs": [],
   "source": [
    "data_frames = {}\n",
    "\n",
    "for root, dirs, files in os.walk(dataset_path):\n",
    "    for file in files:\n",
    "        device_id = None\n",
    "\n",
    "        for device in devices_to_use:\n",
    "            if file.startswith(device):\n",
    "                device_id = device\n",
    "\n",
    "        if device_id is not None:\n",
    "            df_new = pd.DataFrame.from_csv(dataset_path + file)\n",
    "            df_new.index = pd.to_datetime(df_new.index).round('100ms')\n",
    "\n",
    "            df_new = df_new[df_new.columns.difference(['time'])]\n",
    "            df_new = df_new[~df_new.index.duplicated(keep='first')]\n",
    "\n",
    "            if device_id in data_frames:\n",
    "                df = data_frames[device_id]\n",
    "                df = pd.concat([df, df_new], join='outer', axis=1)\n",
    "                data_frames[device_id] = df\n",
    "            else:\n",
    "                data_frames[device_id] = df_new"
   ]
  },
  {
   "cell_type": "markdown",
   "metadata": {},
   "source": [
    "**Add labels**"
   ]
  },
  {
   "cell_type": "code",
   "execution_count": 5,
   "metadata": {},
   "outputs": [],
   "source": [
    "activities = pd.DataFrame.from_csv(dataset_path + 'activities.csv')\n",
    "labels = pd.DataFrame.from_csv(dataset_path + 'activity_labels.csv')\n",
    "\n",
    "activities.index = pd.to_datetime(activities.index).round('100ms')\n",
    "\n",
    "activities.id = [-1 if id == -1 else labels.label[id] for id in activities.id]\n",
    "activities = activities.rename(columns={'id': 'label'})\n",
    "activities = activities[~activities.index.duplicated(keep='first')]\n",
    "\n",
    "for device_id in data_frames:\n",
    "    df = data_frames[device_id]\n",
    "    df = pd.concat([df, activities], join='outer', axis=1)\n",
    "    data_frames[device_id] = df"
   ]
  },
  {
   "cell_type": "markdown",
   "metadata": {},
   "source": [
    "**Fill missing values**"
   ]
  },
  {
   "cell_type": "code",
   "execution_count": 6,
   "metadata": {
    "collapsed": true
   },
   "outputs": [],
   "source": [
    "for device_id in data_frames:\n",
    "    df = data_frames[device_id]\n",
    "    df = df.ffill().bfill()\n",
    "    data_frames[device_id] = df"
   ]
  },
  {
   "cell_type": "markdown",
   "metadata": {},
   "source": [
    "**Remove unlabeled activities**"
   ]
  },
  {
   "cell_type": "code",
   "execution_count": 7,
   "metadata": {
    "collapsed": true
   },
   "outputs": [],
   "source": [
    "for device_id in data_frames:\n",
    "    df = data_frames[device_id]\n",
    "    df = df.loc[df.label != -1]\n",
    "    data_frames[device_id] = df"
   ]
  },
  {
   "cell_type": "markdown",
   "metadata": {},
   "source": [
    "**Replace timestamp indices with integer ones**"
   ]
  },
  {
   "cell_type": "code",
   "execution_count": 8,
   "metadata": {
    "collapsed": true
   },
   "outputs": [],
   "source": [
    "for device_id in data_frames:\n",
    "    df = data_frames[device_id]\n",
    "    df.insert(0, 'i_index', pd.Series(range(len(df.index)), index=df.index))\n",
    "    df = df.set_index(['i_index'])\n",
    "    data_frames[device_id] = df"
   ]
  },
  {
   "cell_type": "markdown",
   "metadata": {},
   "source": [
    "**Save as Pickle files to disk**"
   ]
  },
  {
   "cell_type": "code",
   "execution_count": 9,
   "metadata": {},
   "outputs": [],
   "source": [
    "for device_id in data_frames:\n",
    "    df = data_frames[device_id]\n",
    "    df.to_pickle(output_path + device_id + '.p')"
   ]
  },
  {
   "cell_type": "code",
   "execution_count": null,
   "metadata": {
    "collapsed": true
   },
   "outputs": [],
   "source": []
  }
 ],
 "metadata": {
  "kernelspec": {
   "display_name": "Python 3",
   "language": "python",
   "name": "python3"
  },
  "language_info": {
   "codemirror_mode": {
    "name": "ipython",
    "version": 3
   },
   "file_extension": ".py",
   "mimetype": "text/x-python",
   "name": "python",
   "nbconvert_exporter": "python",
   "pygments_lexer": "ipython3",
   "version": "3.5.2"
  }
 },
 "nbformat": 4,
 "nbformat_minor": 2
}
