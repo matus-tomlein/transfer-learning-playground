{
 "cells": [
  {
   "cell_type": "code",
   "execution_count": 1,
   "metadata": {
    "collapsed": true
   },
   "outputs": [],
   "source": [
    "import tflscripts\n",
    "from tflscripts import take_percentage_of_data, read_dataset, filter_by_features, X_sort, filter_by_activities_transfer, classify, easy_domain_adaptation_update_dataframes, take_multiple_percentages_of_data, concat_and_reindex, filter_by_activities, read_and_filter_dataset, build_pipeline\n",
    "from sklearn.metrics import accuracy_score\n",
    "import numpy as np\n",
    "from scipy.stats import mode\n",
    "import pandas as pd\n",
    "from sklearn.preprocessing import LabelEncoder\n",
    "from itertools import combinations"
   ]
  },
  {
   "cell_type": "code",
   "execution_count": 3,
   "metadata": {
    "collapsed": true
   },
   "outputs": [],
   "source": [
    "configuration = tflscripts.read_configuration()\n",
    "use_features = 'microphone.*index_mass_quantile'\n",
    "force_columns = None\n",
    "use_columns = None\n",
    "use_activities = [configuration['activities'].index(a) for a in configuration['activity_sets'][0]]\n",
    "\n",
    "training_source_data_ratio = 0.6\n",
    "training_target_data_ratio = 0.6\n",
    "testing_target_data_ratio = 0.4\n",
    "\n",
    "tflscripts.set_dataset_folder('/home/giotto/transfer-learning-playground/datasets/')"
   ]
  },
  {
   "cell_type": "code",
   "execution_count": 4,
   "metadata": {},
   "outputs": [
    {
     "data": {
      "text/plain": [
       "0.45595854922279794"
      ]
     },
     "execution_count": 4,
     "metadata": {},
     "output_type": "execute_result"
    }
   ],
   "source": [
    "df_s1, df_s1_labels = read_and_filter_dataset(\n",
    "        'robotics-final',\n",
    "        'xdk_1',\n",
    "        use_features=use_features,\n",
    "        force_columns=force_columns,\n",
    "        use_columns=use_columns,\n",
    "        use_activities=use_activities,\n",
    "        scale=True,\n",
    "        with_feature_selection=False)\n",
    "\n",
    "df_s2, df_s2_labels = read_and_filter_dataset(\n",
    "        'synergy-final-iter1',\n",
    "        'xdk_1',\n",
    "        use_features=use_features,\n",
    "        force_columns=force_columns,\n",
    "        use_columns=use_columns,\n",
    "        use_activities=use_activities,\n",
    "        scale=True,\n",
    "        with_feature_selection=False)\n",
    "\n",
    "df_s1_labels_adapted = df_s1_labels.copy()\n",
    "df_s1_labels_adapted.label = 0\n",
    "\n",
    "df_s2_labels_adapted = df_s2_labels.copy()\n",
    "df_s2_labels_adapted.label = 1\n",
    "\n",
    "df_s1_s2, df_s1_s2_labels = concat_and_reindex(\n",
    "        [df_s1, df_s2],\n",
    "        [df_s1_labels_adapted, df_s2_labels_adapted])\n",
    "\n",
    "clf_ppl = build_pipeline(df_s1_s2, df_s1_s2_labels, scale=True)\n",
    "\n",
    "ppl_s1 = build_pipeline(df_s1, df_s1_labels, scale=True)\n",
    "ppl_s2 = build_pipeline(df_s2, df_s2_labels, scale=True)\n",
    "\n",
    "df_target, df_target_labels = read_and_filter_dataset(\n",
    "        'scott-final-iter1',\n",
    "        'xdk_1',\n",
    "        use_features=use_features,\n",
    "        force_columns=force_columns,\n",
    "        use_columns=use_columns,\n",
    "        use_activities=use_activities,\n",
    "        scale=True,\n",
    "        with_feature_selection=False)\n",
    "\n",
    "clfs = clf_ppl.predict(df_target)\n",
    "target_values = df_target.values\n",
    "pred = [ppl_s1.predict([target_values[i]])[0] if c == 0 else ppl_s2.predict([target_values[i]])[0] for i, c in enumerate(clfs)]\n",
    "\n",
    "accuracy_score(df_target_labels['label'], pred)"
   ]
  },
  {
   "cell_type": "code",
   "execution_count": 5,
   "metadata": {},
   "outputs": [
    {
     "data": {
      "text/plain": [
       "0.4689119170984456"
      ]
     },
     "execution_count": 5,
     "metadata": {},
     "output_type": "execute_result"
    }
   ],
   "source": [
    "accuracy_score(df_target_labels['label'], ppl_s1.predict(df_target))"
   ]
  },
  {
   "cell_type": "code",
   "execution_count": 6,
   "metadata": {},
   "outputs": [
    {
     "data": {
      "text/plain": [
       "0.43005181347150256"
      ]
     },
     "execution_count": 6,
     "metadata": {},
     "output_type": "execute_result"
    }
   ],
   "source": [
    "accuracy_score(df_target_labels['label'], ppl_s2.predict(df_target))"
   ]
  }
 ],
 "metadata": {
  "kernelspec": {
   "display_name": "Python 3",
   "language": "python",
   "name": "python3"
  },
  "language_info": {
   "codemirror_mode": {
    "name": "ipython",
    "version": 3
   },
   "file_extension": ".py",
   "mimetype": "text/x-python",
   "name": "python",
   "nbconvert_exporter": "python",
   "pygments_lexer": "ipython3",
   "version": "3.5.2"
  }
 },
 "nbformat": 4,
 "nbformat_minor": 2
}
