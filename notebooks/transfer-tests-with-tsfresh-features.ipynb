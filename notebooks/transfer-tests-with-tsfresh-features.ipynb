{
 "cells": [
  {
   "cell_type": "code",
   "execution_count": 1,
   "metadata": {
    "collapsed": true
   },
   "outputs": [],
   "source": [
    "%matplotlib inline\n",
    "import matplotlib\n",
    "import matplotlib.pyplot as plt\n",
    "\n",
    "width = 12\n",
    "height = 7\n",
    "plt.rcParams[\"figure.figsize\"] = (width, height)\n",
    "\n",
    "\n",
    "from sqlalchemy import create_engine\n",
    "import pandas as pd\n",
    "import numpy as np\n",
    "import tflscripts\n",
    "import json\n",
    "from sklearn.metrics import accuracy_score\n",
    "from sklearn.pipeline import Pipeline\n",
    "from sklearn.preprocessing import Imputer\n",
    "from sklearn.linear_model import LogisticRegression\n",
    "from sklearn.multiclass import OneVsRestClassifier\n",
    "from sklearn.ensemble import RandomForestClassifier\n",
    "from sklearn import svm"
   ]
  },
  {
   "cell_type": "code",
   "execution_count": 2,
   "metadata": {
    "collapsed": true
   },
   "outputs": [],
   "source": [
    "from sklearn.preprocessing import StandardScaler\n",
    "\n",
    "\n",
    "def read_and_filter_dataset(datasets, devices,\n",
    "                            use_features=None,\n",
    "                            force_columns=None,\n",
    "                            use_columns=None,\n",
    "                            use_activities=None,\n",
    "                            scale=True,\n",
    "                            with_feature_selection=False):\n",
    "    # read datasets\n",
    "    df, df_labels = tflscripts.read_dataset(\n",
    "            datasets,\n",
    "            devices,\n",
    "            with_feature_selection=with_feature_selection)\n",
    "    df_labels = df_labels.loc[df_labels.index.isin(df.index)]\n",
    "    df = df.loc[df.index.isin(df_labels.index)]\n",
    "\n",
    "    # filter features\n",
    "    if use_features is not None:\n",
    "        df, __ = tflscripts.filter_by_features(df_source=df,\n",
    "                                    use_features=use_features)\n",
    "        if df is None:\n",
    "            return None, None\n",
    "\n",
    "    if force_columns is not None:\n",
    "        use_columns = force_columns\n",
    "        tflscripts.add_empty_columns_if_missing(df, force_columns)\n",
    "\n",
    "    # filter specific columns\n",
    "    if use_columns is not None:\n",
    "        try:\n",
    "            df = df[use_columns]\n",
    "        except KeyError as ex:\n",
    "            print('No such columns found')\n",
    "            return None, None\n",
    "\n",
    "#     null_df = df.loc[df_labels.label == configuration['activities'].index('Null')]\n",
    "#     null_mean = null_df[null_df.columns].mean()\n",
    "#     null_std = null_df[null_df.columns].std()\n",
    "\n",
    "    # filter activities\n",
    "    if use_activities is not None:\n",
    "        df, df_labels = tflscripts.filter_by_activities(df, df_labels, use_activities)\n",
    "        if df is None:\n",
    "            print('Activities not found')\n",
    "            return None, None\n",
    "    # sort feature columns\n",
    "    df = tflscripts.X_sort(df)\n",
    "\n",
    "    # scale domains\n",
    "    if scale:\n",
    "        df[df.columns] = StandardScaler().fit_transform(df[df.columns])\n",
    "#         df[df.columns] = (df[df.columns] - null_mean) / null_std\n",
    "#         df = df.replace([np.inf, -np.inf], np.nan)\n",
    "    return df, df_labels\n"
   ]
  },
  {
   "cell_type": "code",
   "execution_count": 3,
   "metadata": {
    "collapsed": true
   },
   "outputs": [],
   "source": [
    "activities = [\n",
    "    \"Dishes\",\n",
    "    \"Microwave\",\n",
    "    \"Coffee\",\n",
    "    \"Kettle\",\n",
    "    \"Chopping food\",\n",
    "    \"Conversation\",\n",
    "    \"Eating popcorn\",\n",
    "    \"Knocking\",\n",
    "    \"Phone vibrating\"\n",
    "]\n",
    "\n",
    "tests = [\n",
    "    ['synergy-final-iter1', '128.237.254.195', 'synergy-final-iter2', '128.237.248.186'],\n",
    "    ['synergy-final-iter1', '128.237.254.195', 'synergy-final-iter1', '128.237.246.127'],\n",
    "    ['scott-final-iter1', '128.237.247.134', 'synergy-final-iter2', '128.237.248.186'],\n",
    "    ['scott-final-iter1', '128.237.247.134', 'scott-final-iter1', '128.237.248.186'],\n",
    "    ['robotics-final', '128.237.246.127', 'scott-final-iter1', '128.237.247.134'],\n",
    "    ['robotics-final', '128.237.246.127', 'robotics-final', '128.237.247.134'],\n",
    "]\n",
    "\n",
    "test_labels = [\n",
    "    'Synergy, sink, replica',\n",
    "    'Synergy (sink) to Synergy (coffee)',\n",
    "    'Scott (right) to Synergy (sink)',\n",
    "    'Scott (right) to Scott (left)',\n",
    "    'Robotics (coffee) to Scott (right)',\n",
    "    'Robotics (coffee) to Robotics (sink)',\n",
    "]\n",
    "\n",
    "\n",
    "configuration = tflscripts.read_configuration()\n",
    "activities_i = [configuration['activities'].index(a) for a in activities]\n",
    "\n",
    "\n",
    "use_features = \"microphone\""
   ]
  },
  {
   "cell_type": "code",
   "execution_count": 8,
   "metadata": {},
   "outputs": [],
   "source": [
    "results = []\n",
    "accuracies = []\n",
    "\n",
    "for n, test in enumerate(tests):\n",
    "    source_dataset = test[0]\n",
    "    source_device = test[1]\n",
    "    target_dataset = test[2]\n",
    "    target_device = test[3]\n",
    "\n",
    "    df_source, df_source_labels = read_and_filter_dataset(\n",
    "            source_dataset + '-2s',\n",
    "            source_device,\n",
    "            use_features=use_features,\n",
    "            use_activities=activities_i,\n",
    "            scale=True,\n",
    "            with_feature_selection=False)\n",
    "\n",
    "    df_target, df_target_labels = read_and_filter_dataset(\n",
    "            target_dataset + '-2s',\n",
    "            target_device,\n",
    "            use_features=use_features,\n",
    "            use_activities=activities_i,\n",
    "            scale=True,\n",
    "            with_feature_selection=False)\n",
    "\n",
    "    if len(df_source.columns) != len(df_target.columns):\n",
    "        continue\n",
    "\n",
    "    ppl = Pipeline([\n",
    "        ('impute', Imputer()),\n",
    "        ('clf', svm.SVC(kernel='linear', decision_function_shape='ovr'))\n",
    "    ])\n",
    "\n",
    "    ppl.fit(df_source, df_source_labels['label'])\n",
    "\n",
    "    predicted = ppl.predict(df_target)\n",
    "    y_test = df_target_labels['label'].values\n",
    "\n",
    "    accuracy = accuracy_score(y_test, predicted)\n",
    "    accuracies.append([n, accuracy])\n",
    "\n",
    "    for i in np.unique(y_test):\n",
    "        activity = configuration['activities'][int(i)]\n",
    "        correct = len([x for x in predicted[y_test == i] if x == i])\n",
    "        incorrect = len([x for x in predicted[y_test == i] if x != i])\n",
    "        results.append([n, activity, correct, incorrect])"
   ]
  },
  {
   "cell_type": "code",
   "execution_count": 9,
   "metadata": {},
   "outputs": [],
   "source": [
    "results_df = pd.DataFrame(results)\n",
    "results_df.columns = ['test', 'activity', 'correct', 'incorrect']\n",
    "results_df = results_df.sort_values('activity')\n",
    "results_df['accuracy'] = results_df['correct'] / (results_df['correct'] + results_df['incorrect'])\n",
    "results_df['test_label'] = [test_labels[int(i)] for i in results_df['test']]"
   ]
  },
  {
   "cell_type": "code",
   "execution_count": 10,
   "metadata": {},
   "outputs": [
    {
     "data": {
      "text/plain": [
       "<matplotlib.text.Text at 0x7f845b908dd8>"
      ]
     },
     "execution_count": 10,
     "metadata": {},
     "output_type": "execute_result"
    },
    {
     "data": {
      "image/png": "[encoded data removed]",
      "text/plain": [
       "<matplotlib.figure.Figure at 0x7f8459131898>"
      ]
     },
     "metadata": {},
     "output_type": "display_data"
    }
   ],
   "source": [
    "results_df['accuracy'] = results_df['correct'] / (results_df['correct'] + results_df['incorrect'])\n",
    "grouped_results = pd.DataFrame(results_df.groupby(['activity', 'test_label'])['accuracy'].mean())\n",
    "grouped_results = grouped_results.reset_index()\n",
    "grouped_results = grouped_results.pivot(index='test_label', columns='activity', values='accuracy')\n",
    "grouped_results.plot.bar()\n",
    "plt.title('With all sensors on Mites')"
   ]
  }
 ],
 "metadata": {
  "kernelspec": {
   "display_name": "Python 3",
   "language": "python",
   "name": "python3"
  },
  "language_info": {
   "codemirror_mode": {
    "name": "ipython",
    "version": 3
   },
   "file_extension": ".py",
   "mimetype": "text/x-python",
   "name": "python",
   "nbconvert_exporter": "python",
   "pygments_lexer": "ipython3",
   "version": "3.5.2"
  }
 },
 "nbformat": 4,
 "nbformat_minor": 2
}
