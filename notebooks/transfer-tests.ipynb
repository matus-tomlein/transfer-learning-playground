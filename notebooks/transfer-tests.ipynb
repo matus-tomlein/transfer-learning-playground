{
 "cells": [
  {
   "cell_type": "code",
   "execution_count": 569,
   "metadata": {
    "collapsed": true,
    "deletable": true,
    "editable": true
   },
   "outputs": [],
   "source": [
    "import pandas as pd\n",
    "import numpy as np\n",
    "from sklearn.ensemble import RandomForestClassifier\n",
    "from sklearn import svm\n",
    "from sklearn.pipeline import Pipeline\n",
    "from sklearn.preprocessing import Imputer\n",
    "from sklearn.linear_model import LogisticRegression\n",
    "from sklearn.metrics import classification_report, confusion_matrix, accuracy_score\n",
    "from sklearn.preprocessing import StandardScaler\n",
    "from sklearn.naive_bayes import GaussianNB, MultinomialNB, BernoulliNB\n",
    "from tsfresh import select_features"
   ]
  },
  {
   "cell_type": "code",
   "execution_count": 570,
   "metadata": {
    "collapsed": false,
    "deletable": true,
    "editable": true
   },
   "outputs": [],
   "source": [
    "dataset_path = '../datasets/synergy-10-min-features/'\n",
    "\n",
    "target = 'Matrix b827eb96f31a'\n",
    "# target = 'Matrix b827ebe6e0f8'\n",
    "source = '128.237.248.186'\n",
    "# target = '128.237.246.127'\n",
    "\n",
    "df_train = pd.read_pickle(dataset_path + source + '.p')\n",
    "df_test = pd.read_pickle(dataset_path + target + '.p')\n",
    "df_labels = pd.DataFrame.from_csv(dataset_path + 'activity_labels.csv')"
   ]
  },
  {
   "cell_type": "code",
   "execution_count": 571,
   "metadata": {
    "collapsed": true,
    "deletable": true,
    "editable": true
   },
   "outputs": [],
   "source": [
    "features = \"microphone\"\n",
    "df_train = df_train.filter(regex=(features))\n",
    "df_test = df_test.filter(regex=(features))"
   ]
  },
  {
   "cell_type": "code",
   "execution_count": 572,
   "metadata": {
    "collapsed": false
   },
   "outputs": [
    {
     "name": "stderr",
     "output_type": "stream",
     "text": [
      "Feature Selection: 100%|██████████| 222/222 [00:00<00:00, 2684.04it/s]\n"
     ]
    }
   ],
   "source": [
    "df_train = select_features(df_train, df_labels['label'])\n",
    "df_test = df_test[df_train.columns]"
   ]
  },
  {
   "cell_type": "code",
   "execution_count": 573,
   "metadata": {
    "collapsed": true,
    "deletable": true,
    "editable": true
   },
   "outputs": [],
   "source": [
    "def test(training_data_ratio):\n",
    "    # train test split\n",
    "    indexes = df_labels.index.tolist()\n",
    "    np.random.shuffle(indexes)\n",
    "    split = round(0.7*len(indexes))\n",
    "\n",
    "    training_data_split = round(training_data_ratio * split)\n",
    "\n",
    "    training_i = indexes[:training_data_split]\n",
    "    testing_i = indexes[split:]\n",
    "\n",
    "    X_train = df_train.loc[df_train.index.isin(training_i)]\n",
    "    X_test = df_test.loc[df_test.index.isin(testing_i)]\n",
    "\n",
    "    y_train = df_labels.loc[df_labels.index.isin(training_i)]\n",
    "    y_test = df_labels.loc[df_labels.index.isin(testing_i)]\n",
    "    y_train = y_train['label']\n",
    "    y_test = y_test['label']\n",
    "\n",
    "    X_train = X_train.reindex_axis(sorted(X_train.columns), axis=1)\n",
    "    X_test = X_test.reindex_axis(sorted(X_test.columns), axis=1)\n",
    "\n",
    "    ppl = Pipeline([\n",
    "        ('impute', Imputer()),\n",
    "        ('scale', StandardScaler()),\n",
    "        ('clf', RandomForestClassifier())\n",
    "    ])\n",
    "\n",
    "    ppl.fit(X_train, y_train)\n",
    "    y_pred = ppl.predict(X_test)\n",
    "\n",
    "    return accuracy_score(y_test, y_pred)"
   ]
  },
  {
   "cell_type": "code",
   "execution_count": 574,
   "metadata": {
    "collapsed": false,
    "deletable": true,
    "editable": true
   },
   "outputs": [
    {
     "name": "stdout",
     "output_type": "stream",
     "text": [
      "0.216904761905\n",
      "0.206428571429\n",
      "0.207142857143\n",
      "0.221666666667\n",
      "0.207857142857\n",
      "0.197380952381\n",
      "0.182619047619\n",
      "0.199285714286\n",
      "0.172619047619\n",
      "0.187142857143\n"
     ]
    }
   ],
   "source": [
    "for i in range(10):\n",
    "    training_data_ratio = (i + 1) / 10.0\n",
    "    accuracies = []\n",
    "    for _ in range(20):\n",
    "        accuracy = test(training_data_ratio)\n",
    "        accuracies.append(accuracy)\n",
    "    print(str(np.average(accuracies)))"
   ]
  },
  {
   "cell_type": "code",
   "execution_count": null,
   "metadata": {
    "collapsed": true,
    "deletable": true,
    "editable": true
   },
   "outputs": [],
   "source": []
  }
 ],
 "metadata": {
  "kernelspec": {
   "display_name": "Python 3",
   "language": "python",
   "name": "python3"
  },
  "language_info": {
   "codemirror_mode": {
    "name": "ipython",
    "version": 3
   },
   "file_extension": ".py",
   "mimetype": "text/x-python",
   "name": "python",
   "nbconvert_exporter": "python",
   "pygments_lexer": "ipython3",
   "version": "3.5.2"
  }
 },
 "nbformat": 4,
 "nbformat_minor": 2
}
