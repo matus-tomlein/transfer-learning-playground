{
 "cells": [
  {
   "cell_type": "code",
   "execution_count": 1,
   "metadata": {},
   "outputs": [],
   "source": [
    "%matplotlib inline\n",
    "import matplotlib\n",
    "import matplotlib.pyplot as plt\n",
    "\n",
    "width = 12\n",
    "height = 7\n",
    "plt.rcParams[\"figure.figsize\"] = (width, height)\n",
    "\n",
    "\n",
    "from sqlalchemy import create_engine\n",
    "import pandas as pd\n",
    "import numpy as np\n",
    "import tflscripts\n",
    "import json\n",
    "from sklearn.metrics import accuracy_score\n",
    "from sklearn.pipeline import Pipeline\n",
    "from sklearn.preprocessing import Imputer\n",
    "from sklearn.linear_model import LogisticRegression\n",
    "from sklearn.multiclass import OneVsRestClassifier\n",
    "from sklearn.ensemble import RandomForestClassifier\n",
    "from sklearn import svm"
   ]
  },
  {
   "cell_type": "code",
   "execution_count": 2,
   "metadata": {
    "collapsed": true
   },
   "outputs": [],
   "source": [
    "from sklearn.preprocessing import StandardScaler\n",
    "\n",
    "\n",
    "def read_and_filter_dataset(datasets, devices,\n",
    "                            use_features=None,\n",
    "                            force_columns=None,\n",
    "                            use_columns=None,\n",
    "                            use_activities=None,\n",
    "                            scale=True,\n",
    "                            with_feature_selection=False):\n",
    "    # read datasets\n",
    "    df, df_labels = tflscripts.read_dataset(\n",
    "            datasets,\n",
    "            devices,\n",
    "            with_feature_selection=with_feature_selection)\n",
    "    df_labels = df_labels.loc[df_labels.index.isin(df.index)]\n",
    "    df = df.loc[df.index.isin(df_labels.index)]\n",
    "\n",
    "    # filter features\n",
    "    if use_features is not None:\n",
    "        df, __ = tflscripts.filter_by_features(df_source=df,\n",
    "                                    use_features=use_features)\n",
    "        if df is None:\n",
    "            return None, None\n",
    "\n",
    "    if force_columns is not None:\n",
    "        use_columns = force_columns\n",
    "        tflscripts.add_empty_columns_if_missing(df, force_columns)\n",
    "\n",
    "    # filter specific columns\n",
    "    if use_columns is not None:\n",
    "        try:\n",
    "            df = df[use_columns]\n",
    "        except KeyError as ex:\n",
    "            print('No such columns found')\n",
    "            return None, None\n",
    "\n",
    "#     null_df = df.loc[df_labels.label == configuration['activities'].index('Null')]\n",
    "#     null_mean = null_df[null_df.columns].mean()\n",
    "#     null_std = null_df[null_df.columns].std()\n",
    "\n",
    "    # filter activities\n",
    "    if use_activities is not None:\n",
    "        df, df_labels = tflscripts.filter_by_activities(df, df_labels, use_activities)\n",
    "        if df is None:\n",
    "            print('Activities not found')\n",
    "            return None, None\n",
    "    # sort feature columns\n",
    "    df = tflscripts.X_sort(df)\n",
    "\n",
    "    # scale domains\n",
    "    if scale:\n",
    "        df[df.columns] = StandardScaler().fit_transform(df[df.columns])\n",
    "#         df[df.columns] = (df[df.columns] - null_mean) / null_std\n",
    "#         df = df.replace([np.inf, -np.inf], np.nan)\n",
    "    return df, df_labels"
   ]
  },
  {
   "cell_type": "code",
   "execution_count": 3,
   "metadata": {},
   "outputs": [],
   "source": [
    "activities = [\n",
    "    \"Dishes\",\n",
    "    \"Microwave\",\n",
    "    \"Coffee\",\n",
    "    \"Kettle\",\n",
    "    \"Chopping food\",\n",
    "    \"Conversation\",\n",
    "    \"Eating popcorn\",\n",
    "#     \"Knocking\",\n",
    "    \"Phone vibrating\"\n",
    "]\n",
    "\n",
    "configuration = tflscripts.read_configuration()\n",
    "activities_i = [configuration['activities'].index(a) for a in activities]\n",
    "\n",
    "use_features = \"^(?!mag|light)\""
   ]
  },
  {
   "cell_type": "code",
   "execution_count": 6,
   "metadata": {},
   "outputs": [
    {
     "name": "stdout",
     "output_type": "stream",
     "text": [
      "0.489108910891\n"
     ]
    }
   ],
   "source": [
    "source_dataset = 'synergy-final-iter1'\n",
    "source_device = '128.237.254.195'\n",
    "target_dataset = 'synergy-final-iter2'\n",
    "target_device = '128.237.248.186'\n",
    "use_features = '.*'\n",
    "\n",
    "df_source, df_source_labels = read_and_filter_dataset(\n",
    "        source_dataset + '-2s',\n",
    "        source_device,\n",
    "        use_features=use_features,\n",
    "        use_activities=activities_i,\n",
    "        scale=True,\n",
    "        with_feature_selection=False)\n",
    "\n",
    "df_target, df_target_labels = read_and_filter_dataset(\n",
    "        target_dataset + '-2s',\n",
    "        target_device,\n",
    "        use_features=use_features,\n",
    "        use_activities=activities_i,\n",
    "        scale=True,\n",
    "        with_feature_selection=False)\n",
    "\n",
    "ppl = Pipeline([\n",
    "    ('impute', Imputer()),\n",
    "    ('clf', svm.SVC(kernel='linear', decision_function_shape='ovr'))\n",
    "])\n",
    "\n",
    "ppl.fit(df_source, df_source_labels['label'])\n",
    "\n",
    "predicted = ppl.predict(df_target)\n",
    "y_test = df_target_labels['label'].values\n",
    "\n",
    "accuracy = accuracy_score(y_test, predicted)\n",
    "print(accuracy)\n",
    "\n",
    "results = []\n",
    "for i in np.unique(y_test):\n",
    "    activity = configuration['activities'][int(i)]\n",
    "    correct = len([x for x in predicted[y_test == i] if x == i])\n",
    "    incorrect = len([x for x in predicted[y_test == i] if x != i])\n",
    "    results.append([activity, correct, incorrect])"
   ]
  },
  {
   "cell_type": "code",
   "execution_count": 5,
   "metadata": {},
   "outputs": [
    {
     "data": {
      "text/plain": [
       "<matplotlib.axes._subplots.AxesSubplot at 0x7fadd0d52780>"
      ]
     },
     "execution_count": 5,
     "metadata": {},
     "output_type": "execute_result"
    },
    {
     "data": {
      "image/png": "[encoded data removed]",
      "text/plain": [
       "<matplotlib.figure.Figure at 0x7fadd0d52a90>"
      ]
     },
     "metadata": {},
     "output_type": "display_data"
    }
   ],
   "source": [
    "results_df = pd.DataFrame(results)\n",
    "results_df.columns = ['activity', 'correct', 'incorrect']\n",
    "results_df = results_df.sort_values('activity')\n",
    "results_df = results_df.set_index('activity')\n",
    "\n",
    "results_df.plot.bar()"
   ]
  },
  {
   "cell_type": "code",
   "execution_count": 146,
   "metadata": {},
   "outputs": [
    {
     "name": "stdout",
     "output_type": "stream",
     "text": [
      "0.944510503369\n"
     ]
    },
    {
     "data": {
      "text/plain": [
       "<matplotlib.axes._subplots.AxesSubplot at 0x7f4a685422e8>"
      ]
     },
     "execution_count": 146,
     "metadata": {},
     "output_type": "execute_result"
    },
    {
     "data": {
      "image/png": "[encoded data removed]",
      "text/plain": [
       "<matplotlib.figure.Figure at 0x7f4a6853db70>"
      ]
     },
     "metadata": {},
     "output_type": "display_data"
    }
   ],
   "source": [
    "dataset = 'synergy-final-iter2'\n",
    "device = '128.237.248.186'\n",
    "dataset_2 = 'synergy-final-iter1'\n",
    "device_2 = '128.237.254.195'\n",
    "dataset_3 = 'synergy-final-iter3'\n",
    "device_3 = '128.237.237.122'\n",
    "\n",
    "df_1, df_1_labels = read_and_filter_dataset(\n",
    "        dataset + '-2s',\n",
    "        device,\n",
    "        use_features='.*',\n",
    "        use_activities=activities_i,\n",
    "        scale=True,\n",
    "        with_feature_selection=False)\n",
    "\n",
    "df_2, df_2_labels = read_and_filter_dataset(\n",
    "        dataset_2 + '-2s',\n",
    "        device_2,\n",
    "        use_features='.*',\n",
    "        use_activities=activities_i,\n",
    "        scale=True,\n",
    "        with_feature_selection=False)\n",
    "\n",
    "df_3, df_3_labels = read_and_filter_dataset(\n",
    "        dataset_3 + '-2s',\n",
    "        device_3,\n",
    "        use_features='.*',\n",
    "        use_activities=activities_i,\n",
    "        scale=True,\n",
    "        with_feature_selection=False)\n",
    "\n",
    "\n",
    "df = pd.concat([df_1, df_2, df_3])\n",
    "df_labels = pd.concat([df_1_labels, df_2_labels, df_3_labels])\n",
    "\n",
    "dfs = tflscripts.take_multiple_percentages_of_data(\n",
    "        df, df_labels,\n",
    "        [0.7, 0.3])\n",
    "\n",
    "X_train, y_train = dfs[0]\n",
    "X_test, y_test = dfs[1]\n",
    "\n",
    "y_train = y_train['label']\n",
    "y_test = y_test['label']\n",
    "\n",
    "ppl = Pipeline([\n",
    "    ('impute', Imputer()),\n",
    "    ('clf', svm.LinearSVC())\n",
    "])\n",
    "\n",
    "ppl.fit(X_train, y_train)\n",
    "\n",
    "predicted = ppl.predict(X_test)\n",
    "\n",
    "accuracy = accuracy_score(y_test, predicted)\n",
    "print(accuracy)\n",
    "\n",
    "results = []\n",
    "for i in np.unique(y_test):\n",
    "    activity = configuration['activities'][int(i)]\n",
    "    correct = len([x for x in predicted[y_test == i] if x == i])\n",
    "    incorrect = len([x for x in predicted[y_test == i] if x != i])\n",
    "    results.append([activity, correct, incorrect])\n",
    "\n",
    "results_df = pd.DataFrame(results)\n",
    "results_df.columns = ['activity', 'correct', 'incorrect']\n",
    "results_df = results_df.sort_values('activity')\n",
    "results_df = results_df.set_index('activity')\n",
    "\n",
    "results_df.plot.bar()"
   ]
  },
  {
   "cell_type": "code",
   "execution_count": 154,
   "metadata": {},
   "outputs": [
    {
     "name": "stdout",
     "output_type": "stream",
     "text": [
      "0.289567068843\n"
     ]
    },
    {
     "data": {
      "text/plain": [
       "<matplotlib.axes._subplots.AxesSubplot at 0x7f4a678848d0>"
      ]
     },
     "execution_count": 154,
     "metadata": {},
     "output_type": "execute_result"
    },
    {
     "data": {
      "image/png": "[encoded data removed]",
      "text/plain": [
       "<matplotlib.figure.Figure at 0x7f4a67884080>"
      ]
     },
     "metadata": {},
     "output_type": "display_data"
    }
   ],
   "source": [
    "dataset_1 = 'synergy-final-iter2-2s'\n",
    "device_1 = '128.237.248.186'\n",
    "dataset_2 = 'synergy-final-iter1-2s'\n",
    "device_2 = '128.237.254.195'\n",
    "dataset_3 = 'synergy-final-iter3-2s'\n",
    "device_3 = '128.237.237.122'\n",
    "dataset_4 = 'scott-final-iter1-2s'\n",
    "device_4 = '128.237.248.186'\n",
    "\n",
    "df_1, df_1_labels = read_and_filter_dataset(\n",
    "        dataset_1,\n",
    "        device_1,\n",
    "        use_features='.*',\n",
    "        use_activities=activities_i,\n",
    "        scale=True,\n",
    "        with_feature_selection=False)\n",
    "\n",
    "df_2, df_2_labels = read_and_filter_dataset(\n",
    "        dataset_2,\n",
    "        device_2,\n",
    "        use_features='.*',\n",
    "        use_activities=activities_i,\n",
    "        scale=True,\n",
    "        with_feature_selection=False)\n",
    "\n",
    "df_3, df_3_labels = read_and_filter_dataset(\n",
    "        dataset_3,\n",
    "        device_3,\n",
    "        use_features='.*',\n",
    "        use_activities=activities_i,\n",
    "        scale=True,\n",
    "        with_feature_selection=False)\n",
    "\n",
    "\n",
    "\n",
    "df = pd.concat([df_1, df_2, df_3])\n",
    "df_labels = pd.concat([df_1_labels, df_2_labels, df_3_labels])\n",
    "\n",
    "ppl = Pipeline([\n",
    "    ('impute', Imputer()),\n",
    "    ('clf', svm.LinearSVC())\n",
    "])\n",
    "\n",
    "ppl.fit(df, df_labels['label'])\n",
    "\n",
    "df_target, df_target_labels = read_and_filter_dataset(\n",
    "        dataset_4,\n",
    "        device_4,\n",
    "        use_features='.*',\n",
    "        use_activities=activities_i,\n",
    "        scale=True,\n",
    "        with_feature_selection=False)\n",
    "\n",
    "predicted = ppl.predict(df_target)\n",
    "y_test = df_target_labels['label']\n",
    "\n",
    "accuracy = accuracy_score(y_test, predicted)\n",
    "print(accuracy)\n",
    "\n",
    "results = []\n",
    "for i in np.unique(y_test):\n",
    "    activity = configuration['activities'][int(i)]\n",
    "    correct = len([x for x in predicted[y_test == i] if x == i])\n",
    "    incorrect = len([x for x in predicted[y_test == i] if x != i])\n",
    "    results.append([activity, correct, incorrect])\n",
    "\n",
    "results_df = pd.DataFrame(results)\n",
    "results_df.columns = ['activity', 'correct', 'incorrect']\n",
    "results_df = results_df.sort_values('activity')\n",
    "results_df = results_df.set_index('activity')\n",
    "\n",
    "results_df.plot.bar()"
   ]
  }
 ],
 "metadata": {
  "kernelspec": {
   "display_name": "Python 3",
   "language": "python",
   "name": "python3"
  },
  "language_info": {
   "codemirror_mode": {
    "name": "ipython",
    "version": 3
   },
   "file_extension": ".py",
   "mimetype": "text/x-python",
   "name": "python",
   "nbconvert_exporter": "python",
   "pygments_lexer": "ipython3",
   "version": "3.5.2"
  }
 },
 "nbformat": 4,
 "nbformat_minor": 2
}
