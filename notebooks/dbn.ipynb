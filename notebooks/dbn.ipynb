{
 "cells": [
  {
   "cell_type": "code",
   "execution_count": 45,
   "metadata": {},
   "outputs": [],
   "source": [
    "import numpy as np\n",
    "\n",
    "np.random.seed(1337)  # for reproducibility\n",
    "from sklearn.datasets import load_digits\n",
    "from sklearn.model_selection import train_test_split\n",
    "from sklearn.metrics.classification import accuracy_score\n",
    "\n",
    "from dbn import SupervisedDBNClassification\n",
    "# use \"from dbn import SupervisedDBNClassification\" for computations on CPU with numpy\n",
    "\n",
    "import pandas as pd"
   ]
  },
  {
   "cell_type": "code",
   "execution_count": 46,
   "metadata": {},
   "outputs": [],
   "source": [
    "dataset_path = '../datasets/synergy-final-iter1-features/'\n",
    "\n",
    "device = 'xdk_1'\n",
    "\n",
    "df = pd.read_pickle(dataset_path + device + '.p')\n",
    "df_labels = pd.read_pickle(dataset_path + device + '_labels.p')\n",
    "\n",
    "# filter activities\n",
    "use_activities = [0,1,2,3,4,5,6,7]\n",
    "df_labels = df_labels.loc[df_labels.label.isin(use_activities)]\n",
    "df = df.loc[df.index.isin(df_labels.index)]\n",
    "\n",
    "df = df.filter(regex='accel_.*index_mass_quantile')\n",
    "\n",
    "X = df.values\n",
    "y = df_labels['label'].values"
   ]
  },
  {
   "cell_type": "code",
   "execution_count": 47,
   "metadata": {},
   "outputs": [
    {
     "data": {
      "text/plain": [
       "array([[ 583.        ,  583.10204082,  583.20408163, ...,  583.6122449 ,\n",
       "         583.71428571,  583.81632653],\n",
       "       [ 531.28571429,  531.3877551 ,  531.48979592, ...,  531.93877551,\n",
       "         532.02040816,  532.08163265],\n",
       "       [ 104.56862745,  104.66666667,  104.76470588, ...,  105.1372549 ,\n",
       "         105.25490196,  105.37254902],\n",
       "       ..., \n",
       "       [ 588.        ,  588.10204082,  588.20408163, ...,  588.55102041,\n",
       "         588.69387755,  588.79591837],\n",
       "       [ 195.30612245,  195.40816327,  195.51020408, ...,  195.89795918,\n",
       "         195.97959184,  196.10204082],\n",
       "       [ 942.02040816,  942.12244898,  942.2244898 , ...,  942.59183673,\n",
       "         942.71428571,  942.81632653]])"
      ]
     },
     "execution_count": 47,
     "metadata": {},
     "output_type": "execute_result"
    }
   ],
   "source": [
    "# Splitting data\n",
    "X_train, X_test, y_train, y_test = train_test_split(X, y, test_size=0.2, random_state=0)\n",
    "\n",
    "X_train"
   ]
  },
  {
   "cell_type": "code",
   "execution_count": 60,
   "metadata": {},
   "outputs": [
    {
     "name": "stdout",
     "output_type": "stream",
     "text": [
      "[START] Pre-training step:\n",
      ">> Epoch 1 finished \tRBM Reconstruction error 6582303.791394\n",
      ">> Epoch 2 finished \tRBM Reconstruction error 6582303.791394\n",
      ">> Epoch 3 finished \tRBM Reconstruction error 5597292.692576\n",
      ">> Epoch 4 finished \tRBM Reconstruction error 4257508133150872567808.000000\n",
      ">> Epoch 5 finished \tRBM Reconstruction error 3724856.189623\n",
      ">> Epoch 6 finished \tRBM Reconstruction error 2903755.893008\n",
      ">> Epoch 7 finished \tRBM Reconstruction error 2507208.309773\n",
      ">> Epoch 8 finished \tRBM Reconstruction error 2327019.034231\n",
      ">> Epoch 9 finished \tRBM Reconstruction error 2240572.936694\n",
      ">> Epoch 10 finished \tRBM Reconstruction error 2200576.626904\n",
      ">> Epoch 1 finished \tRBM Reconstruction error 0.004237\n",
      ">> Epoch 2 finished \tRBM Reconstruction error 0.001781\n",
      ">> Epoch 3 finished \tRBM Reconstruction error 0.000694\n",
      ">> Epoch 4 finished \tRBM Reconstruction error 0.000214\n",
      ">> Epoch 5 finished \tRBM Reconstruction error 0.000054\n",
      ">> Epoch 6 finished \tRBM Reconstruction error 0.000013\n",
      ">> Epoch 7 finished \tRBM Reconstruction error 0.000001\n",
      ">> Epoch 8 finished \tRBM Reconstruction error 0.000000\n",
      ">> Epoch 9 finished \tRBM Reconstruction error 0.000000\n",
      ">> Epoch 10 finished \tRBM Reconstruction error 0.000000\n",
      "[END] Pre-training step\n",
      "[START] Fine tuning step:\n",
      ">> Epoch 1 finished \tANN training loss 18.000602\n",
      ">> Epoch 2 finished \tANN training loss 17.352959\n",
      ">> Epoch 3 finished \tANN training loss 17.287608\n",
      ">> Epoch 4 finished \tANN training loss 17.222711\n",
      ">> Epoch 5 finished \tANN training loss 17.213614\n",
      ">> Epoch 6 finished \tANN training loss 17.120230\n",
      ">> Epoch 7 finished \tANN training loss 17.093271\n",
      ">> Epoch 8 finished \tANN training loss 17.016040\n",
      ">> Epoch 9 finished \tANN training loss 17.007227\n",
      ">> Epoch 10 finished \tANN training loss 16.973519\n",
      ">> Epoch 11 finished \tANN training loss 16.928563\n",
      ">> Epoch 12 finished \tANN training loss 16.912938\n",
      ">> Epoch 13 finished \tANN training loss 16.877100\n",
      ">> Epoch 14 finished \tANN training loss 16.867735\n",
      ">> Epoch 15 finished \tANN training loss 16.869779\n",
      ">> Epoch 16 finished \tANN training loss 16.817883\n",
      ">> Epoch 17 finished \tANN training loss 16.799843\n",
      ">> Epoch 18 finished \tANN training loss 16.788321\n",
      ">> Epoch 19 finished \tANN training loss 16.769321\n",
      ">> Epoch 20 finished \tANN training loss 16.759315\n",
      ">> Epoch 21 finished \tANN training loss 16.759294\n",
      ">> Epoch 22 finished \tANN training loss 16.742378\n",
      ">> Epoch 23 finished \tANN training loss 16.719071\n",
      ">> Epoch 24 finished \tANN training loss 16.690486\n",
      ">> Epoch 25 finished \tANN training loss 16.730873\n",
      ">> Epoch 26 finished \tANN training loss 16.680366\n",
      ">> Epoch 27 finished \tANN training loss 16.695255\n",
      ">> Epoch 28 finished \tANN training loss 16.662526\n",
      ">> Epoch 29 finished \tANN training loss 16.662766\n",
      ">> Epoch 30 finished \tANN training loss 16.681517\n",
      ">> Epoch 31 finished \tANN training loss 16.645611\n",
      ">> Epoch 32 finished \tANN training loss 16.664502\n",
      ">> Epoch 33 finished \tANN training loss 16.649162\n",
      ">> Epoch 34 finished \tANN training loss 16.668714\n",
      ">> Epoch 35 finished \tANN training loss 16.636046\n",
      ">> Epoch 36 finished \tANN training loss 16.661532\n",
      ">> Epoch 37 finished \tANN training loss 16.661391\n",
      ">> Epoch 38 finished \tANN training loss 16.642915\n",
      ">> Epoch 39 finished \tANN training loss 16.653835\n",
      ">> Epoch 40 finished \tANN training loss 16.650297\n",
      ">> Epoch 41 finished \tANN training loss 16.662849\n",
      ">> Epoch 42 finished \tANN training loss 16.625898\n",
      ">> Epoch 43 finished \tANN training loss 16.620834\n",
      ">> Epoch 44 finished \tANN training loss 16.616113\n",
      ">> Epoch 45 finished \tANN training loss 16.661272\n",
      ">> Epoch 46 finished \tANN training loss 16.618819\n",
      ">> Epoch 47 finished \tANN training loss 16.634164\n",
      ">> Epoch 48 finished \tANN training loss 16.638195\n",
      ">> Epoch 49 finished \tANN training loss 16.660969\n",
      ">> Epoch 50 finished \tANN training loss 16.589793\n",
      ">> Epoch 51 finished \tANN training loss 16.626157\n",
      ">> Epoch 52 finished \tANN training loss 16.604328\n",
      ">> Epoch 53 finished \tANN training loss 16.604895\n",
      ">> Epoch 54 finished \tANN training loss 16.626785\n",
      ">> Epoch 55 finished \tANN training loss 16.631466\n",
      ">> Epoch 56 finished \tANN training loss 16.639058\n",
      ">> Epoch 57 finished \tANN training loss 16.652606\n",
      ">> Epoch 58 finished \tANN training loss 16.603548\n",
      ">> Epoch 59 finished \tANN training loss 16.584400\n",
      ">> Epoch 60 finished \tANN training loss 16.621708\n",
      ">> Epoch 61 finished \tANN training loss 16.602563\n",
      ">> Epoch 62 finished \tANN training loss 16.645269\n",
      ">> Epoch 63 finished \tANN training loss 16.569361\n",
      ">> Epoch 64 finished \tANN training loss 16.581974\n",
      ">> Epoch 65 finished \tANN training loss 16.627296\n",
      ">> Epoch 66 finished \tANN training loss 16.613536\n",
      ">> Epoch 67 finished \tANN training loss 16.592948\n",
      ">> Epoch 68 finished \tANN training loss 16.639545\n",
      ">> Epoch 69 finished \tANN training loss 16.626773\n",
      ">> Epoch 70 finished \tANN training loss 16.586990\n",
      ">> Epoch 71 finished \tANN training loss 16.638358\n",
      ">> Epoch 72 finished \tANN training loss 16.595295\n",
      ">> Epoch 73 finished \tANN training loss 16.617925\n",
      ">> Epoch 74 finished \tANN training loss 16.613909\n",
      ">> Epoch 75 finished \tANN training loss 16.585573\n",
      ">> Epoch 76 finished \tANN training loss 16.605672\n",
      ">> Epoch 77 finished \tANN training loss 16.606485\n",
      ">> Epoch 78 finished \tANN training loss 16.608511\n",
      ">> Epoch 79 finished \tANN training loss 16.581831\n",
      ">> Epoch 80 finished \tANN training loss 16.605591\n",
      ">> Epoch 81 finished \tANN training loss 16.597397\n",
      ">> Epoch 82 finished \tANN training loss 16.634001\n",
      ">> Epoch 83 finished \tANN training loss 16.606554\n",
      ">> Epoch 84 finished \tANN training loss 16.606683\n",
      ">> Epoch 85 finished \tANN training loss 16.597914\n",
      ">> Epoch 86 finished \tANN training loss 16.615172\n",
      ">> Epoch 87 finished \tANN training loss 16.584450\n",
      ">> Epoch 88 finished \tANN training loss 16.593770\n",
      ">> Epoch 89 finished \tANN training loss 16.607268\n",
      ">> Epoch 90 finished \tANN training loss 16.595689\n",
      ">> Epoch 91 finished \tANN training loss 16.600442\n",
      ">> Epoch 92 finished \tANN training loss 16.616138\n",
      ">> Epoch 93 finished \tANN training loss 16.607596\n",
      ">> Epoch 94 finished \tANN training loss 16.583747\n",
      ">> Epoch 95 finished \tANN training loss 16.632438\n",
      ">> Epoch 96 finished \tANN training loss 16.592173\n",
      ">> Epoch 97 finished \tANN training loss 16.598010\n",
      ">> Epoch 98 finished \tANN training loss 16.601748\n",
      ">> Epoch 99 finished \tANN training loss 16.602904\n",
      ">> Epoch 100 finished \tANN training loss 16.600801\n",
      "[END] Fine tuning step\n"
     ]
    }
   ],
   "source": [
    "\n",
    "\n",
    "# Training\n",
    "classifier = SupervisedDBNClassification(hidden_layers_structure=[8, 8],\n",
    "                                         learning_rate_rbm=0.1,\n",
    "                                         learning_rate=0.1,\n",
    "                                         n_epochs_rbm=10,\n",
    "                                         n_iter_backprop=100,\n",
    "                                         batch_size=128,\n",
    "                                         activation_function='relu',\n",
    "                                         dropout_p=0.2)\n",
    "classifier.fit(X_train, y_train)\n",
    "\n",
    "# Save the model\n",
    "classifier.save('model.pkl')"
   ]
  },
  {
   "cell_type": "code",
   "execution_count": 61,
   "metadata": {},
   "outputs": [
    {
     "name": "stdout",
     "output_type": "stream",
     "text": [
      "Done.\n",
      "Accuracy: 0.077586\n"
     ]
    }
   ],
   "source": [
    "# Restore it\n",
    "classifier = SupervisedDBNClassification.load('model.pkl')\n",
    "\n",
    "# Test\n",
    "y_pred = classifier.predict(X_test)\n",
    "print('Done.\\nAccuracy: %f' % accuracy_score(y_test, y_pred))"
   ]
  },
  {
   "cell_type": "code",
   "execution_count": null,
   "metadata": {
    "collapsed": true
   },
   "outputs": [],
   "source": []
  }
 ],
 "metadata": {
  "kernelspec": {
   "display_name": "Python 3",
   "language": "python",
   "name": "python3"
  },
  "language_info": {
   "codemirror_mode": {
    "name": "ipython",
    "version": 3
   },
   "file_extension": ".py",
   "mimetype": "text/x-python",
   "name": "python",
   "nbconvert_exporter": "python",
   "pygments_lexer": "ipython3",
   "version": "3.5.2"
  }
 },
 "nbformat": 4,
 "nbformat_minor": 2
}
